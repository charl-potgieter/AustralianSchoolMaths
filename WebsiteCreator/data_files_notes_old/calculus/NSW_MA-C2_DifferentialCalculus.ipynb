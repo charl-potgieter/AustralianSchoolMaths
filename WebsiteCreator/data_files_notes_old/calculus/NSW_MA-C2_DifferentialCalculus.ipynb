{
 "cells": [
  {
   "cell_type": "markdown",
   "metadata": {},
   "source": [
    "### <span style=\"color:RGB(139,69,19)\">  Notes </span>\n",
    "\n",
    "\n",
    "\n",
    "#### Differentiation of trigonometric, exponential and logarithmic functions\n",
    "\n",
    "Refer formulas below (the non-chain rule versions).  Note cases requiring proof.\n",
    "\n",
    "**NB** The trig derivative rules work on radians, not degrees.  If a question is in degrees it first needs to be converted into radians.  Convert back to degrees in final step if required.\n",
    "\n",
    "#### Rules of differentiation\n",
    "\n",
    "Apply product, quotient and chain rules to differentiate the \"simpler\" versions of the function.\n",
    "\n",
    "In particular note that $\\tan x$ can be converted to $\\dfrac{sin x}{cos x}$ and the quotient rule can then be applied.  Similiarly the quotient rule can be used to calculate $\\sec x$ and $\\cosec x$ by converting these into $\\frac{1}{cos x}$ and $\\frac{1}{sin x}$ respectively.\n",
    "\n",
    "Use log laws to simplify expressions before differentiating.\n"
   ]
  }
 ],
 "metadata": {
  "kernelspec": {
   "display_name": "Python 3 (ipykernel)",
   "language": "python",
   "name": "python3"
  },
  "language_info": {
   "codemirror_mode": {
    "name": "ipython",
    "version": 3
   },
   "file_extension": ".py",
   "mimetype": "text/x-python",
   "name": "python",
   "nbconvert_exporter": "python",
   "pygments_lexer": "ipython3",
   "version": "3.13.7"
  }
 },
 "nbformat": 4,
 "nbformat_minor": 4
}
