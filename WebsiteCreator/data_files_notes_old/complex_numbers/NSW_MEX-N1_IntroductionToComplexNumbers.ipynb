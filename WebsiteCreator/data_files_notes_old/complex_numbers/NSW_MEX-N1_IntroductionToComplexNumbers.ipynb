{
 "cells": [
  {
   "cell_type": "markdown",
   "metadata": {},
   "source": [
    "### <span style=\"color:RGB(139,69,19)\">  Concepts </span>\n",
    "\n",
    " - Argand diagram\n",
    " - argument\n",
    " - Complex numbers\n",
    " - Cartesian or rectangular form\n",
    " - complex conjugate\n",
    " - complex plane\n",
    " - exponential form\n",
    " - Euler's formula\n",
    " - imaginary number\n",
    " - imaginary part\n",
    " - modulus\n",
    " - polar or modulus-argument form\n",
    " - real part\n",
    " - vector\n",
    "\n",
    "\n",
    "\n",
    "### <span style=\"color:RGB(139,69,19)\">  Notes </span>\n",
    "\n",
    " - Equivalence of complex numbers\n",
    "\n",
    " - Realising the denominator\n",
    "\n",
    " - Calculating the square of a complex number\n",
    "\n",
    " - Vectors of a complex number and its conjugate are reflections in  the real axis on an Argand diagram.\n",
    "\n",
    " - Add and subtract complex numbers utilising vector parallelogram rule\n",
    "\n",
    " - Multiply complex numbers by a constant\n",
    "\n",
    " - Tip: If a question provides 2 complex roots of a quadratic, it is simpler to substitute symbols for the roots such as a and b e.g. $(x-a)(x-b)  = 0$ and then multiply out before inserting the complex numbers\n",
    "\n",
    " - Be able to factorise a quadratic as a difference of squares by adding an $i^2$ to one of the sides in place of a minus one.  The real part of the square may need to be obtained by completing the square.\n",
    "\n",
    " - Complex numbers can be written in :\n",
    "    * cartesian or rectangular form\n",
    "    * polar of modulus-argument form\n",
    "    * exponential form\n",
    " \n",
    " - Writing complex numbers in exponential form enables the use of index laws that can simplify calculations"
   ]
  }
 ],
 "metadata": {
  "language_info": {
   "name": "python"
  }
 },
 "nbformat": 4,
 "nbformat_minor": 2
}
