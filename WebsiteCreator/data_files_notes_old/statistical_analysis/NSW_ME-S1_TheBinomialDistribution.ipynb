{
 "cells": [
  {
   "cell_type": "markdown",
   "metadata": {},
   "source": [
    "### <span style=\"color:RGB(139,69,19)\">  Concepts </span>\n",
    "\n",
    " - Bernoulli random variable\n",
    " - Binomial random variable\n",
    " - Bernoulli trial\n",
    " - Bernoulli distribution\n",
    " - Binomial distribution\n",
    " - population proportion\n",
    " - sample proportion\n",
    " - sampling distribution of proportions\n",
    " - central limit theorem\n",
    "\n",
    "\n",
    "\n",
    "### <span style=\"color:RGB(139,69,19)\">  Notes </span>\n",
    "\n",
    " - Properties of binomial distribution:\n",
    "    * fixed number of trials\n",
    "    * there are only 2 outcomes: success or failure\n",
    "    * each trial is independent\n",
    "    * Probabilities are the same for each trial\n",
    "\n",
    " - Share of a binomial distribution:\n",
    "    * p<0.5 : positively skewed\n",
    "    * p=0.5 : normal / symmetrical\n",
    "    * p>0.5 : negatively skewed\n",
    "    \n",
    " - Be able to represent a Bernoulli distribution as a :\n",
    "    * piecewise function\n",
    "    * distribution table\n",
    "    * bar chart\n",
    "\n",
    "\n",
    "### <span style=\"color:RGB(139,69,19)\"> Spreadsheets  </span>\n",
    "\n",
    "\n",
    "Click on below to open spreadsheet examples\n",
    "\n",
    "[BinomialDistributions](https://github.com/charl-potgieter/AustralianSchoolMaths/raw/main/WebsiteCreator/spreadsheets/BinomialDistributions.xlsx)"
   ]
  }
 ],
 "metadata": {
  "language_info": {
   "name": "python"
  }
 },
 "nbformat": 4,
 "nbformat_minor": 2
}
