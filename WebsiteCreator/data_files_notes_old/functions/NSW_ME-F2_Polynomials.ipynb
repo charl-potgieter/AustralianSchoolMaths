{
 "cells": [
  {
   "cell_type": "markdown",
   "metadata": {},
   "source": [
    "### <span style=\"color:RGB(139,69,19)\">  Concepts </span>\n",
    "\n",
    "\n",
    "\n",
    "\n",
    "### <span style=\"color:RGB(139,69,19)\">  Notes </span>\n",
    "\n",
    "#### Still need to complete the bulk of this section\n",
    "The below is the section that is muddled in with Ch 8 Calculus\n",
    "\n",
    "\n",
    "#### Multiple roots if polynomial equations\n",
    "\n",
    "If P(x) = 0 has a multiple root at x=k then P(k) = P\\(k) = 0<br>\n",
    "*Proof of above*\n",
    "\n",
    "If the multiplicity of r of a root is even <br>\n",
    "&rarr; there is a minimum or maximum turning point at the multiple root.\n",
    "<br><br>\n",
    "If the multiplicity of r of a root is odd <br>\n",
    "&rarr; there is a horizontal point of inflection the multiple root.\n",
    "<br><br>\n",
    "If P(x)=0 has a root at x=k with a multiplicity of r>1, then P'(x)=0 has a root of multiplicity of r-1<br>\n",
    "*Proof of above*\n",
    "\n",
    "\n",
    "\n",
    "\n"
   ]
  }
 ],
 "metadata": {
  "language_info": {
   "name": "python"
  }
 },
 "nbformat": 4,
 "nbformat_minor": 2
}
