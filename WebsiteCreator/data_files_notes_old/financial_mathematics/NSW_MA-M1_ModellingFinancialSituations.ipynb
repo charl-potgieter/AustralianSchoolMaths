{
 "cells": [
  {
   "cell_type": "markdown",
   "metadata": {},
   "source": [
    "### <span style=\"color:RGB(139,69,19)\">  Concepts </span>\n",
    " - annuities\n",
    " - sequence\n",
    " - series\n",
    " - arithmetic sequence and series\n",
    " - common difference\n",
    " - geometric sequence and series\n",
    " - common ratio\n",
    " - present value\n",
    " - future value\n",
    "\n",
    "\n",
    "### <span style=\"color:RGB(139,69,19)\">  Notes </span>"
   ]
  }
 ],
 "metadata": {
  "language_info": {
   "name": "python"
  }
 },
 "nbformat": 4,
 "nbformat_minor": 2
}
