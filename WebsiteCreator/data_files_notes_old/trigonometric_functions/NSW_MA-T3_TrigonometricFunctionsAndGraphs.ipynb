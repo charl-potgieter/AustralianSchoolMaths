{
 "cells": [
  {
   "cell_type": "markdown",
   "metadata": {},
   "source": [
    "### <span style=\"color:RGB(139,69,19)\">  Notes </span>\n",
    "\n",
    " - Understand the transformation of functions in the form y=kf(a(x+b))+c, where f(x) is a trigonometric function such as sin x, cos x etc.\n",
    " - Be able to determine the domain and range of the transformed function\n",
    " - The impact of the transforation on amplitude, phase and center are set out in Year 11 Advanced, Trigonometric Functions.\n",
    " - Note that amplitude is a measure from centre to top (or bottom) of graph.  NOT top to bottom.\n",
    " - Note that domain refers to the values that can be allocated to $x$.  For example if $y=\\sin 3x$ has a domain of $[0, \\pi]$ tht means that $3x$ will have values between $0$ and $3\\pi$"
   ]
  }
 ],
 "metadata": {
  "language_info": {
   "name": "python"
  }
 },
 "nbformat": 4,
 "nbformat_minor": 2
}
