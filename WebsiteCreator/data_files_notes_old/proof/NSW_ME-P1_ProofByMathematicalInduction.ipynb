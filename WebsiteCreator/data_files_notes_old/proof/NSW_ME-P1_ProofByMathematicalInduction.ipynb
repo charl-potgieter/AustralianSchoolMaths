{
 "cells": [
  {
   "cell_type": "markdown",
   "metadata": {},
   "source": [
    "### <span style=\"color:RGB(139,69,19)\">  Notes </span>\n",
    "\n",
    " - Can be utilised to prove a statement true for all positive integers, n\n",
    "\n",
    " - Step 1: Show that the statement is true for n=1\n",
    "\n",
    " - Step 2: Assume that the statement is true for some positive integer n = k\n",
    "\n",
    " - Step 3: Using the assumption prove that the statement is also true for the next integer n=k+1\n",
    "\n",
    " - Conclusion: State why the statement is true for all positive integers $n \\ge 1$  Don't forget this!\n",
    "\n",
    " - The conclusion can look like this :\n",
    "    * The statement is true for n=k+1\n",
    "    * The statement is true for n=1\n",
    "    * Therefore by mathematical induction it is true for all integers $n \\ge 1$\n"
   ]
  }
 ],
 "metadata": {
  "language_info": {
   "name": "python"
  }
 },
 "nbformat": 4,
 "nbformat_minor": 2
}
