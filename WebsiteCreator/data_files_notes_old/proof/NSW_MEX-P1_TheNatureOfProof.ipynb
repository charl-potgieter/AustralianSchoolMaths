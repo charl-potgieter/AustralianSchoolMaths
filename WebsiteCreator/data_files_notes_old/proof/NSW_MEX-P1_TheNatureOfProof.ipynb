{
 "cells": [
  {
   "cell_type": "markdown",
   "metadata": {},
   "source": [
    "### <span style=\"color:RGB(139,69,19)\">  Concepts </span>\n",
    "\n",
    " - contrapositive\n",
    " - converse\n",
    " - counterexample\n",
    " - equivalence\n",
    " - implication statement\n",
    " - negation\n",
    " - proof by contradiction - don’t confuse with counterexample\n",
    " - QED\n",
    " - statement / propisition / premise\n",
    " - triangle of inequality\n",
    "\n",
    "\n",
    "\n",
    "### <span style=\"color:RGB(139,69,19)\">  Notes </span>\n",
    "\n",
    " - $ P \\implies Q \\text { : P implies Q}$\n",
    "\n",
    " - $ \\neg P \\text{ or } P' \\text{ or }  \\overline P \\text { : not P}$\n",
    "\n",
    " - $ P \\iff Q \\text { or } P \\text { iff } Q { : equivalence}$\n",
    "\n",
    " - $ \\forall \\text{ : For all}$\n",
    "\n",
    " - $ \\exists \\text{ : There exists}$\n",
    "\n",
    " - $ \\mathbb{N} \\text { The set of natural numbers}$\n",
    "\n",
    " - $ \\mathbb{Z}  \\text { The set of integers (includes natural numbers)}$\n",
    "\n",
    " - $ \\mathbb{Q}  \\text { The set of rational numbers (includes integers)}$\n",
    "\n",
    " - $ \\mathbb{R}  \\text { The set of real numbers (includes rational numbers)}$\n",
    "\n",
    " - $ \\mathbb{C}  \\text { The set of complex numbers (includes real numbers)}$\n",
    "\n",
    " - $ \\in  \\text { is an element of or belongs to}$\n",
    "\n",
    " - $ :  \\text { such that}$\n",
    "\n",
    " - Note that in general concepts such as even numbers, odd numbers etc are taken to refer to positive integers only\n",
    " \n",
    " - $ \\text {The inequality definition: for } a, b \\in \\mathbb{R}, a > b \\text{ if } a-b > 0$\n"
   ]
  }
 ],
 "metadata": {
  "language_info": {
   "name": "python"
  }
 },
 "nbformat": 4,
 "nbformat_minor": 2
}
