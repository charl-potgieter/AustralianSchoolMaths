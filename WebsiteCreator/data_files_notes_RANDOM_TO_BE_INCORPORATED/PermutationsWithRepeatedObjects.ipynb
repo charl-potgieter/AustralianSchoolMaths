{
 "cells": [
  {
   "cell_type": "markdown",
   "metadata": {},
   "source": [
    "### <span style=\"color:RGB(139,69,19)\">  Scenario </span>\n",
    "\n",
    "Assume n elements where $a$ of the objects are of one kind and $b$ of the objects are of another kind where $a+b \\le n$\n",
    "\n",
    "<br>\n",
    "\n",
    "\n",
    "### <span style=\"color:RGB(139,69,19)\">  Option 1 </span>\n",
    "\n",
    "- If all items were unique they could be arranged in $n!$ \n",
    "\n",
    "- Given that $a$ items are all of the same type they can be arranged in a!,but these are all identical, and in effect represent only 1 arrangement.\n",
    "\n",
    "- Similar logic can be applied to $b$\n",
    "\n",
    "- Therefore number of permutations $ = \\dfrac{n!}{a!b!}$\n",
    "\n",
    "<BR>\n",
    "\n",
    "\n",
    "    \n",
    "\n",
    "### <span style=\"color:RGB(139,69,19)\">  Option 2 </span>\n",
    "\n",
    "-  The problem can be viewed, for example, as a row of boxes leaving us to \"place\" each item in the box, in other words chose boxes in which to place each item\n",
    "\n",
    "- Given that the order is not important, $a$ of the $n$ boxes can be selected in $\\binom{n}{a}$ ways\n",
    "\n",
    "- After the $a$'s are added to  the boxes the $b$ items can be placed in the remaining of the $n-a$ boxes, that is $\\binom{n-a}{b}$ ways\n",
    "\n",
    "- The unique elements of n can be placed in the remaining boxes in $(n-a-b)!$ ways\n",
    "\n",
    "- Multiply out to get total permutations: <BR><BR>\n",
    "$ \\quad \\displaystyle \\binom{n}{a} \\times  \\binom{n-a}{b} \\times (n-a-b)!$ <BR><BR>\n",
    "$= \\dfrac{n!}{a!(n-a)!} \\times \\dfrac{(n-a)!}{b!(n-a-b)!} \\times (n-a-b)! $ <BR><BR>\n",
    "=$ \\dfrac{n!}{a!b!}$ as per Option 1 above\n"
   ]
  }
 ],
 "metadata": {
  "language_info": {
   "name": "python"
  }
 },
 "nbformat": 4,
 "nbformat_minor": 2
}
