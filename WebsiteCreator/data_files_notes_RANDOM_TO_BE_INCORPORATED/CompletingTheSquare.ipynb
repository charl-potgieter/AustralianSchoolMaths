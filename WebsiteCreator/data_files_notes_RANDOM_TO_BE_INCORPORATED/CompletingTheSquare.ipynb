{
 "cells": [
  {
   "cell_type": "markdown",
   "metadata": {},
   "source": [
    "### <span style=\"color:RGB(139,69,19)\">  General concept </span>\n",
    "\n",
    " - Completing the square enables an expression or equation to be expressed in a form that contains a perfect square for example $(ax + b)^2$\n",
    " - The technique can be utilised to solve quadratic equations or factorise expressions into simpler formats\n",
    "\n",
    "<br>\n",
    "\n",
    "\n",
    "### <span style=\"color:RGB(139,69,19)\">  Monic expression </span>\n",
    "\n",
    "- Monic expression = a polynomial where the coefficient of the highest power of the variable is 1\n",
    "\n",
    " - Look at an example the other way around (\"completing the square in reverse):<BR>\n",
    "$(x+c)^2 = x^2 + 2cx + c^2$\n",
    "\n",
    "- Note how the constant, c,  on the LHS, inside the square, is half the coefficient of x on the RHS in the expression above\n",
    "\n",
    "- Attempting this the \"other way around\", that is completing the square of an expression such as $x^2 + 8x$:\n",
    "     - The constant inside the square is half of 8 = 4\n",
    "     - the perfect square is then $(x+4)^2$\n",
    "     - Above expression is adding an additional $4^2$ to the original expression as part of the square which then needs to be subtracted outside the square\n",
    "     - Therefore $x^2 + 8x = (x+4)^2 - 16$\n",
    "\n",
    "- The above technique can be used to solve quadratic equations\n",
    "     - for example $x^2 + 8x = 0$\n",
    "     - applying the logic above this can be solved as follows:<BR>\n",
    "      $ \\quad   (x+4)^2 - 16 = 0$ <BR>\n",
    "      $\\therefore (x+4)^2 = 16$ <BR>\n",
    "      $\\therefore (x+4) = 4 \\text{ or } (x+4) = -4$ <BR>\n",
    "      $\\therefore x = 0 \\text{ or }x = -8$ <BR>\n",
    "<BR>\n",
    "\n",
    "\n",
    "    \n",
    "\n",
    "### <span style=\"color:RGB(139,69,19)\">  Non-monic expression </span>\n",
    "\n",
    "- Non-monic expression = a polynomial where the coefficient of the highest power of the variable is something other than one\n",
    "\n",
    "- In the case of an equation it can be divided by the coefficient of the highest power of x to reduce the coefficient of the highest power of x to 1, for example:<BR>\n",
    "   $\\quad 4x^2 + 32x = 0$ <BR>\n",
    "   $\\therefore x^2 + 8x = 0$<BR>\n",
    "   This can now be solved as per the section above\n",
    "\n",
    "- When dealing with a non-monic expression it is not possible to divide by the coefficient of the highest power of x as this will change the expression's value, instead factorise the expression by the highest power of x\n",
    "\n",
    "- Best illustrated by an example:<BR>\n",
    "$\\quad 3x^2 + 2x \\\\\n",
    "= 3(x^2 + \\frac{2}{3}x) $ now we have a monic expression in brackets that we can work with as above <BR>\n",
    "$= 3[(x+\\frac{1}{3})^2 - \\frac{1}{9}] \\\\\n",
    "= 3(x+\\frac{1}{3})^2= \\frac{1}{3}$\n"
   ]
  },
  {
   "cell_type": "markdown",
   "metadata": {},
   "source": []
  }
 ],
 "metadata": {
  "language_info": {
   "name": "python"
  }
 },
 "nbformat": 4,
 "nbformat_minor": 2
}
