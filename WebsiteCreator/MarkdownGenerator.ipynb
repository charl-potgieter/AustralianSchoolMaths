{
 "cells": [
  {
   "cell_type": "code",
   "execution_count": 2,
   "id": "ab652265-f565-42a9-8a90-8b3e39224164",
   "metadata": {},
   "outputs": [
    {
     "name": "stderr",
     "output_type": "stream",
     "text": [
      "0.00s - Debugger warning: It seems that frozen modules are being used, which may\n",
      "0.00s - make the debugger miss breakpoints. Please pass -Xfrozen_modules=off\n",
      "0.00s - to python to disable frozen modules.\n",
      "0.00s - Note: Debugging will proceed. Set PYDEVD_DISABLE_FILE_VALIDATION=1 to disable this validation.\n"
     ]
    }
   ],
   "source": [
    "# https://stackoverflow.com/questions/65502005/convert-a-jupyter-notebook-to-html-output-in-native-python\n",
    "\n",
    "import nbformat\n",
    "from nbconvert.preprocessors import ExecutePreprocessor\n",
    "from nbconvert import MarkdownExporter\n",
    "\n",
    "infile = 'Formulas.ipynb'  \n",
    "outfile='Formulas.md'\n",
    "\n",
    "# read source notebook\n",
    "with open(infile) as f:\n",
    "    nb = nbformat.read(f, as_version=4)\n",
    "\n",
    "# execute notebook\n",
    "ep = ExecutePreprocessor(timeout=-1, kernel_name='python3')\n",
    "ep.preprocess(nb)\n",
    "\n",
    "# export to html\n",
    "md_exporter = MarkdownExporter()\n",
    "md_exporter.exclude_input = True\n",
    "md_data, resources = md_exporter.from_notebook_node(nb)\n",
    "\n",
    "# write to output file\n",
    "with open(outfile, \"w\") as f:\n",
    "    f.write(md_data)"
   ]
  }
 ],
 "metadata": {
  "kernelspec": {
   "display_name": "Python 3 (ipykernel)",
   "language": "python",
   "name": "python3"
  },
  "language_info": {
   "codemirror_mode": {
    "name": "ipython",
    "version": 3
   },
   "file_extension": ".py",
   "mimetype": "text/x-python",
   "name": "python",
   "nbconvert_exporter": "python",
   "pygments_lexer": "ipython3",
   "version": "3.11.3"
  }
 },
 "nbformat": 4,
 "nbformat_minor": 5
}
