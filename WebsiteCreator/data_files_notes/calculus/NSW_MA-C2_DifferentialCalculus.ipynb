{
 "cells": [
  {
   "cell_type": "markdown",
   "metadata": {},
   "source": [
    "### <span style=\"color:RGB(139,69,19)\">  Notes </span>\n",
    "\n",
    "\n",
    "\n",
    "#### Differentiation of trigonometric, exponential and logarithmic functions\n",
    "\n",
    "\n",
    "#### Rules of differentiation\n",
    "\n",
    "\n"
   ]
  }
 ],
 "metadata": {
  "language_info": {
   "name": "python"
  }
 },
 "nbformat": 4,
 "nbformat_minor": 2
}
