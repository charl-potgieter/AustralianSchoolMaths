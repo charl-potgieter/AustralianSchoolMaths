{
 "cells": [
  {
   "cell_type": "markdown",
   "metadata": {},
   "source": [
    "### <span style=\"color:RGB(139,69,19)\">  Notes </span>\n",
    "\n",
    "\n",
    "\n",
    "#### Differentiation of trigonometric, exponential and logarithmic functions\n",
    "\n",
    "Refer formulas below (the non-chain rule versions).  Note cases requiring proof.\n",
    "\n",
    "**NB** The trig derivative rules work on radians, not degrees.  If a question is in degrees it first needs to be converted into radians.  Convert back to degrees in final step if required.\n",
    "\n",
    "#### Rules of differentiation\n",
    "\n",
    "Apply product, quotient and chain rules to differentiate the \"simpler\" versions of the function.\n",
    "\n",
    "In particular note that $\\tan x$ can be converted to $\\dfrac{sin x}{cos x}$ and the quotient rule can then be applied.\n",
    "\n",
    "Use log laws to simplify expressions before differentiating.\n"
   ]
  }
 ],
 "metadata": {
  "language_info": {
   "name": "python"
  }
 },
 "nbformat": 4,
 "nbformat_minor": 2
}
