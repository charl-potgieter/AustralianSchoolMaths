{
 "cells": [
  {
   "cell_type": "markdown",
   "metadata": {},
   "source": [
    "### <span style=\"color:RGB(139,69,19)\">  Concepts </span>\n",
    "\n",
    " - anti-derivative / indefinate integral / pimitive\n",
    "\n",
    "\n",
    "\n",
    "### <span style=\"color:RGB(139,69,19)\">  Notes </span>\n",
    "\n",
    "When sketching a derivative graph:\n",
    " - the x-intercepts are where the original function has a stationary point\n",
    " - Where the derivative graph is above the x-axis, the original graph has a positive gradient and vice versa.\n",
    " - The anti-derivative represents a family of curves unless a point on the curve is specified.\n",
    "\n",
    " When solving integration questions be on the lookout for equations in the below formats or or equations that can be factored into these patterns:\n",
    "  -  $f'(x)[f(x)]^n$ \n",
    "  \n",
    "  - $\\dfrac{f'(x)}{f((x))}$\n"
   ]
  }
 ],
 "metadata": {
  "language_info": {
   "name": "python"
  }
 },
 "nbformat": 4,
 "nbformat_minor": 2
}
