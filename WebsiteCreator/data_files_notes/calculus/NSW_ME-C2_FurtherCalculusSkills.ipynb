{
 "cells": [
  {
   "cell_type": "markdown",
   "metadata": {},
   "source": [
    "### <span style=\"color:RGB(139,69,19)\">  Concepts </span>\n",
    "\n",
    "\n",
    "\n",
    "\n",
    "\n",
    "### <span style=\"color:RGB(139,69,19)\">  Notes </span>\n",
    "\n",
    "#### Integration by substitution\n",
    "This can be useful when integrals don't follow any of the other standard rules.<br>\n",
    "\n",
    "With an equation  like $\\frac{du}{dx}=3$, while $\\frac{du}{dx}$ is not a true fraction, certain fraction-like operations do apply and therefore above can be rewritten as $du=3dx$\n",
    "\n",
    "General approach:\n",
    "- Identify a portion of the equation that needs to be integrated and set equal to u\n",
    "- Differentiate above to obtain an equation in the format $\\frac{du}{dx}$ = something\n",
    "- multiply out to get du = something times dx\n",
    "- attempt to substitute the x's and dx in the original equation with u's and du\n",
    "- calculate the integral in terms of u\n",
    "- for indefinite integrals replace the u's with expression in terms of x in the final step\n",
    "- for definite integrals recalculate the lower and upper limits by substituting the original integral lower and upper limits into x in the formula for u as a function of x.  That way when the integral is calculated in terms of u, there is no need to rework back to x.\n",
    " \n",
    "\n",
    "\n",
    "#### Derivatives of inverse functions\n",
    "Derivatives of inverse functions can be calculated by swapping x and y variables, making the \"new\" y the subject of the equation and then calculating the derivative.  It is however sometimes difficult to change the subject of the equation, in which case the derivatives of inverse functions can be found using the below formula: <br>\n",
    "\n",
    "  $\\frac{dy}{dx} = \\dfrac{1}{\\frac{dx}{dy}} $\n",
    "\n",
    "When using the above equation, simply swap the x and the y variables of the original function to obtain the inverse function, but keep x as the subject and then calculate $\\frac{dx}{dy}$.  Sometimes question states to leave the answer in terms of y, as reworking back to x may be difficult.  (The inverse trig derivatives need to be reworked back to x though.)  If the derivative is in terms of y and asked to find the gradient at a certain x value, first calculate the y-value at this point and then substitute this into the derivative equation which is in terms of y.\n",
    "\n",
    "#### Derivatives of inverse trigonometric functions\n",
    "Be able to prove the derivatives of the inverse trigonometric functions (see formulas on Calculus formula page)\n",
    "\n",
    "Note that the derivative and integrals of the inverse trigonometric functions can be presented in three forms:\n",
    "Derivative of \n",
    " - x\n",
    "\n",
    " - f(x)\n",
    " \n",
    " - $\\frac{f(x)}{a}$, which results in a simplified chain rule equation\n",
    "\n",
    "The formula sheet presents the derivative of f(x) for inverse sin, cos and tan, and an integral equation with an answer in the format of $\\frac{f(x)}{a}$ for inverse sin and tan.  If a question requires a derivative of $\\frac{f(x)}{a}$ style format one can easily work backward from the integral formula on the formula sheet to get the answer and vice versa for an integral in f(x) style format.  Note that no inverse cos integral is provided on the formula sheet.  See comments on the calculus formula summary which lays this out in an easier to understand layout.\n",
    "\n",
    "\n",
    "It is recommended to view the inverse trigonometric derivatives and corresponding integrals on the Formula Summaries / Calculus page of this site which presents a more intuitive layout than the simple list of formulas below."
   ]
  }
 ],
 "metadata": {
  "language_info": {
   "name": "python"
  }
 },
 "nbformat": 4,
 "nbformat_minor": 2
}
