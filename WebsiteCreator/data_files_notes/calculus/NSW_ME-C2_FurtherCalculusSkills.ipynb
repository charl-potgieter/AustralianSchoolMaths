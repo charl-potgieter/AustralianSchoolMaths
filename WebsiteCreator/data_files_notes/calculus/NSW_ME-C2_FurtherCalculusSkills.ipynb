{
 "cells": [
  {
   "cell_type": "markdown",
   "metadata": {},
   "source": [
    "### <span style=\"color:RGB(139,69,19)\">  Concepts </span>\n",
    "\n",
    "\n",
    "\n",
    "\n",
    "\n",
    "### <span style=\"color:RGB(139,69,19)\">  Notes </span>\n",
    "\n",
    "#### Integration by substitution\n",
    "This can be useful when integrals don't follow any of the other standard rules.<br>\n",
    "\n",
    "With an equation  like $\\frac{du}{dx}=3$, while $\\frac{du}{dx}$ is not a true fraction, certain fraction-like operations do apply and therefore above can be rewritten as $dx = \\frac{1}{3}du$\n",
    "\n",
    "General approach:\n",
    "- Identify a portion of the equation that needs to be integrated and set equal to u\n",
    "- Differentiate above to obtain an equation in the format $\\frac{du}{dx}$ = something\n",
    "- Solve for dx (make dx subject of equation) so that the dx in the original integral can be replaced with an expression in terms of du.\n",
    "- In some cases it may be convenvient to substitute with x as the subject of the equation rather than u, for example $x = u^2-1$, in this case calculate $\\frac{dx}{du}$ rather than $\\frac{du}{dx}$\n",
    "- substitute the x's and dx in the original equation with u's and du\n",
    "- calculate the integral in terms of u\n",
    "- for indefinite integrals replace the u's with expression in terms of x in the final step\n",
    "- for definite integrals recalculate the lower and upper limits by substituting the original integral lower and upper limits into x in the formula for u as a function of x.  That way when the integral is calculated in terms of u, there is no need to rework back to x.\n",
    " - My undesrtanding is that HSC answers follow a simplified approach for convenience with relation to square roots arising from integration by susbstitution.  For example if substituting with  $x=u^2$, then u is simply taken as $\\sqrt{x}$, rather than $\\pm \\sqrt{x}$\n",
    "\n",
    " \n",
    "\n",
    "#### Integrals in the form $\\sin^2nx$ and $\\cos^2ns$\n",
    "Prove and use the below 2 identities in order to solve integrals in the form of $\\sin^2nx$ and $\\cos^2ns$:\n",
    " \n",
    " - $\\sin^2nx = \\dfrac{1}{2}(1-\\cos 2nx)$\n",
    " \n",
    " - $\\cos^2nx = \\dfrac{1}{2}(1+\\cos 2nx)$\n",
    " \n",
    "\n",
    "\n",
    "\n",
    "\n",
    "#### Derivatives of inverse functions\n",
    "Derivatives of inverse functions can be calculated by swapping x and y variables, making the \"new\" y the subject of the equation and then calculating the derivative.  It is however sometimes difficult to change the subject of the equation, in which case the derivatives of inverse functions can be found using the below formula: <br>\n",
    "\n",
    "  $\\frac{dy}{dx} = \\dfrac{1}{\\frac{dx}{dy}} $\n",
    "\n",
    "When using the above equation, simply swap the x and the y variables of the original function to obtain the inverse function, but keep x as the subject and then calculate $\\frac{dx}{dy}$.  Sometimes question states to leave the answer in terms of y, as reworking back to x may be difficult.  (The inverse trig derivatives need to be reworked back to x though.)  If the derivative is in terms of y and asked to find the gradient at a certain x value, first calculate the y-value at this point and then substitute this into the derivative equation which is in terms of y.\n",
    "\n",
    "#### Derivatives of inverse trigonometric functions\n",
    "Be able to prove the derivatives of the inverse trigonometric functions (See derivatives vs integrals summary beloe)\n",
    "\n",
    "Note that the derivative and integrals of the inverse trigonometric functions can be presented in three forms:\n",
    "Derivative of \n",
    " - x\n",
    "\n",
    " - f(x)\n",
    " \n",
    " - $\\frac{f(x)}{a}$, which results in a simplified chain rule equation\n",
    "\n",
    "The formula sheet presents the derivative of f(x) for inverse sin, cos and tan, and an integral equations with an answer in the format of $\\frac{f(x)}{a}$ for inverse sin and tan.  If a question requires a derivative of $\\frac{f(x)}{a}$ style format one can easily work backward from the integral formula on the formula sheet to get the answer and vice versa for an integral in f(x) style format.  Note that no inverse cos integral is provided on the formula sheet.  See comments on the dervivatives vs integrals formula summary which lays this out in an easier to understand layout.\n",
    "\n",
    "\n",
    "It is recommended to view the inverse trigonometric derivatives and corresponding integrals on the derivatives vs integrals summary below which presents a more intuitive layout than the simple list of formulas."
   ]
  },
  {
   "cell_type": "code",
   "execution_count": null,
   "metadata": {},
   "outputs": [],
   "source": []
  }
 ],
 "metadata": {
  "kernelspec": {
   "display_name": "Python 3 (ipykernel)",
   "language": "python",
   "name": "python3"
  },
  "language_info": {
   "codemirror_mode": {
    "name": "ipython",
    "version": 3
   },
   "file_extension": ".py",
   "mimetype": "text/x-python",
   "name": "python",
   "nbconvert_exporter": "python",
   "pygments_lexer": "ipython3",
   "version": "3.13.7"
  }
 },
 "nbformat": 4,
 "nbformat_minor": 4
}
