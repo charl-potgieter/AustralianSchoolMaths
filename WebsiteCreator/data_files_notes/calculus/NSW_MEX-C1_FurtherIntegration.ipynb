{
 "cells": [
  {
   "cell_type": "markdown",
   "metadata": {},
   "source": [
    "### <span style=\"color:RGB(139,69,19)\">  Concepts </span>\n",
    "\n",
    "\n",
    "\n",
    "\n",
    "\n",
    "### <span style=\"color:RGB(139,69,19)\">  Notes </span>\n",
    "\n",
    "#### Integration by substitution patterns\n",
    "\n",
    " -  $\\int \\dfrac{1}{a \\cos x + b \\sin x} dx$\n",
    " \n",
    "    - substitute $t = \\tan \\frac{x}{2}$\n",
    "\n",
    "<br>\n",
    "\n",
    " -  $\\int \\dfrac{1}{a \\cos x + b} dx$\n",
    " \n",
    "    - substitute $t = \\tan \\frac{x}{2}$\n",
    "\n",
    "<br>\n",
    "\n",
    " -  $\\int \\dfrac{1}{a + b \\sin x} dx$\n",
    " \n",
    "    - substitute $t = \\tan \\frac{x}{2}$\n",
    "\n",
    "<br>\n",
    "\n",
    " - $ \\int \\dfrac{1}{\\sqrt{a^2+x^2}} dx $\n",
    "     - substitute $x=a \\tan \\theta$\n"
   ]
  },
  {
   "cell_type": "markdown",
   "metadata": {
    "vscode": {
     "languageId": "plaintext"
    }
   },
   "source": [
    "| Integral                                      | Substitution              | Comment |\n",
    "| --------                                      | -------                   |---------|\n",
    "| $\\int \\dfrac{1}{a \\cos x + b \\sin x} dx$      | $t = \\tan \\frac{x}{2}$    |\n",
    "| $\\int \\dfrac{1}{a \\cos x + b} dx$             | $t = \\tan \\frac{x}{2}$    |\n",
    "| $ \\int \\dfrac{1}{\\sqrt{a^2+x^2}} dx $         | $x=a \\tan \\theta$    | Blah Blah Blah Blah Blah Blah Blah Blah Blah BlahBlah Blah Blah Blah Blah BlahBlah Blah Blah Blah Blah Blah  |\n",
    "\n",
    "\n",
    "\n"
   ]
  }
 ],
 "metadata": {
  "language_info": {
   "name": "python"
  }
 },
 "nbformat": 4,
 "nbformat_minor": 2
}
