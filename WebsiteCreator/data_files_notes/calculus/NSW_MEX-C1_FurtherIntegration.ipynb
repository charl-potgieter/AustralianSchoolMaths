{
 "cells": [
  {
   "cell_type": "markdown",
   "metadata": {},
   "source": [
    "### <span style=\"color:RGB(139,69,19)\">  Concepts </span>\n",
    "\n",
    "\n",
    "\n",
    "\n",
    "\n",
    "### <span style=\"color:RGB(139,69,19)\">  Notes </span>\n",
    "\n",
    "#### Integration by substitution\n",
    "\n",
    "This is an extension of this topic as covered in Year 12 Ext 1.\n",
    "\n",
    "Examples of substition \"patterns\" are included in the table below:\n",
    "\n",
    " \n",
    "|Integral                                       | Substitution                                      | <div style=\"width:300px\">Comment</div>    |\n",
    "| --------                                      | -------                                           |---------                                  |\n",
    "| $ \\int f'(x)f(x)^n dx $                       | $u= f(x)$                                         |                                           |\n",
    "| $ \\int \\dfrac{f'(x)}{f(x)^n} dx $             | $u= f(x)$                                         | Look for potential pattern of a function and its derivative.  n may be a fraction, that is f(x) may be inside a root     |\n",
    "| $\\int \\dfrac{1}{a \\cos x + b \\sin x} dx$      | $t = \\tan \\frac{x}{2}$                            | $\\frac{dt}{dx}$ is a function of sec but can be restated in terms of tan and then t using the trig Pythagorean identities|\n",
    "| $\\int \\dfrac{1}{a \\cos x + b} dx$             | $t = \\tan \\frac{x}{2}$                            |                                           |\n",
    "| $\\int \\dfrac{1}{a + b \\sin x} dx$             | $t = \\tan \\frac{x}{2}$                            |                                           |\n",
    "| $ \\int \\dfrac{1}{\\sqrt{a^2+x^2}} dx $         | $x=a \\tan \\theta$                                 |                                           |\n",
    "| $ \\int \\dfrac{1}{\\sqrt{a^2-x^2}} dx $         | $x=a \\sin \\theta \\text{ or } x=a \\cos \\theta$     |                                           |\n",
    "| $ \\int \\dfrac{1}{\\sqrt{x^2-a^2}} dx $         | $x=a \\sec \\theta$                                 |                                           |\n",
    "| $ \\int \\dfrac{x}{\\sqrt{x+a}} dx $             | $x= u^2 -a$                                       | This enables removing the square root     |\n",
    "\n",
    "\n",
    "\n",
    "#### Integration of rational functions\n",
    "\n",
    " - Rational functions are functions where both the numerator and denominator are fractions.\n",
    " - completing the square\n",
    " - **Other methods?**\n",
    "\n",
    "#### Integration using partial fractions\n",
    "\n",
    "\n",
    "#### Integration by parts\n",
    "\n",
    "Uses below formula which appears on the formula sheet: <br>\n",
    "$ {\\Large\\int} u \\dfrac{dv}{dx} dx=uv-{\\Large\\int}v \\dfrac {du}{dx}dx$\n",
    "\n",
    "\n",
    "#### Recurrence relations\n",
    "\n",
    "\n"
   ]
  }
 ],
 "metadata": {
  "language_info": {
   "name": "python"
  }
 },
 "nbformat": 4,
 "nbformat_minor": 2
}
