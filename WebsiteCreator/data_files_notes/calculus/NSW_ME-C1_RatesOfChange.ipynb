{
 "cells": [
  {
   "cell_type": "markdown",
   "metadata": {},
   "source": [
    "### <span style=\"color:RGB(139,69,19)\">  Concepts </span>\n",
    "\n",
    "\n",
    "\n",
    "\n",
    "### <span style=\"color:RGB(139,69,19)\">  Notes </span>\n",
    "\n",
    "#### Rates of change with respect to time\n",
    "\n",
    "\n",
    "*Zero displacement*, when a particle is at the origin that is x = 0<br><br>\n",
    "*Velocity*\n",
    " - rate of change of displacement, $v = \\dot x = \\dfrac{dx}{dt}$\n",
    "\n",
    " - If a particle is moving to the right then velocity is positive, to the left velocity is negative\n",
    "\n",
    " - Zero velocity = when a particle is not moving\n",
    " <br><br>\n",
    "\n",
    "*Accelaration*\n",
    " - $a = \\ddot x = \\dfrac{dv}{dt} = \\dfrac{d^{2}x}{dt^2}$\n",
    "\n",
    " - Acceleration to the right is positive, to the left is negative. \n",
    "\n",
    " - If acceleration is in the same direction as velocity then the particle is speeding up (accelerating) and vice versa.\n",
    "\n",
    " - Zero acceleration  = the particle is not accelerating or deccelerating, that is it has a constant velocity.\n",
    "\n",
    "<br><br>\n",
    "\n",
    "#### Exponential growth and decay\n",
    "\n",
    "*Rate of change is directly proportional to the current amount of the quantity*\n",
    " - That is... $\\dfrac{dN}{dt} = kN$\n",
    " \n",
    " - $N(t) = Ae^{kt}$ satisfies the above relationship (be able to prove)\n",
    "\n",
    " - k is the growth (positive) of decay (negative) constant \n",
    "\n",
    " - N = quantity\n",
    "\n",
    " - t = time\n",
    "\n",
    " - Initial quantity = A\n",
    "\n",
    " -  when $k<0$, then ${N \\to 0} \\text { as } {t \\to \\infty} $\n",
    "\n",
    " - <span style=\"color:RGB(255,0,0)\"> Insert graph for both positive and negative values of k </span>\n",
    "\n",
    "<br>\n",
    "\n",
    "*Rate of change is directly proportional to the difference between the current amount of the quantity and a fixed quantity*\n",
    "- That is... $\\dfrac{dN}{dt} = k(N-p)$\n",
    "\n",
    "- $N(t) = P + Ae^{kt}$ satisfies the above relationship (be able to prove)\n",
    "\n",
    "-  Initial quantity  = P+A\n",
    "\n",
    "- when $k<0$, then ${N \\to P} \\text { as } {t \\to \\infty} $\n",
    "\n",
    "- <span style=\"color:RGB(255,0,0)\"> Insert graph for both positive and negative values of k </span>\n",
    "\n",
    "<br>\n",
    "\n",
    "#### Related rates of change\n",
    "If y is related to x, and x is related to time t, then the instantaneous rate of change of y with respect to time t utilises the chain rule: <br>\n",
    "$\\dfrac{dy}{dt} = \\dfrac{dy}{dx} \\times \\dfrac{dx}{dt}$\n",
    "\n"
   ]
  },
  {
   "cell_type": "markdown",
   "metadata": {},
   "source": [
    "$\\dfrac{dN}{dt} = k(N-p) \\text{ is satisfied by } N(t) = P + Ae^{kt}$"
   ]
  },
  {
   "cell_type": "markdown",
   "metadata": {},
   "source": []
  }
 ],
 "metadata": {
  "language_info": {
   "name": "python"
  }
 },
 "nbformat": 4,
 "nbformat_minor": 2
}
