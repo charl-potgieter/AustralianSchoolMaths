{
 "cells": [
  {
   "cell_type": "markdown",
   "metadata": {},
   "source": [
    "### <span style=\"color:RGB(139,69,19)\">  Concepts </span>\n",
    "\n",
    "\n",
    "\n",
    "\n",
    "### <span style=\"color:RGB(139,69,19)\">  Notes </span>\n",
    "\n",
    "#### Rates of change with respect to time\n",
    "\n",
    "\n",
    "\n",
    "#### Exponential growth and decay\n",
    "\n",
    "\n",
    "\n",
    "#### Related rates of change\n",
    "If y is related to x, and x is related to time t, then the instantaneous rate of change of y with respect to time t utilises the chain rule: <br>\n",
    "$\\dfrac{dy}{dt} = \\dfrac{dy}{dx} \\times \\dfrac{dx}{dt}$\n",
    "\n",
    "#### Motion in a straight line\n",
    "**Zero displacement**, when a particle is at the origin that is x = 0<br><br>\n",
    "**Velocity** = rate of change of displacement, $v = \\dot x = \\dfrac{dx}{dt}$<br>\n",
    "If a particle is moving to the right then velocity is positive, to the left velocity is negative<br>\n",
    "Zero velocity = when a particle is not moving<br><br>\n",
    "**Accelaration** = $a = \\ddot x = \\dfrac{dv}{dt}$<br>\n",
    "Acceleration to the right is positive, to the left is negative. <br>\n",
    "If acceleration is in the same direction as velocity then the particle is speeding up (accelerating) and vice versa.<br>\n",
    "Zero acceleration  = the particle is not accelerating of deccelerating, that is it has a constant velocity.\n",
    "\n"
   ]
  }
 ],
 "metadata": {
  "language_info": {
   "name": "python"
  }
 },
 "nbformat": 4,
 "nbformat_minor": 2
}
