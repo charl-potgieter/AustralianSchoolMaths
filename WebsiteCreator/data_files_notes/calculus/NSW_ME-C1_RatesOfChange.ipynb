{
 "cells": [
  {
   "cell_type": "markdown",
   "metadata": {},
   "source": [
    "### <span style=\"color:RGB(139,69,19)\">  Concepts </span>\n",
    "\n",
    "\n",
    "\n",
    "\n",
    "### <span style=\"color:RGB(139,69,19)\">  Notes </span>\n",
    "\n",
    "#### Rates of change with respect to time\n",
    "\n",
    "\n",
    "\n",
    "#### Exponential growth and decay\n",
    "\n",
    "\n",
    "\n",
    "#### Related rates of change\n",
    "If y is related to x, and x is related to time t, then the instantaneous rate of change of y with respect to time t utilises the chain rule: <br>\n",
    "$\\dfrac{dy}{dt} = \\dfrac{dy}{dx} \\times \\dfrac{dx}{dt}$\n",
    "\n"
   ]
  }
 ],
 "metadata": {
  "language_info": {
   "name": "python"
  }
 },
 "nbformat": 4,
 "nbformat_minor": 2
}
