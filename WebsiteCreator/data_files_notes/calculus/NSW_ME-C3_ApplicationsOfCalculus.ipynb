{
 "cells": [
  {
   "cell_type": "markdown",
   "metadata": {},
   "source": [
    "### <span style=\"color:RGB(139,69,19)\">  Concepts </span>\n",
    "\n",
    " - Intergrand\n",
    " - solid of revolution\n",
    "\n",
    "\n",
    "### <span style=\"color:RGB(139,69,19)\">  Notes </span>\n",
    "\n",
    "#### Further area and volumes of solids of revolution\n",
    " \n",
    "Volumes formed by rotation about the x-axis = $V=\\pi \\int_a^b y^2 dx$\n",
    " - The volume calculated is between the curves and point a and b on the x-axis, as the curve is rotated around the x-axis\n",
    "\n",
    "\n",
    "Volumes formed by rotation about the y-axis = $V=\\pi \\int_a^b x^2 dx$\n",
    "- The volume calculated is between the curves and point a and b on the y-axis, as the curve is rotated around the y-axis\n",
    " - If a question provides 2 points on the x-axis, the a and b values on the y-axis need to be calculated by using the original function formula.\n",
    "\n",
    " <span style=\"color:RGB(255,0,0)\">  Can above formulas be used directly in questions or do they need to be derived.  They do not appear on the formula sheet or in the syllabus  </span>\n",
    "\n",
    " Remember to specify $\\text{units}^3$ when providing a volume answer if no other specific measure e.g. cm is provided in the question."
   ]
  }
 ],
 "metadata": {
  "language_info": {
   "name": "python"
  }
 },
 "nbformat": 4,
 "nbformat_minor": 2
}
