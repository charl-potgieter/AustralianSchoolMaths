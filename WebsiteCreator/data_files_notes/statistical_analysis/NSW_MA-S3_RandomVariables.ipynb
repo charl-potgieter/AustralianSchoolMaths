{
 "cells": [
  {
   "cell_type": "markdown",
   "metadata": {},
   "source": [
    "### <span style=\"color:RGB(139,69,19)\">  Concepts </span>\n",
    "\n",
    " - random variable\n",
    " - continuous random variable\n",
    " - continuous probability distribution\n",
    " - uniform probability distribution\n",
    " - probability density function (pdf)\n",
    " - cumulative distribution function (cdf)\n",
    " - empirical rule\n",
    " - normal distribution\n",
    " - z-score\n",
    "\n",
    "\n",
    "\n",
    "### <span style=\"color:RGB(139,69,19)\">  Notes </span>\n",
    "\n",
    " - The cumulative distribution function is the integral of the probability density function\n",
    "\n",
    " - A continuous probability distribution is reported by a probability density function\n",
    "\n",
    " - The probability of a single outcome of a continuous probability distribution cannot be calculated, in other words $P(X=x) = 0$.  The probability can only be calculated for a range\n",
    "\n",
    " - Given $P(X=a) = 0$ and $P(X=b) = 0$, therefore $P(a < X < b) = P(a \\leq X \\leq b)$\n",
    "\n",
    " - The area under a probability density function is 1 : $ {\\Large\\int}^\\infty_{-\\infty} f(x)dx = 1$\n",
    "\n",
    " - Given probability density function $f(x)$ over domain [a,b] and cumulative distribution function $F(x)$ $F(a) = 0$ and $F(b) = 1$\n",
    "\n",
    " - The median lies at point x where ${\\Large\\int}^x_a f(x)dx = \\dfrac{1}{2}$ where $f(x)$ is a pdf defined on domain [a,b].  Alternatively $F(x)-F(a) = \\dfrac{1}{2}$ Similiar rules apply to other quantiles.\n",
    "\n",
    " - The mean, mode, and median are equal for a normal distribution\n",
    " \n",
    " - Finding probability by integration in a normal distribution is complex, therefore use tables where $\\mu = 0$ and $\\sigma = 1$\n",
    "\n",
    "\n",
    "### <span style=\"color:RGB(139,69,19)\"> Spreadsheets  </span>\n",
    "\n",
    "\n",
    "Click on below to open spreadsheet examples\n",
    "\n",
    "[RandomVariables](https://github.com/charl-potgieter/AustralianSchoolMaths/raw/main/WebsiteCreator/spreadsheets/RandomVariables.xlsx)"
   ]
  }
 ],
 "metadata": {
  "language_info": {
   "name": "python"
  }
 },
 "nbformat": 4,
 "nbformat_minor": 2
}
