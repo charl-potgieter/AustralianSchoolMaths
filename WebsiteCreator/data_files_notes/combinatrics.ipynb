{
 "cells": [
  {
   "cell_type": "markdown",
   "metadata": {
    "tags": [
     "Heading"
    ]
   },
   "source": [
    "# Combinatorics"
   ]
  },
  {
   "cell_type": "markdown",
   "metadata": {
    "tags": [
     "Heading"
    ]
   },
   "source": [
    "### NSW|ME-A1 Working with Combinatorics"
   ]
  },
  {
   "cell_type": "markdown",
   "metadata": {
    "tags": [
     "NSW|ME-A1"
    ]
   },
   "source": [
    "### <span style=\"color:RGB(139,69,19)\">  Notes </span>\n",
    "\n",
    " - $ n!$ is the number of ways of selecting n objects with no replacement or repetition.  Order is important.\n",
    "\n",
    " - Permutations = ordered\n",
    "\n",
    " - $^nP_r$ is the number of ways of making an ordered selection or r objects from a total of n objects.\n",
    "\n",
    " - Combinations = unordered.  Given the order is not important, therefore will be a smaller number than the equivalent permutation.\n",
    "\n",
    " - $^nC_r = (^n_r)$ is the number of ways of making an unordered selection or r objects from a total of n objects.\n",
    "\n",
    " - When calculating how many ways items can be arranged in a circle e.g. table, necklace:\n",
    "    * questions assume position of items in a circle is irrelevant\n",
    "    * item appearing at the top of the circle vs the bottom of the circle is the same thing for example\n",
    "    * Therefore n items can be arranged around a circle in (n-1)! ways, as the positioning of the first item is irrelevant\n",
    "\n",
    " - When x items in an arrangement need to be together / consecutive, treat these as one item, and make the corresponding reduction to n.\n",
    "     * For example when 5 different colour balls need to be arranged but red and yellow need to be next to each other than the number of arrangements is 4! treating the red and yellow as one.\n",
    "     * But these x objects can be arranged in x! ways, in above case 2!\n",
    "     * Therefore total arrangements  = 4! x 2!\n",
    "\n",
    " - Be on the lookout for the options in the \"\"other\"\" part of the arrangement.\n",
    "    * For example if questions asks how many ways can 3 people sit next to each other at a table of 7 people:\n",
    "    * The 3 people can sit next to each other in 3! ways  - where they sit on round table is irrelevant\n",
    "    * Don’t forget that the other 4 people can sit next to each other in 4! different ways\n",
    "    * Therefore 3! x 4!\n",
    "\n",
    " - Each item in Pascals triangle can be written as $^{\\text{row index}}C_{\\text{column index}}$ where both the indices start from zero.\n",
    " \n",
    " - To satisfy oneself as to workings of binomial expansion it can be quickly tested with something simple like $(a+b)^2$\n",
    "\n"
   ]
  }
 ],
 "metadata": {
  "language_info": {
   "name": "python"
  }
 },
 "nbformat": 4,
 "nbformat_minor": 2
}
