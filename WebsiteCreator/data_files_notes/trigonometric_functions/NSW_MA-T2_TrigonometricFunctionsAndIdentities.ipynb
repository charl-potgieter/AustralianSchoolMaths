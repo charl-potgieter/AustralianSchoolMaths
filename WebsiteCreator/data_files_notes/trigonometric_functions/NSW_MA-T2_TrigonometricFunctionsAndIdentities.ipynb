{
 "cells": [
  {
   "cell_type": "markdown",
   "metadata": {},
   "source": [
    "### <span style=\"color:RGB(139,69,19)\">  Concepts </span>\n",
    "\n",
    "\n",
    "\n",
    "\n",
    "### <span style=\"color:RGB(139,69,19)\">  Notes </span>\n",
    "\n",
    "\n",
    "Note how $\\cot A = \\frac{\\cos A}{\\sin A}, \\sin A \\ne 0$, which is effectively $\\frac{\\text{adjacent}}{\\text{opposite}}$ **not** $\\frac{1}{\\tan A}$.  This is important as tan A is undefined at odd multiples of $\\frac{\\pi}{2}$ while cot A is zero.  This concept must also be understood when graphing cot A given that cot A has different assymptotes to tan A.\n",
    "\n",
    "\n",
    "\n",
    "**y=cosec(x)**\n",
    " - domain = $(-\\infty , \\infty )$, except for multiples of $\\pi$\n",
    " - range = $(-\\infty , -1] \\cup  [1, -\\infty) $\n",
    " - It is an odd function, -f(x) = f(-x)\n",
    "\n",
    "  <!-- Paramater SiteRoot is defined in config.toml -->\n",
    "<img class=\"special-img-class\" src=\"/{{< param SiteRoot >}}/images/MA_T2_cosec.jpg\" />\n",
    "\n",
    "\n",
    "**y=sec(x)**\n",
    " - domain = $(-\\infty , \\infty)$, except for odd multiples of $\\frac{\\pi}{2}$\n",
    " - range = $(-\\infty , -1] \\cup  [1, -\\infty) $\n",
    " - It is an even function, f(x) = f(-x)\n",
    "\n",
    "  <!-- Paramater SiteRoot is defined in config.toml -->\n",
    "<img class=\"special-img-class\" src=\"/{{< param SiteRoot >}}/images/MA_T2_sec.jpg\" />\n",
    "\n",
    "\n",
    "**y=cot(x)**\n",
    " - domain = $(-\\infty , \\infty )$, except for multiples of $\\pi$ (asymptotes exist at these x-values)\n",
    " - range = $(-\\infty , \\infty )$\n",
    " - It is an odd function, f(x) = f(-x)\n",
    "\n",
    "  <!-- Paramater SiteRoot is defined in config.toml -->\n",
    "<img class=\"special-img-class\" src=\"/{{< param SiteRoot >}}/images/MA_T2_cot.jpg\" />\n"
   ]
  }
 ],
 "metadata": {
  "language_info": {
   "name": "python"
  }
 },
 "nbformat": 4,
 "nbformat_minor": 2
}
