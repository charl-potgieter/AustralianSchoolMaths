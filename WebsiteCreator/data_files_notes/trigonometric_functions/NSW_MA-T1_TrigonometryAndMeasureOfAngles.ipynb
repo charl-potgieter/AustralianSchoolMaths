{
 "cells": [
  {
   "cell_type": "markdown",
   "metadata": {},
   "source": [
    "### <span style=\"color:RGB(139,69,19)\">  Concepts </span>\n",
    "\n",
    " - angle of elevation\n",
    " - angle of depression\n",
    " - true bearing\n",
    " - compass bearing\n",
    "\n",
    "\n",
    "### <span style=\"color:RGB(139,69,19)\">  Notes </span>\n",
    "\n",
    "\n",
    "#### Trigonometry\n",
    "\n",
    "Naming convention uses upper case letter for angle and equivalent lower case letter for the side opposite the angle.\n",
    "\n",
    "Use sine rule\n",
    " - to find a side given 2 angles and one side (AAS)\n",
    " - To find an angle given 2 sides and a non included angle (SSA)\n",
    "     - This is the ambiguous case (there are 2 possible solutions, one accute and one obtuse angle)\n",
    "     - SSA is not a proof of congruencegiven the potential for an ambiguous solution\n",
    "     - In questions check that the obtuse solution does not result in the known angle + the calculated angle exceding 180 degrees.  In this case the obtuse angle is not a valid solution\n",
    "\n",
    "Use the cosine rule\n",
    " - Find a side given 2 sides and an included angle (SAS)\n",
    " - Find and angle given 2 sides (SSS)\n",
    " \n",
    "Degrees, minutes and seconds \n",
    "- 60 minutes = 1 degree\n",
    "- 60 seconds = 1 minute\n",
    "- Be careful rounding minutes or seconds.  Round minutes over 30 to the next degree up etc.\n",
    "- Be able to convert between degrees (as decimal) and degrees+minutes+seconds on a calculator\n",
    "\n",
    "Trig ratios are positive in \"**A**ll **S**tations **T**o **C**entral\" that is\n",
    " - **A**ll are positive in quadrant 1\n",
    " - **S**in is positive in quadrant 2\n",
    " - **T**an is positive in quadrant 3\n",
    " - **C**os is positive in quadrant 4\n",
    "\n",
    "#### Radians  \n",
    "\n"
   ]
  },
  {
   "cell_type": "markdown",
   "metadata": {},
   "source": [
    "$\\sin (180^\\circ - \\theta) = \\sin \\theta $\n",
    "$\\cos (180 ^\\circ - \\theta) = - \\cos \\theta $\n",
    "$\\tan (180 ^\\circ - \\theta) = - \\tan \\theta $\n"
   ]
  }
 ],
 "metadata": {
  "language_info": {
   "name": "python"
  }
 },
 "nbformat": 4,
 "nbformat_minor": 2
}
