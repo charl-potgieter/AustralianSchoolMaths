{
 "cells": [
  {
   "cell_type": "markdown",
   "metadata": {},
   "source": [
    "### <span style=\"color:RGB(139,69,19)\">  Concepts </span>\n",
    "\n",
    "\n",
    "\n",
    "\n",
    "### <span style=\"color:RGB(139,69,19)\">  Notes </span>\n",
    "\n",
    "The graph of an inverse function is a reflection of the original function in the line y=x.  (the y-value and x-values of the origianl graph are switched to obtain the inverse graph)\n",
    "\n",
    "**arcsin**\n",
    " - $y=sin^{-1}(x)$\n",
    " - domain = [-1,1]\n",
    " - range = $[-\\frac{\\pi}{2}, \\frac{\\pi}{2}]$\n",
    " - Note no arrows at end of grpah as range is finite\n",
    " - It is an odd function, -f(x) = f(-x)\n",
    "\n",
    "  <!-- Paramater SiteRoot is defined in config.toml -->\n",
    "<img class=\"special-img-class\" src=\"/{{< param SiteRoot >}}/images/ME_T1_Arcsin.jpg\" />\n",
    "\n",
    "**arccos**\n",
    " - $y=cos^{-1}(x)$\n",
    " - domain = [-1,1]\n",
    " - range = $[0, \\pi]$\n",
    " - Note no arrows at end of grpah as range is finite\n",
    " - It is neither odd nor even\n",
    "\n",
    "  <!-- Paramater SiteRoot is defined in config.toml -->\n",
    "<img class=\"special-img-class\" src=\"/{{< param SiteRoot >}}/images/ME_T1_Arccos.jpg\" />\n",
    "\n",
    "**arctan**\n",
    " - $y=tan^{-1}(x)$\n",
    " - domain = $(-\\infty , \\infty )$\n",
    " - range = $(-\\frac{\\pi}{2} , \\frac{\\pi}{2})$\n",
    " - infinite range, therefore arrows at end of graph\n",
    " - It is an odd function, f(x) = f(-x)\n",
    "\n",
    "  <!-- Paramater SiteRoot is defined in config.toml -->\n",
    "<img class=\"special-img-class\" src=\"/{{< param SiteRoot >}}/images/ME_T1_Arctan.jpg\" />\n",
    "\n",
    "\n",
    "\n"
   ]
  }
 ],
 "metadata": {
  "language_info": {
   "name": "python"
  }
 },
 "nbformat": 4,
 "nbformat_minor": 2
}
