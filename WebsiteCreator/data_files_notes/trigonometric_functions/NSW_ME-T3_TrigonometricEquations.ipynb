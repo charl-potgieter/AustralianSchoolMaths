{
 "cells": [
  {
   "cell_type": "markdown",
   "metadata": {},
   "source": [
    "### <span style=\"color:RGB(139,69,19)\">  Concepts </span>\n",
    "\n",
    "\n",
    "\n",
    "\n",
    "### <span style=\"color:RGB(139,69,19)\">  Notes </span>\n",
    "\n",
    "**Auxiliary angles**\n",
    "\n",
    "If required to draw a sketch of say $10 \\sin x - 13 \\cos x$, first convert to format $r\\sin(x-\\alpha)$ using the auxiliary angle formulas.\n",
    "\n",
    "\n",
    "$a \\sin x + b \\cos x = r \\sin(x + \\alpha) \\text{, where } r=\\sqrt{a^2+b^2} \\text { and } \\tan \\alpha = \\dfrac{b}{a}$\n",
    "\n",
    "$a \\sin x - b \\cos x = r \\sin(x - \\alpha) \\text{, where } r=\\sqrt{a^2+b^2} \\text { and } \\tan \\alpha = \\dfrac{b}{a}$\n",
    "\n",
    "$a \\cos x + b \\sin x = r \\cos(x - \\alpha) \\text{, where } r=\\sqrt{a^2+b^2} \\text { and } \\tan \\alpha = \\dfrac{b}{a}$\n",
    "\n",
    "$a \\cos x - b \\sin x = r \\cos(x + \\alpha) \\text{, where } r=\\sqrt{a^2+b^2} \\text { and } \\tan \\alpha = \\dfrac{b}{a}$\n"
   ]
  }
 ],
 "metadata": {
  "language_info": {
   "name": "python"
  }
 },
 "nbformat": 4,
 "nbformat_minor": 2
}
