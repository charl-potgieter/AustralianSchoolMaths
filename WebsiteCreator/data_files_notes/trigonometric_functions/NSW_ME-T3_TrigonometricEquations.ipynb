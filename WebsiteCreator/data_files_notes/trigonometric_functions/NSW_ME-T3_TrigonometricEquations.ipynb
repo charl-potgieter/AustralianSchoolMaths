{
 "cells": [
  {
   "cell_type": "markdown",
   "metadata": {},
   "source": [
    "### <span style=\"color:RGB(139,69,19)\">  Concepts </span>\n",
    "\n",
    "\n",
    "\n",
    "\n",
    "### <span style=\"color:RGB(139,69,19)\">  Notes </span>\n",
    "\n",
    " **Auxiliary angles**\n",
    "\n",
    "The auxiliary angle method can be utilsed to reduce an expression in the format $\\pm a\\cos x \\pm b \\sin x $ into $r \\cos (x \\pm \\alpha)$ or $r \\sin (x \\pm \\alpha)$.  In these scenarios, $\\alpha$ is known as the auxiliary angle.\n",
    "\n",
    "The above simpliciation can be useful in solving equations or sketching graphs.\n",
    "\n",
    "Examples of auxiliary angles are incuded in the formulas below for example:<br>\n",
    "$a \\sin x + b \\cos x = r \\sin(x + \\alpha) \\text{, where } r=\\sqrt{a^2+b^2} \\text { and } \\tan \\alpha = \\dfrac{b}{a}$\n",
    "\n",
    "None of the auxiliary angles appear on the formula sheet so rather than attemping to memorise the below approach is recommended when say trying to solve a formula such as the above:\n",
    " - Expand the RHS of the equation using the compound angle rules that appear on the formula sheet, for example the $\\sin (A+B)$ formula\n",
    " - The expanded right hand side will then equal something like $r\\sin x \\cos \\alpha  + r \\cos x \\sin \\alpha$\n",
    " - Comparing to LHS we can deduce that:\n",
    "    - $r\\cos \\alpha  = a \\therefore cos \\alpha  =\\frac{a}{r}$, and\n",
    "    - $r\\sin \\alpha = b \\therefore sin \\alpha  =\\frac{b}{r}$\n",
    " - sketching a right angled triangle:\n",
    "   - r can be solved using the pythagoras theorem\n",
    "   - $\\alpha$ can be solved using $\\tan \\alpha = \\frac{b}{a}$\n",
    "\n",
    "\n",
    "\n"
   ]
  }
 ],
 "metadata": {
  "language_info": {
   "name": "python"
  }
 },
 "nbformat": 4,
 "nbformat_minor": 2
}
