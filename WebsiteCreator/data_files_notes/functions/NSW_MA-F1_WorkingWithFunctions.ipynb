{
 "cells": [
  {
   "cell_type": "markdown",
   "metadata": {},
   "source": [
    "### <span style=\"color:RGB(139,69,19)\">  Concepts </span>\n",
    "\n",
    "\n",
    "\n",
    "\n",
    "### <span style=\"color:RGB(139,69,19)\">  Notes </span>\n",
    "\n",
    "\n",
    "### <span style=\"color:RGB(139,69,19)\"> Spreadsheets  </span>\n",
    "\n",
    "\n",
    "Click on below to open spreadsheet examples\n",
    "\n",
    "[WorkingWithFunctions](https://github.com/charl-potgieter/AustralianSchoolMaths/raw/main/WebsiteCreator/spreadsheets/WorkingWithFunctions.xlsx)"
   ]
  }
 ],
 "metadata": {
  "language_info": {
   "name": "python"
  }
 },
 "nbformat": 4,
 "nbformat_minor": 2
}
