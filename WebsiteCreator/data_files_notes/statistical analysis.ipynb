{
    "cells": [
        {
            "cell_type": "markdown",
            "id": "bc0068f1",
            "metadata": {
                "tags": [
                    "Heading"
                ]
            },
            "source": [
                "# Statistical Analysis"
            ]
        },
        {
            "cell_type": "markdown",
            "id": "65c25b57-bdc0-46d5-b7e9-5dcf5050fb68",
            "metadata": {
                "editable": true,
                "slideshow": {
                    "slide_type": ""
                },
                "tags": [
                    "Heading"
                ]
            },
            "source": [
                "### NSW|MA-S1 Probability and Discrete Probability Distributions"
            ]
        },
        {
            "cell_type": "markdown",
            "id": "30d17fb2",
            "metadata": {
                "tags": [
                    "NSW|MA-S1"
                ]
            },
            "source": [
                "### <span style=\"color:RGB(139,69,19)\"> Concepts </span>\n",
                "\n",
                " - event\n",
                " - complement\n",
                " - independent events\n",
                " - mutually exclusive events\n",
                " - non-mutually exclusive events\n",
                " - outcome\n",
                " - equally likely outcomes\n",
                " - theoretical probability\n",
                " - conditional probability\n",
                " - probability scale\n",
                " - probability tree\n",
                " - tree diagram\n",
                " - array (table)\n",
                " - relative frequency\n",
                " - population\n",
                " - sample space\n",
                " - set\n",
                " - Venn diagram\n",
                " - random variable\n",
                " - discrete random variable\n",
                " - continuous random variable\n",
                " - uniform discrete random variables\n",
                " - non-uniform discrete random variables\n",
                " - expected value\n",
                " - probability distribution\n",
                " - discrete probability distribution\n",
                " - uniform probability distribution\n",
                " - mean or expected value\n",
                " - variance\n",
                " - standard deviation\n"
            ]
        },
        {
            "cell_type": "markdown",
            "id": "4d774f9a-f6f1-4f12-937f-53402ed7cd0a",
            "metadata": {
                "editable": true,
                "slideshow": {
                    "slide_type": ""
                },
                "tags": [
                    "NSW|MA-S1"
                ]
            },
            "source": [
                "### <span style=\"color:RGB(139,69,19)\">  Notes </span>\n",
                "\n",
                " - Probability trees: Use the product rule along branches to find $P( A \\cap B )$   representing A and B\n",
                "  \n",
                " - Probability trees: Use the additional rule for different branches to find $P(A \\cup B) $ representing A or B.\n",
                "   \n",
                " - $A \\cup B $ is A union B\n",
                "   \n",
                " - $A \\cap B $  is A intersection B\n",
                "   \n",
                " - The probability formula applies where each outcome is equally likely: $ P(E) = \\dfrac{n(E)}{n(S)} $\n",
                "   \n",
                " - The sum of all mutually exclusive probabilities is 1\n",
                "   \n",
                " - $P(A \\cup B) = P(A) + P(B) $ is the addition rule for mutually exclusive events\n",
                "   \n",
                " - $P(A \\cup B) = P(A) + P(B) - P(A \\cap B) $ is the addition rule\n",
                "   \n",
                " - $P(A \\cap B)  = P(A)P(B)$ is the product rule for independent events only\n",
                "   \n",
                " - Conditional probability is $ P(A|B) = \\dfrac{P(A \\cap B)}{P(B)} \\text{, where } P(B) \\neq 0 $ while conditional probability for independent events is $ P(A|B) = P(A) $\n",
                "   \n",
                " - Capital letter, e.g. X is often used for a random variable\n",
                "   \n",
                " - Lower case letter such as x is used for the values of X\n",
                "   \n",
                " - Properties of discrete probability distributions:\n",
                "    * All possible value of X are mutually exclusive\n",
                "    * The sum of probabilities = 1\n",
                "    * For each value of x: 0<=P(X=x)<=1\n",
                "      \n",
                " - A probability distribution can be drawn as a table with columns for x and P$($x$)$\n",
                " \n",
                " - The expected values E(X) of a probability distribution measures the centre of the distribution  = mean or average\n",
                "   \n",
                " - $\\overline{x} $ is the mean of a sample\n",
                "   \n",
                " - $\\mu $ is the mean of the population\n",
                "   \n",
                " - $s$ is the sample standard deviation\n",
                "   \n",
                " - $\\sigma$ is the poplulation standard deviation\n",
                "   \n",
                " - As the sample size increases $\\overline{x} $ approaches  $\\mu $\n",
                "   \n",
                " - The complement of A can be written as $\\overline A$ or $ \\text{A'}$ or $A^c$\n",
                "   \n",
                " - The formula sheet defines variance as follows:  $ Var(X) = E(X^2) - \\mu^2$.  The following may be an easier format to understand though: $ Var(X) = \\sum[x^2p(x)] - \\mu^2$\n",
                "   \n",
                " - Know how to capture frequencies and calculate statistics on calculator\n"
            ]
        },
        {
            "cell_type": "markdown",
            "id": "89754587",
            "metadata": {
                "tags": [
                    "Heading"
                ]
            },
            "source": [
                "### NSW|MA-S2 Descriptive Statistics and Bivariate Data Analysis"
            ]
        },
        {
            "cell_type": "markdown",
            "id": "af18479b-d009-468a-a3cc-640d11d7503f",
            "metadata": {
                "tags": [
                    "NSW|MA-S2"
                ]
            },
            "source": [
                "### <span style=\"color:RGB(139,69,19)\">  Notes </span>\n",
                " * Categorical data can be nominal or ordinal\n",
                " \n",
                " \n",
                "  Numerical data can be discrete or continuous\n",
                "\n",
                " - Displaying numerical data:\n",
                "    *Frequency table\n",
                "    * histogram (centre of column is lined up with value on x-axis.  No gap between columns)\n",
                "    * frequency polygon (line graph displaying frequency, starts and ends on x-axis)\n",
                "    * cumulative frequency histogram \n",
                "    * ogive (cumulative frequency polygon)\n",
                "    * stem and leaf plot [graphical display of tens (stems) and units (leaves)\n",
                "    * dot plot\n",
                "    * five-number summary\n",
                "    * box plot (box-and-whisker-plot)\n",
                "\n",
                " - 3 Measures of central tendency:\n",
                "    * mean\n",
                "    * mode\n",
                "    * median\n",
                "\n",
                " - If ranges are provided in a frequency table a class centre will generally need to be added as an additional column in order to calculate statistics such as mean, standard deviation etc.\n",
                "\n",
                " - Grouped data has a modal class rather than a mode\n",
                "\n",
                " - If there are two middle values. In other words an even number of values, the median is the average of these values.\n",
                "\n",
                " - The median on an ogive is the halfway point on the cumulative frequency axis\n",
                "\n",
                " - Recommended, but not universal, method for computing quartiles:\n",
                "    * Use the median to divide the ordered set into 2 halves.  \n",
                "    * If there is an odd number in the original set then do not include the median in either half.\n",
                "    * If there is an even number in the original set then split the set exactly in half\n",
                "    * Q1 and Q3 are the medians of the lower and upper halves respectively\n",
                "\n",
                " - Quantile is a general term, quartiles divide set into 4 parts, deciles into 10 parts and percentiles into 100 parts\n",
                "\n",
                " - Shapes of data: \n",
                "    * negatively skewed = more area to left of the centre = the tail points to low scores\n",
                "    * positively skewed = more area to the right of the centre = the tail points to high scores\n",
                "    * symmetrical\n",
                "\n",
                " - Modality of data:\n",
                "    * unimodal  = 1 peak\n",
                "    * bimodal  = 2 peaks\n",
                "    * multimodal = has many peaks\n",
                "\n",
                " - Scatterplots are used to graph bivariate data\n",
                "\n",
                " - Scatterplots can be:\n",
                "    * linear\n",
                "    * non-linear\n",
                "    * have no shape\n",
                "\n",
                " - Don't need to utilise a formula to calculate Pearson's correlation co-efficient $($r$)$ but need to be able to calculate using calculator\n",
                "\n",
                " - Values of  Pearson's correlation co-efficient (r):\n",
                "    * $ -1 \\le r \\le 1$\n",
                "    * $ 0 \\le r \\le 1$ &emsp;&ensp;&nbsp;  scatterplot with positive direction\n",
                "    * $r=1$ &emsp;&emsp;&emsp;&emsp; perfect positive correlation \n",
                "    * $ -1 \\le r \\le 0$ &ensp;&nbsp; scatterplot with negative direction \n",
                "    * $r=-1$ &emsp;&emsp;&emsp; perfect negative correlation\n",
                "    * $r=0$ &emsp;&emsp;&emsp;&emsp; no correlation\n",
                "    \n",
                " - Need to be able to calculate least squares regression line on a calculator but don’t need to be able to manually calculate with formula\n",
                "\n"
            ]
        },
        {
            "cell_type": "markdown",
            "id": "e69530c4",
            "metadata": {
                "tags": [
                    "NSW|MA-S1"
                ]
            },
            "source": [
                "blah blah "
            ]
        }
    ],
    "metadata": {
        "kernelspec": {
            "display_name": "Python 3 (ipykernel)",
            "language": "python",
            "name": "python3"
        },
        "language_info": {
            "codemirror_mode": {
                "name": "ipython",
                "version": 3
            },
            "file_extension": ".py",
            "mimetype": "text/x-python",
            "name": "python",
            "nbconvert_exporter": "python",
            "pygments_lexer": "ipython3",
            "version": "3.11.5"
        }
    },
    "nbformat": 4,
    "nbformat_minor": 5
}