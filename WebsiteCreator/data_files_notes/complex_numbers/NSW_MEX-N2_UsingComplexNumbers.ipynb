{
 "cells": [
  {
   "cell_type": "markdown",
   "metadata": {},
   "source": [
    "### <span style=\"color:RGB(139,69,19)\">  Concepts </span>\n",
    "\n",
    " - De Moivre's therom\n",
    " - locus\n",
    " - roots of unity\n",
    "\n"
   ]
  },
  {
   "cell_type": "markdown",
   "metadata": {},
   "source": [
    "\n",
    "### <span style=\"color:RGB(139,69,19)\">  Notes </span>\n",
    "\n",
    "#### De Moivre's therom\n",
    " - For any non-zero complex number $z = \\cos \\theta + i \\sin \\theta = e^{i\\theta}$\n",
    "\n",
    " - Polar form:  $(\\cos \\theta + i \\sin \\theta)^n = \\cos n \\theta + i \\sin n \\theta = e^{in \\theta}, \\forall n \\in \\mathbb{Q}$ \n",
    "\n",
    " - Exponential form: $(e ^ {i \\theta})^n = e ^ {in \\theta},  \\forall  n \\in \\mathbb{Q}$ \n",
    "\n",
    " - Be able to prove the above (note that above formulas also hold for real values of n but this is outside the scope of Year 12 Ext 2)\n",
    "\n",
    "  - Tip: if the equation is in the format $\\cos \\theta + i \\sin \\theta $, then it needs to be converted into polar format before De Moivre's therom can be applied that is, $ \\cos (-\\theta) + i \\sin (-\\theta) $\n",
    "\n",
    " - Be able to use De Moivre's therom to derive trig identities\n",
    "\n",
    " - Below 2 formula are not listed in the syllabus but can easily be derived using De Moivre's therom:\n",
    "     - $z^n + \\dfrac{1}{z^n} = 2 \\cos n \\theta $\n",
    "     \n",
    "     - $z^n - \\dfrac{1}{z^n} = 2i \\sin n \\theta $\n",
    "\n"
   ]
  },
  {
   "cell_type": "markdown",
   "metadata": {},
   "source": [
    "\n",
    "#### Quadratic equations with complex coefficients\n",
    "\n",
    " - Quadratic equations\n",
    "     - if coefficients are real then the complex roots are always in conjugate pairs\n",
    "     - if the coefficients are complex the roots will not be conjugate pairs\n"
   ]
  },
  {
   "cell_type": "markdown",
   "metadata": {},
   "source": [
    "\n",
    "#### Polynomial equations\n",
    "\n",
    "**Complex conjugate root therom** <br>\n",
    "If a polynomial equation P(z) = 0 has real coefficients and if $\\alpha = ai + b, a,b \\in \\mathbb{R} $   is a root of P(z) = 0 then $ \\overline{\\alpha}  = a - ib $ is also a root of P(z) = 0\n",
    "\n",
    "**Real and complex roots** <br>\n",
    "Given a polynomial equation P(z) = 0 with *real* coefficients and a degree of n:\n",
    " - If n is odd then P(z) = 0 \n",
    "     - has at least one real root\n",
    "    - the complex roots come in conjugate pairs (if they exist)\n",
    " \n",
    " - If n is even then P(z) = 0 has \n",
    "      - no real roots or an even number of real roots\n",
    "      - the complex roots come in conjugate pairs (if they exist)\n",
    " \n",
    " - if P(z) = 0 has complex roots $\\alpha = a+ib$ and $\\overline{\\alpha} = a - ib$, <br>\n",
    " then P(z) = 0 will have a quadratic factor of the form <br>\n",
    " $(x-\\alpha)(x-\\overline{\\alpha}) = [x^2 - (\\alpha + \\overline{\\alpha})x +\\alpha \\overline{\\alpha}]$\n",
    "\n"
   ]
  },
  {
   "cell_type": "markdown",
   "metadata": {},
   "source": [
    "#### Operations on the complex plane\n",
    "\n",
    "**Multiplying complex numbers**\n",
    "\n",
    " - $z_1 z_2 = r_1 r_2 [\\cos (\\theta_1 + \\theta_2) = i \\sin (\\theta_1 + \\theta_2)] $\n",
    "\n",
    "  - *Geometrically* this means that the product of vectors $\\underset{\\sim}{z}$ and $\\underset{\\sim}{w}$ : \n",
    "     - will have a length of $|\\underset{\\sim}{z}||\\underset{\\sim}{w}|$\n",
    "     - will have an argument of arg $\\underset{\\sim}{z}$ + arg $\\underset{\\sim}{w}$, that is the argument of $\\underset{\\sim}{z}$ is rotated anti-clockwise by the argument of $\\underset{\\sim}{w}$\n",
    "\n",
    "**Dividing complex numbers**\n",
    "\n",
    " - $\\dfrac{z_1}{z_2} = \\dfrac{r_1}{r_2} [\\cos (\\theta_1 - \\theta_2) = i \\sin (\\theta_1 - \\theta_2)] $\n",
    "\n",
    "  - *Geometrically* this means that the product of vectors $\\underset{\\sim}{z}$ and $\\underset{\\sim}{w}$ : \n",
    "     - will have a length of $\\dfrac{|\\underset{\\sim}{z}|}{|\\underset{\\sim}{w}|}$\n",
    "     - will have an argument of arg $\\underset{\\sim}{z}$ - arg $\\underset{\\sim}{w}$, that is the argument of $\\underset{\\sim}{z}$ is rotated clockwise by the argument of $\\underset{\\sim}{w}$\n",
    "\n",
    "**Multiplying and dividing by i**\n",
    "\n",
    "Given that $ i = 1(\\cos \\dfrac{\\pi}{2} + i \\sin \\dfrac{\\pi}{2})$:\n",
    " - Multiplying $\\underset{\\sim}{z}$ by i rotates $\\underset{\\sim}{z}$  anti-clockwise by $ \\dfrac{\\pi}{2}$\n",
    " - Dividing $\\underset{\\sim}{z}$ by i rotates $\\underset{\\sim}{z} $ clockwise by $ \\dfrac{\\pi}{2}$\n",
    " - The modulus remains unchanged\n",
    " - Division by i is the same as  multiplication by -i\n",
    " - Multiplication by i is the same as division by -i"
   ]
  },
  {
   "cell_type": "markdown",
   "metadata": {},
   "source": []
  }
 ],
 "metadata": {
  "language_info": {
   "name": "python"
  }
 },
 "nbformat": 4,
 "nbformat_minor": 2
}
