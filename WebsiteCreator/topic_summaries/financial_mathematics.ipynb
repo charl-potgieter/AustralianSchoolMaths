{
 "cells": [
  {
   "cell_type": "code",
   "execution_count": 19,
   "id": "c156ef55-d3c0-4f0a-9026-66e1054c5b42",
   "metadata": {
    "editable": true,
    "jupyter": {
     "source_hidden": true
    },
    "scrolled": true,
    "slideshow": {
     "slide_type": ""
    },
    "tags": []
   },
   "outputs": [],
   "source": [
    "# Enable importing modules from the parent path\n",
    "# https://stackoverflow.com/questions/4383571/importing-files-from-different-folder\n",
    "# https://www.geeksforgeeks.org/get-parent-of-current-directory-using-python/\n",
    "import os\n",
    "current_path = os.getcwd()\n",
    "parent_path = os.path.dirname(current_path)\n",
    "import sys\n",
    "sys.path.append(parent_path)\n",
    "# sys.path.insert(1, parent_path)\n",
    "\n",
    "import formulas\n",
    "import pandas as pd\n",
    "\n",
    "website_creator_dir = parent_path\n",
    "formula_file_path = website_creator_dir +os.path.sep + 'formulas.csv'\n",
    "formulas_input_df = pd.read_csv(formula_file_path)\n"
   ]
  },
  {
   "cell_type": "markdown",
   "id": "3ed25f5e-1993-4eb7-8c1e-3cf7c3c6608c",
   "metadata": {},
   "source": [
    "# Financial mathematics"
   ]
  },
  {
   "cell_type": "markdown",
   "id": "3d0c7349-77c4-4cf7-9202-7bb12955b9bc",
   "metadata": {},
   "source": [
    "## Compounding interest"
   ]
  },
  {
   "cell_type": "code",
   "execution_count": 20,
   "id": "4f6c9074-64b6-4493-b749-84ee226f1934",
   "metadata": {
    "editable": true,
    "jupyter": {
     "source_hidden": true
    },
    "slideshow": {
     "slide_type": ""
    },
    "tags": []
   },
   "outputs": [
    {
     "data": {
      "text/latex": [
       "$\\displaystyle A = P(1+r)^n$"
      ],
      "text/plain": [
       "<IPython.core.display.Math object>"
      ]
     },
     "metadata": {},
     "output_type": "display_data"
    }
   ],
   "source": [
    "result  = formulas.get_single_formula_1(\n",
    "    formulas_input_df, 'Financial mathematics', \n",
    "    'Compounding interest')\n",
    "\n",
    "display(result)\n"
   ]
  },
  {
   "cell_type": "markdown",
   "id": "d94dc72b-3253-4c51-8091-4d59cb195076",
   "metadata": {
    "editable": true,
    "slideshow": {
     "slide_type": ""
    },
    "tags": []
   },
   "source": [
    "## Arithmetic sequence and series\n",
    "\n",
    "An **arithmetic sequence** is a sequence of numbers such that the difference from any succeeding term to its preceding term remains constant throughout the sequence\n",
    "\n",
    "An **arithmetic series** is sum of the members of a finite arithmetic sequence"
   ]
  }
 ],
 "metadata": {
  "kernelspec": {
   "display_name": "Python 3 (ipykernel)",
   "language": "python",
   "name": "python3"
  },
  "language_info": {
   "codemirror_mode": {
    "name": "ipython",
    "version": 3
   },
   "file_extension": ".py",
   "mimetype": "text/x-python",
   "name": "python",
   "nbconvert_exporter": "python",
   "pygments_lexer": "ipython3",
   "version": "3.11.3"
  }
 },
 "nbformat": 4,
 "nbformat_minor": 5
}
