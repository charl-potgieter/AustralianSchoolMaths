{
 "cells": [
  {
   "cell_type": "markdown",
   "id": "6bb88cec-cf31-46c8-9cc1-b7b5524104de",
   "metadata": {},
   "source": [
    "# Financial mathematics\n",
    "\n",
    "## Arithmetic sequence and series\n",
    "\n",
    "An **arithmetic sequence** is a sequence of numbers such that the difference from any succeeding term to its preceding term remains constant throughout the sequence\n",
    "\n",
    "An **arithmetic series** is sum of the members of a finite arithmetic sequence\n",
    "\n",
    "\n",
    "!!! GET FORMULA FROM CSV !!!\n",
    "\n",
    "**Recursive definition of an arithmetic sequence** : <br>\n",
    "$ T_n = T_{n-1} + d $ <br>\n",
    "where \n",
    " - $T_n$ = the n th item in the sequence\n",
    " - $T_n-1$ = the (n-1) th item in the sequence\n",
    " - d is the **common difference**\n",
    " - $T_1 = a$ = the first element in the sequence\n"
   ]
  },
  {
   "cell_type": "markdown",
   "id": "bcc253d8-554d-49cb-862b-2efb19650207",
   "metadata": {},
   "source": [
    "$A = P(1+r)^n$\n",
    "\n",
    "$T_n = a + (n-1)d$\n",
    "\n",
    "$S_n = \\dfrac{n}{2}[2a + (n-1)d] = \\dfrac{n}{2}(a+l)$\n",
    "\n",
    "$Tn = rT_{n-1}$\n",
    "\n",
    "$T_n = ar^{n-1}$\n",
    "\n",
    "$S_n = \\dfrac{a(1-r^n)}{1-r} = \\dfrac{a(r^n-1)}{r-1},\\ \\  r \\neq 1$\n",
    "\n",
    "$S=\\dfrac{a}{1-r},\\ \\ |r|<1$\n"
   ]
  }
 ],
 "metadata": {
  "kernelspec": {
   "display_name": "Python 3 (ipykernel)",
   "language": "python",
   "name": "python3"
  },
  "language_info": {
   "codemirror_mode": {
    "name": "ipython",
    "version": 3
   },
   "file_extension": ".py",
   "mimetype": "text/x-python",
   "name": "python",
   "nbconvert_exporter": "python",
   "pygments_lexer": "ipython3",
   "version": "3.11.3"
  }
 },
 "nbformat": 4,
 "nbformat_minor": 5
}
