{
 "cells": [
  {
   "cell_type": "code",
   "execution_count": 2,
   "id": "c156ef55-d3c0-4f0a-9026-66e1054c5b42",
   "metadata": {
    "collapsed": true,
    "editable": true,
    "jupyter": {
     "outputs_hidden": true
    },
    "scrolled": true,
    "slideshow": {
     "slide_type": ""
    },
    "tags": [
     "hide_code",
     "Year 12 Adv"
    ]
   },
   "outputs": [],
   "source": [
    "# Enable importing modules from the parent path\n",
    "# https://stackoverflow.com/questions/4383571/importing-files-from-different-folder\n",
    "# https://www.geeksforgeeks.org/get-parent-of-current-directory-using-python/\n",
    "import os\n",
    "current_path = os.getcwd()\n",
    "parent_path = os.path.dirname(current_path)\n",
    "import sys\n",
    "sys.path.append(parent_path)\n",
    "# sys.path.insert(1, parent_path)\n",
    "\n",
    "import utilities\n",
    "import formulas\n",
    "import pandas as pd\n",
    "from IPython.display import Markdown\n",
    "\n",
    "\n",
    "website_creator_dir = parent_path\n",
    "docs_dir = utilities.get_docs_path(website_creator_dir)\n",
    "formula_file_path = website_creator_dir +os.path.sep + 'formulas.csv'\n",
    "order_file_path = website_creator_dir + os.path.sep + 'sort_orders.csv'\n",
    "formulas_input_df = pd.read_csv(formula_file_path)\n",
    "sort_orders_df = pd.read_csv(order_file_path)\n",
    "formulas_df = formulas.get_formulas_df(formulas_input_df, sort_orders_df)\n",
    "formula_sheet_list = (\n",
    "    formulas.get_formulas_on_formula_sheet(formulas_input_df))\n",
    "\n"
   ]
  },
  {
   "cell_type": "markdown",
   "id": "3ed25f5e-1993-4eb7-8c1e-3cf7c3c6608c",
   "metadata": {
    "editable": true,
    "slideshow": {
     "slide_type": ""
    },
    "tags": [
     "Year 12 Adv"
    ]
   },
   "source": [
    "# Financial mathematics"
   ]
  },
  {
   "cell_type": "markdown",
   "id": "d94dc72b-3253-4c51-8091-4d59cb195076",
   "metadata": {
    "editable": true,
    "slideshow": {
     "slide_type": ""
    },
    "tags": [
     "Year 12 Adv"
    ]
   },
   "source": [
    "## Definitions\n",
    "\n",
    "### General\n",
    "- sequence\n",
    "- series\n",
    "- term\n",
    "- recurrence relation\n",
    "- compound interest\n",
    "- annuity\n",
    "- present value\n",
    "- future value\n",
    "\n",
    "### Arithmetic sequence\n",
    "- arithmetic sequence\n",
    "- arithmetic series\n",
    "- common difference\n",
    "\n",
    "### Geometric sequence\n",
    "- geometric sequence\n",
    "- geometric series\n",
    "- common ratio\n",
    "- limiting sum"
   ]
  },
  {
   "cell_type": "markdown",
   "id": "3d0c7349-77c4-4cf7-9202-7bb12955b9bc",
   "metadata": {
    "editable": true,
    "slideshow": {
     "slide_type": ""
    },
    "tags": [
     "Year 12 Adv"
    ]
   },
   "source": [
    "## Compounding interest formula\n",
    "\n",
    "Below formula is applicable to a single amount, for example single investment or amount borrowed."
   ]
  },
  {
   "cell_type": "code",
   "execution_count": 6,
   "id": "4f6c9074-64b6-4493-b749-84ee226f1934",
   "metadata": {
    "editable": true,
    "scrolled": true,
    "slideshow": {
     "slide_type": ""
    },
    "tags": [
     "Year 12 Adv",
     "hide_code"
    ]
   },
   "outputs": [
    {
     "data": {
      "text/latex": [
       "$\\displaystyle A = P(1+r)^n$"
      ],
      "text/plain": [
       "<IPython.core.display.Math object>"
      ]
     },
     "metadata": {},
     "output_type": "display_data"
    }
   ],
   "source": [
    "result  = formulas.get_single_formula(\n",
    "    formulas_input_df, 'Financial mathematics', \n",
    "    'Compounding interest')\n",
    "\n",
    "display(result)\n"
   ]
  },
  {
   "cell_type": "markdown",
   "id": "a691953c-8970-4804-a451-6b15544ef887",
   "metadata": {
    "editable": true,
    "slideshow": {
     "slide_type": ""
    },
    "tags": [
     "Year 12 Adv"
    ]
   },
   "source": [
    "## Summary of sequence and series formulas"
   ]
  },
  {
   "cell_type": "code",
   "execution_count": 7,
   "id": "29548b6a-163a-4ee8-9857-3165d0772044",
   "metadata": {
    "editable": true,
    "slideshow": {
     "slide_type": ""
    },
    "tags": [
     "hide_code",
     "Year 12 Adv"
    ]
   },
   "outputs": [
    {
     "ename": "AttributeError",
     "evalue": "module 'formulas' has no attribute 'get_financial_summary_styler'",
     "output_type": "error",
     "traceback": [
      "\u001b[0;31m---------------------------------------------------------------------------\u001b[0m",
      "\u001b[0;31mAttributeError\u001b[0m                            Traceback (most recent call last)",
      "Cell \u001b[0;32mIn[7], line 2\u001b[0m\n\u001b[1;32m      1\u001b[0m formula_summary_df \u001b[38;5;241m=\u001b[39m formulas\u001b[38;5;241m.\u001b[39mget_financial_summary_df(formulas_input_df)\n\u001b[0;32m----> 2\u001b[0m standard_view \u001b[38;5;241m=\u001b[39m \u001b[43mformulas\u001b[49m\u001b[38;5;241;43m.\u001b[39;49m\u001b[43mget_financial_summary_styler\u001b[49m(formula_summary_df)\n\u001b[1;32m      3\u001b[0m formula_sheet_view \u001b[38;5;241m=\u001b[39m formulas\u001b[38;5;241m.\u001b[39mget_financial_summary_styler(formula_summary_df, formula_sheet_list)\n\u001b[1;32m      5\u001b[0m output_str \u001b[38;5;241m=\u001b[39m (\n\u001b[1;32m      6\u001b[0m     \u001b[38;5;124m'\u001b[39m\u001b[38;5;124m{{\u001b[39m\u001b[38;5;124m< tabs \u001b[39m\u001b[38;5;124m\"\u001b[39m\u001b[38;5;124muniqueid\u001b[39m\u001b[38;5;124m\"\u001b[39m\u001b[38;5;124m >}}\u001b[39m\u001b[38;5;124m'\u001b[39m \u001b[38;5;241m+\u001b[39m \u001b[38;5;124m'\u001b[39m\u001b[38;5;124m<br>\u001b[39m\u001b[38;5;124m'\u001b[39m \u001b[38;5;241m+\u001b[39m \n\u001b[1;32m      7\u001b[0m     \u001b[38;5;124m'\u001b[39m\u001b[38;5;124m{{\u001b[39m\u001b[38;5;124m< tab \u001b[39m\u001b[38;5;124m\"\u001b[39m\u001b[38;5;124mStandard view\u001b[39m\u001b[38;5;124m\"\u001b[39m\u001b[38;5;124m >}}\u001b[39m\u001b[38;5;124m'\u001b[39m \u001b[38;5;241m+\u001b[39m \u001b[38;5;124m'\u001b[39m\u001b[38;5;124m<br>\u001b[39m\u001b[38;5;124m'\u001b[39m \u001b[38;5;241m+\u001b[39m \n\u001b[0;32m   (...)\u001b[0m\n\u001b[1;32m     14\u001b[0m     \u001b[38;5;124m'\u001b[39m\u001b[38;5;124m{{\u001b[39m\u001b[38;5;124m< /tabs >}}\u001b[39m\u001b[38;5;124m'\u001b[39m\n\u001b[1;32m     15\u001b[0m )\n",
      "\u001b[0;31mAttributeError\u001b[0m: module 'formulas' has no attribute 'get_financial_summary_styler'"
     ]
    }
   ],
   "source": [
    "formula_summary_df = formulas.get_financial_summary_df(formulas_input_df)\n",
    "standard_view = formulas.get_financial_summary_styler(formula_summary_df)\n",
    "formula_sheet_view = formulas.get_financial_summary_styler(formula_summary_df, formula_sheet_list)\n",
    "\n",
    "output_str = (\n",
    "    '{{< tabs \"uniqueid\" >}}' + '<br>' + \n",
    "    '{{< tab \"Standard view\" >}}' + '<br>' + \n",
    "    standard_view.to_html() + \n",
    "    '{{< /tab >}} ' + '<br><br>'\n",
    "    '{{< tab \"Formula sheet\" >}}' + '<br>' + \n",
    "    'Items on formula sheet are highlighted ' + \n",
    "    formula_sheet_view.to_html() + \n",
    "    '{{< /tab >}}' + '<br>' + \n",
    "    '{{< /tabs >}}'\n",
    ")\n",
    "display(Markdown(output_str))"
   ]
  },
  {
   "cell_type": "markdown",
   "id": "1aefb214-c884-4373-8a53-1c52c44a390b",
   "metadata": {
    "editable": true,
    "slideshow": {
     "slide_type": ""
    },
    "tags": [
     "Year 12 Adv"
    ]
   },
   "source": [
    "## Proofs required"
   ]
  }
 ],
 "metadata": {
  "kernelspec": {
   "display_name": "Python 3 (ipykernel)",
   "language": "python",
   "name": "python3"
  },
  "language_info": {
   "codemirror_mode": {
    "name": "ipython",
    "version": 3
   },
   "file_extension": ".py",
   "mimetype": "text/x-python",
   "name": "python",
   "nbconvert_exporter": "python",
   "pygments_lexer": "ipython3",
   "version": "3.11.3"
  }
 },
 "nbformat": 4,
 "nbformat_minor": 5
}
