{
 "cells": [
  {
   "cell_type": "code",
   "execution_count": 4,
   "id": "c156ef55-d3c0-4f0a-9026-66e1054c5b42",
   "metadata": {
    "editable": true,
    "scrolled": true,
    "slideshow": {
     "slide_type": ""
    },
    "tags": [
     "hide_code",
     "Year 12 Adv"
    ]
   },
   "outputs": [],
   "source": [
    "# Enable importing modules from the parent path\n",
    "# https://stackoverflow.com/questions/4383571/importing-files-from-different-folder\n",
    "# https://www.geeksforgeeks.org/get-parent-of-current-directory-using-python/\n",
    "import os\n",
    "current_path = os.getcwd()\n",
    "parent_path = os.path.dirname(current_path)\n",
    "import sys\n",
    "sys.path.append(parent_path)\n",
    "# sys.path.insert(1, parent_path)\n",
    "\n",
    "import utilities\n",
    "import formulas\n",
    "import pandas as pd\n",
    "from IPython.display import Markdown\n",
    "\n",
    "\n",
    "website_creator_dir = parent_path\n",
    "docs_dir = utilities.get_docs_path(website_creator_dir)\n",
    "formula_file_path = website_creator_dir +os.path.sep + 'formulas.csv'\n",
    "order_file_path = website_creator_dir + os.path.sep + 'sort_orders.csv'\n",
    "formulas_input_df = pd.read_csv(formula_file_path)\n",
    "sort_orders_df = pd.read_csv(order_file_path)\n",
    "formulas_df = formulas.get_formulas_df(formulas_input_df, sort_orders_df)\n",
    "formula_sheet_list = (\n",
    "    formulas.get_formulas_on_formula_sheet(formulas_input_df))\n",
    "\n"
   ]
  },
  {
   "cell_type": "markdown",
   "id": "3ed25f5e-1993-4eb7-8c1e-3cf7c3c6608c",
   "metadata": {
    "editable": true,
    "slideshow": {
     "slide_type": ""
    },
    "tags": [
     "Year 12 Adv"
    ]
   },
   "source": [
    "# Financial mathematics"
   ]
  },
  {
   "cell_type": "markdown",
   "id": "d94dc72b-3253-4c51-8091-4d59cb195076",
   "metadata": {
    "editable": true,
    "slideshow": {
     "slide_type": ""
    },
    "tags": [
     "Year 12 Adv"
    ]
   },
   "source": [
    "## Definitions\n",
    "\n",
    "### General\n",
    "- sequence\n",
    "- series\n",
    "- term\n",
    "- recurrence relation\n",
    "- compound interest\n",
    "- annuity\n",
    "- present value\n",
    "- future value\n",
    "\n",
    "### Arithmetic sequence\n",
    "- arithmetic sequence\n",
    "- arithmetic series\n",
    "- common difference\n",
    "\n",
    "### Geometric sequence\n",
    "- geometric sequence\n",
    "- geometric series\n",
    "- common ratio\n",
    "- limiting sum"
   ]
  },
  {
   "cell_type": "markdown",
   "id": "3d0c7349-77c4-4cf7-9202-7bb12955b9bc",
   "metadata": {
    "editable": true,
    "slideshow": {
     "slide_type": ""
    },
    "tags": [
     "Year 12 Adv"
    ]
   },
   "source": [
    "## Compounding interest formula\n",
    "\n",
    "Below formula is applicable to a single amount, for example single investment or amount borrowed."
   ]
  },
  {
   "cell_type": "code",
   "execution_count": 5,
   "id": "4f6c9074-64b6-4493-b749-84ee226f1934",
   "metadata": {
    "editable": true,
    "scrolled": true,
    "slideshow": {
     "slide_type": ""
    },
    "tags": [
     "Year 12 Adv",
     "hide_code"
    ]
   },
   "outputs": [
    {
     "data": {
      "text/latex": [
       "$\\displaystyle A = P(1+r)^n$"
      ],
      "text/plain": [
       "<IPython.core.display.Math object>"
      ]
     },
     "metadata": {},
     "output_type": "display_data"
    }
   ],
   "source": [
    "result  = formulas.get_single_formula_1(\n",
    "    formulas_input_df, 'Financial mathematics', \n",
    "    'Compounding interest')\n",
    "\n",
    "display(result)\n"
   ]
  },
  {
   "cell_type": "markdown",
   "id": "a691953c-8970-4804-a451-6b15544ef887",
   "metadata": {
    "editable": true,
    "slideshow": {
     "slide_type": ""
    },
    "tags": [
     "Year 12 Adv"
    ]
   },
   "source": [
    "## Summary of sequence and series formulas"
   ]
  },
  {
   "cell_type": "code",
   "execution_count": 6,
   "id": "29548b6a-163a-4ee8-9857-3165d0772044",
   "metadata": {
    "editable": true,
    "slideshow": {
     "slide_type": ""
    },
    "tags": [
     "hide_code",
     "Year 12 Adv"
    ]
   },
   "outputs": [
    {
     "data": {
      "text/markdown": [
       "{{< tabs \"uniqueid\" >}}<br>{{< tab \"Standard view\" >}}<br><style type=\"text/css\">\n",
       "#T_e137e th.col_heading {\n",
       "  text-align: left;\n",
       "  font-size: 1em;\n",
       "}\n",
       "#T_e137e td {\n",
       "  text-align: left;\n",
       "  font-size: 1em;\n",
       "  padding: 1.5em;\n",
       "}\n",
       "#T_e137e_row0_col0, #T_e137e_row0_col1, #T_e137e_row1_col0, #T_e137e_row1_col1, #T_e137e_row2_col0, #T_e137e_row2_col1, #T_e137e_row3_col0, #T_e137e_row3_col1 {\n",
       "  white-space: pre-wrap;\n",
       "}\n",
       "</style>\n",
       "<table id=\"T_e137e\">\n",
       "  <thead>\n",
       "    <tr>\n",
       "      <th class=\"blank level0\" >&nbsp;</th>\n",
       "      <th id=\"T_e137e_level0_col0\" class=\"col_heading level0 col0\" >Arithmetic sequence</th>\n",
       "      <th id=\"T_e137e_level0_col1\" class=\"col_heading level0 col1\" >Geometric sequence</th>\n",
       "    </tr>\n",
       "  </thead>\n",
       "  <tbody>\n",
       "    <tr>\n",
       "      <th id=\"T_e137e_level0_row0\" class=\"row_heading level0 row0\" >Recursive definition</th>\n",
       "      <td id=\"T_e137e_row0_col0\" class=\"data row0 col0\" >$ T_n = T_{n-1} + d $</td>\n",
       "      <td id=\"T_e137e_row0_col1\" class=\"data row0 col1\" >$T_n = rT_{n-1}$</td>\n",
       "    </tr>\n",
       "    <tr>\n",
       "      <th id=\"T_e137e_level0_row1\" class=\"row_heading level0 row1\" >n-th term</th>\n",
       "      <td id=\"T_e137e_row1_col0\" class=\"data row1 col0\" >$T_n = a + (n-1)d$</td>\n",
       "      <td id=\"T_e137e_row1_col1\" class=\"data row1 col1\" >$T_n = ar^{n-1}$</td>\n",
       "    </tr>\n",
       "    <tr>\n",
       "      <th id=\"T_e137e_level0_row2\" class=\"row_heading level0 row2\" >Sum of first n terms</th>\n",
       "      <td id=\"T_e137e_row2_col0\" class=\"data row2 col0\" >$S_n = \\dfrac{n}{2}[2a + (n-1)d] = \\dfrac{n}{2}(a+l)$</td>\n",
       "      <td id=\"T_e137e_row2_col1\" class=\"data row2 col1\" >$S_n = \\dfrac{a(1-r^n)}{1-r} = \\dfrac{a(r^n-1)}{r-1},\\ \\  r \\neq 1$</td>\n",
       "    </tr>\n",
       "    <tr>\n",
       "      <th id=\"T_e137e_level0_row3\" class=\"row_heading level0 row3\" >Limiting sum</th>\n",
       "      <td id=\"T_e137e_row3_col0\" class=\"data row3 col0\" ></td>\n",
       "      <td id=\"T_e137e_row3_col1\" class=\"data row3 col1\" >$S=\\dfrac{a}{1-r},\\ \\ |r|<1$</td>\n",
       "    </tr>\n",
       "  </tbody>\n",
       "</table>\n",
       "{{< /tab >}} <br><br>{{< tab \"Formula sheet\" >}}<br>Items on formula sheet are highlighted <style type=\"text/css\">\n",
       "#T_5a942 th.col_heading {\n",
       "  text-align: left;\n",
       "  font-size: 1em;\n",
       "}\n",
       "#T_5a942 td {\n",
       "  text-align: left;\n",
       "  font-size: 1em;\n",
       "  padding: 1.5em;\n",
       "}\n",
       "#T_5a942_row0_col0, #T_5a942_row0_col1, #T_5a942_row3_col0 {\n",
       "  white-space: pre-wrap;\n",
       "}\n",
       "#T_5a942_row1_col0, #T_5a942_row1_col1, #T_5a942_row2_col0, #T_5a942_row2_col1, #T_5a942_row3_col1 {\n",
       "  background-color: rgba(255,194,10, 0.2);\n",
       "  white-space: pre-wrap;\n",
       "}\n",
       "</style>\n",
       "<table id=\"T_5a942\">\n",
       "  <thead>\n",
       "    <tr>\n",
       "      <th class=\"blank level0\" >&nbsp;</th>\n",
       "      <th id=\"T_5a942_level0_col0\" class=\"col_heading level0 col0\" >Arithmetic sequence</th>\n",
       "      <th id=\"T_5a942_level0_col1\" class=\"col_heading level0 col1\" >Geometric sequence</th>\n",
       "    </tr>\n",
       "  </thead>\n",
       "  <tbody>\n",
       "    <tr>\n",
       "      <th id=\"T_5a942_level0_row0\" class=\"row_heading level0 row0\" >Recursive definition</th>\n",
       "      <td id=\"T_5a942_row0_col0\" class=\"data row0 col0\" >$ T_n = T_{n-1} + d $</td>\n",
       "      <td id=\"T_5a942_row0_col1\" class=\"data row0 col1\" >$T_n = rT_{n-1}$</td>\n",
       "    </tr>\n",
       "    <tr>\n",
       "      <th id=\"T_5a942_level0_row1\" class=\"row_heading level0 row1\" >n-th term</th>\n",
       "      <td id=\"T_5a942_row1_col0\" class=\"data row1 col0\" >$T_n = a + (n-1)d$</td>\n",
       "      <td id=\"T_5a942_row1_col1\" class=\"data row1 col1\" >$T_n = ar^{n-1}$</td>\n",
       "    </tr>\n",
       "    <tr>\n",
       "      <th id=\"T_5a942_level0_row2\" class=\"row_heading level0 row2\" >Sum of first n terms</th>\n",
       "      <td id=\"T_5a942_row2_col0\" class=\"data row2 col0\" >$S_n = \\dfrac{n}{2}[2a + (n-1)d] = \\dfrac{n}{2}(a+l)$</td>\n",
       "      <td id=\"T_5a942_row2_col1\" class=\"data row2 col1\" >$S_n = \\dfrac{a(1-r^n)}{1-r} = \\dfrac{a(r^n-1)}{r-1},\\ \\  r \\neq 1$</td>\n",
       "    </tr>\n",
       "    <tr>\n",
       "      <th id=\"T_5a942_level0_row3\" class=\"row_heading level0 row3\" >Limiting sum</th>\n",
       "      <td id=\"T_5a942_row3_col0\" class=\"data row3 col0\" ></td>\n",
       "      <td id=\"T_5a942_row3_col1\" class=\"data row3 col1\" >$S=\\dfrac{a}{1-r},\\ \\ |r|<1$</td>\n",
       "    </tr>\n",
       "  </tbody>\n",
       "</table>\n",
       "{{< /tab >}}<br>{{< /tabs >}}"
      ],
      "text/plain": [
       "<IPython.core.display.Markdown object>"
      ]
     },
     "metadata": {},
     "output_type": "display_data"
    }
   ],
   "source": [
    "formula_summary_df = formulas.get_financial_summary_df(formulas_input_df)\n",
    "standard_view = formulas.get_financial_summary_styler(formula_summary_df)\n",
    "formula_sheet_view = formulas.get_financial_summary_styler(formula_summary_df, formula_sheet_list)\n",
    "\n",
    "output_str = (\n",
    "    '{{< tabs \"uniqueid\" >}}' + '<br>' + \n",
    "    '{{< tab \"Standard view\" >}}' + '<br>' + \n",
    "    standard_view.to_html() + \n",
    "    '{{< /tab >}} ' + '<br><br>'\n",
    "    '{{< tab \"Formula sheet\" >}}' + '<br>' + \n",
    "    'Items on formula sheet are highlighted ' + \n",
    "    formula_sheet_view.to_html() + \n",
    "    '{{< /tab >}}' + '<br>' + \n",
    "    '{{< /tabs >}}'\n",
    ")\n",
    "display(Markdown(output_str))"
   ]
  },
  {
   "cell_type": "markdown",
   "id": "1aefb214-c884-4373-8a53-1c52c44a390b",
   "metadata": {
    "editable": true,
    "slideshow": {
     "slide_type": ""
    },
    "tags": [
     "Year 12 Adv"
    ]
   },
   "source": [
    "## Proofs required"
   ]
  }
 ],
 "metadata": {
  "kernelspec": {
   "display_name": "Python 3 (ipykernel)",
   "language": "python",
   "name": "python3"
  },
  "language_info": {
   "codemirror_mode": {
    "name": "ipython",
    "version": 3
   },
   "file_extension": ".py",
   "mimetype": "text/x-python",
   "name": "python",
   "nbconvert_exporter": "python",
   "pygments_lexer": "ipython3",
   "version": "3.11.3"
  }
 },
 "nbformat": 4,
 "nbformat_minor": 5
}
