{
 "cells": [
  {
   "cell_type": "markdown",
   "id": "4a194f2f-ed3e-4de5-9994-95035c4459ee",
   "metadata": {
    "editable": true,
    "slideshow": {
     "slide_type": ""
    },
    "tags": [
     "Year 9"
    ]
   },
   "source": [
    "# Indices"
   ]
  },
  {
   "cell_type": "markdown",
   "id": "c29be4e1-9a2a-44e9-9a72-eb4f78936b8a",
   "metadata": {
    "editable": true,
    "slideshow": {
     "slide_type": ""
    },
    "tags": [
     "Year 9"
    ]
   },
   "source": [
    "Some stuff about indices here"
   ]
  }
 ],
 "metadata": {
  "kernelspec": {
   "display_name": "Python 3 (ipykernel)",
   "language": "python",
   "name": "python3"
  },
  "language_info": {
   "codemirror_mode": {
    "name": "ipython",
    "version": 3
   },
   "file_extension": ".py",
   "mimetype": "text/x-python",
   "name": "python",
   "nbconvert_exporter": "python",
   "pygments_lexer": "ipython3",
   "version": "3.11.3"
  }
 },
 "nbformat": 4,
 "nbformat_minor": 5
}
