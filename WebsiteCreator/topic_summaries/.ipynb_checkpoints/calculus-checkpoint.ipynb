{
 "cells": [
  {
   "cell_type": "markdown",
   "id": "f2515118-1f61-4412-a034-fe743b3571b3",
   "metadata": {
    "editable": true,
    "slideshow": {
     "slide_type": ""
    },
    "tags": [
     "Year 12 Adv",
     "NSW",
     "Year 12 Ext 1"
    ]
   },
   "source": [
    "# Calculus"
   ]
  },
  {
   "cell_type": "markdown",
   "id": "00e65a21-ade6-4d51-8b67-85d784b1fc1b",
   "metadata": {
    "editable": true,
    "slideshow": {
     "slide_type": ""
    },
    "tags": [
     "Year 12 Adv",
     "NSW"
    ]
   },
   "source": [
    "This is year 12_adv"
   ]
  },
  {
   "cell_type": "code",
   "execution_count": null,
   "id": "180e4744-63ef-4f07-8bc5-775d7426d6bc",
   "metadata": {
    "editable": true,
    "slideshow": {
     "slide_type": ""
    },
    "tags": [
     "Year 12 Ext 1",
     "NSW"
    ]
   },
   "outputs": [],
   "source": [
    "This is year 12 Ext 1"
   ]
  }
 ],
 "metadata": {
  "kernelspec": {
   "display_name": "Python 3 (ipykernel)",
   "language": "python",
   "name": "python3"
  },
  "language_info": {
   "codemirror_mode": {
    "name": "ipython",
    "version": 3
   },
   "file_extension": ".py",
   "mimetype": "text/x-python",
   "name": "python",
   "nbconvert_exporter": "python",
   "pygments_lexer": "ipython3",
   "version": "3.11.3"
  }
 },
 "nbformat": 4,
 "nbformat_minor": 5
}
