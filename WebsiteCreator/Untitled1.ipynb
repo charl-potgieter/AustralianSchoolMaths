{
 "cells": [
  {
   "cell_type": "code",
   "execution_count": 11,
   "id": "b0113b4b-4570-42a7-81c9-3facf951a4b9",
   "metadata": {
    "editable": true,
    "slideshow": {
     "slide_type": ""
    },
    "tags": []
   },
   "outputs": [
    {
     "data": {
      "text/plain": [
       "[1, 2, 3, 2, 3, 4]"
      ]
     },
     "metadata": {},
     "output_type": "display_data"
    }
   ],
   "source": [
    "a = [1,2,3]\n",
    "b = [2, 3, 4]\n",
    "c = a + b\n",
    "\n",
    "display(c)"
   ]
  },
  {
   "cell_type": "code",
   "execution_count": 9,
   "id": "db6044f2-d05d-4798-9ae2-ca870f94506a",
   "metadata": {
    "editable": true,
    "slideshow": {
     "slide_type": ""
    },
    "tags": []
   },
   "outputs": [
    {
     "data": {
      "text/plain": [
       "[1, 2, 3, 2, 3, 4]"
      ]
     },
     "metadata": {},
     "output_type": "display_data"
    }
   ],
   "source": [
    "a = [1,2,3]\n",
    "b = [2, 3, 4]\n",
    "c = a + b\n",
    "\n",
    "display(c)"
   ]
  }
 ],
 "metadata": {
  "kernelspec": {
   "display_name": "Python 3 (ipykernel)",
   "language": "python",
   "name": "python3"
  },
  "language_info": {
   "codemirror_mode": {
    "name": "ipython",
    "version": 3
   },
   "file_extension": ".py",
   "mimetype": "text/x-python",
   "name": "python",
   "nbconvert_exporter": "python",
   "pygments_lexer": "ipython3",
   "version": "3.11.3"
  }
 },
 "nbformat": 4,
 "nbformat_minor": 5
}
