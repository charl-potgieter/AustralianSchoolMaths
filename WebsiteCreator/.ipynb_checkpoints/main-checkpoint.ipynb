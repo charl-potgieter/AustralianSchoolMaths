{
 "cells": [
  {
   "cell_type": "code",
   "execution_count": 6,
   "id": "acb8cbfb-7511-4f05-8b7f-fad03be7d06f",
   "metadata": {
    "editable": true,
    "slideshow": {
     "slide_type": ""
    },
    "tags": []
   },
   "outputs": [],
   "source": [
    "import formulas\n",
    "import storage\n",
    "import pandas as pd\n",
    "import os\n",
    "\n",
    "if __name__ == '__main__':\n",
    "\n",
    "    website_creator_path = os.getcwd()\n",
    "    formula_file_path = website_creator_path + os.path.sep + 'formulas.csv'\n",
    "    order_file_path = website_creator_path + os.path.sep + 'sort_orders.csv'\n",
    "    docs_dir = storage.get_docs_path(website_creator_path)\n",
    "    \n",
    "    df_formulas_by_year =  storage.get_formulas_by_year_df(formula_file_path)\n",
    "    sort_orders = storage.get_list_of_data_frames_by_populated_to_column_number(order_file_path)\n",
    "    \n",
    "    storage.delete_directory_if_it_exists(docs_dir)\n",
    "\n",
    "    # Create formula by year summary\n",
    "    formula_by_year_summary_df = formulas.get_formula_by_year_summary_df(df_formulas_by_year)\n",
    "    storage.create_sub_directories(docs_dir, formula_by_year_summary_df)\n",
    "    # storage.create_index_files(base_dir=docs_dir, folder_regex='.*/Formulas/.*', book_collapse=True, sort_orders=sort_orders)\n",
    "    # # formulas.create_formula_files(docs_dir, df_formulas)\n",
    "\n",
    "    # df_calculus = formulas.df_calculus_summary(df_formulas)\n",
    "    # styler_calculus = formulas.styler_calculus_summary(df_calculus, formulas.formulas_on_formula_sheet(df_formulas))\n",
    "    # display(styler_calculus)"
   ]
  },
  {
   "cell_type": "code",
   "execution_count": 1,
   "id": "55e0af68-cce5-4a42-8158-97ae7a010ec3",
   "metadata": {},
   "outputs": [
    {
     "data": {
      "text/plain": [
       "2"
      ]
     },
     "metadata": {},
     "output_type": "display_data"
    }
   ],
   "source": [
    "def _get_sort_order_for_directory(dir, base_dir, sort_orders):\n",
    "    \"\"\"Returns a sort order for dir excluding base_dir by a lookup into sort_orders\n",
    "    which ia a ordered list of dataframes containing sort orders for various directory\n",
    "    path lengths (depths).  Returns None if no match found\"\"\"\n",
    "    \n",
    "    dir_ex_base = storage._directory_ex_base(dir, base_dir)\n",
    "    number_of_levels_in_dir_ex_base = storage._number_of_levels_in_dir(dir_ex_base)\n",
    "\n",
    "    if number_of_levels_in_dir_ex_base > len(sort_orders):\n",
    "        return (None)\n",
    "    \n",
    "    sort_orders_for_level_number = sort_orders[number_of_levels_in_dir_ex_base-1]\n",
    "    number_of_rows_of_sort_orders = len(sort_orders_for_level_number.index)\n",
    "\n",
    "    if number_of_rows_of_sort_orders==0:\n",
    "        return(None)\n",
    "    \n",
    "    sort_orders_as_series_of_paths = storage._convert_df_to_series_of_paths(sort_orders_for_level_number)\n",
    "    index_of_matched_sort_orders = sort_orders_as_series_of_paths[sort_orders_as_series_of_paths == dir_ex_base].index\n",
    "    if len(index_of_matched_sort_orders)==0:\n",
    "        sort_order = None\n",
    "    else:\n",
    "        sort_order = index_of_matched_sort_orders[0]\n",
    "    return(sort_order)\n",
    "\n",
    "\n",
    "\n",
    "import os\n",
    "import pandas as pd\n",
    "import storage\n",
    "website_creator_path = os.getcwd()\n",
    "formula_file_path = website_creator_path + os.path.sep + 'formulas.csv'\n",
    "order_file_path = website_creator_path + os.path.sep + 'sort_orders.csv'\n",
    "docs_dir = storage.get_docs_path(website_creator_path)\n",
    "sort_orders = storage.get_list_of_data_frames_by_populated_to_column_number(order_file_path)\n",
    "# current_dir = docs_dir + os.path.sep + 'ACT' + os.path.sep + 'ACT' + os.path.sep + 'ACT' + os.path.sep + 'ACT'\n",
    "current_dir = docs_dir + os.path.sep + 'NSW'\n",
    "\n",
    "display(_get_sort_order_for_directory(current_dir, docs_dir, sort_orders))"
   ]
  },
  {
   "cell_type": "code",
   "execution_count": 8,
   "id": "0a81ac6e-162a-4ca5-99dd-dfff00c2802b",
   "metadata": {
    "editable": true,
    "slideshow": {
     "slide_type": ""
    },
    "tags": []
   },
   "outputs": [
    {
     "data": {
      "text/plain": [
       "0"
      ]
     },
     "execution_count": 8,
     "metadata": {},
     "output_type": "execute_result"
    }
   ],
   "source": [
    "len(sort_orders[5].index)"
   ]
  },
  {
   "cell_type": "code",
   "execution_count": 66,
   "id": "75495e66-469f-4d7e-8d1d-9afb49bb7ddc",
   "metadata": {
    "editable": true,
    "slideshow": {
     "slide_type": ""
    },
    "tags": []
   },
   "outputs": [
    {
     "name": "stdout",
     "output_type": "stream",
     "text": [
      "0\n",
      "1\n",
      "2\n",
      "3\n",
      "4\n"
     ]
    }
   ],
   "source": [
    "for i in range(0,5):\n",
    "    print(i)"
   ]
  }
 ],
 "metadata": {
  "kernelspec": {
   "display_name": "Python 3 (ipykernel)",
   "language": "python",
   "name": "python3"
  },
  "language_info": {
   "codemirror_mode": {
    "name": "ipython",
    "version": 3
   },
   "file_extension": ".py",
   "mimetype": "text/x-python",
   "name": "python",
   "nbconvert_exporter": "python",
   "pygments_lexer": "ipython3",
   "version": "3.11.3"
  }
 },
 "nbformat": 4,
 "nbformat_minor": 5
}
