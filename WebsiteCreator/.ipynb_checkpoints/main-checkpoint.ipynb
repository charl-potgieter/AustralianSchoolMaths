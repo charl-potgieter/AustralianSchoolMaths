{
 "cells": [
  {
   "cell_type": "code",
   "execution_count": 4,
   "id": "acb8cbfb-7511-4f05-8b7f-fad03be7d06f",
   "metadata": {
    "editable": true,
    "slideshow": {
     "slide_type": ""
    },
    "tags": []
   },
   "outputs": [],
   "source": [
    "import formulas\n",
    "import storage\n",
    "import pandas as pd\n",
    "import os\n",
    "import re\n",
    "\n",
    "\n",
    "def create_index_files(base_dir, folder_regex='.*', book_collapse=False, sort_orders=None):\n",
    "    \"\"\"Creates _index.md files recursively inside base_dir when folder_regex is contained in the \n",
    "     folder name.  Optionally add content to the _index.md file based on other optional \n",
    "    parameters provided\"\"\"\n",
    "\n",
    "    for root,dirs,files in os.walk(base_dir):\n",
    "        index_to_be_generated_in_current_dir = len(re.findall(base_dir + folder_regex, root))>0\n",
    "        if index_to_be_generated_in_current_dir:\n",
    "            string_to_write = \"---\\n\"                        \n",
    "            if book_collapse:\n",
    "                string_to_write = string_to_write + \"bookCollapseSection: true\\n\"\n",
    "            if sort_orders:\n",
    "                sort_order = storage._get_sort_order_for_directory(root, base_dir, sort_orders)\n",
    "                if sort_order:\n",
    "                    string_to_write = string_to_write + \"weight: \" + str(sort_order) + \"\\n\"                \n",
    "            string_to_write = string_to_write + \"---\"            \n",
    "            with open(root + os.path.sep + '_index.md', \"w\") as text_file:\n",
    "                text_file.write(string_to_write)\n",
    "\n",
    "\n",
    "if __name__ == '__main__':\n",
    "\n",
    "    website_creator_path = os.getcwd()\n",
    "    formula_file_path = website_creator_path + os.path.sep + 'formulas.csv'\n",
    "    order_file_path = website_creator_path + os.path.sep + 'sort_orders.csv'\n",
    "    docs_dir = storage.get_docs_path(website_creator_path)\n",
    "    \n",
    "    df_formulas_by_year =  storage.get_formulas_by_year_df(formula_file_path)\n",
    "    sort_orders = storage.get_list_of_data_frames_by_populated_to_column_number(order_file_path)\n",
    "    \n",
    "    storage.delete_directory_if_it_exists(docs_dir)\n",
    "\n",
    "    # Create formula by year summary\n",
    "    formula_by_year_summary_df = formulas.get_formula_by_year_summary_df(df_formulas_by_year)\n",
    "    storage.create_sub_directories(docs_dir, formula_by_year_summary_df)\n",
    "    create_index_files(base_dir=docs_dir, folder_regex='.*/Formulas.*', book_collapse=True, sort_orders=sort_orders)\n",
    "    # # formulas.create_formula_files(docs_dir, df_formulas)\n",
    "\n",
    "    # df_calculus = formulas.df_calculus_summary(df_formulas)\n",
    "    # styler_calculus = formulas.styler_calculus_summary(df_calculus, formulas.formulas_on_formula_sheet(df_formulas))\n",
    "    # display(styler_calculus)"
   ]
  }
 ],
 "metadata": {
  "kernelspec": {
   "display_name": "Python 3 (ipykernel)",
   "language": "python",
   "name": "python3"
  },
  "language_info": {
   "codemirror_mode": {
    "name": "ipython",
    "version": 3
   },
   "file_extension": ".py",
   "mimetype": "text/x-python",
   "name": "python",
   "nbconvert_exporter": "python",
   "pygments_lexer": "ipython3",
   "version": "3.11.3"
  }
 },
 "nbformat": 4,
 "nbformat_minor": 5
}
