{
 "cells": [
  {
   "cell_type": "code",
   "execution_count": 18,
   "id": "acb8cbfb-7511-4f05-8b7f-fad03be7d06f",
   "metadata": {},
   "outputs": [],
   "source": [
    "import formulas\n",
    "import storage\n",
    "import pandas as pd\n",
    "import os\n",
    "\n",
    "if __name__ == '__main__':\n",
    "\n",
    "    website_creator_path = os.getcwd()\n",
    "    formula_file_path = website_creator_path + os.path.sep + 'formulas.csv'\n",
    "    order_file_path = website_creator_path + os.path.sep + 'sort_orders.csv'\n",
    "    docs_dir = storage.get_docs_path(website_creator_path)\n",
    "    \n",
    "    df_formulas_by_year =  storage.get_formulas_by_year_df(formula_file_path)\n",
    "    sort_orders = storage.get_list_of_data_frames_by_populated_to_column_number(order_file_path)\n",
    "    \n",
    "    storage.delete_directory_if_it_exists(docs_dir)\n",
    "\n",
    "    # Create formula by year summary\n",
    "    formula_by_year_summary_df = formulas.get_formula_by_year_summary_df(df_formulas_by_year)\n",
    "    storage.create_sub_directories(docs_dir, formula_by_year_summary_df)\n",
    "    storage.create_index_files(base_dir=docs_dir, folder_regex='.*/Formulas/.*', book_collapse=True, sort_orders=sort_orders)\n",
    "    # # formulas.create_formula_files(docs_dir, df_formulas)\n",
    "\n",
    "    # df_calculus = formulas.df_calculus_summary(df_formulas)\n",
    "    # styler_calculus = formulas.styler_calculus_summary(df_calculus, formulas.formulas_on_formula_sheet(df_formulas))\n",
    "    # display(styler_calculus)"
   ]
  },
  {
   "cell_type": "code",
   "execution_count": 6,
   "id": "08091760-805c-440c-90ec-7b8dcc72506d",
   "metadata": {},
   "outputs": [
    {
     "data": {
      "text/plain": [
       "1"
      ]
     },
     "execution_count": 6,
     "metadata": {},
     "output_type": "execute_result"
    }
   ],
   "source": [
    "import re, os, storage\n",
    "\n",
    "\n",
    "def _directory_ex_base(dir, base_dir):\n",
    "    \"\"\"returns a sub-dir calcualted from dir with the removal of \n",
    "    base_dir from the start of dir.  Any path seperator is removed \n",
    "    from start and end of the resulting path before it is returned\"\"\"\n",
    "    dir_ex_base = re.sub(pattern='^'+base_dir, repl='', string=dir)\n",
    "    if dir_ex_base[0] == os.path.sep:\n",
    "        dir_ex_base = dir_ex_base[1:]\n",
    "    if dir_ex_base[-1] == os.path.sep:\n",
    "        dir_ex_base = dir_ex_base[:-1]\n",
    "    return(dir_ex_base)\n",
    "\n",
    "\n",
    "def _number_of_levels_in_dir(dir):\n",
    "    \"\"\"Returns number of levels (folders) in directory dir\"\"\"\n",
    "    return (dir.count(os.path.sep)+1)\n",
    "    \n",
    "    \n",
    "def _get_sort_order_for_directory(dir, base_dir, sort_orders):\n",
    "    \"\"\"Returns a sort order for dir excluding base_dir by a lookup into sort_orders\n",
    "    which ia a ordered list of dataframes containing sort orders for various directory\n",
    "    path lengths (depths)\"\"\"\n",
    "\n",
    "    dir_ex_base = _directory_ex_base(dir, base_dir)\n",
    "    number_of_levels_in_dir_ex_base = _number_of_levels_in_dir(dir_ex_base)\n",
    "    \n",
    "    sort_orders_for_level_number = sort_orders[number_of_levels_in_dir_ex_base-1]\n",
    "    sort_orders_as_series_of_paths = storage._convert_df_to_series_of_paths(sort_orders_for_level_number)\n",
    "    index_of_matched_sort_orders = sort_orders_as_series_of_paths[sort_orders_as_series_of_paths == dir_ex_base].index\n",
    "    if len(index_of_matched_sort_orders)==0:\n",
    "        sort_order = None\n",
    "    else:\n",
    "        sort_order = index_of_matched_sort_orders[0]\n",
    "    return(sort_order)\n",
    "\n",
    "    \n",
    "# def _get_sort_order_for_directory_backup(dir, base_dir, sort_orders):\n",
    "\n",
    "#     if sort_orders == None:\n",
    "#         return(None)\n",
    "#     else:\n",
    "#         dir_ex_base = re.sub(pattern='^'+base_dir, repl='', string=dir)\n",
    "\n",
    "#     if dir_ex_base[0] == os.path.sep:\n",
    "#         dir_ex_base = dir_ex_base[1:]\n",
    "\n",
    "#     level_index_number = dir_ex_base.count(os.path.sep)\n",
    "#     sort_orders_for_level_number = sort_orders[level_index_number]\n",
    "#     sort_orders_as_series_of_paths = storage._convert_df_to_series_of_paths(sort_orders_for_level_number)\n",
    "#     index_of_matched_sort_orders = sort_orders_as_series_of_paths[sort_orders_as_series_of_paths == dir_ex_base].index\n",
    "#     if len(index_of_matched_sort_orders)==0:\n",
    "#         sort_order = None\n",
    "#     else:\n",
    "#         sort_order = index_of_matched_sort_orders[0]\n",
    "#     return(sort_order)\n",
    "\n",
    "\n",
    "website_creator_path = os.getcwd()\n",
    "order_file_path = website_creator_path + os.path.sep + 'sort_orders.csv'\n",
    "docs_dir = storage.get_docs_path(website_creator_path)\n",
    "dir = docs_dir + os.path.sep + 'NSW' + os.path.sep + 'Formulas' #+ os.path.sep + 'By year'\n",
    "sort_orders = storage.get_list_of_data_frames_by_populated_to_column_number(order_file_path)\n",
    "\n",
    "_get_sort_order_for_directory(dir, docs_dir, sort_orders)\n",
    "\n"
   ]
  },
  {
   "cell_type": "code",
   "execution_count": 27,
   "id": "346b3a96-b44d-4426-afce-ffa49bbc37d3",
   "metadata": {},
   "outputs": [
    {
     "data": {
      "text/plain": [
       "'sort_orders_for_current_pat'"
      ]
     },
     "execution_count": 27,
     "metadata": {},
     "output_type": "execute_result"
    }
   ],
   "source": [
    "'sort_orders_for_current_path'[:-1]"
   ]
  },
  {
   "cell_type": "code",
   "execution_count": 5,
   "id": "8430b945-35b2-451d-bd1c-ad66800b94f5",
   "metadata": {},
   "outputs": [
    {
     "data": {
      "text/plain": [
       "1               NSW/Formulas/By year\n",
       "2    NSW/Formulas/By year cumulative\n",
       "dtype: object"
      ]
     },
     "metadata": {},
     "output_type": "display_data"
    },
    {
     "data": {
      "text/plain": [
       "1"
      ]
     },
     "metadata": {},
     "output_type": "display_data"
    }
   ],
   "source": [
    "sort_orders_for_current_path = sort_orders[2]\n",
    "\n",
    "series_of_path_lists=sort_orders_for_current_path.apply(func  = lambda x:list(x), axis=1)\n",
    "series_of_paths = series_of_path_lists.str.join(os.path.sep)\n",
    "\n",
    "display(series_of_paths)\n",
    "matched_index = (series_of_paths[series_of_paths =='NSW/Formulas/By year'].index[0])\n",
    "display(matched_index)\n"
   ]
  },
  {
   "cell_type": "code",
   "execution_count": 19,
   "id": "cb650f1f-03a9-4239-b596-0035646c09b1",
   "metadata": {},
   "outputs": [
    {
     "data": {
      "text/plain": [
       "'/home/charl/Onedrive/Documents_Charl/Computer_Technical/Programming_GitHub/AustralianSchoolMaths/content/docs/'"
      ]
     },
     "execution_count": 19,
     "metadata": {},
     "output_type": "execute_result"
    }
   ],
   "source": [
    "docs_dir+=os.path.sep\n",
    "docs_dir"
   ]
  },
  {
   "cell_type": "code",
   "execution_count": 1,
   "id": "a239856c-85e2-4249-9875-7e071b9d5dc7",
   "metadata": {},
   "outputs": [],
   "source": [
    "import re\n",
    "import storage\n",
    "import os\n",
    "import pandas as pd\n",
    "\n",
    "website_creator_path = os.getcwd()\n",
    "filepath = website_creator_path + os.path.sep + 'sort_orders.csv'\n",
    "\n",
    "\n",
    "\n",
    "sort_orders = pd.read_csv(filepath)\n",
    "\n",
    "docs_dir = '/home/charl/Onedrive/Documents_Charl/Computer_Technical/Programming_GitHub/AustralianSchoolMaths/content/docs'\n",
    "current_dir = docs_dir + '/NSW/Formulas/By year'\n",
    "\n",
    "path_list = storage._convert_path_to_list(path = current_dir, exclude_regex = '^'+docs_dir)\n",
    "\n",
    "sort_order_level_0 = storage._get_sort_order_by_level(sort_orders, 0)\n",
    "sort_order_level_2 = storage._get_sort_order_by_level(sort_orders, 2)\n",
    "\n",
    "# display(sort_order_level_2[len(sort_order_level_2.iloc[:,:]])\n"
   ]
  },
  {
   "cell_type": "code",
   "execution_count": 4,
   "id": "cbcb75ef-e53f-40b8-b753-d14c91fb73e6",
   "metadata": {},
   "outputs": [
    {
     "data": {
      "text/plain": [
       "1               NSW/Formulas/By year\n",
       "2    NSW/Formulas/By year cumulative\n",
       "dtype: object"
      ]
     },
     "metadata": {},
     "output_type": "display_data"
    },
    {
     "data": {
      "text/plain": [
       "1"
      ]
     },
     "metadata": {},
     "output_type": "display_data"
    }
   ],
   "source": [
    "# test = sort_orders\n",
    "\n",
    "series_of_path_lists=sort_order_level_2.apply(func  = lambda x:list(x), axis=1)\n",
    "series_of_paths = series_of_path_lists.str.join(os.path.sep)\n",
    "\n",
    "display(series_of_paths)\n",
    "matched_index = (series_of_paths[series_of_paths =='NSW/Formulas/By year'].index[0])\n",
    "display(matched_index)\n",
    "\n"
   ]
  }
 ],
 "metadata": {
  "kernelspec": {
   "display_name": "Python 3 (ipykernel)",
   "language": "python",
   "name": "python3"
  },
  "language_info": {
   "codemirror_mode": {
    "name": "ipython",
    "version": 3
   },
   "file_extension": ".py",
   "mimetype": "text/x-python",
   "name": "python",
   "nbconvert_exporter": "python",
   "pygments_lexer": "ipython3",
   "version": "3.11.3"
  }
 },
 "nbformat": 4,
 "nbformat_minor": 5
}
