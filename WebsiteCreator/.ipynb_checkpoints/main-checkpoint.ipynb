{
 "cells": [
  {
   "cell_type": "code",
   "execution_count": 1,
   "id": "acb8cbfb-7511-4f05-8b7f-fad03be7d06f",
   "metadata": {},
   "outputs": [
    {
     "name": "stdout",
     "output_type": "stream",
     "text": [
      "BY YEAR\n",
      "YEAR 11 ADV\n",
      "DIFFERENTIATION\n"
     ]
    },
    {
     "ename": "IndexError",
     "evalue": "index 0 is out of bounds for axis 0 with size 0",
     "output_type": "error",
     "traceback": [
      "\u001b[0;31m---------------------------------------------------------------------------\u001b[0m",
      "\u001b[0;31mIndexError\u001b[0m                                Traceback (most recent call last)",
      "Cell \u001b[0;32mIn[1], line 20\u001b[0m\n\u001b[1;32m     18\u001b[0m formula_by_year_summary_df \u001b[38;5;241m=\u001b[39m formulas\u001b[38;5;241m.\u001b[39mget_formula_by_year_summary_df(df_formulas)\n\u001b[1;32m     19\u001b[0m storage\u001b[38;5;241m.\u001b[39mcreate_sub_directories(docs_dir, formula_by_year_summary_df)\n\u001b[0;32m---> 20\u001b[0m \u001b[43mstorage\u001b[49m\u001b[38;5;241;43m.\u001b[39;49m\u001b[43mcreate_index_files\u001b[49m\u001b[43m(\u001b[49m\u001b[43mbase_dir\u001b[49m\u001b[38;5;241;43m=\u001b[39;49m\u001b[43mdocs_dir\u001b[49m\u001b[43m,\u001b[49m\u001b[43m \u001b[49m\u001b[43mfolder_regex\u001b[49m\u001b[38;5;241;43m=\u001b[39;49m\u001b[38;5;124;43m'\u001b[39;49m\u001b[38;5;124;43m.*/Formulas/.*\u001b[39;49m\u001b[38;5;124;43m'\u001b[39;49m\u001b[43m,\u001b[49m\u001b[43m \u001b[49m\u001b[43mbook_collapse\u001b[49m\u001b[38;5;241;43m=\u001b[39;49m\u001b[38;5;28;43;01mTrue\u001b[39;49;00m\u001b[43m,\u001b[49m\u001b[43m \u001b[49m\u001b[43msort_orders\u001b[49m\u001b[38;5;241;43m=\u001b[39;49m\u001b[43msort_orders\u001b[49m\u001b[43m)\u001b[49m\n\u001b[1;32m     21\u001b[0m \u001b[38;5;66;03m# formulas.create_formula_files(docs_dir, df_formulas)\u001b[39;00m\n\u001b[1;32m     22\u001b[0m \n\u001b[1;32m     23\u001b[0m \u001b[38;5;66;03m# df_calculus = formulas.df_calculus_summary(df_formulas)\u001b[39;00m\n\u001b[1;32m     24\u001b[0m \u001b[38;5;66;03m# styler_calculus = formulas.styler_calculus_summary(df_calculus, formulas.formulas_on_formula_sheet(df_formulas))\u001b[39;00m\n\u001b[1;32m     25\u001b[0m \u001b[38;5;66;03m# display(styler_calculus)\u001b[39;00m\n",
      "File \u001b[0;32m~/Onedrive/Documents_Charl/Computer_Technical/Programming_GitHub/AustralianSchoolMaths/WebsiteCreator/storage.py:69\u001b[0m, in \u001b[0;36mcreate_index_files\u001b[0;34m(base_dir, folder_regex, book_collapse, sort_orders)\u001b[0m\n\u001b[1;32m     67\u001b[0m \u001b[38;5;28;01mif\u001b[39;00m \u001b[38;5;129;01mnot\u001b[39;00m sort_orders \u001b[38;5;129;01mis\u001b[39;00m \u001b[38;5;28;01mNone\u001b[39;00m:\n\u001b[1;32m     68\u001b[0m     \u001b[38;5;28mprint\u001b[39m(os\u001b[38;5;241m.\u001b[39mpath\u001b[38;5;241m.\u001b[39mbasename(root)\u001b[38;5;241m.\u001b[39mupper())\n\u001b[0;32m---> 69\u001b[0m     sort_order \u001b[38;5;241m=\u001b[39m \u001b[43msort_orders\u001b[49m\u001b[43m[\u001b[49m\u001b[43msort_orders\u001b[49m\u001b[38;5;241;43m.\u001b[39;49m\u001b[43mstr\u001b[49m\u001b[38;5;241;43m.\u001b[39;49m\u001b[43mupper\u001b[49m\u001b[43m(\u001b[49m\u001b[43m)\u001b[49m\u001b[43m \u001b[49m\u001b[38;5;241;43m==\u001b[39;49m\u001b[43m \u001b[49m\u001b[43mos\u001b[49m\u001b[38;5;241;43m.\u001b[39;49m\u001b[43mpath\u001b[49m\u001b[38;5;241;43m.\u001b[39;49m\u001b[43mbasename\u001b[49m\u001b[43m(\u001b[49m\u001b[43mroot\u001b[49m\u001b[43m)\u001b[49m\u001b[38;5;241;43m.\u001b[39;49m\u001b[43mupper\u001b[49m\u001b[43m(\u001b[49m\u001b[43m)\u001b[49m\u001b[43m]\u001b[49m\u001b[38;5;241;43m.\u001b[39;49m\u001b[43mindex\u001b[49m\u001b[43m[\u001b[49m\u001b[38;5;241;43m0\u001b[39;49m\u001b[43m]\u001b[49m\n\u001b[1;32m     70\u001b[0m     string_to_write \u001b[38;5;241m=\u001b[39m string_to_write \u001b[38;5;241m+\u001b[39m \u001b[38;5;124m\"\u001b[39m\u001b[38;5;124mweight: \u001b[39m\u001b[38;5;124m\"\u001b[39m \u001b[38;5;241m+\u001b[39m \u001b[38;5;28mstr\u001b[39m(sort_order) \u001b[38;5;241m+\u001b[39m \u001b[38;5;124m\"\u001b[39m\u001b[38;5;130;01m\\n\u001b[39;00m\u001b[38;5;124m\"\u001b[39m                \n\u001b[1;32m     71\u001b[0m string_to_write \u001b[38;5;241m=\u001b[39m string_to_write \u001b[38;5;241m+\u001b[39m \u001b[38;5;124m\"\u001b[39m\u001b[38;5;124m---\u001b[39m\u001b[38;5;124m\"\u001b[39m            \n",
      "File \u001b[0;32m/usr/lib/python3.11/site-packages/pandas/core/indexes/base.py:5320\u001b[0m, in \u001b[0;36mIndex.__getitem__\u001b[0;34m(self, key)\u001b[0m\n\u001b[1;32m   5317\u001b[0m \u001b[38;5;28;01mif\u001b[39;00m is_integer(key) \u001b[38;5;129;01mor\u001b[39;00m is_float(key):\n\u001b[1;32m   5318\u001b[0m     \u001b[38;5;66;03m# GH#44051 exclude bool, which would return a 2d ndarray\u001b[39;00m\n\u001b[1;32m   5319\u001b[0m     key \u001b[38;5;241m=\u001b[39m com\u001b[38;5;241m.\u001b[39mcast_scalar_indexer(key, warn_float\u001b[38;5;241m=\u001b[39m\u001b[38;5;28;01mTrue\u001b[39;00m)\n\u001b[0;32m-> 5320\u001b[0m     \u001b[38;5;28;01mreturn\u001b[39;00m \u001b[43mgetitem\u001b[49m\u001b[43m(\u001b[49m\u001b[43mkey\u001b[49m\u001b[43m)\u001b[49m\n\u001b[1;32m   5322\u001b[0m \u001b[38;5;28;01mif\u001b[39;00m \u001b[38;5;28misinstance\u001b[39m(key, \u001b[38;5;28mslice\u001b[39m):\n\u001b[1;32m   5323\u001b[0m     \u001b[38;5;66;03m# This case is separated from the conditional above to avoid\u001b[39;00m\n\u001b[1;32m   5324\u001b[0m     \u001b[38;5;66;03m# pessimization com.is_bool_indexer and ndim checks.\u001b[39;00m\n\u001b[1;32m   5325\u001b[0m     result \u001b[38;5;241m=\u001b[39m getitem(key)\n",
      "\u001b[0;31mIndexError\u001b[0m: index 0 is out of bounds for axis 0 with size 0"
     ]
    }
   ],
   "source": [
    "import formulas\n",
    "import storage\n",
    "import pandas as pd\n",
    "import os\n",
    "\n",
    "if __name__ == '__main__':\n",
    "\n",
    "    website_creator_path = os.getcwd()\n",
    "    formula_file_path = website_creator_path + os.path.sep + 'formulas.csv'\n",
    "    order_file_dir = website_creator_path + os.path.sep + 'order_files'\n",
    "    docs_dir = storage.get_docs_path(website_creator_path)\n",
    "    df_formulas =  storage.get_formulas(formula_file_path)\n",
    "    sort_orders = storage.get_sort_orders(order_file_dir)\n",
    "    \n",
    "    storage.delete_directory_if_it_exists(docs_dir)\n",
    "\n",
    "    #Create formula by year summary\n",
    "    formula_by_year_summary_df = formulas.get_formula_by_year_summary_df(df_formulas)\n",
    "    storage.create_sub_directories(docs_dir, formula_by_year_summary_df)\n",
    "    storage.create_index_files(base_dir=docs_dir, folder_regex='.*/Formulas/.*', book_collapse=True, sort_orders=sort_orders)\n",
    "    # formulas.create_formula_files(docs_dir, df_formulas)\n",
    "\n",
    "    # df_calculus = formulas.df_calculus_summary(df_formulas)\n",
    "    # styler_calculus = formulas.styler_calculus_summary(df_calculus, formulas.formulas_on_formula_sheet(df_formulas))\n",
    "    # display(styler_calculus)"
   ]
  },
  {
   "cell_type": "code",
   "execution_count": 19,
   "id": "346b3a96-b44d-4426-afce-ffa49bbc37d3",
   "metadata": {},
   "outputs": [
    {
     "data": {
      "text/plain": [
       "'/home/charl/Onedrive/Documents_Charl/Computer_Technical/Programming_GitHub/AustralianSchoolMaths/content/docs'"
      ]
     },
     "execution_count": 19,
     "metadata": {},
     "output_type": "execute_result"
    }
   ],
   "source": [
    "docs_dir"
   ]
  },
  {
   "cell_type": "code",
   "execution_count": 14,
   "id": "1232ff6b-2246-45c1-bce0-0cb18ec24aac",
   "metadata": {},
   "outputs": [
    {
     "name": "stdout",
     "output_type": "stream",
     "text": [
      "['The rain in Spain']\n"
     ]
    }
   ],
   "source": [
    "import re\n",
    "\n",
    "txt = \"The rain in Spain\"\n",
    "x = re.findall(\"The r.*pain\", txt)\n",
    "print(x) "
   ]
  },
  {
   "cell_type": "code",
   "execution_count": 17,
   "id": "54151a1d-2713-4b52-8b47-d1973493f1d1",
   "metadata": {},
   "outputs": [
    {
     "data": {
      "text/plain": [
       "4"
      ]
     },
     "execution_count": 17,
     "metadata": {},
     "output_type": "execute_result"
    }
   ],
   "source": [
    "sort_orders[sort_orders.str.upper() == \"YEAR 12 EXT 1\"].index[0]"
   ]
  },
  {
   "cell_type": "code",
   "execution_count": 53,
   "id": "929dc318-49d8-4e00-9f90-5c65dfc191aa",
   "metadata": {},
   "outputs": [
    {
     "name": "stdout",
     "output_type": "stream",
     "text": [
      "[]\n"
     ]
    }
   ],
   "source": [
    "docs_dir = '/home/charl/Onedrive/Documents_Charl/Computer_Technical/Programming_GitHub/AustralianSchoolMaths/content/docs'\n",
    "current_path ='/home/charl/Onedrive/Documents_Charl/Computer_Technical/Programming_GitHub/AustralianSchoolMaths/content/docs/NSW/Formulas/SomeOther/Stuff/etc'\n",
    "\n",
    "x = re.findall('/home/charl/Onedrive/Documents_Charl/Computer_Technical/Programming_GitHub/AustralianSchoolMaths/content/docs/.*etc' , current_path)\n",
    "\n",
    "y = re.findall(docs_dir + '.*/Formulas/.*', current_path)\n",
    "print(y)\n",
    "\n",
    "if y:\n",
    "    print('found')\n",
    "    \n"
   ]
  },
  {
   "cell_type": "code",
   "execution_count": 13,
   "id": "de1016fd-f3e7-4863-bb15-95681b884bdd",
   "metadata": {},
   "outputs": [
    {
     "data": {
      "text/plain": [
       "'YEAR 12 EXT 1'"
      ]
     },
     "execution_count": 13,
     "metadata": {},
     "output_type": "execute_result"
    }
   ],
   "source": [
    "\"Year 12 Ext 1\".upper()"
   ]
  }
 ],
 "metadata": {
  "kernelspec": {
   "display_name": "Python 3 (ipykernel)",
   "language": "python",
   "name": "python3"
  },
  "language_info": {
   "codemirror_mode": {
    "name": "ipython",
    "version": 3
   },
   "file_extension": ".py",
   "mimetype": "text/x-python",
   "name": "python",
   "nbconvert_exporter": "python",
   "pygments_lexer": "ipython3",
   "version": "3.11.3"
  }
 },
 "nbformat": 4,
 "nbformat_minor": 5
}
