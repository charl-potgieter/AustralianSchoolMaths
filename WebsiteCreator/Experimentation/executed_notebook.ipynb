{
 "cells": [
  {
   "cell_type": "code",
   "execution_count": 1,
   "id": "6ce43638-5767-4e86-8b09-eb2a3345dcdb",
   "metadata": {
    "execution": {
     "iopub.execute_input": "2023-06-04T05:45:36.965413Z",
     "iopub.status.busy": "2023-06-04T05:45:36.964511Z",
     "iopub.status.idle": "2023-06-04T05:45:36.982899Z",
     "shell.execute_reply": "2023-06-04T05:45:36.982385Z"
    },
    "tags": []
   },
   "outputs": [
    {
     "name": "stdout",
     "output_type": "stream",
     "text": [
      "-----  -----------------------------------  -------------\n",
      "Sun    <IPython.core.display.Latex object>     1.9891e+09\n",
      "Earth  6371                                 5973.6\n",
      "Moon   1737                                   73.5\n",
      "Mars   3390                                  641.85\n",
      "-----  -----------------------------------  -------------\n"
     ]
    }
   ],
   "source": [
    "from tabulate import tabulate\n",
    "from IPython.display import Latex\n",
    "\n",
    "table = [[\"Sun\",Latex('$a^m \\div a^n = \\dfrac{a^m}{a^n} = a^{m-n}$'),1989100000],[\"Earth\",6371,5973.6],[\"Moon\",1737,73.5],[\"Mars\",3390,641.85]]\n",
    "print(tabulate(table))\n",
    "\n",
    "# clear_output()"
   ]
  },
  {
   "cell_type": "code",
   "execution_count": 2,
   "id": "39d29d0f-ae40-4eca-bc7e-ec238bf8139b",
   "metadata": {
    "execution": {
     "iopub.execute_input": "2023-06-04T05:45:36.986967Z",
     "iopub.status.busy": "2023-06-04T05:45:36.985700Z",
     "iopub.status.idle": "2023-06-04T05:45:37.190680Z",
     "shell.execute_reply": "2023-06-04T05:45:37.190113Z"
    }
   },
   "outputs": [],
   "source": [
    "import nbformat"
   ]
  },
  {
   "cell_type": "code",
   "execution_count": 3,
   "id": "92529d52-3502-4713-a3cd-fc85cdd42625",
   "metadata": {
    "execution": {
     "iopub.execute_input": "2023-06-04T05:45:37.194486Z",
     "iopub.status.busy": "2023-06-04T05:45:37.193497Z",
     "iopub.status.idle": "2023-06-04T05:45:37.199278Z",
     "shell.execute_reply": "2023-06-04T05:45:37.198781Z"
    }
   },
   "outputs": [],
   "source": [
    "from IPython.display import clear_output\n",
    "clear_output()"
   ]
  }
 ],
 "metadata": {
  "kernelspec": {
   "display_name": "Python 3 (ipykernel)",
   "language": "python",
   "name": "python3"
  },
  "language_info": {
   "codemirror_mode": {
    "name": "ipython",
    "version": 3
   },
   "file_extension": ".py",
   "mimetype": "text/x-python",
   "name": "python",
   "nbconvert_exporter": "python",
   "pygments_lexer": "ipython3",
   "version": "3.11.3"
  }
 },
 "nbformat": 4,
 "nbformat_minor": 5
}
