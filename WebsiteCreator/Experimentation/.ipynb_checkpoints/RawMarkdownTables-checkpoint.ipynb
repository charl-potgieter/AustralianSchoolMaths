{
 "cells": [
  {
   "cell_type": "markdown",
   "id": "8714d85a-0b10-476b-8cd9-4fb81afec761",
   "metadata": {},
   "source": [
    "| Disk 0 | Disk 1 | Disk 2 | Disk 3 |\n",
    "|:------:|:------:|:------:|:-------:|\n",
    "|   $\\dfrac{1}{2} $   |   A2   |   A3   | Ap(1-3) |\n",
    "|   A4   |   A5   |   $ {\\Large\\int_{a}^{b}} f(x) dx \\approx \\dfrac{b-a} {2n} {\\Large\\{} f(a) + f(b) + 2 {\\Large[} f(x_1)+...+f(x_{n-1}){\\Large ]} {\\Large\\}}\\)\n",
    "\\( \\text { where } a=x_0 \\text{ and } b=x_n $   | Ap(4-6) |\n",
    "|   B1   |   B2   |   B3   | Bp(1-3) |\n",
    "|   B4   |   B5   |   B6   | Bp(4-6) |"
   ]
  },
  {
   "cell_type": "markdown",
   "id": "fb348d36-0548-4938-b32c-28006c17350b",
   "metadata": {},
   "source": [
    "| Disk 0 | Disk 1 | Disk 2 | Disk 3 |\n",
    "|:------:|:------:|:------:|:-------:|\n",
    "|   $ \\dfrac{1}{2} $   |   A2   |   A3   | Ap(1-3) |\n",
    "|   A4   |   A5   |   $ {\\Large\\int_{a}^{b}} f(x) dx \\approx \\dfrac{b-a} {2n} {\\Large\\{} f(a) + f(b) + 2 {\\Large[} f(x_1)+...+f(x_{n-1}){\\Large ]} {\\Large\\}}$\n",
    "\\( \\text { where } a=x_0 \\text{ and } b=x_n \\)   | Ap(4-6) |\n",
    "|   B1   |   B2   |   B3   | Bp(1-3) |\n",
    "|   B4   |   B5   |   B6   | \\( 2 \\times 3 = 6 \\)) |"
   ]
  }
 ],
 "metadata": {
  "kernelspec": {
   "display_name": "Python 3 (ipykernel)",
   "language": "python",
   "name": "python3"
  },
  "language_info": {
   "codemirror_mode": {
    "name": "ipython",
    "version": 3
   },
   "file_extension": ".py",
   "mimetype": "text/x-python",
   "name": "python",
   "nbconvert_exporter": "python",
   "pygments_lexer": "ipython3",
   "version": "3.11.3"
  }
 },
 "nbformat": 4,
 "nbformat_minor": 5
}
