{
 "cells": [
  {
   "cell_type": "code",
   "execution_count": null,
   "id": "318fe64f",
   "metadata": {},
   "outputs": [],
   "source": [
    "# https://mljar.com/blog/jupyter-notebook-widgets/\n",
    "import pandas as pd\n",
    "import numpy as np\n",
    "from ipywidgets import widgets"
   ]
  },
  {
   "cell_type": "code",
   "execution_count": null,
   "id": "112c5a92",
   "metadata": {},
   "outputs": [],
   "source": [
    "df_london = pd.read_csv(r'D:\\Onedrive\\Documents_Charl\\Computer_Technical\\Programming_Development\\Python\\IPythonNotebooks\\Maths\\Year_11\\international-visitors-london-raw.csv')"
   ]
  },
  {
   "cell_type": "code",
   "execution_count": null,
   "id": "615b5573",
   "metadata": {},
   "outputs": [],
   "source": [
    "ALL = \"ALL\"\n",
    "\n",
    "\n",
    "def unique_sorted_values_plus_ALL(array):\n",
    "    unique = array.unique().tolist()\n",
    "    unique.sort()\n",
    "    unique.insert(0, ALL)\n",
    "    return unique"
   ]
  },
  {
   "cell_type": "code",
   "execution_count": null,
   "id": "df76af15",
   "metadata": {},
   "outputs": [],
   "source": [
    "dropdown_year = widgets.Dropdown(options=unique_sorted_values_plus_ALL(df_london.year))\n",
    "dropdown_purpose = widgets.Dropdown(\n",
    "    options=unique_sorted_values_plus_ALL(df_london.purpose)\n",
    ")\n",
    "bounded_num = widgets.BoundedFloatText(min=0, max=100000, value=5, step=1)"
   ]
  },
  {
   "cell_type": "code",
   "execution_count": null,
   "id": "9da0d396",
   "metadata": {},
   "outputs": [],
   "source": [
    "output = widgets.Output()"
   ]
  },
  {
   "cell_type": "code",
   "execution_count": null,
   "id": "abaacb4d",
   "metadata": {},
   "outputs": [],
   "source": [
    "def colour_ge_value(value, comparison):\n",
    "    if value >= comparison:\n",
    "        return \"color: red\"\n",
    "    else:\n",
    "        return \"color: black\""
   ]
  },
  {
   "cell_type": "code",
   "execution_count": null,
   "id": "9c9a5cca",
   "metadata": {},
   "outputs": [],
   "source": [
    "def common_filtering(year, purpose, num):\n",
    "\n",
    "    output.clear_output()\n",
    "\n",
    "    if (year == ALL) & (purpose == ALL):\n",
    "        common_filter = df_london\n",
    "    elif year == ALL:\n",
    "        common_filter = df_london[df_london.purpose == purpose]\n",
    "    elif purpose == ALL:\n",
    "        common_filter = df_london[df_london.year == year]\n",
    "    else:\n",
    "        common_filter = df_london[\n",
    "            (df_london.year == year) & (df_london.purpose == purpose)\n",
    "        ]\n",
    "\n",
    "    with output:\n",
    "        print(\"some text here\") #, common_filter.shape)\n",
    "        display(\n",
    "            common_filter.head(20).style.applymap(\n",
    "                lambda x: colour_ge_value(x, num), subset=[\"visits\", \"spend\", \"nights\"]\n",
    "            )\n",
    "        )"
   ]
  },
  {
   "cell_type": "code",
   "execution_count": null,
   "id": "ebb978b6",
   "metadata": {},
   "outputs": [],
   "source": [
    "def dropdown_year_eventhandler(change):\n",
    "    common_filtering(change.new, dropdown_purpose.value, bounded_num.value)\n",
    "\n",
    "       \n",
    "def dropdown_purpose_eventhandler(change):\n",
    "    common_filtering(dropdown_year.value, change.new, bounded_num.value)\n",
    "\n",
    "\n",
    "def bounded_num_eventhandler(change):\n",
    "    common_filtering(dropdown_year.value, dropdown_purpose.value, change.new)"
   ]
  },
  {
   "cell_type": "code",
   "execution_count": null,
   "id": "784029e4",
   "metadata": {},
   "outputs": [],
   "source": [
    "dropdown_year.observe(dropdown_year_eventhandler, names=\"value\")\n",
    "dropdown_purpose.observe(dropdown_purpose_eventhandler, names=\"value\")\n",
    "bounded_num.observe(bounded_num_eventhandler, names=\"value\")"
   ]
  },
  {
   "cell_type": "code",
   "execution_count": null,
   "id": "d04fa184",
   "metadata": {},
   "outputs": [
    {
     "data": {
      "application/vnd.jupyter.widget-view+json": {
       "model_id": "",
       "version_major": 2,
       "version_minor": 0
      },
      "text/plain": [
       "Dropdown(options=('ALL', '2002', '2003', '2004', '2005', '2006', '2007', '2008', '2009', '2010', '2011', '2012…"
      ]
     },
     "metadata": {},
     "output_type": "display_data"
    },
    {
     "data": {
      "application/vnd.jupyter.widget-view+json": {
       "model_id": "",
       "version_major": 2,
       "version_minor": 0
      },
      "text/plain": [
       "Dropdown(options=('ALL', 'Business', 'Holiday', 'Miscellaneous', 'Study', 'VFR'), value='ALL')"
      ]
     },
     "metadata": {},
     "output_type": "display_data"
    },
    {
     "data": {
      "application/vnd.jupyter.widget-view+json": {
       "model_id": "",
       "version_major": 2,
       "version_minor": 0
      },
      "text/plain": [
       "BoundedFloatText(value=5.0, max=100000.0, step=1.0)"
      ]
     },
     "metadata": {},
     "output_type": "display_data"
    }
   ],
   "source": [
    "Mdisplay(dropdown_year)\n",
    "display(dropdown_purpose)\n",
    "display(bounded_num)"
   ]
  },
  {
   "cell_type": "code",
   "execution_count": null,
   "id": "6075df5a",
   "metadata": {},
   "outputs": [
    {
     "data": {
      "application/vnd.jupyter.widget-view+json": {
       "model_id": "",
       "version_major": 2,
       "version_minor": 0
      },
      "text/plain": [
       "Output()"
      ]
     },
     "metadata": {},
     "output_type": "display_data"
    }
   ],
   "source": [
    "display(output)"
   ]
  }
 ],
 "metadata": {
  "kernelspec": {
   "display_name": "Python 3 (ipykernel)",
   "language": "python",
   "name": "python3"
  },
  "language_info": {
   "codemirror_mode": {
    "name": "ipython",
    "version": 3
   },
   "file_extension": ".py",
   "mimetype": "text/x-python",
   "name": "python",
   "nbconvert_exporter": "python",
   "pygments_lexer": "ipython3",
   "version": "3.9.12"
  }
 },
 "nbformat": 4,
 "nbformat_minor": 5
}
