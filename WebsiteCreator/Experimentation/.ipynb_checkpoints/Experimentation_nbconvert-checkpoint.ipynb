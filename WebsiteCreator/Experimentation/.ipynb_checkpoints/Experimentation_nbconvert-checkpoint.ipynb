{
 "cells": [
  {
   "cell_type": "code",
   "execution_count": 3,
   "id": "e7be1ec3-4beb-456c-bddf-61c1dbe76d61",
   "metadata": {},
   "outputs": [
    {
     "name": "stdout",
     "output_type": "stream",
     "text": [
      "[NbConvertApp] Converting notebook /home/charl/Onedrive/Documents_Charl/Computer_Technical/Programming_GitHub/AustraliaSchoolMaths/Formulas.ipynb to html\n",
      "[NbConvertApp] Writing 619859 bytes to /home/charl/Onedrive/Documents_Charl/Computer_Technical/Programming_GitHub/AustraliaSchoolMaths/Experimentation/TestFormula_2.html\n"
     ]
    }
   ],
   "source": [
    "!jupyter nbconvert --to html --allow-chromium-download --no-input '/home/charl/Onedrive/Documents_Charl/Computer_Technical/Programming_GitHub/AustraliaSchoolMaths/Formulas.ipynb'  --output='/home/charl/Onedrive/Documents_Charl/Computer_Technical/Programming_GitHub/AustraliaSchoolMaths/Experimentation/TestFormula_2'"
   ]
  },
  {
   "cell_type": "code",
   "execution_count": 4,
   "id": "e5abf5f9-fec5-44bc-88f8-7922d4462e2b",
   "metadata": {},
   "outputs": [
    {
     "name": "stdout",
     "output_type": "stream",
     "text": [
      "[NbConvertApp] Converting notebook /home/charl/Onedrive/Documents_Charl/Computer_Technical/Programming_GitHub/AustraliaSchoolMaths/Formulas.ipynb to markdown\n",
      "[NbConvertApp] Writing 0 bytes to /home/charl/Onedrive/Documents_Charl/Computer_Technical/Programming_GitHub/AustraliaSchoolMaths/Experimentation/TestFormula_2.md\n"
     ]
    }
   ],
   "source": [
    "!jupyter nbconvert --to markdown --allow-chromium-download --no-input '/home/charl/Onedrive/Documents_Charl/Computer_Technical/Programming_GitHub/AustraliaSchoolMaths/Formulas.ipynb'  --output='/home/charl/Onedrive/Documents_Charl/Computer_Technical/Programming_GitHub/AustraliaSchoolMaths/Experimentation/TestFormula_2'"
   ]
  },
  {
   "cell_type": "code",
   "execution_count": 1,
   "id": "29e5df43-c06e-4866-9bae-24f38218195b",
   "metadata": {},
   "outputs": [
    {
     "name": "stdout",
     "output_type": "stream",
     "text": [
      "[NbConvertApp] Converting notebook /home/charl/Onedrive/Documents_Charl/Computer_Technical/Programming_GitHub/AustraliaSchoolMaths/Experimentation/Experimentation_Widgets_2.ipynb to html\n",
      "[NbConvertApp] Writing 607057 bytes to /home/charl/Onedrive/Documents_Charl/Computer_Technical/Programming_GitHub/AustraliaSchoolMaths/Experimentation/Experimentation_Widgets_2.html\n"
     ]
    }
   ],
   "source": [
    "!jupyter nbconvert --to html --allow-chromium-download --no-input '/home/charl/Onedrive/Documents_Charl/Computer_Technical/Programming_GitHub/AustraliaSchoolMaths/Experimentation/Experimentation_Widgets_2.ipynb'  --output='/home/charl/Onedrive/Documents_Charl/Computer_Technical/Programming_GitHub/AustraliaSchoolMaths/Experimentation/Experimentation_Widgets_2'"
   ]
  },
  {
   "cell_type": "code",
   "execution_count": 14,
   "id": "e7f127a5-a6f8-4d0e-9619-8c5f98e09a31",
   "metadata": {},
   "outputs": [
    {
     "name": "stdout",
     "output_type": "stream",
     "text": [
      "[NbConvertApp] Converting notebook /home/charl/Onedrive/Documents_Charl/Computer_Technical/Programming_GitHub/AustraliaSchoolMaths/Formulas.ipynb to markdown\n",
      "[NbConvertApp] Writing 14279 bytes to /home/charl/Onedrive/Documents_Charl/Temp/hugo/SiteThree/content/docs/example/Formulas/Indices.md\n"
     ]
    }
   ],
   "source": [
    "# Hugo site experimentation\n",
    "!jupyter nbconvert --to markdown --allow-chromium-download --no-input '/home/charl/Onedrive/Documents_Charl/Computer_Technical/Programming_GitHub/AustraliaSchoolMaths/Formulas.ipynb'  --output='/home/charl/Onedrive/Documents_Charl/Temp/hugo/SiteThree/content/docs/example/Formulas/Indices'"
   ]
  },
  {
   "cell_type": "code",
   "execution_count": 8,
   "id": "5a2b9b7e-b743-4ee6-ad0a-6e713dda9878",
   "metadata": {},
   "outputs": [
    {
     "name": "stderr",
     "output_type": "stream",
     "text": [
      "0.00s - Debugger warning: It seems that frozen modules are being used, which may\n",
      "0.00s - make the debugger miss breakpoints. Please pass -Xfrozen_modules=off\n",
      "0.00s - to python to disable frozen modules.\n",
      "0.00s - Note: Debugging will proceed. Set PYDEVD_DISABLE_FILE_VALIDATION=1 to disable this validation.\n"
     ]
    }
   ],
   "source": [
    "import nbformat, os\n",
    "from nbconvert.preprocessors import ExecutePreprocessor\n",
    "\n",
    "notebook_filename = 'Experimentation_3.ipynb'\n",
    "\n",
    "with open(notebook_filename) as f:\n",
    "    nb = nbformat.read(f, as_version=4)\n",
    "\n",
    "ep = ExecutePreprocessor(timeout=600)\n",
    "ep.preprocess(nb, {'metadata': {'path': os.getcwd()}})\n",
    "\n",
    "with open('executed_notebook.ipynb', 'w', encoding='utf-8') as f:\n",
    "    nbformat.write(nb, f)"
   ]
  },
  {
   "cell_type": "code",
   "execution_count": 24,
   "id": "b5029256-8088-4f65-a61a-a0dc4d70e1fc",
   "metadata": {},
   "outputs": [
    {
     "name": "stderr",
     "output_type": "stream",
     "text": [
      "usage: jupyter [-h] [--version] [--config-dir] [--data-dir] [--runtime-dir]\n",
      "               [--paths] [--json] [--debug]\n",
      "               [subcommand]\n",
      "\n",
      "Jupyter: Interactive Computing\n",
      "\n",
      "positional arguments:\n",
      "  subcommand     the subcommand to launch\n",
      "\n",
      "options:\n",
      "  -h, --help     show this help message and exit\n",
      "  --version      show the versions of core jupyter packages and exit\n",
      "  --config-dir   show Jupyter config dir\n",
      "  --data-dir     show Jupyter data dir\n",
      "  --runtime-dir  show Jupyter runtime dir\n",
      "  --paths        show all Jupyter paths. Add --json for machine-readable\n",
      "                 format.\n",
      "  --json         output paths as machine-readable json\n",
      "  --debug        output debug information about paths\n",
      "\n",
      "Available subcommands: dejavu events execute fileid kernel kernelspec lab\n",
      "labextension labhub migrate nbconvert run server troubleshoot trust\n",
      "\n",
      "Please specify a subcommand or one of the optional arguments.\n"
     ]
    },
    {
     "data": {
      "text/plain": [
       "CompletedProcess(args=['jupyter', 'nbconvert', '--to', 'html', 'C:\\\\path\\\\notebook.ipynb'], returncode=1)"
      ]
     },
     "execution_count": 24,
     "metadata": {},
     "output_type": "execute_result"
    }
   ],
   "source": [
    "import subprocess\n",
    "infile = '/home/charl/Onedrive/Documents_Charl/Computer_Technical/Programming_GitHub/AustraliaSchoolMaths/Experimentation_3.ipynb'  \n",
    "outfile='/home/charl/Onedrive/Documents_Charl/Temp/hugo/SiteThree/content/docs/example/Formulas/Indices'\n",
    "\n",
    "subprocess.run(['jupyter', 'nbconvert', '--to','html', r'C:\\path\\notebook.ipynb'], shell=True)\n",
    "\n",
    "# subprocess.run(['jupyter-nbconvert', '--to', 'markdown', '--allow-chromium-download', '--no-input', infile,  '--output=' + outfile], shell=True)"
   ]
  },
  {
   "cell_type": "code",
   "execution_count": 27,
   "id": "34d83143-32a0-4f00-b101-0dcc14e49300",
   "metadata": {},
   "outputs": [
    {
     "name": "stderr",
     "output_type": "stream",
     "text": [
      "0.00s - Debugger warning: It seems that frozen modules are being used, which may\n",
      "0.00s - make the debugger miss breakpoints. Please pass -Xfrozen_modules=off\n",
      "0.00s - to python to disable frozen modules.\n",
      "0.00s - Note: Debugging will proceed. Set PYDEVD_DISABLE_FILE_VALIDATION=1 to disable this validation.\n"
     ]
    }
   ],
   "source": [
    "# https://stackoverflow.com/questions/65502005/convert-a-jupyter-notebook-to-html-output-in-native-python\n",
    "\n",
    "import nbformat\n",
    "from nbconvert.preprocessors import ExecutePreprocessor\n",
    "from nbconvert import HTMLExporter\n",
    "\n",
    "infile = '/home/charl/Onedrive/Documents_Charl/Computer_Technical/Programming_GitHub/AustraliaSchoolMaths/Experimentation/Experimentation_3.ipynb'  \n",
    "outfile='/home/charl/Onedrive/Documents_Charl/Computer_Technical/Programming_GitHub/AustraliaSchoolMaths/Experimentation/Experimentation_3.html'\n",
    "\n",
    "# read source notebook\n",
    "with open(infile) as f:\n",
    "    nb = nbformat.read(f, as_version=4)\n",
    "\n",
    "# execute notebook\n",
    "ep = ExecutePreprocessor(timeout=-1, kernel_name='python3')\n",
    "ep.preprocess(nb)\n",
    "\n",
    "# export to html\n",
    "html_exporter = HTMLExporter()\n",
    "html_exporter.exclude_input = True\n",
    "html_data, resources = html_exporter.from_notebook_node(nb)\n",
    "\n",
    "# write to output file\n",
    "with open(outfile, \"w\") as f:\n",
    "    f.write(html_data)"
   ]
  }
 ],
 "metadata": {
  "kernelspec": {
   "display_name": "Python 3 (ipykernel)",
   "language": "python",
   "name": "python3"
  },
  "language_info": {
   "codemirror_mode": {
    "name": "ipython",
    "version": 3
   },
   "file_extension": ".py",
   "mimetype": "text/x-python",
   "name": "python",
   "nbconvert_exporter": "python",
   "pygments_lexer": "ipython3",
   "version": "3.11.3"
  }
 },
 "nbformat": 4,
 "nbformat_minor": 5
}
