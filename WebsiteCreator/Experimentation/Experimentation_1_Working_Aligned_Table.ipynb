{
 "cells": [
  {
   "cell_type": "code",
   "execution_count": 13,
   "id": "81050fd0-2d25-4f94-9db4-9af6326a4a7e",
   "metadata": {
    "tags": []
   },
   "outputs": [
    {
     "data": {
      "text/html": [
       "<style type=\"text/css\">\n",
       "#T_21f83_row0_col3, #T_21f83_row1_col3 {\n",
       "  width: 200px;\n",
       "  text-align: left;\n",
       "}\n",
       "</style>\n",
       "<table id=\"T_21f83\">\n",
       "  <thead>\n",
       "    <tr>\n",
       "      <th class=\"blank level0\" >&nbsp;</th>\n",
       "      <th id=\"T_21f83_level0_col0\" class=\"col_heading level0 col0\" >Category</th>\n",
       "      <th id=\"T_21f83_level0_col1\" class=\"col_heading level0 col1\" > Sub-category</th>\n",
       "      <th id=\"T_21f83_level0_col2\" class=\"col_heading level0 col2\" >Description</th>\n",
       "      <th id=\"T_21f83_level0_col3\" class=\"col_heading level0 col3\" >formula</th>\n",
       "      <th id=\"T_21f83_level0_col4\" class=\"col_heading level0 col4\" > On formula sheet</th>\n",
       "      <th id=\"T_21f83_level0_col5\" class=\"col_heading level0 col5\" > Comment</th>\n",
       "    </tr>\n",
       "  </thead>\n",
       "  <tbody>\n",
       "    <tr>\n",
       "      <th id=\"T_21f83_level0_row0\" class=\"row_heading level0 row0\" >0</th>\n",
       "      <td id=\"T_21f83_row0_col0\" class=\"data row0 col0\" >Indices</td>\n",
       "      <td id=\"T_21f83_row0_col1\" class=\"data row0 col1\" >nan</td>\n",
       "      <td id=\"T_21f83_row0_col2\" class=\"data row0 col2\" >Index Rules: Multiplying terms with same base</td>\n",
       "      <td id=\"T_21f83_row0_col3\" class=\"data row0 col3\" > $a^m \\times a^n = a^{m+n}$</td>\n",
       "      <td id=\"T_21f83_row0_col4\" class=\"data row0 col4\" > False</td>\n",
       "      <td id=\"T_21f83_row0_col5\" class=\"data row0 col5\" >nan</td>\n",
       "    </tr>\n",
       "    <tr>\n",
       "      <th id=\"T_21f83_level0_row1\" class=\"row_heading level0 row1\" >1</th>\n",
       "      <td id=\"T_21f83_row1_col0\" class=\"data row1 col0\" >Indices</td>\n",
       "      <td id=\"T_21f83_row1_col1\" class=\"data row1 col1\" >nan</td>\n",
       "      <td id=\"T_21f83_row1_col2\" class=\"data row1 col2\" >Index Rules:Dividing terms with same base</td>\n",
       "      <td id=\"T_21f83_row1_col3\" class=\"data row1 col3\" > $a^m \\div a^n = \\dfrac{a^m}{a^n} = a^{m-n}$</td>\n",
       "      <td id=\"T_21f83_row1_col4\" class=\"data row1 col4\" > False</td>\n",
       "      <td id=\"T_21f83_row1_col5\" class=\"data row1 col5\" >nan</td>\n",
       "    </tr>\n",
       "  </tbody>\n",
       "</table>\n"
      ],
      "text/plain": [
       "<pandas.io.formats.style.Styler at 0x7ff605755d50>"
      ]
     },
     "metadata": {},
     "output_type": "display_data"
    }
   ],
   "source": [
    "#Below aligns the text in formula column only + sets width\n",
    "\n",
    "import pandas as pd\n",
    "from IPython.display import Latex\n",
    "from sympy import latex\n",
    "\n",
    "pd.options.display.max_colwidth=500\n",
    "\n",
    "# Latex string in csv needs to be enclosed a single $ to enable left align\n",
    "df=  pd.read_csv(filepath_or_buffer='formulas.csv')\n",
    "\n",
    "mytable = df.style.set_properties(subset=['formula'], **{'width': '200px', 'text-align': 'left'})\n",
    "\n",
    "display(mytable)"
   ]
  },
  {
   "cell_type": "code",
   "execution_count": 35,
   "id": "41ddc114-73d2-4a23-9b0f-baa2c73d1e55",
   "metadata": {
    "tags": []
   },
   "outputs": [
    {
     "data": {
      "text/html": [
       "<style type=\"text/css\">\n",
       "#T_067af th.col_heading {\n",
       "  text-align: center;\n",
       "}\n",
       "#T_067af_row0_col3, #T_067af_row1_col3 {\n",
       "  width: 200px;\n",
       "  text-align: left;\n",
       "}\n",
       "</style>\n",
       "<table id=\"T_067af\">\n",
       "  <thead>\n",
       "    <tr>\n",
       "      <th class=\"blank level0\" >&nbsp;</th>\n",
       "      <th id=\"T_067af_level0_col0\" class=\"col_heading level0 col0\" >Category</th>\n",
       "      <th id=\"T_067af_level0_col1\" class=\"col_heading level0 col1\" > Sub-category</th>\n",
       "      <th id=\"T_067af_level0_col2\" class=\"col_heading level0 col2\" >Description</th>\n",
       "      <th id=\"T_067af_level0_col3\" class=\"col_heading level0 col3\" >formula</th>\n",
       "      <th id=\"T_067af_level0_col4\" class=\"col_heading level0 col4\" > On formula sheet</th>\n",
       "      <th id=\"T_067af_level0_col5\" class=\"col_heading level0 col5\" > Comment</th>\n",
       "    </tr>\n",
       "  </thead>\n",
       "  <tbody>\n",
       "    <tr>\n",
       "      <th id=\"T_067af_level0_row0\" class=\"row_heading level0 row0\" >0</th>\n",
       "      <td id=\"T_067af_row0_col0\" class=\"data row0 col0\" >Indices</td>\n",
       "      <td id=\"T_067af_row0_col1\" class=\"data row0 col1\" >nan</td>\n",
       "      <td id=\"T_067af_row0_col2\" class=\"data row0 col2\" >Index Rules: Multiplying terms with same base</td>\n",
       "      <td id=\"T_067af_row0_col3\" class=\"data row0 col3\" > $a^m \\times a^n = a^{m+n}$</td>\n",
       "      <td id=\"T_067af_row0_col4\" class=\"data row0 col4\" > False</td>\n",
       "      <td id=\"T_067af_row0_col5\" class=\"data row0 col5\" >nan</td>\n",
       "    </tr>\n",
       "    <tr>\n",
       "      <th id=\"T_067af_level0_row1\" class=\"row_heading level0 row1\" >1</th>\n",
       "      <td id=\"T_067af_row1_col0\" class=\"data row1 col0\" >Indices</td>\n",
       "      <td id=\"T_067af_row1_col1\" class=\"data row1 col1\" >nan</td>\n",
       "      <td id=\"T_067af_row1_col2\" class=\"data row1 col2\" >Index Rules:Dividing terms with same base</td>\n",
       "      <td id=\"T_067af_row1_col3\" class=\"data row1 col3\" > $a^m \\div a^n = \\dfrac{a^m}{a^n} = a^{m-n}$</td>\n",
       "      <td id=\"T_067af_row1_col4\" class=\"data row1 col4\" > False</td>\n",
       "      <td id=\"T_067af_row1_col5\" class=\"data row1 col5\" >nan</td>\n",
       "    </tr>\n",
       "  </tbody>\n",
       "</table>\n"
      ],
      "text/plain": [
       "<pandas.io.formats.style.Styler at 0x7ff605789590>"
      ]
     },
     "metadata": {},
     "output_type": "display_data"
    }
   ],
   "source": [
    "#Below aligns the text in formula column only + sets width\n",
    "\n",
    "import pandas as pd\n",
    "from IPython.display import Latex\n",
    "from sympy import latex\n",
    "\n",
    "pd.options.display.max_colwidth=500\n",
    "\n",
    "# Latex string in csv needs to be enclosed a single $ to enable left align\n",
    "df=  pd.read_csv(filepath_or_buffer='formulas.csv')\n",
    "\n",
    "mytable = df.style.set_properties(subset=['formula'], **{'width': '200px', 'text-align': 'left'}).set_table_styles ([{'selector': 'th.col_heading', \n",
    "                         'props': 'text-align: center'}])\n",
    "\n",
    "display(mytable)"
   ]
  },
  {
   "cell_type": "code",
   "execution_count": 34,
   "id": "d4f36f46-e173-447e-92d2-31e25186bd40",
   "metadata": {
    "tags": []
   },
   "outputs": [
    {
     "data": {
      "text/html": [
       "<style type=\"text/css\">\n",
       "#T_9b875 th.col_heading {\n",
       "  text-align: center;\n",
       "}\n",
       "#T_9b875_row0_col2, #T_9b875_row1_col2 {\n",
       "  text-align: left;\n",
       "}\n",
       "#T_9b875_row0_col3, #T_9b875_row1_col3 {\n",
       "  width: 200px;\n",
       "  text-align: left;\n",
       "}\n",
       "</style>\n",
       "<table id=\"T_9b875\">\n",
       "  <thead>\n",
       "    <tr>\n",
       "      <th class=\"blank level0\" >&nbsp;</th>\n",
       "      <th id=\"T_9b875_level0_col0\" class=\"col_heading level0 col0\" >Category</th>\n",
       "      <th id=\"T_9b875_level0_col1\" class=\"col_heading level0 col1\" > Sub-category</th>\n",
       "      <th id=\"T_9b875_level0_col2\" class=\"col_heading level0 col2\" >Description</th>\n",
       "      <th id=\"T_9b875_level0_col3\" class=\"col_heading level0 col3\" >formula</th>\n",
       "      <th id=\"T_9b875_level0_col4\" class=\"col_heading level0 col4\" > On formula sheet</th>\n",
       "      <th id=\"T_9b875_level0_col5\" class=\"col_heading level0 col5\" > Comment</th>\n",
       "    </tr>\n",
       "  </thead>\n",
       "  <tbody>\n",
       "    <tr>\n",
       "      <th id=\"T_9b875_level0_row0\" class=\"row_heading level0 row0\" >0</th>\n",
       "      <td id=\"T_9b875_row0_col0\" class=\"data row0 col0\" >Indices</td>\n",
       "      <td id=\"T_9b875_row0_col1\" class=\"data row0 col1\" >nan</td>\n",
       "      <td id=\"T_9b875_row0_col2\" class=\"data row0 col2\" >Index Rules: Multiplying terms with same base</td>\n",
       "      <td id=\"T_9b875_row0_col3\" class=\"data row0 col3\" > $a^m \\times a^n = a^{m+n}$</td>\n",
       "      <td id=\"T_9b875_row0_col4\" class=\"data row0 col4\" > False</td>\n",
       "      <td id=\"T_9b875_row0_col5\" class=\"data row0 col5\" >nan</td>\n",
       "    </tr>\n",
       "    <tr>\n",
       "      <th id=\"T_9b875_level0_row1\" class=\"row_heading level0 row1\" >1</th>\n",
       "      <td id=\"T_9b875_row1_col0\" class=\"data row1 col0\" >Indices</td>\n",
       "      <td id=\"T_9b875_row1_col1\" class=\"data row1 col1\" >nan</td>\n",
       "      <td id=\"T_9b875_row1_col2\" class=\"data row1 col2\" >Index Rules:Dividing terms with same base</td>\n",
       "      <td id=\"T_9b875_row1_col3\" class=\"data row1 col3\" > $a^m \\div a^n = \\dfrac{a^m}{a^n} = a^{m-n}$</td>\n",
       "      <td id=\"T_9b875_row1_col4\" class=\"data row1 col4\" > False</td>\n",
       "      <td id=\"T_9b875_row1_col5\" class=\"data row1 col5\" >nan</td>\n",
       "    </tr>\n",
       "  </tbody>\n",
       "</table>\n"
      ],
      "text/plain": [
       "<pandas.io.formats.style.Styler at 0x7ff604e31410>"
      ]
     },
     "metadata": {},
     "output_type": "display_data"
    }
   ],
   "source": [
    "#Below aligns the text in formula column and description column + sets width of formula column only + centers the headings\n",
    "\n",
    "import pandas as pd\n",
    "from IPython.display import Latex\n",
    "from sympy import latex\n",
    "\n",
    "pd.options.display.max_colwidth=500\n",
    "\n",
    "# Latex string in csv needs to be enclosed a single $ to enable left align\n",
    "df=  pd.read_csv(filepath_or_buffer='formulas.csv')\n",
    "\n",
    "mytable = df.style.set_properties(subset=['formula'], **{'width': '200px', 'text-align': 'left'}).set_table_styles ([{'selector': 'th.col_heading', \n",
    "                         'props': 'text-align: center'}])\n",
    "\n",
    "mytable.set_properties(subset=['Description'], **{'text-align': 'left'})\n",
    "\n",
    "display(mytable)"
   ]
  },
  {
   "cell_type": "code",
   "execution_count": 41,
   "id": "adb2214e-5dd1-4b19-89a2-0d9a8b8587ea",
   "metadata": {
    "tags": []
   },
   "outputs": [
    {
     "name": "stdout",
     "output_type": "stream",
     "text": [
      "<style type=\"text/css\">\n",
      "#T_89e2a thead {\n",
      "  text-align: center;\n",
      "}\n",
      "#T_89e2a_row0_col2, #T_89e2a_row1_col2 {\n",
      "  text-align: left;\n",
      "}\n",
      "#T_89e2a_row0_col3, #T_89e2a_row1_col3 {\n",
      "  width: 200px;\n",
      "  text-align: left;\n",
      "}\n",
      "</style>\n",
      "<table id=\"T_89e2a\">\n",
      "  <thead>\n",
      "    <tr>\n",
      "      <th class=\"blank level0\" >&nbsp;</th>\n",
      "      <th id=\"T_89e2a_level0_col0\" class=\"col_heading level0 col0\" >Category</th>\n",
      "      <th id=\"T_89e2a_level0_col1\" class=\"col_heading level0 col1\" > Sub-category</th>\n",
      "      <th id=\"T_89e2a_level0_col2\" class=\"col_heading level0 col2\" >Description</th>\n",
      "      <th id=\"T_89e2a_level0_col3\" class=\"col_heading level0 col3\" >formula</th>\n",
      "      <th id=\"T_89e2a_level0_col4\" class=\"col_heading level0 col4\" > On formula sheet</th>\n",
      "      <th id=\"T_89e2a_level0_col5\" class=\"col_heading level0 col5\" > Comment</th>\n",
      "    </tr>\n",
      "  </thead>\n",
      "  <tbody>\n",
      "    <tr>\n",
      "      <th id=\"T_89e2a_level0_row0\" class=\"row_heading level0 row0\" >0</th>\n",
      "      <td id=\"T_89e2a_row0_col0\" class=\"data row0 col0\" >Indices</td>\n",
      "      <td id=\"T_89e2a_row0_col1\" class=\"data row0 col1\" >nan</td>\n",
      "      <td id=\"T_89e2a_row0_col2\" class=\"data row0 col2\" >Index Rules: Multiplying terms with same base</td>\n",
      "      <td id=\"T_89e2a_row0_col3\" class=\"data row0 col3\" > $a^m \\times a^n = a^{m+n}$</td>\n",
      "      <td id=\"T_89e2a_row0_col4\" class=\"data row0 col4\" > False</td>\n",
      "      <td id=\"T_89e2a_row0_col5\" class=\"data row0 col5\" >nan</td>\n",
      "    </tr>\n",
      "    <tr>\n",
      "      <th id=\"T_89e2a_level0_row1\" class=\"row_heading level0 row1\" >1</th>\n",
      "      <td id=\"T_89e2a_row1_col0\" class=\"data row1 col0\" >Indices</td>\n",
      "      <td id=\"T_89e2a_row1_col1\" class=\"data row1 col1\" >nan</td>\n",
      "      <td id=\"T_89e2a_row1_col2\" class=\"data row1 col2\" >Index Rules:Dividing terms with same base</td>\n",
      "      <td id=\"T_89e2a_row1_col3\" class=\"data row1 col3\" > $a^m \\div a^n = \\dfrac{a^m}{a^n} = a^{m-n}$</td>\n",
      "      <td id=\"T_89e2a_row1_col4\" class=\"data row1 col4\" > False</td>\n",
      "      <td id=\"T_89e2a_row1_col5\" class=\"data row1 col5\" >nan</td>\n",
      "    </tr>\n",
      "  </tbody>\n",
      "</table>\n",
      "\n"
     ]
    }
   ],
   "source": [
    "print (mytable.to_html())"
   ]
  },
  {
   "cell_type": "code",
   "execution_count": 1,
   "id": "aef3f5ca-52d3-4bd2-b7e0-03c26a21e913",
   "metadata": {
    "tags": []
   },
   "outputs": [
    {
     "data": {
      "text/html": [
       "<style type=\"text/css\">\n",
       "#T_d17ee th.col_heading {\n",
       "  text-align: left;\n",
       "}\n",
       "#T_d17ee td {\n",
       "  text-align: left;\n",
       "}\n",
       "#T_d17ee_row0_col3, #T_d17ee_row1_col3 {\n",
       "  width: 200px;\n",
       "}\n",
       "</style>\n",
       "<table id=\"T_d17ee\">\n",
       "  <thead>\n",
       "    <tr>\n",
       "      <th class=\"blank level0\" >&nbsp;</th>\n",
       "      <th id=\"T_d17ee_level0_col0\" class=\"col_heading level0 col0\" >Category</th>\n",
       "      <th id=\"T_d17ee_level0_col1\" class=\"col_heading level0 col1\" > Sub-category</th>\n",
       "      <th id=\"T_d17ee_level0_col2\" class=\"col_heading level0 col2\" >Description</th>\n",
       "      <th id=\"T_d17ee_level0_col3\" class=\"col_heading level0 col3\" >formula</th>\n",
       "      <th id=\"T_d17ee_level0_col4\" class=\"col_heading level0 col4\" > On formula sheet</th>\n",
       "      <th id=\"T_d17ee_level0_col5\" class=\"col_heading level0 col5\" > Comment</th>\n",
       "    </tr>\n",
       "  </thead>\n",
       "  <tbody>\n",
       "    <tr>\n",
       "      <th id=\"T_d17ee_level0_row0\" class=\"row_heading level0 row0\" >0</th>\n",
       "      <td id=\"T_d17ee_row0_col0\" class=\"data row0 col0\" >Indices</td>\n",
       "      <td id=\"T_d17ee_row0_col1\" class=\"data row0 col1\" >Index Rules</td>\n",
       "      <td id=\"T_d17ee_row0_col2\" class=\"data row0 col2\" >Multiplying terms with same base</td>\n",
       "      <td id=\"T_d17ee_row0_col3\" class=\"data row0 col3\" > $a^m \\times a^n = a^{m+n}$</td>\n",
       "      <td id=\"T_d17ee_row0_col4\" class=\"data row0 col4\" > False</td>\n",
       "      <td id=\"T_d17ee_row0_col5\" class=\"data row0 col5\" >nan</td>\n",
       "    </tr>\n",
       "    <tr>\n",
       "      <th id=\"T_d17ee_level0_row1\" class=\"row_heading level0 row1\" >1</th>\n",
       "      <td id=\"T_d17ee_row1_col0\" class=\"data row1 col0\" >Indices</td>\n",
       "      <td id=\"T_d17ee_row1_col1\" class=\"data row1 col1\" >Index Rules</td>\n",
       "      <td id=\"T_d17ee_row1_col2\" class=\"data row1 col2\" >Dividing terms with same base</td>\n",
       "      <td id=\"T_d17ee_row1_col3\" class=\"data row1 col3\" > $a^m \\div a^n = \\dfrac{a^m}{a^n} = a^{m-n}$</td>\n",
       "      <td id=\"T_d17ee_row1_col4\" class=\"data row1 col4\" > False</td>\n",
       "      <td id=\"T_d17ee_row1_col5\" class=\"data row1 col5\" >nan</td>\n",
       "    </tr>\n",
       "  </tbody>\n",
       "</table>\n"
      ],
      "text/plain": [
       "<pandas.io.formats.style.Styler at 0x7fb63ba28cd0>"
      ]
     },
     "metadata": {},
     "output_type": "display_data"
    }
   ],
   "source": [
    "#Aligns headers and table left + sets width on formila column\n",
    "\n",
    "import pandas as pd\n",
    "\n",
    "pd.options.display.max_colwidth=500\n",
    "\n",
    "# Latex string in csv needs to be enclosed a single $ to enable left align\n",
    "df=  pd.read_csv(filepath_or_buffer='formulas.csv')\n",
    "\n",
    "mytable = df.style.set_properties(subset=['formula'], **{'width': '200px'}).set_table_styles ([\n",
    "    {'selector': 'th.col_heading', 'props': 'text-align: left'},\n",
    "    {'selector': 'td', 'props': 'text-align: left'}])\n",
    "\n",
    "# mytable.set_properties(subset=['Description'], **{'text-align': 'left'})\n",
    "\n",
    "display(mytable) "
   ]
  }
 ],
 "metadata": {
  "kernelspec": {
   "display_name": "Python 3 (ipykernel)",
   "language": "python",
   "name": "python3"
  },
  "language_info": {
   "codemirror_mode": {
    "name": "ipython",
    "version": 3
   },
   "file_extension": ".py",
   "mimetype": "text/x-python",
   "name": "python",
   "nbconvert_exporter": "python",
   "pygments_lexer": "ipython3",
   "version": "3.11.3"
  }
 },
 "nbformat": 4,
 "nbformat_minor": 5
}
