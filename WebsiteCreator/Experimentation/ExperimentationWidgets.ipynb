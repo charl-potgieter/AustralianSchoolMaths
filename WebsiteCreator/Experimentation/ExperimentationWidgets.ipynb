{
 "cells": [
  {
   "cell_type": "code",
   "execution_count": 16,
   "id": "ad9b8db4-9068-4983-b2ab-afd12404c69c",
   "metadata": {},
   "outputs": [],
   "source": [
    "import ipywidgets as widgets\n",
    "import pandas as pd"
   ]
  },
  {
   "cell_type": "code",
   "execution_count": 17,
   "id": "b60b69d2-dd6d-444b-b2f9-b6823e8ab472",
   "metadata": {},
   "outputs": [
    {
     "data": {
      "application/vnd.jupyter.widget-view+json": {
       "model_id": "f17af8fcb32243489dc614e0a8c2d24e",
       "version_major": 2,
       "version_minor": 0
      },
      "text/plain": [
       "IntSlider(value=20, min=20)"
      ]
     },
     "metadata": {},
     "output_type": "display_data"
    }
   ],
   "source": [
    "w = widgets.IntSlider(1,20)\n",
    "display(w)"
   ]
  },
  {
   "cell_type": "code",
   "execution_count": 18,
   "id": "ef7cd1e9-c2cf-4a74-8b83-e8a2cdafc19f",
   "metadata": {},
   "outputs": [
    {
     "data": {
      "application/vnd.jupyter.widget-view+json": {
       "model_id": "a042d3fc701841e28d8550773df7ad73",
       "version_major": 2,
       "version_minor": 0
      },
      "text/plain": [
       "Text(value='Hello World!')"
      ]
     },
     "execution_count": 18,
     "metadata": {},
     "output_type": "execute_result"
    }
   ],
   "source": [
    "widgets.Text(value='Hello World!', disabled=False)"
   ]
  },
  {
   "cell_type": "code",
   "execution_count": 19,
   "id": "bbdddabc-3c5c-4919-a133-f48647734fd9",
   "metadata": {},
   "outputs": [],
   "source": [
    "# Utils widgets\n",
    "from ipywidgets import Button, Layout, jslink, IntText, IntSlider\n",
    "\n",
    "def create_expanded_button(description, button_style):\n",
    "    return Button(description=description, button_style=button_style, layout=Layout(height='auto', width='auto'))\n",
    "\n",
    "top_left_button = create_expanded_button(\"Top left\", 'info')\n",
    "top_right_button = create_expanded_button(\"Top right\", 'success')\n",
    "bottom_left_button = create_expanded_button(\"Bottom left\", 'danger')\n",
    "bottom_right_button = create_expanded_button(\"Bottom right\", 'warning')\n",
    "\n",
    "top_left_text = IntText(description='Top left', layout=Layout(width='auto', height='auto'))\n",
    "top_right_text = IntText(description='Top right', layout=Layout(width='auto', height='auto'))\n",
    "bottom_left_slider = IntSlider(description='Bottom left', layout=Layout(width='auto', height='auto'))\n",
    "bottom_right_slider = IntSlider(description='Bottom right', layout=Layout(width='auto', height='auto'))"
   ]
  },
  {
   "cell_type": "code",
   "execution_count": 20,
   "id": "c1354a42-d7eb-4fb3-9d80-cd6e115f5554",
   "metadata": {},
   "outputs": [
    {
     "data": {
      "application/vnd.jupyter.widget-view+json": {
       "model_id": "e593b2f193404f51bb5cf799c4b2e8be",
       "version_major": 2,
       "version_minor": 0
      },
      "text/plain": [
       "TwoByTwoLayout(children=(Button(button_style='info', description='Top left', layout=Layout(grid_area='top-left…"
      ]
     },
     "execution_count": 20,
     "metadata": {},
     "output_type": "execute_result"
    }
   ],
   "source": [
    "from ipywidgets import TwoByTwoLayout\n",
    "\n",
    "TwoByTwoLayout(top_left=top_left_button,\n",
    "               top_right=top_right_button,\n",
    "               bottom_left=bottom_left_button,\n",
    "               bottom_right=bottom_right_button)\n",
    "\n"
   ]
  },
  {
   "cell_type": "code",
   "execution_count": 21,
   "id": "3bd9a024-962f-44e4-8bb8-ea5d27961c3c",
   "metadata": {},
   "outputs": [
    {
     "data": {
      "application/vnd.jupyter.widget-view+json": {
       "model_id": "685996abd7eb46b596010360282efbcb",
       "version_major": 2,
       "version_minor": 0
      },
      "text/plain": [
       "GridspecLayout(children=(Button(button_style='warning', description='Button 0 - 0', layout=Layout(grid_area='w…"
      ]
     },
     "execution_count": 21,
     "metadata": {},
     "output_type": "execute_result"
    }
   ],
   "source": [
    "# https://ipywidgets.readthedocs.io/en/latest/examples/Layout%20Templates.html\n",
    "\n",
    "from ipywidgets import GridspecLayout\n",
    "\n",
    "grid = GridspecLayout(4, 3)\n",
    "\n",
    "for i in range(4):\n",
    "    for j in range(3):\n",
    "        grid[i, j] = create_expanded_button('Button {} - {}'.format(i, j), 'warning')\n",
    "grid\n"
   ]
  },
  {
   "cell_type": "code",
   "execution_count": 22,
   "id": "3af56846-4562-4369-8314-680f2c8db182",
   "metadata": {},
   "outputs": [
    {
     "data": {
      "application/vnd.jupyter.widget-view+json": {
       "model_id": "420906da31be46b394c4bd3fe914d4ad",
       "version_major": 2,
       "version_minor": 0
      },
      "text/plain": [
       "GridspecLayout(children=(IntSlider(value=20, layout=Layout(grid_area='widget001'), min=20), IntSlider(value=20…"
      ]
     },
     "metadata": {},
     "output_type": "display_data"
    }
   ],
   "source": [
    "grid = widgets.GridspecLayout(4, 3)\n",
    "\n",
    "grid[0,0] = widgets.IntSlider(1,20)\n",
    "grid[0,1] = widgets.IntSlider(1,20)\n",
    "grid[0,2] = widgets.IntSlider(1,20)\n",
    "\n",
    "grid[1,0] = widgets.IntSlider(1,20)\n",
    "grid[1,1] = widgets.IntSlider(1,20)\n",
    "grid[1,2] = widgets.IntSlider(1,20)\n",
    "\n",
    "grid[2,0] = widgets.IntSlider(1,20)\n",
    "grid[2,1] = widgets.IntSlider(1,20)\n",
    "grid[2,2] = widgets.IntSlider(1,20)\n",
    "\n",
    "grid[3,0] = widgets.IntSlider(1,20)\n",
    "grid[3,1] = widgets.IntSlider(1,20)\n",
    "grid[3,2] = widgets.IntSlider(1,20)\n",
    "\n",
    "display(grid)"
   ]
  },
  {
   "cell_type": "code",
   "execution_count": 23,
   "id": "2532d2a9-e05e-40a6-94b5-46ed78a62d1e",
   "metadata": {},
   "outputs": [
    {
     "data": {
      "application/vnd.jupyter.widget-view+json": {
       "model_id": "9444a7180c58434a91f1899da2dcbfdc",
       "version_major": 2,
       "version_minor": 0
      },
      "text/plain": [
       "interactive(children=(Dropdown(description='x', options=('a', 'B', 'C'), value='a'), Output()), _dom_classes=(…"
      ]
     },
     "metadata": {},
     "output_type": "display_data"
    }
   ],
   "source": [
    "def f(x):\n",
    "    return x\n",
    "\n",
    "widgets.interact(f, x=[\"a\", \"B\", \"C\"]);"
   ]
  },
  {
   "cell_type": "code",
   "execution_count": 24,
   "id": "7ebc63be-5482-42d8-91a2-81e518da2bf7",
   "metadata": {},
   "outputs": [
    {
     "data": {
      "application/vnd.jupyter.widget-view+json": {
       "model_id": "0c97563e563f4a0499b6a4c6b95b3550",
       "version_major": 2,
       "version_minor": 0
      },
      "text/plain": [
       "interactive(children=(FloatSlider(value=0.0, description='x', max=10.0, step=0.05), FloatSlider(value=5.0, des…"
      ]
     },
     "metadata": {},
     "output_type": "display_data"
    }
   ],
   "source": [
    "x_widget = widgets.FloatSlider(min=0.0, max=10.0, step=0.05)\n",
    "y_widget = widgets.FloatSlider(min=0.5, max=10.0, step=0.05, value=5.0)\n",
    "\n",
    "def update_x_range(*args):\n",
    "    x_widget.max = 2.0 * y_widget.value\n",
    "y_widget.observe(update_x_range, 'value')\n",
    "\n",
    "def printer(x, y):\n",
    "    print(x + y)\n",
    "widgets.interact(printer,x=x_widget, y=y_widget);"
   ]
  },
  {
   "cell_type": "code",
   "execution_count": 25,
   "id": "d2cd445c-ce5d-432a-b869-118503c79493",
   "metadata": {},
   "outputs": [
    {
     "data": {
      "application/vnd.jupyter.widget-view+json": {
       "model_id": "af32476c7fae44a3aad56bde6db41fb1",
       "version_major": 2,
       "version_minor": 0
      },
      "text/plain": [
       "Dropdown(options=('straight line', 'parabola'), value='straight line')"
      ]
     },
     "metadata": {},
     "output_type": "display_data"
    }
   ],
   "source": [
    "dd = widgets.Dropdown(options=['straight line', 'parabola'])\n",
    "\n",
    "def f(change):\n",
    "    if change.value == 'straight line':\n",
    "        dd2 = widgets.Dropdown(options=['a', 'b'])\n",
    "        display(dd2)\n",
    "    else:\n",
    "        dd2 = widgets.Dropdown(options=['c', 'd'])\n",
    "        display(dd2)\n",
    "    \n",
    "\n",
    "dd.observe(f, names='value')\n",
    "\n",
    "display(dd)"
   ]
  },
  {
   "cell_type": "code",
   "execution_count": 26,
   "id": "8e2343e5-bc82-42bf-9c17-d84adae9681e",
   "metadata": {},
   "outputs": [
    {
     "data": {
      "application/vnd.jupyter.widget-view+json": {
       "model_id": "ada394d43f114392b1886317e72750d7",
       "version_major": 2,
       "version_minor": 0
      },
      "text/plain": [
       "interactive(children=(Select(description='country', options=('USA', 'Russia'), value='USA'), Output()), _dom_c…"
      ]
     },
     "metadata": {},
     "output_type": "display_data"
    },
    {
     "data": {
      "application/vnd.jupyter.widget-view+json": {
       "model_id": "9a08c91249f8481480219131897b11e9",
       "version_major": 2,
       "version_minor": 0
      },
      "text/plain": [
       "interactive(children=(Select(description='city', options=('CHI', 'NYC'), value='CHI'), Output()), _dom_classes…"
      ]
     },
     "metadata": {},
     "output_type": "display_data"
    }
   ],
   "source": [
    "geo={'USA':['CHI','NYC'],'Russia':['MOW','LED']}\n",
    "\n",
    "def print_city(city):\n",
    "    print (city)\n",
    "\n",
    "def select_city(country):\n",
    "    cityW.options = geo[country]\n",
    "\n",
    "\n",
    "scW = widgets.Select(options=geo.keys())\n",
    "init = scW.value\n",
    "cityW = widgets.Select(options=geo[init])\n",
    "j = widgets.interactive(print_city, city=cityW)\n",
    "i = widgets.interactive(select_city, country=scW)\n",
    "display(i)\n",
    "display(j)\n",
    "i.layout.visibility = 'visible'"
   ]
  },
  {
   "cell_type": "code",
   "execution_count": 27,
   "id": "71707de4-6e9b-46fe-afed-e00082802acd",
   "metadata": {},
   "outputs": [
    {
     "data": {
      "application/vnd.jupyter.widget-view+json": {
       "model_id": "acafd046d558409d8af686771bbe4524",
       "version_major": 2,
       "version_minor": 0
      },
      "text/plain": [
       "Text(value='')"
      ]
     },
     "execution_count": 27,
     "metadata": {},
     "output_type": "execute_result"
    }
   ],
   "source": [
    "widgets.Text(decription= 'help', width = 50)"
   ]
  },
  {
   "cell_type": "code",
   "execution_count": 28,
   "id": "03788068-5db7-41b1-97b3-4afc01a24706",
   "metadata": {},
   "outputs": [],
   "source": [
    "myInput = widgets.Text"
   ]
  },
  {
   "cell_type": "code",
   "execution_count": 29,
   "id": "88fb2577-eaf7-48af-801f-3d4bf1a9a02b",
   "metadata": {},
   "outputs": [],
   "source": [
    "w = widgets.Text"
   ]
  },
  {
   "cell_type": "code",
   "execution_count": 30,
   "id": "3fdbe7a4-5560-4404-9fb2-ccfc324f471d",
   "metadata": {},
   "outputs": [
    {
     "name": "stdout",
     "output_type": "stream",
     "text": [
      "$5^{5}$\n"
     ]
    },
    {
     "data": {
      "application/vnd.jupyter.widget-view+json": {
       "model_id": "0bcc25bba42d4f7387d953c917b5802f",
       "version_major": 2,
       "version_minor": 0
      },
      "text/plain": [
       "Text(value='Hello World', description='String:', placeholder='Type something')"
      ]
     },
     "metadata": {},
     "output_type": "display_data"
    }
   ],
   "source": [
    "w = widgets.Text(\n",
    "    value='Hello World',\n",
    "    placeholder='Type something',\n",
    "    description='String:',\n",
    "    disabled=False\n",
    ")\n",
    "print (\"$5^{5}$\")\n",
    "display (w)"
   ]
  },
  {
   "cell_type": "code",
   "execution_count": null,
   "id": "8f8c9466-958b-4e57-a491-dd49fff11981",
   "metadata": {},
   "outputs": [],
   "source": []
  }
 ],
 "metadata": {
  "kernelspec": {
   "display_name": "Python 3 (ipykernel)",
   "language": "python",
   "name": "python3"
  },
  "language_info": {
   "codemirror_mode": {
    "name": "ipython",
    "version": 3
   },
   "file_extension": ".py",
   "mimetype": "text/x-python",
   "name": "python",
   "nbconvert_exporter": "python",
   "pygments_lexer": "ipython3",
   "version": "3.11.3"
  }
 },
 "nbformat": 4,
 "nbformat_minor": 5
}
