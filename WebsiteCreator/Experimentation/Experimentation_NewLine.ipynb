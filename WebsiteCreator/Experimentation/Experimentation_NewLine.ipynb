{
 "cells": [
  {
   "cell_type": "code",
   "execution_count": 48,
   "id": "1b3ce91b-32f9-4943-83d4-b7336da08521",
   "metadata": {},
   "outputs": [
    {
     "data": {
      "text/html": [
       "<style type=\"text/css\">\n",
       "#T_223b9_row0_col0, #T_223b9_row0_col1, #T_223b9_row1_col0, #T_223b9_row1_col1 {\n",
       "  white-space: pre-wrap;\n",
       "}\n",
       "</style>\n",
       "<table id=\"T_223b9\">\n",
       "  <thead>\n",
       "    <tr>\n",
       "      <th class=\"blank level0\" >&nbsp;</th>\n",
       "      <th id=\"T_223b9_level0_col0\" class=\"col_heading level0 col0\" >a</th>\n",
       "      <th id=\"T_223b9_level0_col1\" class=\"col_heading level0 col1\" >b</th>\n",
       "    </tr>\n",
       "  </thead>\n",
       "  <tbody>\n",
       "    <tr>\n",
       "      <th id=\"T_223b9_level0_row0\" class=\"row_heading level0 row0\" >0</th>\n",
       "      <td id=\"T_223b9_row0_col0\" class=\"data row0 col0\" >100</td>\n",
       "      <td id=\"T_223b9_row0_col1\" class=\"data row0 col1\" >200</td>\n",
       "    </tr>\n",
       "    <tr>\n",
       "      <th id=\"T_223b9_level0_row1\" class=\"row_heading level0 row1\" >1</th>\n",
       "      <td id=\"T_223b9_row1_col0\" class=\"data row1 col0\" >$\\dfrac{1}{2}$\n",
       " $\\dfrac{1}{2}$</td>\n",
       "      <td id=\"T_223b9_row1_col1\" class=\"data row1 col1\" >aces \n",
       " high</td>\n",
       "    </tr>\n",
       "  </tbody>\n",
       "</table>\n"
      ],
      "text/plain": [
       "<pandas.io.formats.style.Styler at 0x7f0235e6cc90>"
      ]
     },
     "metadata": {},
     "output_type": "display_data"
    }
   ],
   "source": [
    "import pandas as pd\n",
    "from IPython.display import HTML\n",
    "\n",
    "mydict = [{'a':100, 'b':200}, {'a':'$\\dfrac{1}{2}$\\n $\\dfrac{1}{2}$', 'b':\"aces \\n high\"}]\n",
    "\n",
    "df = pd.DataFrame.from_dict(mydict)\n",
    "\n",
    "my_table = df.style\n",
    "\n",
    "my_table.set_properties(**{\n",
    "    'white-space': 'pre-wrap',\n",
    "})\n",
    "\n",
    "display(my_table)\n",
    "\n",
    "\n",
    "\n",
    "\n",
    "\n",
    "\n",
    "# display( HTML( df.to_html().replace(\"\\\\n\",\"<br>\") ) )"
   ]
  }
 ],
 "metadata": {
  "kernelspec": {
   "display_name": "Python 3 (ipykernel)",
   "language": "python",
   "name": "python3"
  },
  "language_info": {
   "codemirror_mode": {
    "name": "ipython",
    "version": 3
   },
   "file_extension": ".py",
   "mimetype": "text/x-python",
   "name": "python",
   "nbconvert_exporter": "python",
   "pygments_lexer": "ipython3",
   "version": "3.11.3"
  }
 },
 "nbformat": 4,
 "nbformat_minor": 5
}
