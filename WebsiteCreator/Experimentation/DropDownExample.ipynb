{
 "cells": [
  {
   "cell_type": "code",
   "execution_count": 17,
   "id": "318fe64f",
   "metadata": {},
   "outputs": [],
   "source": [
    "# https://mljar.com/blog/jupyter-notebook-widgets/\n",
    "import pandas as pd\n",
    "import numpy as np\n",
    "from ipywidgets import widgets"
   ]
  },
  {
   "cell_type": "code",
   "execution_count": 18,
   "id": "112c5a92",
   "metadata": {},
   "outputs": [],
   "source": [
    "df_london = pd.read_csv('international-visitors-london-raw.csv')"
   ]
  },
  {
   "cell_type": "code",
   "execution_count": 19,
   "id": "615b5573",
   "metadata": {},
   "outputs": [],
   "source": [
    "ALL = \"ALL\"\n",
    "\n",
    "\n",
    "def unique_sorted_values_plus_ALL(array):\n",
    "    unique = array.unique().tolist()\n",
    "    unique.sort()\n",
    "    unique.insert(0, ALL)\n",
    "    return unique"
   ]
  },
  {
   "cell_type": "code",
   "execution_count": 20,
   "id": "df76af15",
   "metadata": {},
   "outputs": [],
   "source": [
    "dropdown_year = widgets.Dropdown(options=unique_sorted_values_plus_ALL(df_london.year))\n",
    "dropdown_purpose = widgets.Dropdown(\n",
    "    options=unique_sorted_values_plus_ALL(df_london.purpose)\n",
    ")\n",
    "bounded_num = widgets.BoundedFloatText(min=0, max=100000, value=5, step=1)"
   ]
  },
  {
   "cell_type": "code",
   "execution_count": 21,
   "id": "9da0d396",
   "metadata": {},
   "outputs": [],
   "source": [
    "output = widgets.Output()"
   ]
  },
  {
   "cell_type": "code",
   "execution_count": 22,
   "id": "abaacb4d",
   "metadata": {},
   "outputs": [],
   "source": [
    "def colour_ge_value(value, comparison):\n",
    "    if value >= comparison:\n",
    "        return \"color: red\"\n",
    "    else:\n",
    "        return \"color: black\""
   ]
  },
  {
   "cell_type": "code",
   "execution_count": 23,
   "id": "9c9a5cca",
   "metadata": {},
   "outputs": [],
   "source": [
    "def common_filtering(year, purpose, num):\n",
    "\n",
    "    output.clear_output()\n",
    "\n",
    "    if (year == ALL) & (purpose == ALL):\n",
    "        common_filter = df_london\n",
    "    elif year == ALL:\n",
    "        common_filter = df_london[df_london.purpose == purpose]\n",
    "    elif purpose == ALL:\n",
    "        common_filter = df_london[df_london.year == year]\n",
    "    else:\n",
    "        common_filter = df_london[\n",
    "            (df_london.year == year) & (df_london.purpose == purpose)\n",
    "        ]\n",
    "\n",
    "    with output:\n",
    "        print(\"some text here\") #, common_filter.shape)\n",
    "        display(\n",
    "            common_filter.head(20).style.applymap(\n",
    "                lambda x: colour_ge_value(x, num), subset=[\"visits\", \"spend\", \"nights\"]\n",
    "            )\n",
    "        )"
   ]
  },
  {
   "cell_type": "code",
   "execution_count": 24,
   "id": "ebb978b6",
   "metadata": {},
   "outputs": [],
   "source": [
    "def dropdown_year_eventhandler(change):\n",
    "    common_filtering(change.new, dropdown_purpose.value, bounded_num.value)\n",
    "\n",
    "       \n",
    "def dropdown_purpose_eventhandler(change):\n",
    "    common_filtering(dropdown_year.value, change.new, bounded_num.value)\n",
    "\n",
    "\n",
    "def bounded_num_eventhandler(change):\n",
    "    common_filtering(dropdown_year.value, dropdown_purpose.value, change.new)"
   ]
  },
  {
   "cell_type": "code",
   "execution_count": 25,
   "id": "784029e4",
   "metadata": {},
   "outputs": [],
   "source": [
    "dropdown_year.observe(dropdown_year_eventhandler, names=\"value\")\n",
    "dropdown_purpose.observe(dropdown_purpose_eventhandler, names=\"value\")\n",
    "bounded_num.observe(bounded_num_eventhandler, names=\"value\")"
   ]
  },
  {
   "cell_type": "code",
   "execution_count": 26,
   "id": "d04fa184",
   "metadata": {},
   "outputs": [
    {
     "ename": "NameError",
     "evalue": "name 'Mdisplay' is not defined",
     "output_type": "error",
     "traceback": [
      "\u001b[0;31m---------------------------------------------------------------------------\u001b[0m",
      "\u001b[0;31mNameError\u001b[0m                                 Traceback (most recent call last)",
      "Cell \u001b[0;32mIn[26], line 1\u001b[0m\n\u001b[0;32m----> 1\u001b[0m \u001b[43mMdisplay\u001b[49m(dropdown_year)\n\u001b[1;32m      2\u001b[0m display(dropdown_purpose)\n\u001b[1;32m      3\u001b[0m display(bounded_num)\n",
      "\u001b[0;31mNameError\u001b[0m: name 'Mdisplay' is not defined"
     ]
    }
   ],
   "source": [
    "Mdisplay(dropdown_year)\n",
    "display(dropdown_purpose)\n",
    "display(bounded_num)"
   ]
  },
  {
   "cell_type": "code",
   "execution_count": null,
   "id": "6075df5a",
   "metadata": {},
   "outputs": [],
   "source": [
    "display(output)"
   ]
  }
 ],
 "metadata": {
  "kernelspec": {
   "display_name": "Python 3 (ipykernel)",
   "language": "python",
   "name": "python3"
  },
  "language_info": {
   "codemirror_mode": {
    "name": "ipython",
    "version": 3
   },
   "file_extension": ".py",
   "mimetype": "text/x-python",
   "name": "python",
   "nbconvert_exporter": "python",
   "pygments_lexer": "ipython3",
   "version": "3.11.3"
  }
 },
 "nbformat": 4,
 "nbformat_minor": 5
}
