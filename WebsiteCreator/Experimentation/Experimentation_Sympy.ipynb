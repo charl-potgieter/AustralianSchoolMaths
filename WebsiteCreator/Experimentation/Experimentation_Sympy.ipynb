{
 "cells": [
  {
   "cell_type": "code",
   "execution_count": 42,
   "id": "6e05ff27-6aed-408a-a990-8964d8731693",
   "metadata": {},
   "outputs": [
    {
     "data": {
      "text/latex": [
       "$\\displaystyle \\mathbb{R} \\cap \\left\\{\\log{\\left(x \\right)}\\right\\}$"
      ],
      "text/plain": [
       "Intersection({log(x)}, Reals)"
      ]
     },
     "execution_count": 42,
     "metadata": {},
     "output_type": "execute_result"
    }
   ],
   "source": [
    "import sympy as sp\n",
    "\n",
    "x = sp.symbols('x', real = True, nonzero = True)\n",
    "u = sp.symbols('y', real = True)\n",
    "\n",
    "sp.solveset(y - sp.integrate(1/x, x),y,  domain=sp.S.Reals)"
   ]
  },
  {
   "cell_type": "code",
   "execution_count": 37,
   "id": "0f2207f9-2e85-4dea-ba29-3ea76a16e1c4",
   "metadata": {},
   "outputs": [
    {
     "data": {
      "text/latex": [
       "$\\displaystyle \\frac{d}{d x} f{\\left(x \\right)}$"
      ],
      "text/plain": [
       "Derivative(f(x), x)"
      ]
     },
     "execution_count": 37,
     "metadata": {},
     "output_type": "execute_result"
    }
   ],
   "source": [
    "f, g = sp.symbols('f g', cls=sp.Function)\n",
    "\n",
    "f(x).diff(x)"
   ]
  },
  {
   "cell_type": "code",
   "execution_count": 41,
   "id": "f59a510e-cd50-442f-a44e-42c782dd4f2c",
   "metadata": {},
   "outputs": [
    {
     "data": {
      "text/latex": [
       "$\\displaystyle \\log{\\left(x \\right)}$"
      ],
      "text/plain": [
       "log(x)"
      ]
     },
     "execution_count": 41,
     "metadata": {},
     "output_type": "execute_result"
    }
   ],
   "source": [
    "sp.integrals.rationaltools.ratint(1/x, x)"
   ]
  }
 ],
 "metadata": {
  "kernelspec": {
   "display_name": "Python 3 (ipykernel)",
   "language": "python",
   "name": "python3"
  },
  "language_info": {
   "codemirror_mode": {
    "name": "ipython",
    "version": 3
   },
   "file_extension": ".py",
   "mimetype": "text/x-python",
   "name": "python",
   "nbconvert_exporter": "python",
   "pygments_lexer": "ipython3",
   "version": "3.11.3"
  }
 },
 "nbformat": 4,
 "nbformat_minor": 5
}
