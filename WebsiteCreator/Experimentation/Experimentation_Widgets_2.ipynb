{
 "cells": [
  {
   "cell_type": "code",
   "execution_count": 4,
   "id": "8f9d8764-299d-4306-87fb-3562a0262c15",
   "metadata": {},
   "outputs": [
    {
     "data": {
      "application/vnd.jupyter.widget-view+json": {
       "model_id": "797da764a075497eb2d66d1990cc6d50",
       "version_major": 2,
       "version_minor": 0
      },
      "text/plain": [
       "interactive(children=(Dropdown(description='x', options=('A', 'B', 'C'), value='A'), Output()), _dom_classes=(…"
      ]
     },
     "metadata": {},
     "output_type": "display_data"
    }
   ],
   "source": [
    "import ipywidgets as widgets\n",
    "\n",
    "def f(x):\n",
    "    return x\n",
    "\n",
    "widgets.interact(f, x=[\"A\", \"B\", \"C\"]);"
   ]
  },
  {
   "cell_type": "code",
   "execution_count": 1,
   "id": "132206d6-28c5-4c30-a1d4-880cfe6ff904",
   "metadata": {},
   "outputs": [],
   "source": [
    "JS_FUNCTION = \"\"\"\n",
    "<script type=\"text/javascript\">\n",
    "  function interactUpdate(div){\n",
    "     var outputs = div.getElementsByTagName(\"div\");\n",
    "     var controls = div.getElementsByTagName(\"input\");\n",
    "\n",
    "     var value = \"\";\n",
    "     for(i=0; i<controls.length; i++){\n",
    "       if((controls[i].type == \"range\") || controls[i].checked){\n",
    "         value = value + controls[i].getAttribute(\"name\") + controls[i].value;\n",
    "       }\n",
    "     }\n",
    "\n",
    "     for(i=0; i<outputs.length; i++){\n",
    "       var name = outputs[i].getAttribute(\"name\");\n",
    "       if(name == value){\n",
    "          outputs[i].style.display = 'block';\n",
    "       } else if(name != \"controls\"){\n",
    "          outputs[i].styleb.display = 'none';\n",
    "       }\n",
    "     }\n",
    "  }\n",
    "</script>\n",
    "\"\"\""
   ]
  },
  {
   "cell_type": "code",
   "execution_count": 2,
   "id": "1fa9225c-ba06-4ba5-b4bd-57fd189c0ead",
   "metadata": {},
   "outputs": [],
   "source": [
    "WIDGETS = \"\"\"\n",
    "<div>\n",
    " <div name=\"num1\", style=\"display:block\">\n",
    "   <p style=\"font-size:20px;\">1: one (I)</p>\n",
    " </div>\n",
    " <div name=\"num2\", style=\"display:none\">\n",
    "   <p style=\"font-size:20px;\">2: two (II)</p>\n",
    " </div>\n",
    " <div name=\"num3\", style=\"display:none\">\n",
    "   <p style=\"font-size:20px;\">3: three (III)</p>\n",
    " </div>\n",
    " <div name=\"num4\", style=\"display:none\">\n",
    "   <p style=\"font-size:20px;\">4: four (IV)</p>\n",
    " </div>\n",
    "\n",
    "<input type=\"range\" name=\"num\" min=\"1\" max=\"4\", step=\"1\" style=\"width:200px\", onchange=\"interactUpdate(this.parentNode);\" value=\"1\">\n",
    "</div>\n",
    "\"\"\""
   ]
  },
  {
   "cell_type": "code",
   "execution_count": 3,
   "id": "949e381a-9808-4841-b7d3-10005abe9adb",
   "metadata": {},
   "outputs": [
    {
     "data": {
      "text/html": [
       "\n",
       "<script type=\"text/javascript\">\n",
       "  function interactUpdate(div){\n",
       "     var outputs = div.getElementsByTagName(\"div\");\n",
       "     var controls = div.getElementsByTagName(\"input\");\n",
       "\n",
       "     var value = \"\";\n",
       "     for(i=0; i<controls.length; i++){\n",
       "       if((controls[i].type == \"range\") || controls[i].checked){\n",
       "         value = value + controls[i].getAttribute(\"name\") + controls[i].value;\n",
       "       }\n",
       "     }\n",
       "\n",
       "     for(i=0; i<outputs.length; i++){\n",
       "       var name = outputs[i].getAttribute(\"name\");\n",
       "       if(name == value){\n",
       "          outputs[i].style.display = 'block';\n",
       "       } else if(name != \"controls\"){\n",
       "          outputs[i].style.display = 'none';\n",
       "       }\n",
       "     }\n",
       "  }\n",
       "</script>\n",
       "\n",
       "<div>\n",
       " <div name=\"num1\", style=\"display:block\">\n",
       "   <p style=\"font-size:20px;\">1: one (I)</p>\n",
       " </div>\n",
       " <div name=\"num2\", style=\"display:none\">\n",
       "   <p style=\"font-size:20px;\">2: two (II)</p>\n",
       " </div>\n",
       " <div name=\"num3\", style=\"display:none\">\n",
       "   <p style=\"font-size:20px;\">3: three (III)</p>\n",
       " </div>\n",
       " <div name=\"num4\", style=\"display:none\">\n",
       "   <p style=\"font-size:20px;\">4: four (IV)</p>\n",
       " </div>\n",
       "\n",
       "<input type=\"range\" name=\"num\" min=\"1\" max=\"4\", step=\"1\" style=\"width:200px\", onchange=\"interactUpdate(this.parentNode);\" value=\"1\">\n",
       "</div>\n"
      ],
      "text/plain": [
       "<IPython.core.display.HTML object>"
      ]
     },
     "execution_count": 3,
     "metadata": {},
     "output_type": "execute_result"
    }
   ],
   "source": [
    "from IPython.display import HTML\n",
    "HTML(JS_FUNCTION + WIDGETS)"
   ]
  }
 ],
 "metadata": {
  "kernelspec": {
   "display_name": "Python 3 (ipykernel)",
   "language": "python",
   "name": "python3"
  },
  "language_info": {
   "codemirror_mode": {
    "name": "ipython",
    "version": 3
   },
   "file_extension": ".py",
   "mimetype": "text/x-python",
   "name": "python",
   "nbconvert_exporter": "python",
   "pygments_lexer": "ipython3",
   "version": "3.11.3"
  }
 },
 "nbformat": 4,
 "nbformat_minor": 5
}
