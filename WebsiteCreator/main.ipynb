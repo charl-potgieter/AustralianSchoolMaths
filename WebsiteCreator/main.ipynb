{
 "cells": [
  {
   "cell_type": "code",
   "execution_count": 2,
   "id": "acb8cbfb-7511-4f05-8b7f-fad03be7d06f",
   "metadata": {
    "editable": true,
    "slideshow": {
     "slide_type": ""
    },
    "tags": []
   },
   "outputs": [],
   "source": [
    "import formulas\n",
    "import storage\n",
    "import pandas as pd\n",
    "import os\n",
    "import re\n",
    "\n",
    "\n",
    "\n",
    "if __name__ == '__main__':\n",
    "\n",
    "    website_creator_path = os.getcwd()\n",
    "    formula_file_path = website_creator_path + os.path.sep + 'formulas.csv'\n",
    "    order_file_path = website_creator_path + os.path.sep + 'sort_orders.csv'\n",
    "    docs_dir = storage.get_docs_path(website_creator_path)\n",
    "    \n",
    "    df_formulas_by_year =  storage.get_formulas_by_year_df(formula_file_path)\n",
    "    sort_orders = storage.get_list_of_data_frames_by_populated_to_column_number(order_file_path)\n",
    "    \n",
    "    storage.delete_directory_if_it_exists(docs_dir)\n",
    "\n",
    "    # Create formula by year summary\n",
    "    formula_by_year_summary_df = formulas.get_formula_by_year_summary_df(df_formulas_by_year)\n",
    "    storage.create_sub_directories(docs_dir, formula_by_year_summary_df)\n",
    "    storage.create_index_files(base_dir=docs_dir, folder_regex='.*/Formulas.*', book_collapse=True, sort_orders=sort_orders)\n",
    "    # # formulas.create_formula_files(docs_dir, df_formulas)\n",
    "\n",
    "    # df_calculus = formulas.df_calculus_summary(df_formulas)\n",
    "    # styler_calculus = formulas.styler_calculus_summary(df_calculus, formulas.formulas_on_formula_sheet(df_formulas))\n",
    "    # display(styler_calculus)"
   ]
  },
  {
   "cell_type": "code",
   "execution_count": 3,
   "id": "91ded5af-7d38-4dba-98ec-11a6ec04c659",
   "metadata": {
    "editable": true,
    "slideshow": {
     "slide_type": ""
    },
    "tags": []
   },
   "outputs": [
    {
     "data": {
      "text/plain": [
       "'/home/charl/Onedrive/Documents_Charl/Computer_Technical/Programming_GitHub/AustralianSchoolMaths/WebsiteCreator'"
      ]
     },
     "execution_count": 3,
     "metadata": {},
     "output_type": "execute_result"
    }
   ],
   "source": [
    "dir = '/home/charl/Onedrive/Documents_Charl/Computer_Technical/Programming_GitHub/AustralianSchoolMaths/'"
   ]
  },
  {
   "cell_type": "code",
   "execution_count": 5,
   "id": "d15667d2-dcaf-4047-aabf-f23a7b73f533",
   "metadata": {},
   "outputs": [
    {
     "data": {
      "text/plain": [
       "'/home/charl/Onedrive/Documents_Charl/Computer_Technical/Programming_GitHub/AustralianSchoolMaths/WebsiteCreator'"
      ]
     },
     "execution_count": 5,
     "metadata": {},
     "output_type": "execute_result"
    }
   ],
   "source": [
    "os.getcwd()"
   ]
  }
 ],
 "metadata": {
  "kernelspec": {
   "display_name": "Python 3 (ipykernel)",
   "language": "python",
   "name": "python3"
  },
  "language_info": {
   "codemirror_mode": {
    "name": "ipython",
    "version": 3
   },
   "file_extension": ".py",
   "mimetype": "text/x-python",
   "name": "python",
   "nbconvert_exporter": "python",
   "pygments_lexer": "ipython3",
   "version": "3.11.3"
  }
 },
 "nbformat": 4,
 "nbformat_minor": 5
}
