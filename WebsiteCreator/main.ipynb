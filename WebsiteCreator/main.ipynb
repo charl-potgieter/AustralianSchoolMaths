{
 "cells": [
  {
   "cell_type": "code",
   "execution_count": 1,
   "id": "acb8cbfb-7511-4f05-8b7f-fad03be7d06f",
   "metadata": {},
   "outputs": [],
   "source": [
    "import formulas\n",
    "import storage\n",
    "import pandas as pd\n",
    "import os\n",
    "\n",
    "if __name__ == '__main__':\n",
    "\n",
    "    website_creator_path = os.getcwd()\n",
    "    formula_file_path = website_creator_path + os.path.sep + 'formulas.csv'\n",
    "    order_file_dir = website_creator_path + os.path.sep + 'order_files'\n",
    "    docs_dir = storage.get_docs_path(website_creator_path)\n",
    "    \n",
    "    # storage.delete_directory_if_it_exists(docs_dir)\n",
    "\n",
    "    \n",
    "    df_formulas =  storage.get_formulas(formula_file_path)\n",
    "    df_sort_orders = storage.get_sort_orders(order_file_dir)    \n",
    "\n",
    "    # formula_paths = df_formulas[['State', 'Subject code']].drop_duplicates().to_numpy(dtype = str)\n",
    "    # formulas.create_formula_directories(docs_dir, formula_paths)\n",
    "    # formulas.create_formula_index_files(docs_dir, df_sort_orders)\n",
    "    # formulas.create_formula_files(docs_dir, df_formulas)\n",
    "\n",
    "    # df_calculus = formulas.df_calculus_summary(df_formulas)\n",
    "    # styler_calculus = formulas.styler_calculus_summary(df_calculus, formulas.formulas_on_formula_sheet(df_formulas))\n",
    "    # display(styler_calculus)"
   ]
  },
  {
   "cell_type": "code",
   "execution_count": 3,
   "id": "44af5db0-baef-4183-8ee0-c35b5837d77f",
   "metadata": {},
   "outputs": [
    {
     "data": {
      "text/plain": [
       "'/home/charl/Onedrive/Documents_Charl/Computer_Technical/Programming_GitHub/AustralianSchoolMaths/content/docs'"
      ]
     },
     "execution_count": 3,
     "metadata": {},
     "output_type": "execute_result"
    }
   ],
   "source": [
    "docs_dir"
   ]
  },
  {
   "cell_type": "code",
   "execution_count": 11,
   "id": "a997f673-cae2-4bbf-ab09-1f00b55dd36d",
   "metadata": {},
   "outputs": [
    {
     "data": {
      "text/html": [
       "<div>\n",
       "<style scoped>\n",
       "    .dataframe tbody tr th:only-of-type {\n",
       "        vertical-align: middle;\n",
       "    }\n",
       "\n",
       "    .dataframe tbody tr th {\n",
       "        vertical-align: top;\n",
       "    }\n",
       "\n",
       "    .dataframe thead th {\n",
       "        text-align: right;\n",
       "    }\n",
       "</style>\n",
       "<table border=\"1\" class=\"dataframe\">\n",
       "  <thead>\n",
       "    <tr style=\"text-align: right;\">\n",
       "      <th></th>\n",
       "      <th>State</th>\n",
       "      <th>Category</th>\n",
       "    </tr>\n",
       "  </thead>\n",
       "  <tbody>\n",
       "    <tr>\n",
       "      <th>0</th>\n",
       "      <td>NSW</td>\n",
       "      <td>Indices</td>\n",
       "    </tr>\n",
       "    <tr>\n",
       "      <th>1</th>\n",
       "      <td>NSW</td>\n",
       "      <td>Indices</td>\n",
       "    </tr>\n",
       "    <tr>\n",
       "      <th>2</th>\n",
       "      <td>NSW</td>\n",
       "      <td>Indices</td>\n",
       "    </tr>\n",
       "    <tr>\n",
       "      <th>3</th>\n",
       "      <td>NSW</td>\n",
       "      <td>Indices</td>\n",
       "    </tr>\n",
       "    <tr>\n",
       "      <th>4</th>\n",
       "      <td>NSW</td>\n",
       "      <td>Indices</td>\n",
       "    </tr>\n",
       "    <tr>\n",
       "      <th>...</th>\n",
       "      <td>...</td>\n",
       "      <td>...</td>\n",
       "    </tr>\n",
       "    <tr>\n",
       "      <th>59</th>\n",
       "      <td>NSW</td>\n",
       "      <td>Statistics</td>\n",
       "    </tr>\n",
       "    <tr>\n",
       "      <th>60</th>\n",
       "      <td>NSW</td>\n",
       "      <td>Statistics</td>\n",
       "    </tr>\n",
       "    <tr>\n",
       "      <th>61</th>\n",
       "      <td>NSW</td>\n",
       "      <td>Statistics</td>\n",
       "    </tr>\n",
       "    <tr>\n",
       "      <th>62</th>\n",
       "      <td>NSW</td>\n",
       "      <td>Surds</td>\n",
       "    </tr>\n",
       "    <tr>\n",
       "      <th>63</th>\n",
       "      <td>NSW</td>\n",
       "      <td>Surds</td>\n",
       "    </tr>\n",
       "  </tbody>\n",
       "</table>\n",
       "<p>64 rows × 2 columns</p>\n",
       "</div>"
      ],
      "text/plain": [
       "   State    Category\n",
       "0    NSW     Indices\n",
       "1    NSW     Indices\n",
       "2    NSW     Indices\n",
       "3    NSW     Indices\n",
       "4    NSW     Indices\n",
       "..   ...         ...\n",
       "59   NSW  Statistics\n",
       "60   NSW  Statistics\n",
       "61   NSW  Statistics\n",
       "62   NSW       Surds\n",
       "63   NSW       Surds\n",
       "\n",
       "[64 rows x 2 columns]"
      ]
     },
     "execution_count": 11,
     "metadata": {},
     "output_type": "execute_result"
    }
   ],
   "source": [
    "df_formulas[['State', 'Category']]"
   ]
  },
  {
   "cell_type": "code",
   "execution_count": 18,
   "id": "585550a5-7952-49fe-973a-5642b59561d1",
   "metadata": {},
   "outputs": [
    {
     "data": {
      "text/plain": [
       "['/home/charl/Onedrive/Documents_Charl/Computer_Technical/Programming_GitHub/AustralianSchoolMaths/WebsiteCreator/order_states.csv',\n",
       " '/home/charl/Onedrive/Documents_Charl/Computer_Technical/Programming_GitHub/AustralianSchoolMaths/WebsiteCreator/order_subjects.csv',\n",
       " '/home/charl/Onedrive/Documents_Charl/Computer_Technical/Programming_GitHub/AustralianSchoolMaths/WebsiteCreator/Test.txt']"
      ]
     },
     "execution_count": 18,
     "metadata": {},
     "output_type": "execute_result"
    }
   ],
   "source": [
    "[website_creator_path + os.path.sep + x for x in os.listdir(website_creator_path + os.path.sep + 'order_files')]"
   ]
  },
  {
   "cell_type": "code",
   "execution_count": 29,
   "id": "a76ff74b-d681-4c74-9531-e09987f56536",
   "metadata": {},
   "outputs": [
    {
     "name": "stdout",
     "output_type": "stream",
     "text": [
      "/home/charl/Onedrive/Documents_Charl/Computer_Technical/Programming_GitHub/AustralianSchoolMaths/WebsiteCreator/order_states.csv\n",
      "/home/charl/Onedrive/Documents_Charl/Computer_Technical/Programming_GitHub/AustralianSchoolMaths/WebsiteCreator/order_subjects.csv\n"
     ]
    }
   ],
   "source": [
    "for item in os.listdir(website_creator_path + os.path.sep + 'order_files'):\n",
    "    file_ext = os.path.splitext(item)[1]\n",
    "    if file_ext.upper() == '.CSV':\n",
    "        print(website_creator_path + os.path.sep + item)"
   ]
  },
  {
   "cell_type": "code",
   "execution_count": 3,
   "id": "fc6d00b4-ee1f-43de-a0b9-01e99beca0fd",
   "metadata": {},
   "outputs": [
    {
     "data": {
      "text/plain": [
       "['/home/charl/Onedrive/Documents_Charl/Computer_Technical/Programming_GitHub/AustralianSchoolMaths/WebsiteCreator/order_files/order_states.csv',\n",
       " '/home/charl/Onedrive/Documents_Charl/Computer_Technical/Programming_GitHub/AustralianSchoolMaths/WebsiteCreator/order_files/order_subjects.csv']"
      ]
     },
     "metadata": {},
     "output_type": "display_data"
    }
   ],
   "source": [
    "import storage\n",
    "order_folder = website_creator_path + os.path.sep + 'order_files'\n",
    "display(storage.csv_files_in_dir(order_folder))"
   ]
  }
 ],
 "metadata": {
  "kernelspec": {
   "display_name": "Python 3 (ipykernel)",
   "language": "python",
   "name": "python3"
  },
  "language_info": {
   "codemirror_mode": {
    "name": "ipython",
    "version": 3
   },
   "file_extension": ".py",
   "mimetype": "text/x-python",
   "name": "python",
   "nbconvert_exporter": "python",
   "pygments_lexer": "ipython3",
   "version": "3.11.3"
  }
 },
 "nbformat": 4,
 "nbformat_minor": 5
}
