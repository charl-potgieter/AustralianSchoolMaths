{
 "cells": [
  {
   "cell_type": "code",
   "execution_count": 1,
   "id": "acb8cbfb-7511-4f05-8b7f-fad03be7d06f",
   "metadata": {
    "editable": true,
    "slideshow": {
     "slide_type": ""
    },
    "tags": []
   },
   "outputs": [],
   "source": [
    "import formulas\n",
    "import storage\n",
    "import pandas as pd\n",
    "import os\n",
    "import re\n",
    "\n",
    "\n",
    "\n",
    "if __name__ == '__main__':\n",
    "\n",
    "    website_creator_path = os.getcwd()\n",
    "    formula_file_path = website_creator_path + os.path.sep + 'formulas.csv'\n",
    "    order_file_path = website_creator_path + os.path.sep + 'sort_orders.csv'\n",
    "    docs_dir = storage.get_docs_path(website_creator_path)\n",
    "    \n",
    "    df_formulas_by_year =  (\n",
    "        formulas.get_formulas_by_year_df(formula_file_path))\n",
    "    sort_orders = pd.read_csv(order_file_path)\n",
    "    \n",
    "    storage.delete_directory_if_it_exists(docs_dir)\n",
    "\n",
    "    # Create formula by year summary\n",
    "    formula_by_year_directories_df = (\n",
    "        df_formulas_by_year[['State', 'Sub category 1', 'Sub category 2',\n",
    "                             'Subject code', 'Category']].drop_duplicates())\n",
    "    storage.create_sub_directories_from_df(\n",
    "        docs_dir, formula_by_year_directories_df)\n",
    "    regex_id_for_formula_dirs = '.*' + os.path.sep + 'Formulas*'\n",
    "    storage.create_index_files(base_dir=docs_dir, \n",
    "                               folder_regex=regex_id_for_formula_dirs, \n",
    "                               book_collapse=True, \n",
    "                               df_sort_orders=sort_orders)\n",
    "    # # # formulas.create_formula_files(docs_dir, df_formulas)\n",
    "\n",
    "\n",
    "    # Create index files for State level menus\n",
    "    regex_id_for_state_dirs =os.path.sep + '.{3}$'\n",
    "    storage.create_index_files(base_dir=docs_dir, \n",
    "                               folder_regex=regex_id_for_state_dirs,\n",
    "                               book_collapse=True, \n",
    "                               df_sort_orders=sort_orders)\n",
    "\n",
    "    # df_calculus = formulas.df_calculus_summary(df_formulas_by_year)\n",
    "    # styler_calculus = formulas.styler_calculus_summary(\n",
    "    #     df_calculus, formulas.formulas_on_formula_sheet(df_formulas_by_year))\n",
    "    # display(styler_calculus)"
   ]
  },
  {
   "cell_type": "code",
   "execution_count": 15,
   "id": "62e4d920-4a70-4890-9218-a80bc09a5b7e",
   "metadata": {},
   "outputs": [],
   "source": [
    "\n",
    "\n",
    "def create_formula_files(docs_dir, df_formulas):\n",
    "    \"\"\"Creates formula files in markdown format.  Files are created per state /\n",
    "    subject  / categorycombination and stored in folders under docs_path\n",
    "    according to this same combination\"\"\"\n",
    "\n",
    "    formula_combinations = (df_formulas\n",
    "                            [['State', 'Sub category 1', 'Sub category 2',\n",
    "                              'Subject code', 'Category']].\n",
    "                            drop_duplicates())\n",
    "    \n",
    "    for index, row in formula_combinations.iterrows():\n",
    "        df = df_formulas[(\n",
    "            (df_formulas['State'] == row['State']) &\n",
    "            (df_formulas['Subject code'] == str(row['Subject code'])) & \n",
    "            (df_formulas['Category'] == row['Category']))]\n",
    "        \n",
    "        formula_2_col_is_empty = df['Formula_2'].dropna().empty    \n",
    "        if formula_2_col_is_empty:\n",
    "            df = df[['Formula_1']]\n",
    "        else:\n",
    "            df = df[['Formula_1', 'Formula_2']]\n",
    "            \n",
    "        formula_set_styler = (formulas.df_to_formula_styled_table(\n",
    "            df=df, col_widths={'Formula_1':300, 'Formula_2':400},\n",
    "            display_col_headers = False))\n",
    "        output_string =  '#  \\n<br>\\n' + formula_set_styler.to_html()\n",
    "        file_name = (docs_dir + os.path.sep +\n",
    "                     row['State'] + os.path.sep + \n",
    "                     row['Sub category 1'] + os.path.sep +\n",
    "                     row['Sub category 2'] + os.path.sep  + \n",
    "                     str(row['Subject code']) + os.path.sep  + \n",
    "                     row['Category']  + os.path.sep + \n",
    "                     row['Category']  + '.md')\n",
    "        with open(file_name, \"w\") as text_file:\n",
    "            text_file.write(output_string)\n"
   ]
  },
  {
   "cell_type": "code",
   "execution_count": 16,
   "id": "442680ab-f2e5-4513-8b64-5321b2459258",
   "metadata": {},
   "outputs": [],
   "source": [
    "# df_formulas_by_yearb\n",
    "create_formula_files(docs_dir, df_formulas_by_year)"
   ]
  },
  {
   "cell_type": "code",
   "execution_count": 13,
   "id": "e816da54-c901-4210-af57-655316fda7d6",
   "metadata": {},
   "outputs": [
    {
     "data": {
      "text/plain": [
       "79"
      ]
     },
     "execution_count": 13,
     "metadata": {},
     "output_type": "execute_result"
    }
   ],
   "source": [
    "len ('    \"\"\"Creates formula files in markdown format.  Files are created per state /')"
   ]
  }
 ],
 "metadata": {
  "kernelspec": {
   "display_name": "Python 3 (ipykernel)",
   "language": "python",
   "name": "python3"
  },
  "language_info": {
   "codemirror_mode": {
    "name": "ipython",
    "version": 3
   },
   "file_extension": ".py",
   "mimetype": "text/x-python",
   "name": "python",
   "nbconvert_exporter": "python",
   "pygments_lexer": "ipython3",
   "version": "3.11.3"
  }
 },
 "nbformat": 4,
 "nbformat_minor": 5
}
