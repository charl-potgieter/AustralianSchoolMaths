{
 "cells": [
  {
   "cell_type": "code",
   "execution_count": 3,
   "id": "acb8cbfb-7511-4f05-8b7f-fad03be7d06f",
   "metadata": {},
   "outputs": [],
   "source": [
    "import formulas\n",
    "import storage\n",
    "import pandas as pd\n",
    "import os\n",
    "\n",
    "if __name__ == '__main__':\n",
    "\n",
    "    website_creator_path = os.getcwd()\n",
    "    formula_file_path = website_creator_path + os.path.sep + 'formulas.csv'\n",
    "    order_file_dir = website_creator_path + os.path.sep + 'order_files'\n",
    "    docs_dir = storage.get_docs_path(website_creator_path)\n",
    "    df_formulas =  storage.get_formulas(formula_file_path)\n",
    "    sort_orders = storage.get_sort_orders(order_file_dir)\n",
    "    \n",
    "    storage.delete_directory_if_it_exists(docs_dir)\n",
    "\n",
    "    #Create formula by year summary\n",
    "    formula_by_year_summary_df = formulas.get_formula_by_year_summary_df(df_formulas)\n",
    "    storage.create_sub_directories(docs_dir, formula_by_year_summary_df)\n",
    "    storage.create_index_files(base_dir=docs_dir, folder_regex='.*/Formulas/.*', book_collapse=True, sort_orders=sort_orders)\n",
    "    # formulas.create_formula_files(docs_dir, df_formulas)\n",
    "\n",
    "    # df_calculus = formulas.df_calculus_summary(df_formulas)\n",
    "    # styler_calculus = formulas.styler_calculus_summary(df_calculus, formulas.formulas_on_formula_sheet(df_formulas))\n",
    "    # display(styler_calculus)"
   ]
  },
  {
   "cell_type": "code",
   "execution_count": 19,
   "id": "346b3a96-b44d-4426-afce-ffa49bbc37d3",
   "metadata": {},
   "outputs": [
    {
     "data": {
      "text/plain": [
       "'/home/charl/Onedrive/Documents_Charl/Computer_Technical/Programming_GitHub/AustralianSchoolMaths/content/docs'"
      ]
     },
     "execution_count": 19,
     "metadata": {},
     "output_type": "execute_result"
    }
   ],
   "source": [
    "docs_dir"
   ]
  },
  {
   "cell_type": "code",
   "execution_count": 6,
   "id": "a239856c-85e2-4249-9875-7e071b9d5dc7",
   "metadata": {},
   "outputs": [
    {
     "data": {
      "text/plain": [
       "['NSW', 'Formulas', 'By year']"
      ]
     },
     "execution_count": 6,
     "metadata": {},
     "output_type": "execute_result"
    }
   ],
   "source": [
    "import re\n",
    "filepath = website_creator_path + os.path.sep + 'sort_orders.csv'\n",
    "\n",
    "def get_sort_orders(file_path):\n",
    "    return(pd.read_csv(filepath))\n",
    "\n",
    "\n",
    "\n",
    "    \n",
    "# def get_sort_order(df_sort_orders, \n",
    "\n",
    "sort_orders = pd.read_csv(filepath)\n",
    "\n",
    "docs_dir = '/home/charl/Onedrive/Documents_Charl/Computer_Technical/Programming_GitHub/AustralianSchoolMaths/content/docs'\n",
    "current_dir = docs_dir + '/NSW/Formulas/By year'\n",
    "\n",
    "_convert_path_to_list(path = current_dir, exclude_regex = '^'+docs_dir)\n",
    "# sort_orders.dropna(subset = sort_orders.columns[1])\n",
    "\n",
    "# re.sub(pattern=docs_dir, repl='', string=current_dir)"
   ]
  },
  {
   "cell_type": "code",
   "execution_count": 24,
   "id": "ab4ec6b6-d083-49c9-bee8-faf814d44f10",
   "metadata": {},
   "outputs": [
    {
     "data": {
      "text/plain": [
       "['home',\n",
       " 'charl',\n",
       " 'Onedrive',\n",
       " 'Documents_Charl',\n",
       " 'Computer_Technical',\n",
       " 'Programming_GitHub',\n",
       " 'AustralianSchoolMaths',\n",
       " 'content',\n",
       " 'docs',\n",
       " 'NSW',\n",
       " 'Formulas',\n",
       " 'By year']"
      ]
     },
     "execution_count": 24,
     "metadata": {},
     "output_type": "execute_result"
    }
   ],
   "source": [
    "import re\n",
    "\n",
    "docs_dir = '/home/charl/Onedrive/Documents_Charl/Computer_Technical/Programming_GitHub/AustralianSchoolMaths/content/docs'\n",
    "current_dir = docs_dir + '/NSW/Formulas/By year'\n",
    "\n",
    "# re.sub(pattern='^h', repl='', string='hello')\n",
    "\n",
    "my_list = current_dir.split(sep=os.path.sep)\n",
    "my_list = list(filter(lambda item:item!='', my_list))\n",
    "my_list"
   ]
  }
 ],
 "metadata": {
  "kernelspec": {
   "display_name": "Python 3 (ipykernel)",
   "language": "python",
   "name": "python3"
  },
  "language_info": {
   "codemirror_mode": {
    "name": "ipython",
    "version": 3
   },
   "file_extension": ".py",
   "mimetype": "text/x-python",
   "name": "python",
   "nbconvert_exporter": "python",
   "pygments_lexer": "ipython3",
   "version": "3.11.3"
  }
 },
 "nbformat": 4,
 "nbformat_minor": 5
}
