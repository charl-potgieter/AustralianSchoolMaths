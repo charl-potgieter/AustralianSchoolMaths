{
 "cells": [
  {
   "cell_type": "code",
   "execution_count": 1,
   "id": "acb8cbfb-7511-4f05-8b7f-fad03be7d06f",
   "metadata": {
    "editable": true,
    "slideshow": {
     "slide_type": ""
    },
    "tags": []
   },
   "outputs": [
    {
     "data": {
      "text/html": [
       "<div>\n",
       "<style scoped>\n",
       "    .dataframe tbody tr th:only-of-type {\n",
       "        vertical-align: middle;\n",
       "    }\n",
       "\n",
       "    .dataframe tbody tr th {\n",
       "        vertical-align: top;\n",
       "    }\n",
       "\n",
       "    .dataframe thead th {\n",
       "        text-align: right;\n",
       "    }\n",
       "</style>\n",
       "<table border=\"1\" class=\"dataframe\">\n",
       "  <thead>\n",
       "    <tr style=\"text-align: right;\">\n",
       "      <th></th>\n",
       "    </tr>\n",
       "  </thead>\n",
       "  <tbody>\n",
       "  </tbody>\n",
       "</table>\n",
       "</div>"
      ],
      "text/plain": [
       "Empty DataFrame\n",
       "Columns: []\n",
       "Index: []"
      ]
     },
     "metadata": {},
     "output_type": "display_data"
    },
    {
     "data": {
      "text/html": [
       "<div>\n",
       "<style scoped>\n",
       "    .dataframe tbody tr th:only-of-type {\n",
       "        vertical-align: middle;\n",
       "    }\n",
       "\n",
       "    .dataframe tbody tr th {\n",
       "        vertical-align: top;\n",
       "    }\n",
       "\n",
       "    .dataframe thead th {\n",
       "        text-align: right;\n",
       "    }\n",
       "</style>\n",
       "<table border=\"1\" class=\"dataframe\">\n",
       "  <thead>\n",
       "    <tr style=\"text-align: right;\">\n",
       "      <th></th>\n",
       "    </tr>\n",
       "  </thead>\n",
       "  <tbody>\n",
       "  </tbody>\n",
       "</table>\n",
       "</div>"
      ],
      "text/plain": [
       "Empty DataFrame\n",
       "Columns: []\n",
       "Index: []"
      ]
     },
     "metadata": {},
     "output_type": "display_data"
    },
    {
     "data": {
      "text/html": [
       "<div>\n",
       "<style scoped>\n",
       "    .dataframe tbody tr th:only-of-type {\n",
       "        vertical-align: middle;\n",
       "    }\n",
       "\n",
       "    .dataframe tbody tr th {\n",
       "        vertical-align: top;\n",
       "    }\n",
       "\n",
       "    .dataframe thead th {\n",
       "        text-align: right;\n",
       "    }\n",
       "</style>\n",
       "<table border=\"1\" class=\"dataframe\">\n",
       "  <thead>\n",
       "    <tr style=\"text-align: right;\">\n",
       "      <th></th>\n",
       "    </tr>\n",
       "  </thead>\n",
       "  <tbody>\n",
       "  </tbody>\n",
       "</table>\n",
       "</div>"
      ],
      "text/plain": [
       "Empty DataFrame\n",
       "Columns: []\n",
       "Index: []"
      ]
     },
     "metadata": {},
     "output_type": "display_data"
    },
    {
     "data": {
      "text/html": [
       "<div>\n",
       "<style scoped>\n",
       "    .dataframe tbody tr th:only-of-type {\n",
       "        vertical-align: middle;\n",
       "    }\n",
       "\n",
       "    .dataframe tbody tr th {\n",
       "        vertical-align: top;\n",
       "    }\n",
       "\n",
       "    .dataframe thead th {\n",
       "        text-align: right;\n",
       "    }\n",
       "</style>\n",
       "<table border=\"1\" class=\"dataframe\">\n",
       "  <thead>\n",
       "    <tr style=\"text-align: right;\">\n",
       "      <th></th>\n",
       "    </tr>\n",
       "  </thead>\n",
       "  <tbody>\n",
       "  </tbody>\n",
       "</table>\n",
       "</div>"
      ],
      "text/plain": [
       "Empty DataFrame\n",
       "Columns: []\n",
       "Index: []"
      ]
     },
     "metadata": {},
     "output_type": "display_data"
    },
    {
     "data": {
      "text/html": [
       "<div>\n",
       "<style scoped>\n",
       "    .dataframe tbody tr th:only-of-type {\n",
       "        vertical-align: middle;\n",
       "    }\n",
       "\n",
       "    .dataframe tbody tr th {\n",
       "        vertical-align: top;\n",
       "    }\n",
       "\n",
       "    .dataframe thead th {\n",
       "        text-align: right;\n",
       "    }\n",
       "</style>\n",
       "<table border=\"1\" class=\"dataframe\">\n",
       "  <thead>\n",
       "    <tr style=\"text-align: right;\">\n",
       "      <th></th>\n",
       "    </tr>\n",
       "  </thead>\n",
       "  <tbody>\n",
       "  </tbody>\n",
       "</table>\n",
       "</div>"
      ],
      "text/plain": [
       "Empty DataFrame\n",
       "Columns: []\n",
       "Index: []"
      ]
     },
     "metadata": {},
     "output_type": "display_data"
    },
    {
     "ename": "KeyError",
     "evalue": "'Level_1'",
     "output_type": "error",
     "traceback": [
      "\u001b[0;31m---------------------------------------------------------------------------\u001b[0m",
      "\u001b[0;31mKeyError\u001b[0m                                  Traceback (most recent call last)",
      "File \u001b[0;32m/usr/lib/python3.11/site-packages/pandas/core/indexes/base.py:3802\u001b[0m, in \u001b[0;36mIndex.get_loc\u001b[0;34m(self, key, method, tolerance)\u001b[0m\n\u001b[1;32m   3801\u001b[0m \u001b[38;5;28;01mtry\u001b[39;00m:\n\u001b[0;32m-> 3802\u001b[0m     \u001b[38;5;28;01mreturn\u001b[39;00m \u001b[38;5;28;43mself\u001b[39;49m\u001b[38;5;241;43m.\u001b[39;49m\u001b[43m_engine\u001b[49m\u001b[38;5;241;43m.\u001b[39;49m\u001b[43mget_loc\u001b[49m\u001b[43m(\u001b[49m\u001b[43mcasted_key\u001b[49m\u001b[43m)\u001b[49m\n\u001b[1;32m   3803\u001b[0m \u001b[38;5;28;01mexcept\u001b[39;00m \u001b[38;5;167;01mKeyError\u001b[39;00m \u001b[38;5;28;01mas\u001b[39;00m err:\n",
      "File \u001b[0;32m/usr/lib/python3.11/site-packages/pandas/_libs/index.pyx:138\u001b[0m, in \u001b[0;36mpandas._libs.index.IndexEngine.get_loc\u001b[0;34m()\u001b[0m\n",
      "File \u001b[0;32m/usr/lib/python3.11/site-packages/pandas/_libs/index.pyx:165\u001b[0m, in \u001b[0;36mpandas._libs.index.IndexEngine.get_loc\u001b[0;34m()\u001b[0m\n",
      "File \u001b[0;32mpandas/_libs/hashtable_class_helper.pxi:5745\u001b[0m, in \u001b[0;36mpandas._libs.hashtable.PyObjectHashTable.get_item\u001b[0;34m()\u001b[0m\n",
      "File \u001b[0;32mpandas/_libs/hashtable_class_helper.pxi:5753\u001b[0m, in \u001b[0;36mpandas._libs.hashtable.PyObjectHashTable.get_item\u001b[0;34m()\u001b[0m\n",
      "\u001b[0;31mKeyError\u001b[0m: 'Level_1'",
      "\nThe above exception was the direct cause of the following exception:\n",
      "\u001b[0;31mKeyError\u001b[0m                                  Traceback (most recent call last)",
      "Cell \u001b[0;32mIn[1], line 38\u001b[0m\n\u001b[1;32m     36\u001b[0m topics_df \u001b[38;5;241m=\u001b[39m topics\u001b[38;5;241m.\u001b[39mget_topics_df(sort_orders_df)\n\u001b[1;32m     37\u001b[0m topics_dir \u001b[38;5;241m=\u001b[39m website_creator_dir \u001b[38;5;241m+\u001b[39m os\u001b[38;5;241m.\u001b[39mpath\u001b[38;5;241m.\u001b[39msep \u001b[38;5;241m+\u001b[39m \u001b[38;5;124m'\u001b[39m\u001b[38;5;124mtopic_summaries\u001b[39m\u001b[38;5;124m'\u001b[39m\n\u001b[0;32m---> 38\u001b[0m \u001b[43mtopics\u001b[49m\u001b[38;5;241;43m.\u001b[39;49m\u001b[43mcreate_topics_content\u001b[49m\u001b[43m(\u001b[49m\u001b[43mtopics_df\u001b[49m\u001b[43m,\u001b[49m\u001b[43m \u001b[49m\u001b[43msort_orders_df\u001b[49m\u001b[43m,\u001b[49m\u001b[43m \u001b[49m\u001b[43mdocs_dir\u001b[49m\u001b[43m,\u001b[49m\u001b[43m \u001b[49m\n\u001b[1;32m     39\u001b[0m \u001b[43m                             \u001b[49m\u001b[43mtopics_dir\u001b[49m\u001b[43m)\u001b[49m\n",
      "File \u001b[0;32m~/Onedrive/Documents_Charl/Computer_Technical/Programming_GitHub/AustralianSchoolMaths/WebsiteCreator/topics.py:29\u001b[0m, in \u001b[0;36mcreate_topics_content\u001b[0;34m(topics_df, sort_orders_df, docs_dir, topics_dir)\u001b[0m\n\u001b[1;32m     23\u001b[0m front_matter_index_files \u001b[38;5;241m=\u001b[39m {\u001b[38;5;124m'\u001b[39m\u001b[38;5;124mbookCollapseSection\u001b[39m\u001b[38;5;124m'\u001b[39m : \u001b[38;5;28;01mTrue\u001b[39;00m}\n\u001b[1;32m     24\u001b[0m utilities\u001b[38;5;241m.\u001b[39mcreate_index_files(base_dir\u001b[38;5;241m=\u001b[39mdocs_dir, dirs_df\u001b[38;5;241m=\u001b[39mdirs_df, \n\u001b[1;32m     25\u001b[0m                    front_matter\u001b[38;5;241m=\u001b[39mfront_matter_index_files,\n\u001b[1;32m     26\u001b[0m                    sort_orders_df \u001b[38;5;241m=\u001b[39m sort_orders_df)\n\u001b[0;32m---> 29\u001b[0m \u001b[43mutilities\u001b[49m\u001b[38;5;241;43m.\u001b[39;49m\u001b[43mcreate_files\u001b[49m\u001b[43m(\u001b[49m\u001b[43mbase_dir\u001b[49m\u001b[43m \u001b[49m\u001b[38;5;241;43m=\u001b[39;49m\u001b[43m \u001b[49m\u001b[43mdocs_dir\u001b[49m\u001b[43m,\u001b[49m\u001b[43m \u001b[49m\u001b[43mfile_paths_df\u001b[49m\u001b[38;5;241;43m=\u001b[39;49m\u001b[43m \u001b[49m\u001b[43mfile_paths_df\u001b[49m\u001b[43m,\u001b[49m\u001b[43m \u001b[49m\n\u001b[1;32m     30\u001b[0m \u001b[43m                       \u001b[49m\u001b[43mfile_extension\u001b[49m\u001b[38;5;241;43m=\u001b[39;49m\u001b[38;5;124;43m'\u001b[39;49m\u001b[38;5;124;43m.md\u001b[39;49m\u001b[38;5;124;43m'\u001b[39;49m\u001b[43m,\u001b[49m\u001b[43m \u001b[49m\n\u001b[1;32m     31\u001b[0m \u001b[43m                       \u001b[49m\u001b[43mfn\u001b[49m\u001b[38;5;241;43m=\u001b[39;49m\u001b[43mget_topic_display_string\u001b[49m\u001b[43m,\u001b[49m\u001b[43m \u001b[49m\n\u001b[1;32m     32\u001b[0m \u001b[43m                       \u001b[49m\u001b[38;5;66;43;03m# sort_orders_df=sort_orders_df,\u001b[39;49;00m\n\u001b[1;32m     33\u001b[0m \u001b[43m                       \u001b[49m\u001b[43mtopics_df\u001b[49m\u001b[38;5;241;43m=\u001b[39;49m\u001b[43mtopics_df\u001b[49m\u001b[43m,\u001b[49m\n\u001b[1;32m     34\u001b[0m \u001b[43m                       \u001b[49m\u001b[43mtopics_dir\u001b[49m\u001b[38;5;241;43m=\u001b[39;49m\u001b[43mtopics_dir\u001b[49m\u001b[43m)\u001b[49m\n",
      "File \u001b[0;32m~/Onedrive/Documents_Charl/Computer_Technical/Programming_GitHub/AustralianSchoolMaths/WebsiteCreator/utilities.py:170\u001b[0m, in \u001b[0;36mcreate_files\u001b[0;34m(base_dir, file_paths_df, file_extension, fn, front_matter, sort_orders_df, **kwargs)\u001b[0m\n\u001b[1;32m    167\u001b[0m     kwargs[kwarg_keyword]\u001b[38;5;241m=\u001b[39m\u001b[38;5;28mstr\u001b[39m(value)\n\u001b[1;32m    168\u001b[0m kwargs[\u001b[38;5;124m'\u001b[39m\u001b[38;5;124msort_orders_df\u001b[39m\u001b[38;5;124m'\u001b[39m] \u001b[38;5;241m=\u001b[39m sort_orders_df\n\u001b[0;32m--> 170\u001b[0m string_to_write \u001b[38;5;241m+\u001b[39m\u001b[38;5;241m=\u001b[39m \u001b[43mfn\u001b[49m\u001b[43m(\u001b[49m\u001b[38;5;241;43m*\u001b[39;49m\u001b[38;5;241;43m*\u001b[39;49m\u001b[43mkwargs\u001b[49m\u001b[43m)\u001b[49m\n\u001b[1;32m    172\u001b[0m file_name \u001b[38;5;241m=\u001b[39m (base_dir \u001b[38;5;241m+\u001b[39m os\u001b[38;5;241m.\u001b[39mpath\u001b[38;5;241m.\u001b[39msep \u001b[38;5;241m+\u001b[39m \n\u001b[1;32m    173\u001b[0m              os\u001b[38;5;241m.\u001b[39mpath\u001b[38;5;241m.\u001b[39msep\u001b[38;5;241m.\u001b[39mjoin(\u001b[38;5;241m+\u001b[39m row) \u001b[38;5;241m+\u001b[39m file_extension)\n\u001b[1;32m    174\u001b[0m \u001b[38;5;28;01mwith\u001b[39;00m \u001b[38;5;28mopen\u001b[39m(file_name, \u001b[38;5;124m\"\u001b[39m\u001b[38;5;124mw\u001b[39m\u001b[38;5;124m\"\u001b[39m) \u001b[38;5;28;01mas\u001b[39;00m text_file:\n",
      "File \u001b[0;32m~/Onedrive/Documents_Charl/Computer_Technical/Programming_GitHub/AustralianSchoolMaths/WebsiteCreator/topics.py:54\u001b[0m, in \u001b[0;36mget_topic_display_string\u001b[0;34m(topic, topics_dir, topic_sub_category_1, topic_sub_category_2, subject_code, sort_orders_df, topics_df, state)\u001b[0m\n\u001b[1;32m     51\u001b[0m     tags \u001b[38;5;241m=\u001b[39m [subject_code]\n\u001b[1;32m     52\u001b[0m \u001b[38;5;28;01melif\u001b[39;00m (topic_sub_category_2\u001b[38;5;241m.\u001b[39mupper() \u001b[38;5;241m==\u001b[39m \n\u001b[1;32m     53\u001b[0m       \u001b[38;5;124m'\u001b[39m\u001b[38;5;124mBY YEAR CUMULATIVE\u001b[39m\u001b[38;5;124m'\u001b[39m):                  \n\u001b[0;32m---> 54\u001b[0m     tags \u001b[38;5;241m=\u001b[39m \u001b[43mprevious_subject_codes\u001b[49m\u001b[43m(\u001b[49m\u001b[43msort_orders_df\u001b[49m\u001b[43m,\u001b[49m\u001b[43m \u001b[49m\n\u001b[1;32m     55\u001b[0m \u001b[43m                                 \u001b[49m\u001b[43msubject_code\u001b[49m\u001b[43m)\u001b[49m\n\u001b[1;32m     56\u001b[0m \u001b[38;5;28;01melse\u001b[39;00m:\n\u001b[1;32m     57\u001b[0m     tags \u001b[38;5;241m=\u001b[39m []\n",
      "File \u001b[0;32m~/Onedrive/Documents_Charl/Computer_Technical/Programming_GitHub/AustralianSchoolMaths/WebsiteCreator/topics.py:124\u001b[0m, in \u001b[0;36mprevious_subject_codes\u001b[0;34m(sort_orders_df, subject_code)\u001b[0m\n\u001b[1;32m    119\u001b[0m \u001b[38;5;28;01mdef\u001b[39;00m \u001b[38;5;21mprevious_subject_codes\u001b[39m(sort_orders_df, subject_code):\n\u001b[1;32m    120\u001b[0m \u001b[38;5;250m    \u001b[39m\u001b[38;5;124;03m\"\"\"Returns a list of subject codes ups to and including subject_code\u001b[39;00m\n\u001b[1;32m    121\u001b[0m \u001b[38;5;124;03m    based on the order in df_sort_orders and the logic below\"\"\"\u001b[39;00m\n\u001b[1;32m    123\u001b[0m     sorted_subject_codes \u001b[38;5;241m=\u001b[39m \u001b[38;5;28mlist\u001b[39m(sort_orders_df[\n\u001b[0;32m--> 124\u001b[0m         (\u001b[43msort_orders_df\u001b[49m\u001b[43m[\u001b[49m\u001b[38;5;124;43m'\u001b[39;49m\u001b[38;5;124;43mLevel_1\u001b[39;49m\u001b[38;5;124;43m'\u001b[39;49m\u001b[43m]\u001b[49m\u001b[38;5;241m.\u001b[39mstr\u001b[38;5;241m.\u001b[39mupper()\u001b[38;5;241m==\u001b[39m\u001b[38;5;124m'\u001b[39m\u001b[38;5;124mTOPICS\u001b[39m\u001b[38;5;124m'\u001b[39m) \u001b[38;5;241m&\u001b[39m \n\u001b[1;32m    125\u001b[0m         (sort_orders_df[\u001b[38;5;124m'\u001b[39m\u001b[38;5;124mLevel_2\u001b[39m\u001b[38;5;124m'\u001b[39m]\u001b[38;5;241m.\u001b[39mstr\u001b[38;5;241m.\u001b[39mupper()\u001b[38;5;241m==\u001b[39m\u001b[38;5;124m'\u001b[39m\u001b[38;5;124mBY YEAR\u001b[39m\u001b[38;5;124m'\u001b[39m) \u001b[38;5;241m&\u001b[39m \n\u001b[1;32m    126\u001b[0m         (sort_orders_df[\u001b[38;5;124m'\u001b[39m\u001b[38;5;124mLevel_3\u001b[39m\u001b[38;5;124m'\u001b[39m]\u001b[38;5;241m.\u001b[39mnotnull()) \u001b[38;5;241m&\u001b[39m                                 \n\u001b[1;32m    127\u001b[0m         (sort_orders_df[\u001b[38;5;124m'\u001b[39m\u001b[38;5;124mLevel_4\u001b[39m\u001b[38;5;124m'\u001b[39m]\u001b[38;5;241m.\u001b[39misnull())\n\u001b[1;32m    128\u001b[0m     ][\u001b[38;5;124m'\u001b[39m\u001b[38;5;124mLevel_3\u001b[39m\u001b[38;5;124m'\u001b[39m])\n\u001b[1;32m    129\u001b[0m     subject_code_index \u001b[38;5;241m=\u001b[39m sorted_subject_codes\u001b[38;5;241m.\u001b[39mindex(subject_code)\n\u001b[1;32m    130\u001b[0m     \u001b[38;5;28;01mreturn\u001b[39;00m(sorted_subject_codes[:subject_code_index\u001b[38;5;241m+\u001b[39m\u001b[38;5;241m1\u001b[39m])\n",
      "File \u001b[0;32m/usr/lib/python3.11/site-packages/pandas/core/frame.py:3807\u001b[0m, in \u001b[0;36mDataFrame.__getitem__\u001b[0;34m(self, key)\u001b[0m\n\u001b[1;32m   3805\u001b[0m \u001b[38;5;28;01mif\u001b[39;00m \u001b[38;5;28mself\u001b[39m\u001b[38;5;241m.\u001b[39mcolumns\u001b[38;5;241m.\u001b[39mnlevels \u001b[38;5;241m>\u001b[39m \u001b[38;5;241m1\u001b[39m:\n\u001b[1;32m   3806\u001b[0m     \u001b[38;5;28;01mreturn\u001b[39;00m \u001b[38;5;28mself\u001b[39m\u001b[38;5;241m.\u001b[39m_getitem_multilevel(key)\n\u001b[0;32m-> 3807\u001b[0m indexer \u001b[38;5;241m=\u001b[39m \u001b[38;5;28;43mself\u001b[39;49m\u001b[38;5;241;43m.\u001b[39;49m\u001b[43mcolumns\u001b[49m\u001b[38;5;241;43m.\u001b[39;49m\u001b[43mget_loc\u001b[49m\u001b[43m(\u001b[49m\u001b[43mkey\u001b[49m\u001b[43m)\u001b[49m\n\u001b[1;32m   3808\u001b[0m \u001b[38;5;28;01mif\u001b[39;00m is_integer(indexer):\n\u001b[1;32m   3809\u001b[0m     indexer \u001b[38;5;241m=\u001b[39m [indexer]\n",
      "File \u001b[0;32m/usr/lib/python3.11/site-packages/pandas/core/indexes/base.py:3804\u001b[0m, in \u001b[0;36mIndex.get_loc\u001b[0;34m(self, key, method, tolerance)\u001b[0m\n\u001b[1;32m   3802\u001b[0m     \u001b[38;5;28;01mreturn\u001b[39;00m \u001b[38;5;28mself\u001b[39m\u001b[38;5;241m.\u001b[39m_engine\u001b[38;5;241m.\u001b[39mget_loc(casted_key)\n\u001b[1;32m   3803\u001b[0m \u001b[38;5;28;01mexcept\u001b[39;00m \u001b[38;5;167;01mKeyError\u001b[39;00m \u001b[38;5;28;01mas\u001b[39;00m err:\n\u001b[0;32m-> 3804\u001b[0m     \u001b[38;5;28;01mraise\u001b[39;00m \u001b[38;5;167;01mKeyError\u001b[39;00m(key) \u001b[38;5;28;01mfrom\u001b[39;00m \u001b[38;5;21;01merr\u001b[39;00m\n\u001b[1;32m   3805\u001b[0m \u001b[38;5;28;01mexcept\u001b[39;00m \u001b[38;5;167;01mTypeError\u001b[39;00m:\n\u001b[1;32m   3806\u001b[0m     \u001b[38;5;66;03m# If we have a listlike key, _check_indexing_error will raise\u001b[39;00m\n\u001b[1;32m   3807\u001b[0m     \u001b[38;5;66;03m#  InvalidIndexError. Otherwise we fall through and re-raise\u001b[39;00m\n\u001b[1;32m   3808\u001b[0m     \u001b[38;5;66;03m#  the TypeError.\u001b[39;00m\n\u001b[1;32m   3809\u001b[0m     \u001b[38;5;28mself\u001b[39m\u001b[38;5;241m.\u001b[39m_check_indexing_error(key)\n",
      "\u001b[0;31mKeyError\u001b[0m: 'Level_1'"
     ]
    }
   ],
   "source": [
    "import formulas\n",
    "import utilities\n",
    "import topics\n",
    "import pandas as pd\n",
    "import os\n",
    "import re\n",
    "\n",
    "\n",
    "if __name__ == '__main__':\n",
    "\n",
    "    website_creator_dir = os.getcwd()\n",
    "    docs_dir = utilities.get_docs_path(website_creator_dir)\n",
    "    formula_file_path = website_creator_dir + os.path.sep + 'formulas.csv'\n",
    "    order_file_path = website_creator_dir + os.path.sep + 'sort_orders.csv'\n",
    "    sort_orders_df = pd.read_csv(order_file_path)\n",
    "    \n",
    "    # Create formula-related markdown documents\n",
    "    formulas_input_df = pd.read_csv(formula_file_path)\n",
    "    formulas_df = formulas.get_formulas_df(formulas_input_df, sort_orders_df)\n",
    "    formula_sheet_items = (\n",
    "        formulas.get_formulas_on_formula_sheet(formulas_input_df))\n",
    "    formula_proof_required_items = (\n",
    "        formulas.get_formulas_where_proofs_required(formulas_input_df))    \n",
    "    utilities.delete_directory_if_it_exists(docs_dir)\n",
    "    formulas.create_formulas_content(\n",
    "        formulas_df, formula_sheet_items, formula_proof_required_items, \n",
    "        sort_orders_df, docs_dir)\n",
    "    formulas.create_calculus_summary(\n",
    "        formulas_df, formula_sheet_items, formula_proof_required_items, \n",
    "        sort_orders_df, docs_dir)\n",
    "    formulas.create_financial_summary(\n",
    "        formulas_df, formula_sheet_items, formula_proof_required_items, \n",
    "        sort_orders_df, docs_dir)\n",
    "\n",
    "    # Create topic related markdown documents\n",
    "    topics_df = topics.get_topics_df(sort_orders_df)\n",
    "    topics_dir = website_creator_dir + os.path.sep + 'topic_summaries'\n",
    "    topics.create_topics_content(topics_df, sort_orders_df, docs_dir, \n",
    "                                 topics_dir)"
   ]
  },
  {
   "cell_type": "code",
   "execution_count": 3,
   "id": "45eb371b-8ea5-41a0-abbb-b0d9abd904b3",
   "metadata": {
    "editable": true,
    "slideshow": {
     "slide_type": ""
    },
    "tags": []
   },
   "outputs": [],
   "source": [
    "# Temp markdown file export of selected topic notebook\n",
    "\n",
    "import utilities\n",
    "\n",
    "input_file = '/home/charl/Onedrive/Documents_Charl/Computer_Technical/Programming_GitHub/AustralianSchoolMaths/WebsiteCreator/topic_summaries/financial_mathematics.ipynb'\n",
    "output_file = '/home/charl/Onedrive/Documents_Charl/Computer_Technical/Programming_GitHub/AustralianSchoolMaths/WebsiteCreator/topic_summaries/temp.md'\n",
    "\n",
    "\n",
    "export_string = utilities.filtered_notebook_md_string(\n",
    "    input_notebook_path=input_file, include_tags=['Year 12 Adv'], \n",
    "    remove_input_tags=['hide_code'])\n",
    "\n",
    "with open(output_file, \"w\") as text_file:\n",
    "    text_file.write(export_string)"
   ]
  },
  {
   "cell_type": "code",
   "execution_count": 16,
   "id": "1b142aad-6c7b-4241-9dc1-c7720dcec34b",
   "metadata": {},
   "outputs": [
    {
     "name": "stdout",
     "output_type": "stream",
     "text": [
      "13\n"
     ]
    }
   ],
   "source": [
    "# example of kwargs pass through and modify\n",
    "\n",
    "def fn_1(**kwargs):\n",
    "    kwargs['c'] = 10\n",
    "    fn_2(**kwargs)\n",
    "\n",
    "def fn_2(a, b, c):\n",
    "    print(a+b+c)\n",
    "\n",
    "def fn_3(**kwargs):\n",
    "    display(kwargs)\n",
    "    \n",
    "fn_1(a=1, b=2)\n",
    "# fn_3(a=1,b=2,c=3)"
   ]
  },
  {
   "cell_type": "code",
   "execution_count": 10,
   "id": "d90391f2-54df-49f4-8921-145a911bd06e",
   "metadata": {},
   "outputs": [
    {
     "name": "stdout",
     "output_type": "stream",
     "text": [
      "test\n"
     ]
    }
   ],
   "source": [
    "def fn (a, **kwargs):\n",
    "    print('test')\n",
    "\n",
    "fn(b=1, c=3, a=2)\n"
   ]
  }
 ],
 "metadata": {
  "kernelspec": {
   "display_name": "Python 3 (ipykernel)",
   "language": "python",
   "name": "python3"
  },
  "language_info": {
   "codemirror_mode": {
    "name": "ipython",
    "version": 3
   },
   "file_extension": ".py",
   "mimetype": "text/x-python",
   "name": "python",
   "nbconvert_exporter": "python",
   "pygments_lexer": "ipython3",
   "version": "3.11.3"
  }
 },
 "nbformat": 4,
 "nbformat_minor": 5
}
