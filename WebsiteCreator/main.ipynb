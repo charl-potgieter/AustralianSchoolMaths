{
 "cells": [
  {
   "cell_type": "code",
   "execution_count": 1,
   "id": "acb8cbfb-7511-4f05-8b7f-fad03be7d06f",
   "metadata": {
    "editable": true,
    "slideshow": {
     "slide_type": ""
    },
    "tags": []
   },
   "outputs": [],
   "source": [
    "import formulas\n",
    "import utilities\n",
    "import pandas as pd\n",
    "import os\n",
    "import re\n",
    "\n",
    "\n",
    "if __name__ == '__main__':\n",
    "\n",
    "    website_creator_dir = os.getcwd()\n",
    "    docs_dir = utilities.get_docs_path(website_creator_dir)\n",
    "    formula_file_path = website_creator_dir + os.path.sep + 'formulas.csv'\n",
    "    order_file_path = website_creator_dir + os.path.sep + 'sort_orders.csv'\n",
    "\n",
    "    formulas_input_df = pd.read_csv(formula_file_path)\n",
    "    sort_orders_df = pd.read_csv(order_file_path)\n",
    "    formulas_df = formulas.get_formulas_df(formulas_input_df, sort_orders_df)\n",
    "    formula_sheet_list = (\n",
    "        formulas.get_formulas_on_formula_sheet(formulas_input_df))\n",
    "    \n",
    "    utilities.delete_directory_if_it_exists(docs_dir)\n",
    "    formulas.create_formulas_content(formulas_df, formula_sheet_list, \n",
    "                            sort_orders_df, docs_dir)\n",
    "    formulas.create_calculus_summary(formulas_df, formula_sheet_list, \n",
    "                            sort_orders_df, docs_dir)\n",
    "    formulas.create_financial_summary(formulas_df, formula_sheet_list, \n",
    "                            sort_orders_df, docs_dir)\n"
   ]
  },
  {
   "cell_type": "code",
   "execution_count": 2,
   "id": "92a3f655-3ee2-44ac-9601-ec8c47427fc8",
   "metadata": {
    "editable": true,
    "slideshow": {
     "slide_type": ""
    },
    "tags": []
   },
   "outputs": [],
   "source": [
    "import os\n",
    "import formulas\n",
    "import utilities\n",
    "import pandas as pd\n",
    "import topics\n",
    "\n",
    "def get_topic_display_string(input_series, **kwarg):\n",
    "    \n",
    "    \"\"\" !!!!MAY NEED TO UPDATE - not sure if I need to pass topics_df!!!\n",
    "    Returns a topic summary in markdown format\n",
    "    Input series is a pandas series with Indices State, Subect code\n",
    "    and topic.  **Kwarg must be called with parameter  = topics_df\n",
    "    where topics_df contains fields State,Topic sub category 1, \n",
    "    Topic sub category 2, Subject code and Topic\n",
    "    \"\"\"\n",
    "    \n",
    "    file_name = input_series['Topic'].lower().replace(' ', '_') + '.ipynb'\n",
    "    file_path = kwarg['topics_dir'] + os.path.sep + file_name\n",
    "    \n",
    "    if os.path.isfile(file_path):\n",
    "    \n",
    "        if input_series['Topic sub category 2'].upper() == 'BY YEAR':\n",
    "            tags = input_series['Subject code']\n",
    "        elif (input_series['Topic sub category 2'].upper() == \n",
    "              'BY YEAR CUMULATIVE'):\n",
    "            tags = topics.previous_subject_codes(\n",
    "                kwarg['sort_orders_df'], input_series['Subject code'])\n",
    "        else:\n",
    "            tags = []\n",
    "        \n",
    "        output_str = utilities.filtered_notebook_md_string(\n",
    "            input_notebook_path=file_path, include_tags=tags, \n",
    "            remove_input_tags=['hide_code'])\n",
    "                                          \n",
    "    return(output_str)\n",
    "\n",
    "\n",
    "def create_topics_content(topics_df, sort_orders_df, docs_dir, topics_dir):\n",
    "    \"\"\"Creates markdown files containing topic tables as input for static \n",
    "    web page creation via Hugo\n",
    "    \"\"\"\n",
    "\n",
    "    dirs_df = (\n",
    "        topics_df[['State', 'Topic sub category 1', \n",
    "                             'Topic sub category 2',\n",
    "                             'Subject code']].drop_duplicates())\n",
    "    file_paths_df = (\n",
    "        topics_df[['State', 'Topic sub category 1', \n",
    "                             'Topic sub category 2',\n",
    "                             'Subject code', 'Topic']].drop_duplicates())\n",
    "    \n",
    "    utilities.create_sub_directories_from_df(base_dir = docs_dir, \n",
    "                                             sub_paths_df = dirs_df)\n",
    "    \n",
    "    front_matter_index_files = {'bookCollapseSection' : True}\n",
    "    utilities.create_index_files(base_dir=docs_dir, dirs_df=dirs_df, \n",
    "                       front_matter=front_matter_index_files,\n",
    "                       sort_orders_df = sort_orders_df)\n",
    "\n",
    "    \n",
    "    utilities.create_files(base_dir = docs_dir, file_paths_df= file_paths_df, \n",
    "                           file_extension='.md', \n",
    "                           fn=get_topic_display_string, \n",
    "                           sort_orders_df=sort_orders_df,\n",
    "                           topics_df=topics_df,\n",
    "                           topics_dir=topics_dir)\n",
    "\n",
    "\n",
    "\n",
    "\n",
    "if __name__=='__main__':\n",
    "    website_creator_dir = os.getcwd()\n",
    "    docs_dir = utilities.get_docs_path(website_creator_dir)\n",
    "    order_file_path = website_creator_dir + os.path.sep + 'sort_orders.csv'\n",
    "    \n",
    "    sort_orders_df = pd.read_csv(order_file_path)\n",
    "    topics_df = topics.get_topics_df(sort_orders_df)\n",
    "    topics_dir = website_creator_dir + os.path.sep + 'topic_summaries'\n",
    "    create_topics_content(topics_df, sort_orders_df, docs_dir, topics_dir)\n"
   ]
  },
  {
   "cell_type": "code",
   "execution_count": 8,
   "id": "3f6f04e4-3519-4112-bfec-63602ecd7ef3",
   "metadata": {},
   "outputs": [
    {
     "data": {
      "text/html": [
       "<div>\n",
       "<style scoped>\n",
       "    .dataframe tbody tr th:only-of-type {\n",
       "        vertical-align: middle;\n",
       "    }\n",
       "\n",
       "    .dataframe tbody tr th {\n",
       "        vertical-align: top;\n",
       "    }\n",
       "\n",
       "    .dataframe thead th {\n",
       "        text-align: right;\n",
       "    }\n",
       "</style>\n",
       "<table border=\"1\" class=\"dataframe\">\n",
       "  <thead>\n",
       "    <tr style=\"text-align: right;\">\n",
       "      <th></th>\n",
       "      <th>State</th>\n",
       "      <th>Topic sub category 1</th>\n",
       "      <th>Topic sub category 2</th>\n",
       "      <th>Subject code</th>\n",
       "      <th>Topic</th>\n",
       "    </tr>\n",
       "  </thead>\n",
       "  <tbody>\n",
       "    <tr>\n",
       "      <th>41</th>\n",
       "      <td>NSW</td>\n",
       "      <td>Topics</td>\n",
       "      <td>By year</td>\n",
       "      <td>Year 9</td>\n",
       "      <td>Indices</td>\n",
       "    </tr>\n",
       "    <tr>\n",
       "      <th>42</th>\n",
       "      <td>NSW</td>\n",
       "      <td>Topics</td>\n",
       "      <td>By year</td>\n",
       "      <td>Year 11 Adv</td>\n",
       "      <td>Calculus</td>\n",
       "    </tr>\n",
       "    <tr>\n",
       "      <th>43</th>\n",
       "      <td>NSW</td>\n",
       "      <td>Topics</td>\n",
       "      <td>By year</td>\n",
       "      <td>Year 12 Adv</td>\n",
       "      <td>Financial mathematics</td>\n",
       "    </tr>\n",
       "    <tr>\n",
       "      <th>44</th>\n",
       "      <td>NSW</td>\n",
       "      <td>Topics</td>\n",
       "      <td>By year</td>\n",
       "      <td>Year 12 Adv</td>\n",
       "      <td>Calculus</td>\n",
       "    </tr>\n",
       "    <tr>\n",
       "      <th>49</th>\n",
       "      <td>NSW</td>\n",
       "      <td>Topics</td>\n",
       "      <td>By year cumulative</td>\n",
       "      <td>Year 9</td>\n",
       "      <td>Indices</td>\n",
       "    </tr>\n",
       "    <tr>\n",
       "      <th>50</th>\n",
       "      <td>NSW</td>\n",
       "      <td>Topics</td>\n",
       "      <td>By year cumulative</td>\n",
       "      <td>Year 11 Adv</td>\n",
       "      <td>Indices</td>\n",
       "    </tr>\n",
       "    <tr>\n",
       "      <th>51</th>\n",
       "      <td>NSW</td>\n",
       "      <td>Topics</td>\n",
       "      <td>By year cumulative</td>\n",
       "      <td>Year 11 Adv</td>\n",
       "      <td>Calculus</td>\n",
       "    </tr>\n",
       "    <tr>\n",
       "      <th>52</th>\n",
       "      <td>NSW</td>\n",
       "      <td>Topics</td>\n",
       "      <td>By year cumulative</td>\n",
       "      <td>Year 12 Adv</td>\n",
       "      <td>Indices</td>\n",
       "    </tr>\n",
       "    <tr>\n",
       "      <th>53</th>\n",
       "      <td>NSW</td>\n",
       "      <td>Topics</td>\n",
       "      <td>By year cumulative</td>\n",
       "      <td>Year 12 Adv</td>\n",
       "      <td>Financial mathematics</td>\n",
       "    </tr>\n",
       "    <tr>\n",
       "      <th>54</th>\n",
       "      <td>NSW</td>\n",
       "      <td>Topics</td>\n",
       "      <td>By year cumulative</td>\n",
       "      <td>Year 12 Adv</td>\n",
       "      <td>Calculus</td>\n",
       "    </tr>\n",
       "  </tbody>\n",
       "</table>\n",
       "</div>"
      ],
      "text/plain": [
       "   State Topic sub category 1 Topic sub category 2 Subject code  \\\n",
       "41   NSW               Topics              By year       Year 9   \n",
       "42   NSW               Topics              By year  Year 11 Adv   \n",
       "43   NSW               Topics              By year  Year 12 Adv   \n",
       "44   NSW               Topics              By year  Year 12 Adv   \n",
       "49   NSW               Topics   By year cumulative       Year 9   \n",
       "50   NSW               Topics   By year cumulative  Year 11 Adv   \n",
       "51   NSW               Topics   By year cumulative  Year 11 Adv   \n",
       "52   NSW               Topics   By year cumulative  Year 12 Adv   \n",
       "53   NSW               Topics   By year cumulative  Year 12 Adv   \n",
       "54   NSW               Topics   By year cumulative  Year 12 Adv   \n",
       "\n",
       "                    Topic  \n",
       "41                Indices  \n",
       "42               Calculus  \n",
       "43  Financial mathematics  \n",
       "44               Calculus  \n",
       "49                Indices  \n",
       "50                Indices  \n",
       "51               Calculus  \n",
       "52                Indices  \n",
       "53  Financial mathematics  \n",
       "54               Calculus  "
      ]
     },
     "execution_count": 8,
     "metadata": {},
     "output_type": "execute_result"
    }
   ],
   "source": [
    "topics_df"
   ]
  },
  {
   "cell_type": "code",
   "execution_count": 9,
   "id": "e65ba4c8-29d9-497d-a389-a791323eb2ed",
   "metadata": {},
   "outputs": [
    {
     "data": {
      "text/plain": [
       "'BY YEAR CUMULATIVE'"
      ]
     },
     "execution_count": 9,
     "metadata": {},
     "output_type": "execute_result"
    }
   ],
   "source": [
    "'By year cumulative'.upper()"
   ]
  },
  {
   "cell_type": "code",
   "execution_count": 1,
   "id": "2757654d-48c1-4cf2-9a4d-dc76a0ce4df4",
   "metadata": {},
   "outputs": [],
   "source": [
    "import os\n",
    "import topics\n",
    "import utilities\n",
    "import pandas as pd\n",
    "import numpy as np"
   ]
  },
  {
   "cell_type": "code",
   "execution_count": 7,
   "id": "57afc4e1-5c44-46a7-bb5e-f1ada9c79c9a",
   "metadata": {},
   "outputs": [
    {
     "data": {
      "text/plain": [
       "['Year 9', 'Year 11 Adv']"
      ]
     },
     "metadata": {},
     "output_type": "display_data"
    }
   ],
   "source": [
    "subject_code = 'Year 12 Adv'\n",
    "\n",
    "\n",
    "\n",
    "\n",
    "display(topics.previous_subject_codes(sort_orders_df, 'Year 11 Adv'))"
   ]
  },
  {
   "cell_type": "code",
   "execution_count": 18,
   "id": "0372c21d-dac1-4038-baf2-4feedb277c32",
   "metadata": {},
   "outputs": [
    {
     "data": {
      "text/plain": [
       "'# Financial mathematics\\n\\n## Compounding interest\\n\\n\\n$\\\\displaystyle A = P(1+r)^n$\\n\\n\\n## Arithmetic sequence and series\\n\\nAn **arithmetic sequence** is a sequence of numbers such that the difference from any succeeding term to its preceding term remains constant throughout the sequence\\n\\nAn **arithmetic series** is sum of the members of a finite arithmetic sequence\\n'"
      ]
     },
     "metadata": {},
     "output_type": "display_data"
    }
   ],
   "source": [
    "website_creator_dir = os.getcwd()\n",
    "data = np.array(['NSW', 'Topics', 'By year cumulative', 'Year 12 Ext 1', 'Financial mathematics'])\n",
    "input_series = pd.Series(data, index=['State', 'Topic sub category 1', 'Topic sub category 2', 'Subject code', 'Topic'])\n",
    "\n",
    "# file_name = input_series['Topic'].lower().replace(' ', '_') + '.ipynb'\n",
    "\n",
    "# file_path  =   os.path.sep.join([website_creator_dir, 'topic_summaries', file_name])\n",
    "\n",
    "# if os.path.isfile(file_path):\n",
    "\n",
    "#     if input_series['Topic sub category 2'].upper() == 'BY YEAR':\n",
    "#         tags = input_series['Subject code']\n",
    "#     elif input_series['Topic sub category 2'].upper() == 'BY YEAR CUMULATIVE':\n",
    "#         tags = topics.previous_subject_codes(\n",
    "#             sort_orders_df, input_series['Subject code'])\n",
    "#     else:\n",
    "#         tags = []\n",
    "    \n",
    "#     output_str = utilities.filtered_notebook_md_string(\n",
    "#         input_notebook_path=file_path, include_tags=tags, \n",
    "#         remove_input_tags=['hide_code'])\n",
    "    \n",
    "#     display(output_str)"
   ]
  }
 ],
 "metadata": {
  "kernelspec": {
   "display_name": "Python 3 (ipykernel)",
   "language": "python",
   "name": "python3"
  },
  "language_info": {
   "codemirror_mode": {
    "name": "ipython",
    "version": 3
   },
   "file_extension": ".py",
   "mimetype": "text/x-python",
   "name": "python",
   "nbconvert_exporter": "python",
   "pygments_lexer": "ipython3",
   "version": "3.11.3"
  }
 },
 "nbformat": 4,
 "nbformat_minor": 5
}
