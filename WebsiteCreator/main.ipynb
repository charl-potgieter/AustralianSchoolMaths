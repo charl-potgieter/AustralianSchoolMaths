{
 "cells": [
  {
   "cell_type": "code",
   "execution_count": 1,
   "id": "acb8cbfb-7511-4f05-8b7f-fad03be7d06f",
   "metadata": {
    "editable": true,
    "slideshow": {
     "slide_type": ""
    },
    "tags": []
   },
   "outputs": [],
   "source": [
    "import formulas\n",
    "import utilities\n",
    "import pandas as pd\n",
    "import os\n",
    "import re\n",
    "\n",
    "\n",
    "def create_formulas_content(website_creator_dir, docs_dir):\n",
    "\n",
    "    formula_file_path = website_creator_dir + os.path.sep + 'formulas.csv' \n",
    "    order_file_path = website_creator_dir + os.path.sep + 'sort_orders.csv'\n",
    "    \n",
    "    df_by_year =  (\n",
    "        formulas.get_formulas_by_year_df(formula_file_path))\n",
    "    df_cumulative = (\n",
    "        formulas.get_formulas_by_year_cumulative_df(\n",
    "            formula_file_path, order_file_path))\n",
    "    sort_orders_df = pd.read_csv(order_file_path)\n",
    "    df_formulas = pd.concat([df_by_year, df_cumulative])\n",
    "    formula_sheet_list = formulas.get_formulas_on_formula_sheet(\n",
    "        formula_file_path)\n",
    "    \n",
    "    dirs_df = (\n",
    "        df_formulas[['State', 'Formula sub category 1', \n",
    "                             'Formula sub category 2',\n",
    "                             'Subject code']].drop_duplicates())\n",
    "    file_paths_df = (\n",
    "        df_formulas[['State', 'Formula sub category 1', \n",
    "                             'Formula sub category 2',\n",
    "                             'Subject code', 'Category']].drop_duplicates())\n",
    "    \n",
    "    utilities.create_sub_directories_from_df(base_dir = docs_dir, \n",
    "                                             sub_paths_df = dirs_df)\n",
    "    \n",
    "    front_matter_index_files = {'bookCollapseSection' : True}\n",
    "    utilities.create_index_files(base_dir=docs_dir, dirs_df=dirs_df, \n",
    "                       front_matter=front_matter_index_files,\n",
    "                       sort_orders_df = sort_orders_df)\n",
    "    \n",
    "    utilities.create_files(base_dir = docs_dir, file_paths_df= file_paths_df, \n",
    "                           file_extension='.md', \n",
    "                           fn=formulas.get_formula_display_string, \n",
    "                           sort_orders_df = sort_orders_df,\n",
    "                           df_formulas = df_formulas, \n",
    "                           formula_sheet_list = formula_sheet_list, \n",
    "                           cols_to_highlight_if_in_formula_sheet = [\n",
    "                               'Formula_1', 'Formula_2']\n",
    "                          )\n",
    "\n",
    "\n",
    "if __name__ == '__main__':\n",
    "\n",
    "    website_creator_dir = os.getcwd()\n",
    "    docs_dir = utilities.get_docs_path(website_creator_dir)\n",
    "    utilities.delete_directory_if_it_exists(docs_dir)\n",
    "    create_formulas_content(website_creator_dir, docs_dir)\n",
    "\n",
    "\n",
    "    # df_calculus = formulas.df_calculus_summary(df_formulas)\n",
    "    # styler_calculus = formulas.styler_calculus_summary(\n",
    "    #     df_calculus, formula_sheet_list)\n",
    "    # display(styler_calculus)"
   ]
  },
  {
   "cell_type": "code",
   "execution_count": 4,
   "id": "780857b6-b2d1-4f9f-8b91-bb69bbe76dff",
   "metadata": {},
   "outputs": [],
   "source": []
  }
 ],
 "metadata": {
  "kernelspec": {
   "display_name": "Python 3 (ipykernel)",
   "language": "python",
   "name": "python3"
  },
  "language_info": {
   "codemirror_mode": {
    "name": "ipython",
    "version": 3
   },
   "file_extension": ".py",
   "mimetype": "text/x-python",
   "name": "python",
   "nbconvert_exporter": "python",
   "pygments_lexer": "ipython3",
   "version": "3.11.3"
  }
 },
 "nbformat": 4,
 "nbformat_minor": 5
}
