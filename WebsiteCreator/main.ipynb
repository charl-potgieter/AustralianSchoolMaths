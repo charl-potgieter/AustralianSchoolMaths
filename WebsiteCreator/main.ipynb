{
 "cells": [
  {
   "cell_type": "code",
   "execution_count": 2,
   "id": "acb8cbfb-7511-4f05-8b7f-fad03be7d06f",
   "metadata": {},
   "outputs": [],
   "source": [
    "import formulas\n",
    "import storage\n",
    "import pandas as pd\n",
    "import os\n",
    "\n",
    "if __name__ == '__main__':\n",
    "\n",
    "    website_creator_path = os.getcwd()\n",
    "    formula_file_path = website_creator_path + os.path.sep + 'formulas.csv'\n",
    "    order_file_dir = website_creator_path + os.path.sep + 'order_files'\n",
    "    docs_dir = storage.get_docs_path(website_creator_path)\n",
    "    df_formulas =  storage.get_formulas(formula_file_path)\n",
    "    sort_orders = storage.get_sort_orders(order_file_dir)\n",
    "    \n",
    "    storage.delete_directory_if_it_exists(docs_dir)\n",
    "\n",
    "    #Create formula by year summary\n",
    "    formula_by_year_summary_df = formulas.get_formula_by_year_summary_df(df_formulas)\n",
    "    storage.create_sub_directories(docs_dir, formula_by_year_summary_df)\n",
    "    storage.create_index_files(base_dir=docs_dir, folder_regex='.*/Formulas/.*', book_collapse=True, sort_orders=sort_orders)\n",
    "    # formulas.create_formula_files(docs_dir, df_formulas)\n",
    "\n",
    "    # df_calculus = formulas.df_calculus_summary(df_formulas)\n",
    "    # styler_calculus = formulas.styler_calculus_summary(df_calculus, formulas.formulas_on_formula_sheet(df_formulas))\n",
    "    # display(styler_calculus)"
   ]
  },
  {
   "cell_type": "code",
   "execution_count": 19,
   "id": "346b3a96-b44d-4426-afce-ffa49bbc37d3",
   "metadata": {},
   "outputs": [
    {
     "data": {
      "text/plain": [
       "'/home/charl/Onedrive/Documents_Charl/Computer_Technical/Programming_GitHub/AustralianSchoolMaths/content/docs'"
      ]
     },
     "execution_count": 19,
     "metadata": {},
     "output_type": "execute_result"
    }
   ],
   "source": [
    "docs_dir"
   ]
  },
  {
   "cell_type": "code",
   "execution_count": 2,
   "id": "8ddebd0a-ac9f-4ddc-9b87-7abbeedb721a",
   "metadata": {},
   "outputs": [],
   "source": []
  },
  {
   "cell_type": "code",
   "execution_count": 8,
   "id": "b48c8a1b-f23e-4a54-af0e-d941c5db514d",
   "metadata": {},
   "outputs": [
    {
     "data": {
      "text/plain": [
       "True"
      ]
     },
     "execution_count": 8,
     "metadata": {},
     "output_type": "execute_result"
    }
   ],
   "source": [
    "_first_index_of_item_in_series('ACdT', sort_orders) is None"
   ]
  },
  {
   "cell_type": "code",
   "execution_count": 3,
   "id": "a239856c-85e2-4249-9875-7e071b9d5dc7",
   "metadata": {},
   "outputs": [
    {
     "data": {
      "text/plain": [
       "1               Indices\n",
       "2            Logarithms\n",
       "3       Differentiation\n",
       "4           Integration\n",
       "5            Statistics\n",
       "6                 Surds\n",
       "1               By year\n",
       "2    Cumulative by year\n",
       "1              Formulas\n",
       "1                   ACT\n",
       "2                   NSW\n",
       "3                    NT\n",
       "4                   QLD\n",
       "5                    SA\n",
       "6                   VIC\n",
       "7                    WA\n",
       "1                Year 9\n",
       "2           Year 11 Adv\n",
       "3           Year 12 Adv\n",
       "4         Year 12 Ext 1\n",
       "Name: sort value, dtype: object"
      ]
     },
     "execution_count": 3,
     "metadata": {},
     "output_type": "execute_result"
    }
   ],
   "source": [
    "sort_orders"
   ]
  }
 ],
 "metadata": {
  "kernelspec": {
   "display_name": "Python 3 (ipykernel)",
   "language": "python",
   "name": "python3"
  },
  "language_info": {
   "codemirror_mode": {
    "name": "ipython",
    "version": 3
   },
   "file_extension": ".py",
   "mimetype": "text/x-python",
   "name": "python",
   "nbconvert_exporter": "python",
   "pygments_lexer": "ipython3",
   "version": "3.11.3"
  }
 },
 "nbformat": 4,
 "nbformat_minor": 5
}
