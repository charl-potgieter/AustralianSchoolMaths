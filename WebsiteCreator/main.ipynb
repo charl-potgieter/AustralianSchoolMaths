{
 "cells": [
  {
   "cell_type": "code",
   "execution_count": 82,
   "id": "acb8cbfb-7511-4f05-8b7f-fad03be7d06f",
   "metadata": {
    "editable": true,
    "slideshow": {
     "slide_type": ""
    },
    "tags": []
   },
   "outputs": [],
   "source": [
    "import formulas\n",
    "import utilities\n",
    "import topics\n",
    "import pandas as pd\n",
    "import os\n",
    "import re\n",
    "\n",
    "\n",
    "if __name__ == '__main__':\n",
    "\n",
    "    website_creator_dir = os.getcwd()\n",
    "    docs_dir = utilities.get_docs_path(website_creator_dir)\n",
    "    formula_file_path = website_creator_dir + os.path.sep + 'formulas.csv'\n",
    "    order_file_path = website_creator_dir + os.path.sep + 'sort_orders.csv'\n",
    "    sort_orders_df = pd.read_csv(order_file_path)\n",
    "    \n",
    "    # Create formula-related markdown documents\n",
    "    formulas_input_df = pd.read_csv(formula_file_path)\n",
    "    formulas_df = formulas.get_formulas_df(formulas_input_df, sort_orders_df)\n",
    "    formula_sheet_list = (\n",
    "        formulas.get_formulas_on_formula_sheet(formulas_input_df))\n",
    "    utilities.delete_directory_if_it_exists(docs_dir)\n",
    "    formulas.create_formulas_content(formulas_df, formula_sheet_list, \n",
    "                            sort_orders_df, docs_dir)\n",
    "    formulas.create_calculus_summary(formulas_df, formula_sheet_list, \n",
    "                            sort_orders_df, docs_dir)\n",
    "    formulas.create_financial_summary(formulas_df, formula_sheet_list, \n",
    "                            sort_orders_df, docs_dir)\n",
    "\n",
    "    # Create topic related markdown documents\n",
    "    topics_df = topics.get_topics_df(sort_orders_df)\n",
    "    topics_dir = website_creator_dir + os.path.sep + 'topic_summaries'\n",
    "    topics.create_topics_content(topics_df, sort_orders_df, docs_dir, \n",
    "                                 topics_dir)\n"
   ]
  },
  {
   "cell_type": "code",
   "execution_count": 3,
   "id": "45eb371b-8ea5-41a0-abbb-b0d9abd904b3",
   "metadata": {
    "editable": true,
    "slideshow": {
     "slide_type": ""
    },
    "tags": []
   },
   "outputs": [],
   "source": [
    "# Temp markdown file export of selected topic notebook\n",
    "\n",
    "import utilities\n",
    "\n",
    "input_file = '/home/charl/Onedrive/Documents_Charl/Computer_Technical/Programming_GitHub/AustralianSchoolMaths/WebsiteCreator/topic_summaries/financial_mathematics.ipynb'\n",
    "output_file = '/home/charl/Onedrive/Documents_Charl/Computer_Technical/Programming_GitHub/AustralianSchoolMaths/WebsiteCreator/topic_summaries/temp.md'\n",
    "\n",
    "\n",
    "export_string = utilities.filtered_notebook_md_string(\n",
    "    input_notebook_path=input_file, include_tags=['Year 12 Adv'], \n",
    "    remove_input_tags=['hide_code'])\n",
    "\n",
    "with open(output_file, \"w\") as text_file:\n",
    "    text_file.write(export_string)"
   ]
  },
  {
   "cell_type": "code",
   "execution_count": null,
   "id": "8b6ec074-1193-4d50-9a3e-b46647cdf292",
   "metadata": {},
   "outputs": [],
   "source": [
    "def get_formulas_requiring_proofs(df):\n",
    "    \"\"\"\n",
    "    \"\"\"\n",
    "    pass\n",
    "    \n",
    "\n"
   ]
  },
  {
   "cell_type": "markdown",
   "id": "434dafdd-ef9c-48bf-bae3-adaa0d71017d",
   "metadata": {},
   "source": [
    "$ y=f(x)   \\,\\,\\,\\,\\,\\,\\,\\,\\,\\,\\,\\,\\,\\,\\,\\,\\,\\,\\,\\,\\,\\,\\,\\,\\,\\,\\,\\,\\,\\,\\,\\,\\,\\,\\,\\,\\,\\,\\,\\,\\,\\,\\,\\,\\,\\,\\,\\,\\,\\,   \\dfrac{dy}{dx} =\\lim\\limits_{h \\to 0} \\dfrac{f(x+h) - f(x)}{h}  $ <br>\n",
    "$ y=kx   \\,\\,\\,\\,\\,\\,\\,\\,\\,\\,\\,\\,\\,\\,\\,\\,\\,\\,\\,\\,\\,\\,\\,\\,\\,\\,\\,\\,\\,\\,\\,\\,\\,\\,\\,\\,\\,\\,\\,\\,\\,\\,\\,\\,\\,\\,\\,\\,\\,\\,\\,\\,\\,\\,\\,   \\dfrac{dy}{dx} =k  $ <br>\n",
    "$ y=k   \\,\\,\\,\\,\\,\\,\\,\\,\\,\\,\\,\\,\\,\\,\\,\\,\\,\\,\\,\\,\\,\\,\\,\\,\\,\\,\\,\\,\\,\\,\\,\\,\\,\\,\\,\\,\\,\\,\\,\\,\\,\\,\\,\\,\\,\\,\\,\\,\\,\\,\\,\\,\\,\\,\\,\\,\\,\\,\\,   \\dfrac{dy}{dx} =0  $ <br>\n",
    "$ y=x^n   \\,\\,\\,\\,\\,\\,\\,\\,\\,\\,\\,\\,\\,\\,\\,\\,\\,\\,\\,\\,\\,\\,\\,\\,\\,\\,\\,\\,\\,\\,\\,\\,\\,\\,\\,\\,\\,\\,\\,\\,\\,\\,\\,\\,\\,\\,\\,\\,\\,\\,\\,\\,\\,\\,\\,\\,   \\dfrac{dy}{dx} =nx^{n-1}  $ <br>\n",
    "$ y=kx^n   \\,\\,\\,\\,\\,\\,\\,\\,\\,\\,\\,\\,\\,\\,\\,\\,\\,\\,\\,\\,\\,\\,\\,\\,\\,\\,\\,\\,\\,\\,\\,\\,\\,\\,\\,\\,\\,\\,\\,\\,\\,\\,\\,\\,\\,\\,\\,\\,\\,\\,\\,\\,\\,   \\dfrac{dy}{dx} =knx^{n-1}  $ <br>\n",
    "$ y=kf(x)   \\,\\,\\,\\,\\,\\,\\,\\,\\,\\,\\,\\,\\,\\,\\,\\,\\,\\,\\,\\,\\,\\,\\,\\,\\,\\,\\,\\,\\,\\,\\,\\,\\,\\,\\,\\,\\,\\,\\,\\,\\,\\,\\,\\,\\,\\,\\,\\,   \\dfrac{dy}{dx} =kf'(x)  $ <br>\n",
    "$ y=f(x) + g(x)   \\,\\,\\,\\,\\,\\,\\,\\,\\,\\,\\,\\,\\,\\,\\,\\,\\,\\,\\,\\,\\,\\,\\,\\,\\,\\,\\,\\,\\,\\,\\,\\,\\,   \\dfrac{dy}{dx} =f'(x) + g'(x)  $ <br>\n",
    "$y=f(x)^n \\,\\,\\,\\,\\,\\,\\,\\,\\,\\,\\,\\,\\,\\,\\,\\,\\,\\,\\,\\,\\,\\,\\,\\,\\,\\,\\,\\,\\,\\,\\,\\,\\,\\,\\,\\,\\,\\,\\,\\,\\,\\,\\,\\,\\,\\,\\,\\,  \\dfrac{dy}{dx}=nf'(x)[f(x)]^{n-1}$ <br>\n",
    "$y=uv \\,\\,\\,\\,\\,\\,\\,\\,\\,\\,\\,\\,\\,\\,\\,\\,\\,\\,\\,\\,\\,\\,\\,\\,\\,\\,\\,\\,\\,\\,\\,\\,\\,\\,\\,\\,\\,\\,\\,\\,\\,\\,\\,\\,\\,\\,\\,\\,\\,\\,\\,\\,\\,\\,\\,\\,   \\dfrac{dy}{dx} = u\\dfrac{dv}{dx} + v\\dfrac{du}{dx}$ <br>\n",
    "$y=\\dfrac{u}{v} \\,\\,\\,\\,\\,\\,\\,\\,\\,\\,\\,\\,\\,\\,\\,\\,\\,\\,\\,\\,\\,\\,\\,\\,\\,\\,\\,\\,\\,\\,\\,\\,\\,\\,\\,\\,\\,\\,\\,\\,\\,\\,\\,\\,\\,\\,\\,\\,\\,\\,\\,\\,\\,\\,\\,\\,   \\dfrac{dy}{dx} = \\dfrac{v\\dfrac{du}{dx} - u\\dfrac{dv}{dx}}{v^2}$ <br>\n",
    "$y=g(u) \\text { where } u = f(x) \\,\\,\\,\\,\\,\\,\\,\\,\\,\\,   \\dfrac{dy}{dx} = \\dfrac{dy}{du} \\times \\dfrac{du}{dx}$ <br>\n",
    "$y=sinf(x) \\,\\,\\,\\,\\,\\,\\,\\,\\,\\,\\,\\,\\,\\,\\,\\,\\,\\,\\,\\,\\,\\,\\,\\,\\,\\,\\,\\,\\,\\,\\,\\,\\,\\,\\,\\,\\,\\,\\,\\,\\,\\,  \\dfrac{dy}{dx} = f'(x)cos f(x)$ <br>\n",
    "$y=cosf(x) \\,\\,\\,\\,\\,\\,\\,\\,\\,\\,\\,\\,\\,\\,\\,\\,\\,\\,\\,\\,\\,\\,\\,\\,\\,\\,\\,\\,\\,\\,\\,\\,\\,\\,\\,\\,\\,\\,\\,\\,\\,\\,\\,   \\dfrac{dy}{dx} = -f'(x)sin f(x)$ <br>\n",
    "$y=tan f(x) \\,\\,\\,\\,\\,\\,\\,\\,\\,\\,\\,\\,\\,\\,\\,\\,\\,\\,\\,\\,\\,\\,\\,\\,\\,\\,\\,\\,\\,\\,\\,\\,\\,\\,\\,\\,\\,\\,\\,\\,\\,\\,   \\dfrac{dy}{dx} = f'(x)sec^2 f(x)$ <br>\n",
    "$y=e^{f(x)} \\,\\,\\,\\,\\,\\,\\,\\,\\,\\,\\,\\,\\,\\,\\,\\,\\,\\,\\,\\,\\,\\,\\,\\,\\,\\,\\,\\,\\,\\,\\,\\,\\,\\,\\,\\,\\,\\,\\,\\,\\,\\,\\,\\,\\,\\,\\,\\,\\,\\,\\,   \\dfrac{dy}{dx} = f'(x) e^{f(x)}$ <br>\n",
    "$y=\\ln f(x) \\,\\,\\,\\,\\,\\,\\,\\,\\,\\,\\,\\,\\,\\,\\,\\,\\,\\,\\,\\,\\,\\,\\,\\,\\,\\,\\,\\,\\,\\,\\,\\,\\,\\,\\,\\,\\,\\,\\,\\,\\,\\,\\,\\,\\,   \\dfrac{dy}{dx} = \\dfrac{f'(x)}{f(x)}$ <br>\n",
    "$y=a^{f(x)} \\,\\,\\,\\,\\,\\,\\,\\,\\,\\,\\,\\,\\,\\,\\,\\,\\,\\,\\,\\,\\,\\,\\,\\,\\,\\,\\,\\,\\,\\,\\,\\,\\,\\,\\,\\,\\,\\,\\,\\,\\,\\,\\,\\,\\,\\,\\,\\,\\,\\,\\,   \\dfrac{dy}{dx} = (\\ln a)f'(x)a^{f(x)}$ <br>\n",
    "$y=log _{a} f(x) \\,\\,\\,\\,\\,\\,\\,\\,\\,\\,\\,\\,\\,\\,\\,\\,\\,\\,\\,\\,\\,\\,\\,\\,\\,\\,\\,\\,\\,\\,\\,\\,\\,\\,\\,\\,\\,\\,\\,\\,\\,   \\dfrac{dy}{dx} = \\dfrac{f'(x)}{(\\ln a) f(x)}$ <br>\n",
    "$y=sin^{-1}f(x) \\,\\,\\,\\,\\,\\,\\,\\,\\,\\,\\,\\,\\,\\,\\,\\,\\,\\,\\,\\,\\,\\,\\,\\,\\,\\,\\,\\,\\,\\,\\,\\,\\,\\,\\,\\,\\,   \\dfrac{dy}{dx} = \\dfrac{f'(x)} {\\sqrt {1 - (f(x))^2} }$ <br>\n",
    "$ y = sin^{-1} \\dfrac{f(x)}{a}  \\,\\,\\,\\,\\,\\,\\,\\,\\,\\,\\,\\,\\,\\,\\,\\,\\,\\,\\,\\,\\,\\,\\,\\,\\,\\,\\,\\,\\,\\,\\,\\,\\,\\,\\,   \\dfrac{dy}{dx} = \\dfrac{f'(x)}{\\sqrt{a^2 - (f(x))^2}} $ <br>\n",
    "$y=cos^{-1}f(x) \\,\\,\\,\\,\\,\\,\\,\\,\\,\\,\\,\\,\\,\\,\\,\\,\\,\\,\\,\\,\\,\\,\\,\\,\\,\\,\\,\\,\\,\\,\\,\\,\\,\\,\\,\\,\\,   \\dfrac{dy}{dx} = - \\dfrac{f'(x)} {\\sqrt {1 - (f(x))^2} }$ <br>\n",
    "$y=cos^{-1} \\dfrac{f(x)}{a} \\,\\,\\,\\,\\,\\,\\,\\,\\,\\,\\,\\,\\,\\,\\,\\,\\,\\,\\,\\,\\,\\,\\,\\,\\,\\,\\,\\,\\,\\,\\,\\,\\,\\,\\,   \\dfrac{dy}{dx} = - \\dfrac{f'(x)} {\\sqrt {a^2 - (f(x))^2} }$ <br>\n",
    "$y=tan^{-1}f(x) \\,\\,\\,\\,\\,\\,\\,\\,\\,\\,\\,\\,\\,\\,\\,\\,\\,\\,\\,\\,\\,\\,\\,\\,\\,\\,\\,\\,\\,\\,\\,\\,\\,\\,\\,\\,\\,   \\dfrac{dy}{dx} = \\dfrac{f'(x)} {1 + (f(x))^2}$ <br>\n",
    "$y=tan^{-1}\\dfrac{f(x)}{a} \\,\\,\\,\\,\\,\\,\\,\\,\\,\\,\\,\\,\\,\\,\\,\\,\\,\\,\\,\\,\\,\\,\\,\\,\\,\\,\\,\\,\\,\\,\\,\\,\\,\\,\\,   \\dfrac{dy}{dx} =  \\dfrac{1}{a} tan^{-1} \\dfrac{f(x)}{a} $ <br>\n",
    "$ \\text{Function and its inverse}  \\,\\,\\,\\,\\,\\,\\,\\,\\,\\,\\,\\,\\,   \\dfrac{dy}{dx} \\times \\dfrac{dx}{dy} = 1, \\text{  or  } \\dfrac{dy}{dx} = \\dfrac{1}{\\dfrac{dx}{dy}} $ <br>"
   ]
  }
 ],
 "metadata": {
  "kernelspec": {
   "display_name": "Python 3 (ipykernel)",
   "language": "python",
   "name": "python3"
  },
  "language_info": {
   "codemirror_mode": {
    "name": "ipython",
    "version": 3
   },
   "file_extension": ".py",
   "mimetype": "text/x-python",
   "name": "python",
   "nbconvert_exporter": "python",
   "pygments_lexer": "ipython3",
   "version": "3.11.3"
  }
 },
 "nbformat": 4,
 "nbformat_minor": 5
}
