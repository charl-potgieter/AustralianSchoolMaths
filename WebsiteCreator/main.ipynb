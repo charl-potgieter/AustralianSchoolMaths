{
 "cells": [
  {
   "cell_type": "code",
   "execution_count": 3,
   "id": "acb8cbfb-7511-4f05-8b7f-fad03be7d06f",
   "metadata": {},
   "outputs": [
    {
     "name": "stdout",
     "output_type": "stream",
     "text": [
      "/home/charl/Onedrive/Documents_Charl/Computer_Technical/Programming_GitHub/AustralianSchoolMaths/content/docs/NSW/Formulas/By Year\n",
      "/home/charl/Onedrive/Documents_Charl/Computer_Technical/Programming_GitHub/AustralianSchoolMaths/content/docs/NSW/Formulas/By Year/Year 11 Adv\n"
     ]
    },
    {
     "ename": "AttributeError",
     "evalue": "Can only use .str accessor with string values!",
     "output_type": "error",
     "traceback": [
      "\u001b[0;31m---------------------------------------------------------------------------\u001b[0m",
      "\u001b[0;31mAttributeError\u001b[0m                            Traceback (most recent call last)",
      "Cell \u001b[0;32mIn[3], line 21\u001b[0m\n\u001b[1;32m     19\u001b[0m formula_by_year_summary_df \u001b[38;5;241m=\u001b[39m formulas\u001b[38;5;241m.\u001b[39mget_formula_by_year_summary_df(df_formulas_by_year)\n\u001b[1;32m     20\u001b[0m storage\u001b[38;5;241m.\u001b[39mcreate_sub_directories(docs_dir, formula_by_year_summary_df)\n\u001b[0;32m---> 21\u001b[0m \u001b[43mstorage\u001b[49m\u001b[38;5;241;43m.\u001b[39;49m\u001b[43mcreate_index_files\u001b[49m\u001b[43m(\u001b[49m\u001b[43mbase_dir\u001b[49m\u001b[38;5;241;43m=\u001b[39;49m\u001b[43mdocs_dir\u001b[49m\u001b[43m,\u001b[49m\u001b[43m \u001b[49m\u001b[43mfolder_regex\u001b[49m\u001b[38;5;241;43m=\u001b[39;49m\u001b[38;5;124;43m'\u001b[39;49m\u001b[38;5;124;43m.*/Formulas/.*\u001b[39;49m\u001b[38;5;124;43m'\u001b[39;49m\u001b[43m,\u001b[49m\u001b[43m \u001b[49m\u001b[43mbook_collapse\u001b[49m\u001b[38;5;241;43m=\u001b[39;49m\u001b[38;5;28;43;01mTrue\u001b[39;49;00m\u001b[43m,\u001b[49m\u001b[43m \u001b[49m\u001b[43msort_orders\u001b[49m\u001b[38;5;241;43m=\u001b[39;49m\u001b[43msort_orders\u001b[49m\u001b[43m)\u001b[49m\n\u001b[1;32m     22\u001b[0m \u001b[38;5;66;03m# # formulas.create_formula_files(docs_dir, df_formulas)\u001b[39;00m\n\u001b[1;32m     23\u001b[0m \n\u001b[1;32m     24\u001b[0m \u001b[38;5;66;03m# df_calculus = formulas.df_calculus_summary(df_formulas)\u001b[39;00m\n\u001b[1;32m     25\u001b[0m \u001b[38;5;66;03m# styler_calculus = formulas.styler_calculus_summary(df_calculus, formulas.formulas_on_formula_sheet(df_formulas))\u001b[39;00m\n\u001b[1;32m     26\u001b[0m \u001b[38;5;66;03m# display(styler_calculus)\u001b[39;00m\n",
      "File \u001b[0;32m~/Onedrive/Documents_Charl/Computer_Technical/Programming_GitHub/AustralianSchoolMaths/WebsiteCreator/storage.py:136\u001b[0m, in \u001b[0;36mcreate_index_files\u001b[0;34m(base_dir, folder_regex, book_collapse, sort_orders)\u001b[0m\n\u001b[1;32m    134\u001b[0m \u001b[38;5;28;01mif\u001b[39;00m sort_orders:\n\u001b[1;32m    135\u001b[0m     \u001b[38;5;28mprint\u001b[39m (root)\n\u001b[0;32m--> 136\u001b[0m     sort_order \u001b[38;5;241m=\u001b[39m \u001b[43m_get_sort_order_for_directory\u001b[49m\u001b[43m(\u001b[49m\u001b[43mroot\u001b[49m\u001b[43m,\u001b[49m\u001b[43m \u001b[49m\u001b[43mbase_dir\u001b[49m\u001b[43m,\u001b[49m\u001b[43m \u001b[49m\u001b[43msort_orders\u001b[49m\u001b[43m)\u001b[49m\n\u001b[1;32m    137\u001b[0m     \u001b[38;5;28;01mif\u001b[39;00m sort_order:\n\u001b[1;32m    138\u001b[0m         string_to_write \u001b[38;5;241m=\u001b[39m string_to_write \u001b[38;5;241m+\u001b[39m \u001b[38;5;124m\"\u001b[39m\u001b[38;5;124mweight: \u001b[39m\u001b[38;5;124m\"\u001b[39m \u001b[38;5;241m+\u001b[39m \u001b[38;5;28mstr\u001b[39m(sort_order) \u001b[38;5;241m+\u001b[39m \u001b[38;5;124m\"\u001b[39m\u001b[38;5;130;01m\\n\u001b[39;00m\u001b[38;5;124m\"\u001b[39m                \n",
      "File \u001b[0;32m~/Onedrive/Documents_Charl/Computer_Technical/Programming_GitHub/AustralianSchoolMaths/WebsiteCreator/storage.py:114\u001b[0m, in \u001b[0;36m_get_sort_order_for_directory\u001b[0;34m(dir, base_dir, sort_orders)\u001b[0m\n\u001b[1;32m    111\u001b[0m number_of_levels_in_dir_ex_base \u001b[38;5;241m=\u001b[39m _number_of_levels_in_dir(dir_ex_base)\n\u001b[1;32m    113\u001b[0m sort_orders_for_level_number \u001b[38;5;241m=\u001b[39m sort_orders[number_of_levels_in_dir_ex_base\u001b[38;5;241m-\u001b[39m\u001b[38;5;241m1\u001b[39m]\n\u001b[0;32m--> 114\u001b[0m sort_orders_as_series_of_paths \u001b[38;5;241m=\u001b[39m \u001b[43m_convert_df_to_series_of_paths\u001b[49m\u001b[43m(\u001b[49m\u001b[43msort_orders_for_level_number\u001b[49m\u001b[43m)\u001b[49m\n\u001b[1;32m    115\u001b[0m index_of_matched_sort_orders \u001b[38;5;241m=\u001b[39m sort_orders_as_series_of_paths[sort_orders_as_series_of_paths \u001b[38;5;241m==\u001b[39m dir_ex_base]\u001b[38;5;241m.\u001b[39mindex\n\u001b[1;32m    116\u001b[0m \u001b[38;5;28;01mif\u001b[39;00m \u001b[38;5;28mlen\u001b[39m(index_of_matched_sort_orders)\u001b[38;5;241m==\u001b[39m\u001b[38;5;241m0\u001b[39m:\n",
      "File \u001b[0;32m~/Onedrive/Documents_Charl/Computer_Technical/Programming_GitHub/AustralianSchoolMaths/WebsiteCreator/storage.py:84\u001b[0m, in \u001b[0;36m_convert_df_to_series_of_paths\u001b[0;34m(df)\u001b[0m\n\u001b[1;32m     81\u001b[0m \u001b[38;5;250m\u001b[39m\u001b[38;5;124;03m\"\"\"Returns a series where each item in series is generated from each row in df dataframe\u001b[39;00m\n\u001b[1;32m     82\u001b[0m \u001b[38;5;124;03mby joining content of each column in row with a path seperator\"\"\"\u001b[39;00m\n\u001b[1;32m     83\u001b[0m series_of_path_lists\u001b[38;5;241m=\u001b[39mdf\u001b[38;5;241m.\u001b[39mapply(func  \u001b[38;5;241m=\u001b[39m \u001b[38;5;28;01mlambda\u001b[39;00m x:\u001b[38;5;28mlist\u001b[39m(x), axis\u001b[38;5;241m=\u001b[39m\u001b[38;5;241m1\u001b[39m)\n\u001b[0;32m---> 84\u001b[0m series_of_paths \u001b[38;5;241m=\u001b[39m \u001b[43mseries_of_path_lists\u001b[49m\u001b[38;5;241;43m.\u001b[39;49m\u001b[43mstr\u001b[49m\u001b[38;5;241m.\u001b[39mjoin(os\u001b[38;5;241m.\u001b[39mpath\u001b[38;5;241m.\u001b[39msep)\n\u001b[1;32m     85\u001b[0m \u001b[38;5;28;01mreturn\u001b[39;00m (series_of_paths)\n",
      "File \u001b[0;32m/usr/lib/python3.11/site-packages/pandas/core/generic.py:5902\u001b[0m, in \u001b[0;36mNDFrame.__getattr__\u001b[0;34m(self, name)\u001b[0m\n\u001b[1;32m   5895\u001b[0m \u001b[38;5;28;01mif\u001b[39;00m (\n\u001b[1;32m   5896\u001b[0m     name \u001b[38;5;129;01mnot\u001b[39;00m \u001b[38;5;129;01min\u001b[39;00m \u001b[38;5;28mself\u001b[39m\u001b[38;5;241m.\u001b[39m_internal_names_set\n\u001b[1;32m   5897\u001b[0m     \u001b[38;5;129;01mand\u001b[39;00m name \u001b[38;5;129;01mnot\u001b[39;00m \u001b[38;5;129;01min\u001b[39;00m \u001b[38;5;28mself\u001b[39m\u001b[38;5;241m.\u001b[39m_metadata\n\u001b[1;32m   5898\u001b[0m     \u001b[38;5;129;01mand\u001b[39;00m name \u001b[38;5;129;01mnot\u001b[39;00m \u001b[38;5;129;01min\u001b[39;00m \u001b[38;5;28mself\u001b[39m\u001b[38;5;241m.\u001b[39m_accessors\n\u001b[1;32m   5899\u001b[0m     \u001b[38;5;129;01mand\u001b[39;00m \u001b[38;5;28mself\u001b[39m\u001b[38;5;241m.\u001b[39m_info_axis\u001b[38;5;241m.\u001b[39m_can_hold_identifiers_and_holds_name(name)\n\u001b[1;32m   5900\u001b[0m ):\n\u001b[1;32m   5901\u001b[0m     \u001b[38;5;28;01mreturn\u001b[39;00m \u001b[38;5;28mself\u001b[39m[name]\n\u001b[0;32m-> 5902\u001b[0m \u001b[38;5;28;01mreturn\u001b[39;00m \u001b[38;5;28;43mobject\u001b[39;49m\u001b[38;5;241;43m.\u001b[39;49m\u001b[38;5;21;43m__getattribute__\u001b[39;49m\u001b[43m(\u001b[49m\u001b[38;5;28;43mself\u001b[39;49m\u001b[43m,\u001b[49m\u001b[43m \u001b[49m\u001b[43mname\u001b[49m\u001b[43m)\u001b[49m\n",
      "File \u001b[0;32m/usr/lib/python3.11/site-packages/pandas/core/accessor.py:182\u001b[0m, in \u001b[0;36mCachedAccessor.__get__\u001b[0;34m(self, obj, cls)\u001b[0m\n\u001b[1;32m    179\u001b[0m \u001b[38;5;28;01mif\u001b[39;00m obj \u001b[38;5;129;01mis\u001b[39;00m \u001b[38;5;28;01mNone\u001b[39;00m:\n\u001b[1;32m    180\u001b[0m     \u001b[38;5;66;03m# we're accessing the attribute of the class, i.e., Dataset.geo\u001b[39;00m\n\u001b[1;32m    181\u001b[0m     \u001b[38;5;28;01mreturn\u001b[39;00m \u001b[38;5;28mself\u001b[39m\u001b[38;5;241m.\u001b[39m_accessor\n\u001b[0;32m--> 182\u001b[0m accessor_obj \u001b[38;5;241m=\u001b[39m \u001b[38;5;28;43mself\u001b[39;49m\u001b[38;5;241;43m.\u001b[39;49m\u001b[43m_accessor\u001b[49m\u001b[43m(\u001b[49m\u001b[43mobj\u001b[49m\u001b[43m)\u001b[49m\n\u001b[1;32m    183\u001b[0m \u001b[38;5;66;03m# Replace the property with the accessor object. Inspired by:\u001b[39;00m\n\u001b[1;32m    184\u001b[0m \u001b[38;5;66;03m# https://www.pydanny.com/cached-property.html\u001b[39;00m\n\u001b[1;32m    185\u001b[0m \u001b[38;5;66;03m# We need to use object.__setattr__ because we overwrite __setattr__ on\u001b[39;00m\n\u001b[1;32m    186\u001b[0m \u001b[38;5;66;03m# NDFrame\u001b[39;00m\n\u001b[1;32m    187\u001b[0m \u001b[38;5;28mobject\u001b[39m\u001b[38;5;241m.\u001b[39m\u001b[38;5;21m__setattr__\u001b[39m(obj, \u001b[38;5;28mself\u001b[39m\u001b[38;5;241m.\u001b[39m_name, accessor_obj)\n",
      "File \u001b[0;32m/usr/lib/python3.11/site-packages/pandas/core/strings/accessor.py:181\u001b[0m, in \u001b[0;36mStringMethods.__init__\u001b[0;34m(self, data)\u001b[0m\n\u001b[1;32m    178\u001b[0m \u001b[38;5;28;01mdef\u001b[39;00m \u001b[38;5;21m__init__\u001b[39m(\u001b[38;5;28mself\u001b[39m, data) \u001b[38;5;241m-\u001b[39m\u001b[38;5;241m>\u001b[39m \u001b[38;5;28;01mNone\u001b[39;00m:\n\u001b[1;32m    179\u001b[0m     \u001b[38;5;28;01mfrom\u001b[39;00m \u001b[38;5;21;01mpandas\u001b[39;00m\u001b[38;5;21;01m.\u001b[39;00m\u001b[38;5;21;01mcore\u001b[39;00m\u001b[38;5;21;01m.\u001b[39;00m\u001b[38;5;21;01marrays\u001b[39;00m\u001b[38;5;21;01m.\u001b[39;00m\u001b[38;5;21;01mstring_\u001b[39;00m \u001b[38;5;28;01mimport\u001b[39;00m StringDtype\n\u001b[0;32m--> 181\u001b[0m     \u001b[38;5;28mself\u001b[39m\u001b[38;5;241m.\u001b[39m_inferred_dtype \u001b[38;5;241m=\u001b[39m \u001b[38;5;28;43mself\u001b[39;49m\u001b[38;5;241;43m.\u001b[39;49m\u001b[43m_validate\u001b[49m\u001b[43m(\u001b[49m\u001b[43mdata\u001b[49m\u001b[43m)\u001b[49m\n\u001b[1;32m    182\u001b[0m     \u001b[38;5;28mself\u001b[39m\u001b[38;5;241m.\u001b[39m_is_categorical \u001b[38;5;241m=\u001b[39m is_categorical_dtype(data\u001b[38;5;241m.\u001b[39mdtype)\n\u001b[1;32m    183\u001b[0m     \u001b[38;5;28mself\u001b[39m\u001b[38;5;241m.\u001b[39m_is_string \u001b[38;5;241m=\u001b[39m \u001b[38;5;28misinstance\u001b[39m(data\u001b[38;5;241m.\u001b[39mdtype, StringDtype)\n",
      "File \u001b[0;32m/usr/lib/python3.11/site-packages/pandas/core/strings/accessor.py:235\u001b[0m, in \u001b[0;36mStringMethods._validate\u001b[0;34m(data)\u001b[0m\n\u001b[1;32m    232\u001b[0m inferred_dtype \u001b[38;5;241m=\u001b[39m lib\u001b[38;5;241m.\u001b[39minfer_dtype(values, skipna\u001b[38;5;241m=\u001b[39m\u001b[38;5;28;01mTrue\u001b[39;00m)\n\u001b[1;32m    234\u001b[0m \u001b[38;5;28;01mif\u001b[39;00m inferred_dtype \u001b[38;5;129;01mnot\u001b[39;00m \u001b[38;5;129;01min\u001b[39;00m allowed_types:\n\u001b[0;32m--> 235\u001b[0m     \u001b[38;5;28;01mraise\u001b[39;00m \u001b[38;5;167;01mAttributeError\u001b[39;00m(\u001b[38;5;124m\"\u001b[39m\u001b[38;5;124mCan only use .str accessor with string values!\u001b[39m\u001b[38;5;124m\"\u001b[39m)\n\u001b[1;32m    236\u001b[0m \u001b[38;5;28;01mreturn\u001b[39;00m inferred_dtype\n",
      "\u001b[0;31mAttributeError\u001b[0m: Can only use .str accessor with string values!"
     ]
    }
   ],
   "source": [
    "import formulas\n",
    "import storage\n",
    "import pandas as pd\n",
    "import os\n",
    "\n",
    "if __name__ == '__main__':\n",
    "\n",
    "    website_creator_path = os.getcwd()\n",
    "    formula_file_path = website_creator_path + os.path.sep + 'formulas.csv'\n",
    "    order_file_path = website_creator_path + os.path.sep + 'sort_orders.csv'\n",
    "    docs_dir = storage.get_docs_path(website_creator_path)\n",
    "    \n",
    "    df_formulas_by_year =  storage.get_formulas_by_year_df(formula_file_path)\n",
    "    sort_orders = storage.get_list_of_data_frames_by_populated_to_column_number(order_file_path)\n",
    "    \n",
    "    storage.delete_directory_if_it_exists(docs_dir)\n",
    "\n",
    "    # Create formula by year summary\n",
    "    formula_by_year_summary_df = formulas.get_formula_by_year_summary_df(df_formulas_by_year)\n",
    "    storage.create_sub_directories(docs_dir, formula_by_year_summary_df)\n",
    "    storage.create_index_files(base_dir=docs_dir, folder_regex='.*/Formulas/.*', book_collapse=True, sort_orders=sort_orders)\n",
    "    # # formulas.create_formula_files(docs_dir, df_formulas)\n",
    "\n",
    "    # df_calculus = formulas.df_calculus_summary(df_formulas)\n",
    "    # styler_calculus = formulas.styler_calculus_summary(df_calculus, formulas.formulas_on_formula_sheet(df_formulas))\n",
    "    # display(styler_calculus)"
   ]
  },
  {
   "cell_type": "code",
   "execution_count": 7,
   "id": "08091760-805c-440c-90ec-7b8dcc72506d",
   "metadata": {},
   "outputs": [
    {
     "data": {
      "text/plain": [
       "1"
      ]
     },
     "execution_count": 7,
     "metadata": {},
     "output_type": "execute_result"
    }
   ],
   "source": [
    "import re, os, storage\n",
    "\n",
    "\n",
    "\n",
    "\n",
    "    \n",
    "# def _get_sort_order_for_directory_backup(dir, base_dir, sort_orders):\n",
    "\n",
    "#     if sort_orders == None:\n",
    "#         return(None)\n",
    "#     else:\n",
    "#         dir_ex_base = re.sub(pattern='^'+base_dir, repl='', string=dir)\n",
    "\n",
    "#     if dir_ex_base[0] == os.path.sep:\n",
    "#         dir_ex_base = dir_ex_base[1:]\n",
    "\n",
    "#     level_index_number = dir_ex_base.count(os.path.sep)\n",
    "#     sort_orders_for_level_number = sort_orders[level_index_number]\n",
    "#     sort_orders_as_series_of_paths = storage._convert_df_to_series_of_paths(sort_orders_for_level_number)\n",
    "#     index_of_matched_sort_orders = sort_orders_as_series_of_paths[sort_orders_as_series_of_paths == dir_ex_base].index\n",
    "#     if len(index_of_matched_sort_orders)==0:\n",
    "#         sort_order = None\n",
    "#     else:\n",
    "#         sort_order = index_of_matched_sort_orders[0]\n",
    "#     return(sort_order)\n",
    "\n",
    "\n",
    "website_creator_path = os.getcwd()\n",
    "order_file_path = website_creator_path + os.path.sep + 'sort_orders.csv'\n",
    "docs_dir = storage.get_docs_path(website_creator_path)\n",
    "dir = docs_dir + os.path.sep + 'NSW' + os.path.sep + 'Formulas' #+ os.path.sep + 'By year'\n",
    "sort_orders = storage.get_list_of_data_frames_by_populated_to_column_number(order_file_path)\n",
    "\n",
    "_get_sort_order_for_directory(dir, docs_dir, sort_orders)\n",
    "\n"
   ]
  },
  {
   "cell_type": "code",
   "execution_count": 10,
   "id": "346b3a96-b44d-4426-afce-ffa49bbc37d3",
   "metadata": {},
   "outputs": [
    {
     "name": "stdout",
     "output_type": "stream",
     "text": [
      "A\n"
     ]
    }
   ],
   "source": [
    "if True or 1/0:\n",
    "    print(\"A\")"
   ]
  },
  {
   "cell_type": "code",
   "execution_count": 5,
   "id": "8430b945-35b2-451d-bd1c-ad66800b94f5",
   "metadata": {},
   "outputs": [
    {
     "data": {
      "text/plain": [
       "1               NSW/Formulas/By year\n",
       "2    NSW/Formulas/By year cumulative\n",
       "dtype: object"
      ]
     },
     "metadata": {},
     "output_type": "display_data"
    },
    {
     "data": {
      "text/plain": [
       "1"
      ]
     },
     "metadata": {},
     "output_type": "display_data"
    }
   ],
   "source": [
    "sort_orders_for_current_path = sort_orders[2]\n",
    "\n",
    "series_of_path_lists=sort_orders_for_current_path.apply(func  = lambda x:list(x), axis=1)\n",
    "series_of_paths = series_of_path_lists.str.join(os.path.sep)\n",
    "\n",
    "display(series_of_paths)\n",
    "matched_index = (series_of_paths[series_of_paths =='NSW/Formulas/By year'].index[0])\n",
    "display(matched_index)\n"
   ]
  },
  {
   "cell_type": "code",
   "execution_count": 19,
   "id": "cb650f1f-03a9-4239-b596-0035646c09b1",
   "metadata": {},
   "outputs": [
    {
     "data": {
      "text/plain": [
       "'/home/charl/Onedrive/Documents_Charl/Computer_Technical/Programming_GitHub/AustralianSchoolMaths/content/docs/'"
      ]
     },
     "execution_count": 19,
     "metadata": {},
     "output_type": "execute_result"
    }
   ],
   "source": [
    "docs_dir+=os.path.sep\n",
    "docs_dir"
   ]
  },
  {
   "cell_type": "code",
   "execution_count": 1,
   "id": "a239856c-85e2-4249-9875-7e071b9d5dc7",
   "metadata": {},
   "outputs": [],
   "source": [
    "import re\n",
    "import storage\n",
    "import os\n",
    "import pandas as pd\n",
    "\n",
    "website_creator_path = os.getcwd()\n",
    "filepath = website_creator_path + os.path.sep + 'sort_orders.csv'\n",
    "\n",
    "\n",
    "\n",
    "sort_orders = pd.read_csv(filepath)\n",
    "\n",
    "docs_dir = '/home/charl/Onedrive/Documents_Charl/Computer_Technical/Programming_GitHub/AustralianSchoolMaths/content/docs'\n",
    "current_dir = docs_dir + '/NSW/Formulas/By year'\n",
    "\n",
    "path_list = storage._convert_path_to_list(path = current_dir, exclude_regex = '^'+docs_dir)\n",
    "\n",
    "sort_order_level_0 = storage._get_sort_order_by_level(sort_orders, 0)\n",
    "sort_order_level_2 = storage._get_sort_order_by_level(sort_orders, 2)\n",
    "\n",
    "# display(sort_order_level_2[len(sort_order_level_2.iloc[:,:]])\n"
   ]
  },
  {
   "cell_type": "code",
   "execution_count": 4,
   "id": "cbcb75ef-e53f-40b8-b753-d14c91fb73e6",
   "metadata": {},
   "outputs": [
    {
     "data": {
      "text/plain": [
       "1               NSW/Formulas/By year\n",
       "2    NSW/Formulas/By year cumulative\n",
       "dtype: object"
      ]
     },
     "metadata": {},
     "output_type": "display_data"
    },
    {
     "data": {
      "text/plain": [
       "1"
      ]
     },
     "metadata": {},
     "output_type": "display_data"
    }
   ],
   "source": [
    "# test = sort_orders\n",
    "\n",
    "series_of_path_lists=sort_order_level_2.apply(func  = lambda x:list(x), axis=1)\n",
    "series_of_paths = series_of_path_lists.str.join(os.path.sep)\n",
    "\n",
    "display(series_of_paths)\n",
    "matched_index = (series_of_paths[series_of_paths =='NSW/Formulas/By year'].index[0])\n",
    "display(matched_index)\n",
    "\n"
   ]
  }
 ],
 "metadata": {
  "kernelspec": {
   "display_name": "Python 3 (ipykernel)",
   "language": "python",
   "name": "python3"
  },
  "language_info": {
   "codemirror_mode": {
    "name": "ipython",
    "version": 3
   },
   "file_extension": ".py",
   "mimetype": "text/x-python",
   "name": "python",
   "nbconvert_exporter": "python",
   "pygments_lexer": "ipython3",
   "version": "3.11.3"
  }
 },
 "nbformat": 4,
 "nbformat_minor": 5
}
