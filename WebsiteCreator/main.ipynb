{
 "cells": [
  {
   "cell_type": "code",
   "execution_count": 15,
   "id": "298d1dd2-c378-444b-9ae1-be3d5673d731",
   "metadata": {
    "editable": true,
    "slideshow": {
     "slide_type": ""
    },
    "tags": []
   },
   "outputs": [],
   "source": [
    "import formulas\n",
    "import utilities\n",
    "import topics\n",
    "import pandas as pd\n",
    "import os\n",
    "import re\n",
    "from IPython import embed\n",
    "\n",
    "if __name__ == '__main__':\n",
    "\n",
    "    # Get inputs\n",
    "    website_creator_dir = os.getcwd()\n",
    "    docs_dir = utilities.get_docs_path(website_creator_dir)\n",
    "    formula_file_path = website_creator_dir + os.path.sep + 'formulas.csv'\n",
    "    order_file_path = website_creator_dir + os.path.sep + 'sort_orders.csv'\n",
    "    syllabus_file_path = (website_creator_dir + os.path.sep + \n",
    "                          'syllabus_topics.csv')\n",
    "    sort_orders_df = pd.read_csv(order_file_path)\n",
    "    syllabus_df = pd.read_csv(syllabus_file_path)\n",
    "    formulas_input_df = pd.read_csv(formula_file_path)\n",
    "    formula_sheet_items = (\n",
    "        formulas.get_formulas_on_formula_sheet(formulas_input_df))\n",
    "    formula_proof_required_items = (\n",
    "        formulas.get_formulas_where_proofs_required(formulas_input_df))\n",
    "    \n",
    "    utilities.delete_directory_if_it_exists(docs_dir)\n",
    "    \n",
    "    # Create formula-related markdown documents\n",
    "    formulas_df = formulas.get_formulas_df(formulas_input_df, syllabus_df,\n",
    "                                           sort_orders_df)\n",
    "    formulas.create_formulas_content(\n",
    "        formulas_df, formula_sheet_items, formula_proof_required_items, \n",
    "        sort_orders_df, docs_dir)\n",
    "    formulas.create_calculus_summary(\n",
    "        formulas_df, formula_sheet_items, formula_proof_required_items, \n",
    "        sort_orders_df, docs_dir)\n",
    "    formulas.create_financial_summary(\n",
    "        formulas_df, formula_sheet_items, formula_proof_required_items, \n",
    "        sort_orders_df, docs_dir)\n",
    "\n",
    "    # Generate topic pages\n",
    "    formulas_by_topic_df = formulas.get_formulas_by_topic_df(\n",
    "        formulas_input_df, syllabus_df)\n",
    "\n",
    "\n",
    "    # Create topic related markdown documents\n",
    "    # topics_df = topics.get_topics_df(sort_orders_df)\n",
    "    # topics_dir = website_creator_dir + os.path.sep + 'topic_summaries'\n",
    "    # topics.create_topics_content(topics_df, sort_orders_df, docs_dir, \n",
    "    #                              topics_dir)"
   ]
  },
  {
   "cell_type": "code",
   "execution_count": 16,
   "id": "4ad5b1a5-14e6-47e7-b367-b44891046440",
   "metadata": {},
   "outputs": [],
   "source": [
    "def create_topic_content(formulas_by_topic_df, formula_sheet_items,\n",
    "                         formula_proof_required_items, sort_orders_df,\n",
    "                         docs_dir): \n",
    "    \"\"\"Creates markdown files containing topic summary for static \n",
    "    web page creation via Hugo\n",
    "    \"\"\"\n",
    "    dirs_df = formulas_by_topic_df[[\n",
    "        'State', 'Topic sub category 1', 'Subject code']].drop_duplicates()\n",
    "    file_paths_df = formulas_by_topic_df[[\n",
    "        'State', 'Topic sub category 1', 'Subject code', 'Syllabus subtopic'\n",
    "        ]].drop_duplicates()\n",
    "    utilities.create_sub_directories_from_df(base_dir = docs_dir, \n",
    "                                             sub_paths_df = dirs_df)\n",
    "    front_matter_index_files = {'bookCollapseSection' : True}\n",
    "    utilities.create_index_files(base_dir=docs_dir, dirs_df=dirs_df, \n",
    "                       front_matter=front_matter_index_files,\n",
    "                       sort_orders_df = sort_orders_df)\n",
    "    utilities.create_files(base_dir = docs_dir, file_paths_df= file_paths_df, \n",
    "                           file_extension='.md', \n",
    "                           fn=generate_topic_page, \n",
    "                           sort_orders_df = sort_orders_df,\n",
    "                           formulas_df = formulas_df, \n",
    "                           formula_sheet_items = formula_sheet_items,\n",
    "                           formula_proof_required_items = (\n",
    "                               formula_proof_required_items),\n",
    "                           cols_to_highlight = [\n",
    "                               'Formula'])\n",
    "\n",
    "def generate_topic_page(**kwargs):\n",
    "    return ('blah')\n",
    "\n",
    "create_topic_content(formulas_by_topic_df, formula_sheet_items,\n",
    "                         formula_proof_required_items, sort_orders_df,\n",
    "                         docs_dir)"
   ]
  },
  {
   "cell_type": "code",
   "execution_count": 3,
   "id": "45eb371b-8ea5-41a0-abbb-b0d9abd904b3",
   "metadata": {
    "editable": true,
    "slideshow": {
     "slide_type": ""
    },
    "tags": []
   },
   "outputs": [],
   "source": [
    "# Temp markdown file export of selected topic notebook\n",
    "\n",
    "import utilities\n",
    "\n",
    "input_file = '/home/charl/Onedrive/Documents_Charl/Computer_Technical/Programming_GitHub/AustralianSchoolMaths/WebsiteCreator/topic_summaries/financial_mathematics.ipynb'\n",
    "output_file = '/home/charl/Onedrive/Documents_Charl/Computer_Technical/Programming_GitHub/AustralianSchoolMaths/WebsiteCreator/topic_summaries/temp.md'\n",
    "\n",
    "\n",
    "export_string = utilities.filtered_notebook_md_string(\n",
    "    input_notebook_path=input_file, include_tags=['Year 12 Adv'], \n",
    "    remove_input_tags=['hide_code'])\n",
    "\n",
    "with open(output_file, \"w\") as text_file:\n",
    "    text_file.write(export_string)"
   ]
  }
 ],
 "metadata": {
  "kernelspec": {
   "display_name": "Python 3 (ipykernel)",
   "language": "python",
   "name": "python3"
  },
  "language_info": {
   "codemirror_mode": {
    "name": "ipython",
    "version": 3
   },
   "file_extension": ".py",
   "mimetype": "text/x-python",
   "name": "python",
   "nbconvert_exporter": "python",
   "pygments_lexer": "ipython3",
   "version": "3.11.3"
  }
 },
 "nbformat": 4,
 "nbformat_minor": 5
}
