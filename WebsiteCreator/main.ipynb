{
 "cells": [
  {
   "cell_type": "code",
   "execution_count": 1,
   "id": "acb8cbfb-7511-4f05-8b7f-fad03be7d06f",
   "metadata": {
    "editable": true,
    "slideshow": {
     "slide_type": ""
    },
    "tags": []
   },
   "outputs": [],
   "source": [
    "import formulas\n",
    "import utilities\n",
    "import topics\n",
    "import pandas as pd\n",
    "import os\n",
    "import re\n",
    "\n",
    "\n",
    "if __name__ == '__main__':\n",
    "\n",
    "    website_creator_dir = os.getcwd()\n",
    "    docs_dir = utilities.get_docs_path(website_creator_dir)\n",
    "    formula_file_path = website_creator_dir + os.path.sep + 'formulas.csv'\n",
    "    order_file_path = website_creator_dir + os.path.sep + 'sort_orders.csv'\n",
    "    sort_orders_df = pd.read_csv(order_file_path)\n",
    "    \n",
    "    # Create formula-related markdown documents\n",
    "    formulas_input_df = pd.read_csv(formula_file_path)\n",
    "    formulas_df = formulas.get_formulas_df(formulas_input_df, sort_orders_df)\n",
    "    formula_sheet_items = (\n",
    "        formulas.get_formulas_on_formula_sheet(formulas_input_df))\n",
    "    formula_proof_required_items = (\n",
    "        formulas.get_formulas_where_proofs_required(formulas_input_df))    \n",
    "    utilities.delete_directory_if_it_exists(docs_dir)\n",
    "    formulas.create_formulas_content(\n",
    "        formulas_df, formula_sheet_items, formula_proof_required_items, \n",
    "        sort_orders_df, docs_dir)\n",
    "    formulas.create_calculus_summary(\n",
    "        formulas_df, formula_sheet_items, formula_proof_required_items, \n",
    "        sort_orders_df, docs_dir)\n",
    "    formulas.create_financial_summary(\n",
    "        formulas_df, formula_sheet_items, formula_proof_required_items, \n",
    "        sort_orders_df, docs_dir)\n",
    "\n",
    "    # Create topic related markdown documents\n",
    "    topics_df = topics.get_topics_df(sort_orders_df)\n",
    "    topics_dir = website_creator_dir + os.path.sep + 'topic_summaries'\n",
    "    topics.create_topics_content(topics_df, sort_orders_df, docs_dir, \n",
    "                                 topics_dir)"
   ]
  },
  {
   "cell_type": "code",
   "execution_count": 3,
   "id": "45eb371b-8ea5-41a0-abbb-b0d9abd904b3",
   "metadata": {
    "editable": true,
    "slideshow": {
     "slide_type": ""
    },
    "tags": []
   },
   "outputs": [],
   "source": [
    "# Temp markdown file export of selected topic notebook\n",
    "\n",
    "import utilities\n",
    "\n",
    "input_file = '/home/charl/Onedrive/Documents_Charl/Computer_Technical/Programming_GitHub/AustralianSchoolMaths/WebsiteCreator/topic_summaries/financial_mathematics.ipynb'\n",
    "output_file = '/home/charl/Onedrive/Documents_Charl/Computer_Technical/Programming_GitHub/AustralianSchoolMaths/WebsiteCreator/topic_summaries/temp.md'\n",
    "\n",
    "\n",
    "export_string = utilities.filtered_notebook_md_string(\n",
    "    input_notebook_path=input_file, include_tags=['Year 12 Adv'], \n",
    "    remove_input_tags=['hide_code'])\n",
    "\n",
    "with open(output_file, \"w\") as text_file:\n",
    "    text_file.write(export_string)"
   ]
  },
  {
   "cell_type": "code",
   "execution_count": 18,
   "id": "1b142aad-6c7b-4241-9dc1-c7720dcec34b",
   "metadata": {},
   "outputs": [
    {
     "name": "stdout",
     "output_type": "stream",
     "text": [
      "13\n"
     ]
    }
   ],
   "source": [
    "# example of kwargs pass through and modify\n",
    "\n",
    "def fn_1(**kwargs):\n",
    "    kwargs['c'] = 10\n",
    "    kwargs['x'] = 10\n",
    "    fn_2(**kwargs)\n",
    "\n",
    "def fn_2(a, b, c, **kwargs):\n",
    "    print(a+b+c)\n",
    "\n",
    "def fn_3(**kwargs):\n",
    "    display(kwargs)\n",
    "    \n",
    "fn_1(a=1, b=2, g=100)\n",
    "# fn_3(a=1,b=2,c=3)"
   ]
  },
  {
   "cell_type": "code",
   "execution_count": 2,
   "id": "d90391f2-54df-49f4-8921-145a911bd06e",
   "metadata": {},
   "outputs": [
    {
     "name": "stdout",
     "output_type": "stream",
     "text": [
      "test\n"
     ]
    }
   ],
   "source": [
    "def fn (a, **kwargs):\n",
    "    print('test')\n",
    "\n",
    "fn(b=1, c=3, a=2)\n"
   ]
  }
 ],
 "metadata": {
  "kernelspec": {
   "display_name": "Python 3 (ipykernel)",
   "language": "python",
   "name": "python3"
  },
  "language_info": {
   "codemirror_mode": {
    "name": "ipython",
    "version": 3
   },
   "file_extension": ".py",
   "mimetype": "text/x-python",
   "name": "python",
   "nbconvert_exporter": "python",
   "pygments_lexer": "ipython3",
   "version": "3.11.3"
  }
 },
 "nbformat": 4,
 "nbformat_minor": 5
}
