{
 "cells": [
  {
   "cell_type": "code",
   "execution_count": 1,
   "metadata": {},
   "outputs": [],
   "source": [
    "import pandas as pd\n",
    "from data_sources import DataSource\n",
    "from data_validator import DataColumnValidator\n",
    "from formulas import Formulas\n",
    "# from file_management import (SiteHierarchies, IndexFile,  FormulaFile, \n",
    "#                              TopicFile)\n",
    "# from formula_tables import (FormulaTable, FormulaTableType,\n",
    "#                             FormulaTableTypeSimple, FormulaTableTypeCalculus,\n",
    "#                             FormulaTableTypeFinancial)\n",
    "# from content import Definitions, Syllabus\n",
    "\n",
    "\n",
    "formulas_by_year = Formulas(DataSource().formulas_by_year)\n",
    "formulas_cumulative = Formulas(DataSource().formulas_by_year_cumulative)\n",
    "formulas_cumulative.is_cumulative = True\n",
    "\n",
    "# site_hierarchy = SiteHierarchies(data_source.site_hierarchies)\n",
    "# syllabus_by_year = Syllabus(data_source.syllabus_by_year)\n",
    "# syllabus_cumulative = Syllabus(data_source.syllabus_by_year_cumulative)\n"
   ]
  },
  {
   "cell_type": "code",
   "execution_count": 6,
   "metadata": {},
   "outputs": [
    {
     "data": {
      "text/plain": [
       "'Differentiation'"
      ]
     },
     "metadata": {},
     "output_type": "display_data"
    },
    {
     "data": {
      "text/plain": [
       "'Differentiation'"
      ]
     },
     "metadata": {},
     "output_type": "display_data"
    },
    {
     "data": {
      "text/plain": [
       "'Differentiation'"
      ]
     },
     "metadata": {},
     "output_type": "display_data"
    },
    {
     "data": {
      "text/plain": [
       "'Financial mathematics'"
      ]
     },
     "metadata": {},
     "output_type": "display_data"
    },
    {
     "data": {
      "text/plain": [
       "'Indices'"
      ]
     },
     "metadata": {},
     "output_type": "display_data"
    },
    {
     "data": {
      "text/plain": [
       "'Integration'"
      ]
     },
     "metadata": {},
     "output_type": "display_data"
    },
    {
     "data": {
      "text/plain": [
       "'Integration'"
      ]
     },
     "metadata": {},
     "output_type": "display_data"
    },
    {
     "data": {
      "text/plain": [
       "'Logarithms'"
      ]
     },
     "metadata": {},
     "output_type": "display_data"
    },
    {
     "data": {
      "text/plain": [
       "'Statistics'"
      ]
     },
     "metadata": {},
     "output_type": "display_data"
    },
    {
     "data": {
      "text/plain": [
       "'Surds'"
      ]
     },
     "metadata": {},
     "output_type": "display_data"
    }
   ],
   "source": [
    "for group in formulas_by_year.group_by_columns(['Category', 'Subject']):\n",
    "    display (group.field_value('Category'))"
   ]
  },
  {
   "cell_type": "code",
   "execution_count": 10,
   "metadata": {},
   "outputs": [],
   "source": [
    "list_type = list[float]\n",
    "\n",
    "a = list_type([])\n",
    "\n",
    "a.append(1\n",
    "         )\n"
   ]
  }
 ],
 "metadata": {
  "kernelspec": {
   "display_name": "Python 3",
   "language": "python",
   "name": "python3"
  },
  "language_info": {
   "codemirror_mode": {
    "name": "ipython",
    "version": 3
   },
   "file_extension": ".py",
   "mimetype": "text/x-python",
   "name": "python",
   "nbconvert_exporter": "python",
   "pygments_lexer": "ipython3",
   "version": "3.11.3"
  },
  "orig_nbformat": 4
 },
 "nbformat": 4,
 "nbformat_minor": 2
}
