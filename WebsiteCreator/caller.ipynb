{
 "cells": [
  {
   "cell_type": "code",
   "execution_count": 1,
   "metadata": {},
   "outputs": [],
   "source": [
    "from IPython.core.display import HTML\n",
    "import pandas as pd\n",
    "from data_sources import DataSource\n",
    "from data_validator import DataColumnValidator\n",
    "from site_content import Formulas, Definitions, Syllabus\n",
    "from site_hierarchies import SiteHierarchies\n",
    "from file_management import (IndexFile,  FormulaFile, \n",
    "                              TopicFile, TopicFiles)\n",
    "from formula_tables import (FormulaTable, FormulaTableType,\n",
    "                            FormulaTableTypeSimple, FormulaTableTypeCalculus,\n",
    "                            FormulaTableTypeFinancial, formula_table_types)\n",
    "# from content import Definitions, Syllabus\n",
    "\n",
    "data_source = DataSource()\n",
    "formulas_by_year = Formulas(data_source.formulas_by_year)\n",
    "formulas_cumulative = Formulas(data_source.formulas_by_year_cumulative)\n",
    "formulas_cumulative.is_cumulative = True\n",
    "\n",
    "definitions_by_year = Definitions(data_source.definitions_by_year)\n",
    "\n",
    "\n",
    "syllabus_by_year = Syllabus(data_source.syllabus_by_year)\n",
    "syllabus_cumulative = Syllabus(data_source.syllabus_by_year_cumulative)\n",
    "syllabus_cumulative.is_cumulative = True\n",
    "\n",
    "site_hierarchy = SiteHierarchies(data_source.site_hierarchies)\n",
    "# syllabus_by_year = Syllabus(data_source.syllabus_by_year)\n",
    "# syllabus_cumulative = Syllabus(data_source.syllabus_by_year_cumulative)\n",
    "\n",
    "index_formulas = formulas_by_year.filter_by_function(lambda x:x['Category']=='Indices')\n"
   ]
  }
 ],
 "metadata": {
  "kernelspec": {
   "display_name": "Python 3",
   "language": "python",
   "name": "python3"
  },
  "language_info": {
   "codemirror_mode": {
    "name": "ipython",
    "version": 3
   },
   "file_extension": ".py",
   "mimetype": "text/x-python",
   "name": "python",
   "nbconvert_exporter": "python",
   "pygments_lexer": "ipython3",
   "version": "3.11.3"
  },
  "orig_nbformat": 4
 },
 "nbformat": 4,
 "nbformat_minor": 2
}
