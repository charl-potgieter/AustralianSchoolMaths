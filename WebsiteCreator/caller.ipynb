{
 "cells": [
  {
   "cell_type": "code",
   "execution_count": 1,
   "metadata": {},
   "outputs": [],
   "source": [
    "import os\n",
    "import utilities\n",
    "from maths_objects import (\n",
    "    Formulas, SiteHierarchies,MarkdownFile, DataSource, FrontMatter, \n",
    "    FormulaGroup, FormulaTable)\n",
    "import pandas as pd\n",
    "from collections import namedtuple\n",
    "\n",
    "data_source = DataSource()\n",
    "site_hierarchy = SiteHierarchies(data_source.site_hierarchies())\n",
    "formulas_by_year = Formulas(data_source.formulas_by_year())"
   ]
  },
  {
   "cell_type": "code",
   "execution_count": 2,
   "metadata": {},
   "outputs": [
    {
     "data": {
      "text/html": [
       "<style type=\"text/css\">\n",
       "#T_6eab6 th.col_heading {\n",
       "  text-align: left;\n",
       "  font-size: 1em;\n",
       "}\n",
       "#T_6eab6 td {\n",
       "  text-align: left;\n",
       "  font-size: 1em;\n",
       "  padding: 1.5em;\n",
       "}\n",
       "</style>\n",
       "<table id=\"T_6eab6\">\n",
       "  <thead>\n",
       "  </thead>\n",
       "  <tbody>\n",
       "    <tr>\n",
       "      <td id=\"T_6eab6_row0_col0\" class=\"data row0 col0\" >$a^m \\times a^n = a^{m+n}$</td>\n",
       "    </tr>\n",
       "    <tr>\n",
       "      <td id=\"T_6eab6_row1_col0\" class=\"data row1 col0\" >$a^m \\div a^n = \\dfrac{a^m}{a^n} = a^{m-n}$</td>\n",
       "    </tr>\n",
       "    <tr>\n",
       "      <td id=\"T_6eab6_row2_col0\" class=\"data row2 col0\" >$(a^m)^n = a^{m \\times n}$</td>\n",
       "    </tr>\n",
       "    <tr>\n",
       "      <td id=\"T_6eab6_row3_col0\" class=\"data row3 col0\" >$(ab)^n = a^nb^n$</td>\n",
       "    </tr>\n",
       "    <tr>\n",
       "      <td id=\"T_6eab6_row4_col0\" class=\"data row4 col0\" >$\\left(\\dfrac{a}{b}\\right)^n = \\dfrac{a^n}{b^n}$</td>\n",
       "    </tr>\n",
       "    <tr>\n",
       "      <td id=\"T_6eab6_row5_col0\" class=\"data row5 col0\" >$a^0=1$</td>\n",
       "    </tr>\n",
       "    <tr>\n",
       "      <td id=\"T_6eab6_row6_col0\" class=\"data row6 col0\" >$a^{-n}=\\dfrac{1}{a^n}$</td>\n",
       "    </tr>\n",
       "    <tr>\n",
       "      <td id=\"T_6eab6_row7_col0\" class=\"data row7 col0\" >$\\left(\\dfrac{a}{b}\\right)^{-n} = \\left(\\dfrac{b}{a}\\right)^n$</td>\n",
       "    </tr>\n",
       "    <tr>\n",
       "      <td id=\"T_6eab6_row8_col0\" class=\"data row8 col0\" >$a^{\\frac{m}{n}} =\\sqrt[n]{a^m}$</td>\n",
       "    </tr>\n",
       "  </tbody>\n",
       "</table>\n"
      ],
      "text/plain": [
       "<IPython.core.display.HTML object>"
      ]
     },
     "execution_count": 2,
     "metadata": {},
     "output_type": "execute_result"
    }
   ],
   "source": [
    "from IPython.core.display import HTML\n",
    "from IPython.core.display import Latex\n",
    "\n",
    "index_formulas = formulas_by_year.filter_by_state_subject_category('NSW', 'Year 9', 'Indices')\n",
    "\n",
    "tbl = FormulaTable(index_formulas)\n",
    "\n",
    "HTML((tbl.to_markdown()))\n"
   ]
  }
 ],
 "metadata": {
  "kernelspec": {
   "display_name": "Python 3",
   "language": "python",
   "name": "python3"
  },
  "language_info": {
   "codemirror_mode": {
    "name": "ipython",
    "version": 3
   },
   "file_extension": ".py",
   "mimetype": "text/x-python",
   "name": "python",
   "nbconvert_exporter": "python",
   "pygments_lexer": "ipython3",
   "version": "3.11.3"
  },
  "orig_nbformat": 4
 },
 "nbformat": 4,
 "nbformat_minor": 2
}
