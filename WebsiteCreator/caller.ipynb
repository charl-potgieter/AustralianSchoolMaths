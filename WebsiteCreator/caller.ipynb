{
 "cells": [
  {
   "cell_type": "code",
   "execution_count": 1,
   "metadata": {},
   "outputs": [],
   "source": [
    "import os\n",
    "import utilities\n",
    "from maths_objects import (\n",
    "    Formulas, SiteHierarchies, DataSource, FrontMatter, FormulaTable, PageTabs, \n",
    "    HierarchyPaths, FormulaTableTypeSimple)\n",
    "import pandas as pd\n",
    "from collections import namedtuple\n",
    "\n",
    "data_source = DataSource()\n",
    "site_hierarchy = SiteHierarchies(data_source.site_hierarchies())\n",
    "formulas_by_year = Formulas(data_source.formulas_by_year())\n",
    "formulas_cumulative = Formulas(data_source.formulas_by_year_cumulative())"
   ]
  },
  {
   "cell_type": "code",
   "execution_count": 11,
   "metadata": {},
   "outputs": [
    {
     "data": {
      "text/plain": [
       "True"
      ]
     },
     "execution_count": 11,
     "metadata": {},
     "output_type": "execute_result"
    }
   ],
   "source": [
    "index_formulas = formulas_by_year.filter_by_function(lambda x: x['Category'] == 'Indices')\n",
    "my_table = FormulaTable(index_formulas)\n",
    "\n",
    "my_table.set_type(FormulaTableTypeSimple)\n",
    "\n",
    "my_table.contains_content()"
   ]
  },
  {
   "cell_type": "code",
   "execution_count": 15,
   "metadata": {},
   "outputs": [],
   "source": [
    "\n",
    "def _calclus_summary_comment(row):\n",
    "    \"\"\"Returns a comment for calculus formula summary based on\n",
    "    derivative and integral comments\n",
    "    \"\"\"\n",
    "    if row['Comment Differentiation'] == row['Comment Integration']:\n",
    "        return_value = row['Comment Differentiation']\n",
    "    elif row['Comment Differentiation'] == '':\n",
    "        return_value = row['Comment Integration']\n",
    "    elif row['Comment Integration'] == '':\n",
    "        return_value = row['Comment Differentiation']\n",
    "    else:\n",
    "        return_value = (row['Comment Differentiation'] + '\\n' +\n",
    "                        row['Comment Integration'])\n",
    "    return return_value\n",
    "\n",
    "\n",
    "def get_calculus_summary_df(formulas_df):\n",
    "    \"\"\"Returns a summary of derivative and integral formulas\n",
    "\n",
    "    Args:\n",
    "        formulas_df (pandas dataframe): The source of fomulas for producing the\n",
    "        summary\n",
    "\n",
    "    Returns:\n",
    "        pandas dataframe: Summary of calculus and equicalent integraml\n",
    "        formulas.Returns None if no derivative of integration formulas\n",
    "        exists in formulas_input_df\n",
    "    \"\"\"\n",
    "    calculus_df = (formulas_df\n",
    "                   [['Category', 'Group', 'Formula', 'Comment']]\n",
    "                   [formulas_df[\"Category\"].isin([\"Differentiation\", \"Integration\"])])\n",
    "    if len(calculus_df.index) == 0:\n",
    "        return None\n",
    "    calculus_df = calculus_df.pivot(\n",
    "        columns='Category', index='Group').fillna('')\n",
    "\n",
    "    # Flatten the multi-index headings after pivot\n",
    "    calculus_df.columns = (\n",
    "        calculus_df.columns.get_level_values(0) + ' ' +\n",
    "        calculus_df.columns.get_level_values(1))\n",
    "    calculus_df = calculus_df.reset_index()\n",
    "\n",
    "    calculus_df['Comment'] = (\n",
    "        calculus_df.apply(_calclus_summary_comment, axis=1))\n",
    "\n",
    "    calculus_df = calculus_df.sort_values(by='Group')\n",
    "    calculus_df = calculus_df.drop(\n",
    "        labels=['Group', 'Comment Differentiation', 'Comment Integration'],\n",
    "        axis=1)\n",
    "    calculus_df = calculus_df.rename(columns={\n",
    "        \"Formula Differentiation\": \"Derivative\",\n",
    "        \"Formula Integration\": \"Equivalent integral\"})\n",
    "\n",
    "    # Reorder columns\n",
    "    calculus_df = calculus_df[['Derivative', 'Equivalent integral',\n",
    "                               'Comment']]\n",
    "    return calculus_df\n",
    "\n",
    "\n"
   ]
  },
  {
   "cell_type": "code",
   "execution_count": null,
   "metadata": {},
   "outputs": [],
   "source": [
    "df = formulas_by_year\n",
    "display(get_calculus_summary_df(formulas_by_year.to_dataframe()))"
   ]
  },
  {
   "cell_type": "code",
   "execution_count": 30,
   "metadata": {},
   "outputs": [
    {
     "data": {
      "text/plain": [
       "1"
      ]
     },
     "execution_count": 30,
     "metadata": {},
     "output_type": "execute_result"
    }
   ],
   "source": [
    "from abc import ABC, abstractmethod\n",
    "\n",
    "\n",
    "\n",
    "class FormulaTableTypeOne(FormulaTableType):\n",
    "\n",
    "    def formula_columns(self):\n",
    "        return 1\n",
    "\n",
    "    def to_dataframe(self):\n",
    "        return 2\n",
    "\n",
    "\n",
    "a = FormulaTableTypeOne(formulas_by_year)\n",
    "\n",
    "a.formula_columns()\n"
   ]
  },
  {
   "cell_type": "code",
   "execution_count": 18,
   "metadata": {},
   "outputs": [
    {
     "name": "stdout",
     "output_type": "stream",
     "text": [
      "52\n",
      "420\n"
     ]
    }
   ],
   "source": [
    "from abc import ABC, abstractmethod\n",
    " \n",
    "class AbstractClassExample(ABC):\n",
    " \n",
    "    def __init__(self, value):\n",
    "        self.value = value\n",
    "        super().__init__()\n",
    "    \n",
    "    @abstractmethod\n",
    "    def do_something(self):\n",
    "        pass\n",
    "\n",
    "class DoAdd42(AbstractClassExample):\n",
    "\n",
    "    def do_something(self):\n",
    "        return self.value + 42\n",
    "    \n",
    "class DoMul42(AbstractClassExample):\n",
    "   \n",
    "    def do_something(self):\n",
    "        return self.value * 42\n",
    "    \n",
    "x = DoAdd42(10)\n",
    "y = DoMul42(10)\n",
    "\n",
    "print(x.do_something())\n",
    "print(y.do_something())"
   ]
  }
 ],
 "metadata": {
  "kernelspec": {
   "display_name": "Python 3",
   "language": "python",
   "name": "python3"
  },
  "language_info": {
   "codemirror_mode": {
    "name": "ipython",
    "version": 3
   },
   "file_extension": ".py",
   "mimetype": "text/x-python",
   "name": "python",
   "nbconvert_exporter": "python",
   "pygments_lexer": "ipython3",
   "version": "3.11.3"
  },
  "orig_nbformat": 4
 },
 "nbformat": 4,
 "nbformat_minor": 2
}
