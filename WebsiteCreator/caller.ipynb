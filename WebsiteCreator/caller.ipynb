{
 "cells": [
  {
   "cell_type": "code",
   "execution_count": 4,
   "metadata": {},
   "outputs": [],
   "source": [
    "import os\n",
    "from maths_objects import (\n",
    "    Formulas, SiteHierarchies, DataSource, FrontMatter, FormulaTable, PageTabs, \n",
    "    FormulaTableType, FormulaTableTypeSimple, FormulaTableTypeCalculus, FormulaFile)\n",
    "import pandas as pd\n",
    "from collections import namedtuple\n",
    "\n",
    "data_source = DataSource()\n",
    "site_hierarchy = SiteHierarchies(data_source.site_hierarchies)\n",
    "formulas_by_year = Formulas(data_source.formulas_by_year)\n",
    "formulas_cumulative = Formulas(data_source.formulas_by_year_cumulative)"
   ]
  },
  {
   "cell_type": "code",
   "execution_count": 5,
   "metadata": {},
   "outputs": [
    {
     "data": {
      "text/html": [
       "<div>\n",
       "<style scoped>\n",
       "    .dataframe tbody tr th:only-of-type {\n",
       "        vertical-align: middle;\n",
       "    }\n",
       "\n",
       "    .dataframe tbody tr th {\n",
       "        vertical-align: top;\n",
       "    }\n",
       "\n",
       "    .dataframe thead th {\n",
       "        text-align: right;\n",
       "    }\n",
       "</style>\n",
       "<table border=\"1\" class=\"dataframe\">\n",
       "  <thead>\n",
       "    <tr style=\"text-align: right;\">\n",
       "      <th></th>\n",
       "      <th>Arithmetic sequence</th>\n",
       "      <th>Geometric sequence</th>\n",
       "    </tr>\n",
       "  </thead>\n",
       "  <tbody>\n",
       "    <tr>\n",
       "      <th>Recursive definition</th>\n",
       "      <td>$ T_n = T_{n-1} + d $</td>\n",
       "      <td>$T_n = rT_{n-1}$</td>\n",
       "    </tr>\n",
       "    <tr>\n",
       "      <th>n-th term</th>\n",
       "      <td>$T_n = a + (n-1)d$</td>\n",
       "      <td>$T_n = ar^{n-1}$</td>\n",
       "    </tr>\n",
       "    <tr>\n",
       "      <th>Sum of first n terms</th>\n",
       "      <td>$S_n = \\dfrac{n}{2}[2a + (n-1)d] = \\dfrac{n}{2...</td>\n",
       "      <td>$S_n = \\dfrac{a(1-r^n)}{1-r} = \\dfrac{a(r^n-1)...</td>\n",
       "    </tr>\n",
       "    <tr>\n",
       "      <th>Limiting sum</th>\n",
       "      <td>NaN</td>\n",
       "      <td>$S=\\dfrac{a}{1-r},\\ \\ |r|&lt;1$</td>\n",
       "    </tr>\n",
       "  </tbody>\n",
       "</table>\n",
       "</div>"
      ],
      "text/plain": [
       "                                                    Arithmetic sequence  \\\n",
       "Recursive definition                              $ T_n = T_{n-1} + d $   \n",
       "n-th term                                            $T_n = a + (n-1)d$   \n",
       "Sum of first n terms  $S_n = \\dfrac{n}{2}[2a + (n-1)d] = \\dfrac{n}{2...   \n",
       "Limiting sum                                                        NaN   \n",
       "\n",
       "                                                     Geometric sequence  \n",
       "Recursive definition                                   $T_n = rT_{n-1}$  \n",
       "n-th term                                              $T_n = ar^{n-1}$  \n",
       "Sum of first n terms  $S_n = \\dfrac{a(1-r^n)}{1-r} = \\dfrac{a(r^n-1)...  \n",
       "Limiting sum                               $S=\\dfrac{a}{1-r},\\ \\ |r|<1$  "
      ]
     },
     "metadata": {},
     "output_type": "display_data"
    }
   ],
   "source": [
    "def get_financial_summary_df(formulas_input_df):\n",
    "    \"\"\"Returns a summary of financial mathematic formulas displayed by\n",
    "    arithmetic vs geometric sequence\n",
    "    \"\"\"\n",
    "    financial_df = (formulas_input_df[\n",
    "        (formulas_input_df['Category'] == 'Financial mathematics') &\n",
    "        (formulas_input_df['State'] == 'NSW') &\n",
    "        (\n",
    "            (formulas_input_df['Subcategory_1'] == 'Arithmetic sequence') |\n",
    "            (formulas_input_df['Subcategory_1'] == 'Geometric sequence')\n",
    "        )\n",
    "    ])\n",
    "    if len(financial_df.index) == 0:\n",
    "        return None\n",
    "\n",
    "    financial_df = financial_df[['Subcategory_1', 'Subcategory_2', 'Formula']]\n",
    "    financial_df['temp_aggregator'] = 1\n",
    "    financial_df = pd.pivot_table(data=financial_df, values='Formula',\n",
    "                                  columns='Subcategory_1',\n",
    "                                  index='Subcategory_2', aggfunc=lambda x: x)\n",
    "    financial_df.index.name = None\n",
    "    financial_df.columns.name = None\n",
    "\n",
    "    # Convert index to categorical data to enable custom sort order\n",
    "    financial_df.index = pd.Categorical(\n",
    "        financial_df.index,\n",
    "        ['Recursive definition', 'n-th term', 'Sum of first n terms',\n",
    "         'Limiting sum'])\n",
    "    financial_df = financial_df.sort_index()\n",
    "    return financial_df\n",
    "\n",
    "\n",
    "display(get_financial_summary_df(formulas_by_year.to_dataframe()))\n"
   ]
  }
 ],
 "metadata": {
  "kernelspec": {
   "display_name": "Python 3",
   "language": "python",
   "name": "python3"
  },
  "language_info": {
   "codemirror_mode": {
    "name": "ipython",
    "version": 3
   },
   "file_extension": ".py",
   "mimetype": "text/x-python",
   "name": "python",
   "nbconvert_exporter": "python",
   "pygments_lexer": "ipython3",
   "version": "3.11.3"
  },
  "orig_nbformat": 4
 },
 "nbformat": 4,
 "nbformat_minor": 2
}
