{
 "cells": [
  {
   "cell_type": "code",
   "execution_count": 1,
   "metadata": {},
   "outputs": [],
   "source": [
    "import os\n",
    "import utilities\n",
    "from maths_objects import (\n",
    "    Formulas, SiteHierarchies, DataSource, FrontMatter, FormulaTable, PageTabs, \n",
    "    FormulaTableType, FormulaTableTypeSimple, FormulaTableTypeCalculus, FormulaFile)\n",
    "import pandas as pd\n",
    "from collections import namedtuple\n",
    "\n",
    "data_source = DataSource()\n",
    "site_hierarchy = SiteHierarchies(data_source.site_hierarchies)\n",
    "formulas_by_year = Formulas(data_source.formulas_by_year)\n",
    "formulas_cumulative = Formulas(data_source.formulas_by_year_cumulative)"
   ]
  },
  {
   "cell_type": "code",
   "execution_count": 22,
   "metadata": {},
   "outputs": [
    {
     "data": {
      "text/plain": [
       "100"
      ]
     },
     "execution_count": 22,
     "metadata": {},
     "output_type": "execute_result"
    }
   ],
   "source": [
    "class House:\n",
    "\n",
    "\tdef __init__(self, price):\n",
    "\t\tself._price = price\n",
    "\n",
    "\t@property\n",
    "\tdef price(self):\n",
    "\t\treturn self._price\n",
    "\t\n",
    "\t@price.setter\n",
    "\tdef price(self, new_price):\n",
    "\t\tif new_price > 0 and isinstance(new_price, float):\n",
    "\t\t\tself._price = new_price\n",
    "\t\telse:\n",
    "\t\t\tprint(\"Please enter a valid price\")\n",
    "\n",
    "\t@price.deleter\n",
    "\tdef price(self):\n",
    "\t\tdel self._price\n",
    "\t\t\n",
    "\n",
    "my_house = House(100)\n",
    "\n",
    "my_house.price"
   ]
  },
  {
   "cell_type": "code",
   "execution_count": 5,
   "metadata": {},
   "outputs": [
    {
     "data": {
      "text/plain": [
       "['$T_n = a + (n-1)d$',\n",
       " '$S_n = \\\\dfrac{n}{2}[2a + (n-1)d] = \\\\dfrac{n}{2}(a+l)$',\n",
       " '$T_n = ar^{n-1}$',\n",
       " '$S_n = \\\\dfrac{a(1-r^n)}{1-r} = \\\\dfrac{a(r^n-1)}{r-1},\\\\ \\\\  r \\\\neq 1$',\n",
       " '$S=\\\\dfrac{a}{1-r},\\\\ \\\\ |r|<1$']"
      ]
     },
     "execution_count": 5,
     "metadata": {},
     "output_type": "execute_result"
    }
   ],
   "source": [
    "from maths_objects import DataSource, Formulas\n",
    "data_source = DataSource()\n",
    "formulas_by_year = Formulas(data_source.formulas_by_year)\n",
    "\n",
    "formulas_by_year.proofs_required_items"
   ]
  }
 ],
 "metadata": {
  "kernelspec": {
   "display_name": "Python 3",
   "language": "python",
   "name": "python3"
  },
  "language_info": {
   "codemirror_mode": {
    "name": "ipython",
    "version": 3
   },
   "file_extension": ".py",
   "mimetype": "text/x-python",
   "name": "python",
   "nbconvert_exporter": "python",
   "pygments_lexer": "ipython3",
   "version": "3.11.3"
  },
  "orig_nbformat": 4
 },
 "nbformat": 4,
 "nbformat_minor": 2
}
