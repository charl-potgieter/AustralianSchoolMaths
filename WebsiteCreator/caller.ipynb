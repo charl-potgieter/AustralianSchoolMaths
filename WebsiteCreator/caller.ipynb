{
 "cells": [
  {
   "cell_type": "code",
   "execution_count": 1,
   "metadata": {},
   "outputs": [],
   "source": [
    "import os\n",
    "import utilities\n",
    "from maths_objects import (\n",
    "    Formulas, SiteHierarchies, DataSource, FrontMatter, FormulaTable, PageTabs, \n",
    "    FormulaTableType, FormulaTableTypeSimple, FormulaTableTypeCalculus, FormulaFile)\n",
    "import pandas as pd\n",
    "from collections import namedtuple\n",
    "\n",
    "data_source = DataSource()\n",
    "site_hierarchy = SiteHierarchies(data_source.site_hierarchies)\n",
    "formulas_by_year = Formulas(data_source.formulas_by_year)\n",
    "formulas_cumulative = Formulas(data_source.formulas_by_year_cumulative)"
   ]
  },
  {
   "cell_type": "code",
   "execution_count": 3,
   "metadata": {},
   "outputs": [
    {
     "data": {
      "text/plain": [
       "True"
      ]
     },
     "metadata": {},
     "output_type": "display_data"
    }
   ],
   "source": [
    "###########################################\n",
    "# Draft table contains proof required items\n",
    "###########################################\n",
    "ext_formulas = formulas_cumulative.filter_by_function(lambda x: x['Subject'] == 'Year 12 Ext 1')\n",
    "\n",
    "calculus_table = FormulaTable(ext_formulas)\n",
    "calculus_table.set_type(FormulaTableTypeSimple)\n",
    "\n",
    "formula_columns = calculus_table.get_type().formula_columns()\n",
    "formulas_in_table = []\n",
    "\n",
    "formulas_in_table = calculus_table._to_dataframe()[formula_columns].stack()\n",
    "\n",
    "proof_required_items = ext_formulas.proofs_required_items()\n",
    "\n",
    "display(len(set(formulas_in_table).intersection(set(proof_required_items)))>0)\n"
   ]
  },
  {
   "cell_type": "code",
   "execution_count": 3,
   "metadata": {},
   "outputs": [
    {
     "data": {
      "text/plain": [
       "True"
      ]
     },
     "execution_count": 3,
     "metadata": {},
     "output_type": "execute_result"
    }
   ],
   "source": [
    "ext_formulas = formulas_cumulative.filter_by_function(lambda x: x['Subject'] == 'Year 12 Ext 1')\n",
    "\n",
    "calculus_table = FormulaTable(ext_formulas)\n",
    "calculus_table.set_type(FormulaTableTypeCalculus)\n",
    "\n",
    "calculus_table.contains_formula_sheet_items()\n"
   ]
  }
 ],
 "metadata": {
  "kernelspec": {
   "display_name": "Python 3",
   "language": "python",
   "name": "python3"
  },
  "language_info": {
   "codemirror_mode": {
    "name": "ipython",
    "version": 3
   },
   "file_extension": ".py",
   "mimetype": "text/x-python",
   "name": "python",
   "nbconvert_exporter": "python",
   "pygments_lexer": "ipython3",
   "version": "3.11.3"
  },
  "orig_nbformat": 4
 },
 "nbformat": 4,
 "nbformat_minor": 2
}
