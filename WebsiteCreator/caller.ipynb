{
 "cells": [
  {
   "cell_type": "code",
   "execution_count": 1,
   "metadata": {},
   "outputs": [],
   "source": [
    "import os\n",
    "import utilities\n",
    "from maths_objects import (\n",
    "    Formulas, SiteHierarchies, DataSource, FrontMatter, FormulaTable, PageTabs, \n",
    "    FormulaTableType, FormulaTableTypeSimple, FormulaTableTypeCalculus, FormulaFile)\n",
    "import pandas as pd\n",
    "from collections import namedtuple\n",
    "\n",
    "data_source = DataSource()\n",
    "site_hierarchy = SiteHierarchies(data_source.site_hierarchies)\n",
    "formulas_by_year = Formulas(data_source.formulas_by_year)\n",
    "formulas_cumulative = Formulas(data_source.formulas_by_year_cumulative)"
   ]
  },
  {
   "cell_type": "code",
   "execution_count": 15,
   "metadata": {},
   "outputs": [
    {
     "data": {
      "text/plain": [
       "'NSW/Year 9/Formulas/By year cumulative/Indices'"
      ]
     },
     "execution_count": 15,
     "metadata": {},
     "output_type": "execute_result"
    }
   ],
   "source": [
    "index_formulas = formulas_by_year.filter_by_function(lambda x: x['Category'] == 'Indices')\n",
    "\n",
    "index_table = FormulaTable(index_formulas)\n",
    "index_table.set_type(FormulaTableTypeSimple)\n",
    "\n",
    "index_file = FormulaFile()\n",
    "index_file.is_cumulative_by_year = True\n",
    "index_file.add_formula_table(index_table)\n",
    "\n",
    "index_file.path_in_hierarchy()"
   ]
  },
  {
   "cell_type": "code",
   "execution_count": 2,
   "metadata": {},
   "outputs": [
    {
     "data": {
      "text/plain": [
       "'NSW/Year 11 Adv/Formulas/By year/Differentiation'"
      ]
     },
     "metadata": {},
     "output_type": "display_data"
    },
    {
     "data": {
      "text/plain": [
       "'NSW/Year 11 Adv/Formulas/By year/Logarithms'"
      ]
     },
     "metadata": {},
     "output_type": "display_data"
    },
    {
     "data": {
      "text/plain": [
       "'NSW/Year 12 Adv/Formulas/By year/Differentiation'"
      ]
     },
     "metadata": {},
     "output_type": "display_data"
    },
    {
     "data": {
      "text/plain": [
       "'NSW/Year 12 Adv/Formulas/By year/Financial mathematics'"
      ]
     },
     "metadata": {},
     "output_type": "display_data"
    },
    {
     "data": {
      "text/plain": [
       "'NSW/Year 12 Adv/Formulas/By year/Integration'"
      ]
     },
     "metadata": {},
     "output_type": "display_data"
    },
    {
     "data": {
      "text/plain": [
       "'NSW/Year 12 Adv/Formulas/By year/Statistics'"
      ]
     },
     "metadata": {},
     "output_type": "display_data"
    },
    {
     "data": {
      "text/plain": [
       "'NSW/Year 12 Ext 1/Formulas/By year/Differentiation'"
      ]
     },
     "metadata": {},
     "output_type": "display_data"
    },
    {
     "data": {
      "text/plain": [
       "'NSW/Year 12 Ext 1/Formulas/By year/Integration'"
      ]
     },
     "metadata": {},
     "output_type": "display_data"
    },
    {
     "data": {
      "text/plain": [
       "'NSW/Year 9/Formulas/By year/Indices'"
      ]
     },
     "metadata": {},
     "output_type": "display_data"
    },
    {
     "data": {
      "text/plain": [
       "'NSW/Year 9/Formulas/By year/Surds'"
      ]
     },
     "metadata": {},
     "output_type": "display_data"
    }
   ],
   "source": [
    "def create_formula_pages(table_type: FormulaTableType , \n",
    "                         group_by: list,\n",
    "                         formulas: Formulas, \n",
    "                         base_dir: str,\n",
    "                         hierarchies: SiteHierarchies,\n",
    "                         is_cumulative_by_year:bool=False):\n",
    "    \"\"\"Creates formula pages\"\"\"\n",
    "\n",
    "    for formula_group in formulas.group_by_columns(group_by):\n",
    "        formula_table = FormulaTable(formula_group)\n",
    "        formula_table.set_type(table_type)\n",
    "        if formula_table.contains_content():\n",
    "            formula_file = FormulaFile()\n",
    "            formula_file.is_cumulative_by_year = is_cumulative_by_year\n",
    "            formula_file.add_formula_table(formula_table)\n",
    "            formula_file.set_weight_based_on_hierarchies(hierarchies)\n",
    "            display(formula_file.path_in_hierarchy())\n",
    "            formula_file.save(base_dir)\n",
    "\n",
    "\n",
    "\n",
    "create_formula_pages(table_type=FormulaTableTypeSimple, \n",
    "                     group_by=['State', 'Subject', 'Category'],\n",
    "                     formulas=formulas_by_year, \n",
    "                     base_dir=data_source.docs_directory,\n",
    "                     hierarchies=site_hierarchy,\n",
    "                     is_cumulative_by_year=False)\n",
    "\n"
   ]
  }
 ],
 "metadata": {
  "kernelspec": {
   "display_name": "Python 3",
   "language": "python",
   "name": "python3"
  },
  "language_info": {
   "codemirror_mode": {
    "name": "ipython",
    "version": 3
   },
   "file_extension": ".py",
   "mimetype": "text/x-python",
   "name": "python",
   "nbconvert_exporter": "python",
   "pygments_lexer": "ipython3",
   "version": "3.11.3"
  },
  "orig_nbformat": 4
 },
 "nbformat": 4,
 "nbformat_minor": 2
}
