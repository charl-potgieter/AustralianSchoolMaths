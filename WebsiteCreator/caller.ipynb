{
 "cells": [
  {
   "cell_type": "code",
   "execution_count": 4,
   "metadata": {},
   "outputs": [],
   "source": [
    "## TEMP for development only before moving into .py files\n",
    "\n",
    "import os\n",
    "import pandas as pd\n",
    "import formula_page_generator\n",
    "import utilities\n",
    "import topics\n",
    "\n",
    "\n",
    "website_creator_dir = os.getcwd()\n",
    "docs_dir = utilities.get_docs_path(website_creator_dir)\n",
    "formula_file_path = website_creator_dir + os.path.sep + 'formulas.csv'\n",
    "order_file_path = website_creator_dir + os.path.sep + 'sort_orders.csv'\n",
    "syllabus_file_path = (website_creator_dir + os.path.sep +\n",
    "                        'syllabus_topics.csv')\n",
    "sort_orders_df = pd.read_csv(order_file_path)\n",
    "syllabus_df = pd.read_csv(syllabus_file_path)\n",
    "formulas_input_df = pd.read_csv(formula_file_path)\n",
    "formula_sheet_items = (\n",
    "    formula_page_generator.get_formulas_on_formula_sheet(formulas_input_df))\n",
    "formula_proof_required_items = (\n",
    "    formula_page_generator.get_formulas_where_proofs_required(formulas_input_df))\n",
    "\n",
    "utilities.delete_directory_if_it_exists(docs_dir)\n",
    "\n",
    "# Create formula-related markdown documents\n",
    "formulas_df = formula_page_generator.get_formulas_df(\n",
    "    formulas_input_df, syllabus_df, sort_orders_df)\n",
    "formula_page_generator.create_formulas_content(\n",
    "    formulas_df, formula_sheet_items, formula_proof_required_items,\n",
    "    sort_orders_df, docs_dir)\n",
    "formula_page_generator.create_calculus_summary_files(\n",
    "    formulas_df, formula_sheet_items, formula_proof_required_items,\n",
    "    sort_orders_df, docs_dir)\n",
    "formula_page_generator.create_financial_summary(\n",
    "    formulas_df, formula_sheet_items, formula_proof_required_items,\n",
    "    sort_orders_df, docs_dir)\n",
    "\n",
    "# Generate topic pages\n",
    "formulas_by_topic_df = formula_page_generator.get_formulas_by_topic_df(\n",
    "    formulas_input_df, syllabus_df)\n",
    "\n",
    "topics.create_topic_content(formulas_by_topic_df, formula_sheet_items,\n",
    "                            formula_proof_required_items, sort_orders_df,\n",
    "                            docs_dir)\n"
   ]
  },
  {
   "cell_type": "code",
   "execution_count": 1,
   "metadata": {},
   "outputs": [],
   "source": [
    "import os\n",
    "import utilities\n",
    "from maths_objects import Formulas, WebPageHierarchies\n",
    "\n",
    "website_creator_dir = os.getcwd()\n",
    "docs_dir = utilities.get_docs_path(website_creator_dir)\n",
    "formula_file_path = website_creator_dir + os.path.sep + 'formulas.csv'\n",
    "order_file_path = website_creator_dir + os.path.sep + 'sort_orders.csv'\n",
    "syllabus_file_path = (website_creator_dir + os.path.sep +\n",
    "                        'syllabus_topics.csv')\n",
    "\n",
    "page_sort_orders = WebPageHierarchies(order_file_path)\n",
    "school_formulas = Formulas(formula_file_path, syllabus_file_path,\n",
    "                           page_sort_orders)\n",
    "\n"
   ]
  },
  {
   "cell_type": "code",
   "execution_count": 7,
   "metadata": {},
   "outputs": [
    {
     "data": {
      "text/plain": [
       "1"
      ]
     },
     "execution_count": 7,
     "metadata": {},
     "output_type": "execute_result"
    }
   ],
   "source": [
    "def create_index_files(base_dir, dirs_df, front_matter=None,\n",
    "                       sort_orders_df=None):\n",
    "    \"\"\"Creates _index.md files recursively at each level of the directory\n",
    "    strucutres formed by joining base_dir string and each row of pandas\n",
    "    dataframe dirs_df.  The content of each file is set based  on the content\n",
    "    of the front_matter dictionary and optionally includes a weight\n",
    "    (sort order) based on the order of each directory in sort_orders_df \"\"\"\n",
    "    if front_matter is None:\n",
    "        front_matter = {}\n",
    "    for i in range(1, len(dirs_df.columns)+1):\n",
    "        # Looping through various levels in directory structure\n",
    "        subdirs_df = dirs_df.iloc[:, :i].drop_duplicates()\n",
    "        for _, row in subdirs_df.iterrows():\n",
    "            file_name = (base_dir + os.path.sep +\n",
    "                         os.path.sep.join(row) + os.path.sep + '_index.md')\n",
    "            if not os.path.isfile(file_name):\n",
    "                # Don't overwrite file if it exists\n",
    "                # Use a copy on each loop to start fresh and not\n",
    "                # carry over any details from previos loop\n",
    "                front_matter_to_write = front_matter.copy()\n",
    "                if sort_orders_df is not None:\n",
    "                    sort_order = lookup_list_in_df(\n",
    "                        sort_orders_df, list(row.values))\n",
    "                    if sort_order is not None:\n",
    "                        front_matter_to_write['weight'] = sort_order + 1\n",
    "                string_to_write = get_front_matter_string(\n",
    "                    front_matter_to_write)\n",
    "                with open(file_name, \"w\", encoding=\"utf-8\") as text_file:\n",
    "                    text_file.write(string_to_write)"
   ]
  }
 ],
 "metadata": {
  "kernelspec": {
   "display_name": "Python 3",
   "language": "python",
   "name": "python3"
  },
  "language_info": {
   "codemirror_mode": {
    "name": "ipython",
    "version": 3
   },
   "file_extension": ".py",
   "mimetype": "text/x-python",
   "name": "python",
   "nbconvert_exporter": "python",
   "pygments_lexer": "ipython3",
   "version": "3.11.3"
  },
  "orig_nbformat": 4
 },
 "nbformat": 4,
 "nbformat_minor": 2
}
