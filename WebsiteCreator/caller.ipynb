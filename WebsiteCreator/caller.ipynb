{
 "cells": [
  {
   "cell_type": "code",
   "execution_count": 3,
   "metadata": {},
   "outputs": [],
   "source": [
    "import os\n",
    "from data_management import DataSource\n",
    "from file_management import (SiteHierarchies, IndexFile,  FormulaFile)\n",
    "from formula_tables import (FormulaTable, FormulaTableType,\n",
    "                            FormulaTableTypeSimple, FormulaTableTypeCalculus,\n",
    "                            FormulaTableTypeFinancial)\n",
    "from content import Formulas\n",
    "import pandas as pd\n",
    "from collections import namedtuple\n",
    "\n",
    "data_source = DataSource()\n",
    "site_hierarchy = SiteHierarchies(data_source.site_hierarchies)\n",
    "formulas_by_year = Formulas(data_source.formulas_by_year)\n",
    "formulas_cumulative = Formulas(data_source.formulas_by_year_cumulative)\n",
    "formulas_cumulative.is_cumulative = True"
   ]
  },
  {
   "cell_type": "code",
   "execution_count": 5,
   "metadata": {},
   "outputs": [
    {
     "name": "stdout",
     "output_type": "stream",
     "text": [
      "False\n",
      "True\n"
     ]
    }
   ],
   "source": [
    "print(formulas_by_year.is_cumulative)\n",
    "print(formulas_cumulative.is_cumulative)"
   ]
  },
  {
   "cell_type": "code",
   "execution_count": 16,
   "metadata": {},
   "outputs": [
    {
     "name": "stdout",
     "output_type": "stream",
     "text": [
      "a 1\n",
      "a 2\n",
      "b 1\n",
      "b 2\n",
      "c 1\n",
      "c 2\n"
     ]
    }
   ],
   "source": [
    "import itertools\n",
    "\n",
    "List_1 = ['a', 'b', 'c']\n",
    "List_2 = [1,2]\n",
    "\n",
    "for item_a, item_b in itertools.product(List_1, List_2):\n",
    "    print (item_a, item_b)"
   ]
  }
 ],
 "metadata": {
  "kernelspec": {
   "display_name": "Python 3",
   "language": "python",
   "name": "python3"
  },
  "language_info": {
   "codemirror_mode": {
    "name": "ipython",
    "version": 3
   },
   "file_extension": ".py",
   "mimetype": "text/x-python",
   "name": "python",
   "nbconvert_exporter": "python",
   "pygments_lexer": "ipython3",
   "version": "3.11.3"
  },
  "orig_nbformat": 4
 },
 "nbformat": 4,
 "nbformat_minor": 2
}
