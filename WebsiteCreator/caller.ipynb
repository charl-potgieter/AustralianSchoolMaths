{
 "cells": [
  {
   "cell_type": "code",
   "execution_count": 1,
   "metadata": {},
   "outputs": [],
   "source": [
    "import sympy as sp\n",
    "from graphs import GraphCore, graph_function, graph_straight_line\n",
    "\n",
    "# import matplotlib as mpl\n",
    "# import matplotlib.pyplot as plt\n",
    "# import numpy as np\n",
    "# import mpmath\n",
    "# plt.style.use('classic')\n",
    "# %matplotlib inline"
   ]
  },
  {
   "cell_type": "code",
   "execution_count": 2,
   "metadata": {},
   "outputs": [
    {
     "ename": "NameError",
     "evalue": "name 'x' is not defined",
     "output_type": "error",
     "traceback": [
      "\u001b[0;31m---------------------------------------------------------------------------\u001b[0m",
      "\u001b[0;31mNameError\u001b[0m                                 Traceback (most recent call last)",
      "Cell \u001b[0;32mIn[2], line 6\u001b[0m\n\u001b[1;32m      1\u001b[0m x\u001b[39m=\u001b[39msp\u001b[39m.\u001b[39mSymbol(\u001b[39m'\u001b[39m\u001b[39mx\u001b[39m\u001b[39m'\u001b[39m, real \u001b[39m=\u001b[39m \u001b[39mTrue\u001b[39;00m)\n\u001b[1;32m      2\u001b[0m \u001b[39m# test = graph_straight_line('gradient-intercept', {'m':sp.Integer(3), 'c':sp.Integer(-3)})\u001b[39;00m\n\u001b[1;32m      3\u001b[0m \u001b[39m# test = graph_straight_line('point-gradient', {'x1':sp.Integer(-4), 'y1':sp.Integer(3), 'm':sp.Integer(3) })\u001b[39;00m\n\u001b[1;32m      4\u001b[0m \u001b[39m# test = graph_straight_line('two-point', {'x1':sp.Integer(-4), 'y1':sp.Integer(3), 'x2':sp.Integer(-4), 'y2':sp.Integer(10)})\u001b[39;00m\n\u001b[1;32m      5\u001b[0m \u001b[39m# test = graph_straight_line('general-form', {'a':sp.Integer(4), 'b':sp.Integer(0), 'c':sp.Integer(-4)})\u001b[39;00m\n\u001b[0;32m----> 6\u001b[0m test \u001b[39m=\u001b[39m graph_straight_line(\u001b[39m'\u001b[39;49m\u001b[39mtwo-point\u001b[39;49m\u001b[39m'\u001b[39;49m, {\u001b[39m'\u001b[39;49m\u001b[39mx1\u001b[39;49m\u001b[39m'\u001b[39;49m:sp\u001b[39m.\u001b[39;49mInteger(\u001b[39m-\u001b[39;49m\u001b[39m4\u001b[39;49m), \u001b[39m'\u001b[39;49m\u001b[39my1\u001b[39;49m\u001b[39m'\u001b[39;49m:sp\u001b[39m.\u001b[39;49mInteger(\u001b[39m3\u001b[39;49m), \u001b[39m'\u001b[39;49m\u001b[39mx2\u001b[39;49m\u001b[39m'\u001b[39;49m:sp\u001b[39m.\u001b[39;49mInteger(\u001b[39m-\u001b[39;49m\u001b[39m3\u001b[39;49m), \u001b[39m'\u001b[39;49m\u001b[39my2\u001b[39;49m\u001b[39m'\u001b[39;49m:sp\u001b[39m.\u001b[39;49mInteger(\u001b[39m10\u001b[39;49m),})\n\u001b[1;32m      7\u001b[0m \u001b[39m# test = graph_straight_line('x-equals-constant', {'c':sp.Integer(-5)})\u001b[39;00m\n\u001b[1;32m      8\u001b[0m \u001b[39m# test = graph_straight_line('y-equals-constant', {'c':sp.Integer(5)})\u001b[39;00m\n\u001b[1;32m      9\u001b[0m \u001b[39m# composite_test = function_graph(fn=x-2)\u001b[39;00m\n\u001b[1;32m     10\u001b[0m \u001b[39m# composite_test = function_graph(fn=sp.Integer(3))\u001b[39;00m\n\u001b[1;32m     11\u001b[0m \u001b[39m# test = graph_function(fn=1 / x)\u001b[39;00m\n\u001b[1;32m     12\u001b[0m \u001b[39m# test = graph_function(sp.tan(x))\u001b[39;00m\n\u001b[1;32m     13\u001b[0m test\u001b[39m.\u001b[39mdisplay()\n",
      "File \u001b[0;32m~/Onedrive/Documents_Charl/Computer_Technical/Programming_GitHub/AustralianSchoolMaths/WebsiteCreator/graphs.py:326\u001b[0m, in \u001b[0;36mgraph_straight_line.__init__\u001b[0;34m(self, equation_form, equation_details, domain_set, range_for_line_parallel_to_y, points_to_plot, fig_width, fig_height, set_ticks_equal_intercepts, x_tick_mark_type, y_tick_mark_type, graph_buffer_over_domain)\u001b[0m\n\u001b[1;32m    324\u001b[0m     \u001b[39melse\u001b[39;00m:\n\u001b[1;32m    325\u001b[0m         line_is_a_function \u001b[39m=\u001b[39m \u001b[39mTrue\u001b[39;00m\n\u001b[0;32m--> 326\u001b[0m         fn \u001b[39m=\u001b[39m sp\u001b[39m.\u001b[39mRational((y2 \u001b[39m-\u001b[39m y1), (x2\u001b[39m-\u001b[39m x1)) \u001b[39m*\u001b[39m (x \u001b[39m-\u001b[39m x1) \u001b[39m+\u001b[39m y1\n\u001b[1;32m    328\u001b[0m \u001b[39melif\u001b[39;00m equation_form \u001b[39m==\u001b[39m \u001b[39m'\u001b[39m\u001b[39mgeneral-form\u001b[39m\u001b[39m'\u001b[39m:\n\u001b[1;32m    329\u001b[0m     \u001b[39mif\u001b[39;00m b\u001b[39m==\u001b[39m\u001b[39m0\u001b[39m:\n\u001b[1;32m    330\u001b[0m         \u001b[39m#Line is effecitvely in format x = constant\u001b[39;00m\n",
      "\u001b[0;31mNameError\u001b[0m: name 'x' is not defined"
     ]
    }
   ],
   "source": [
    "x=sp.Symbol('x', real = True)\n",
    "# test = graph_straight_line('gradient-intercept', {'m':sp.Integer(3), 'c':sp.Integer(-3)})\n",
    "# test = graph_straight_line('point-gradient', {'x1':sp.Integer(-4), 'y1':sp.Integer(3), 'm':sp.Integer(3) })\n",
    "# test = graph_straight_line('two-point', {'x1':sp.Integer(-4), 'y1':sp.Integer(3), 'x2':sp.Integer(-4), 'y2':sp.Integer(10)})\n",
    "# test = graph_straight_line('general-form', {'a':sp.Integer(4), 'b':sp.Integer(0), 'c':sp.Integer(-4)})\n",
    "test = graph_straight_line('two-point', {'x1':sp.Integer(-4), 'y1':sp.Integer(3), 'x2':sp.Integer(-3), 'y2':sp.Integer(10),})\n",
    "# test = graph_straight_line('x-equals-constant', {'c':sp.Integer(-5)})\n",
    "# test = graph_straight_line('y-equals-constant', {'c':sp.Integer(5)})\n",
    "# composite_test = function_graph(fn=x-2)\n",
    "# composite_test = function_graph(fn=sp.Integer(3))\n",
    "# test = graph_function(fn=1 / x)\n",
    "# test = graph_function(sp.tan(x))\n",
    "test.display()"
   ]
  },
  {
   "cell_type": "code",
   "execution_count": 3,
   "metadata": {},
   "outputs": [
    {
     "name": "stdout",
     "output_type": "stream",
     "text": [
      "Object `sp.interval.start` not found.\n"
     ]
    }
   ],
   "source": [
    "sp.interval.start?"
   ]
  }
 ],
 "metadata": {
  "kernelspec": {
   "display_name": "Python 3",
   "language": "python",
   "name": "python3"
  },
  "language_info": {
   "codemirror_mode": {
    "name": "ipython",
    "version": 3
   },
   "file_extension": ".py",
   "mimetype": "text/x-python",
   "name": "python",
   "nbconvert_exporter": "python",
   "pygments_lexer": "ipython3",
   "version": "3.11.3"
  },
  "orig_nbformat": 4
 },
 "nbformat": 4,
 "nbformat_minor": 2
}
