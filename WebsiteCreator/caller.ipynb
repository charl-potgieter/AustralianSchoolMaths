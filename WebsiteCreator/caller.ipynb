{
 "cells": [
  {
   "cell_type": "code",
   "execution_count": 1,
   "metadata": {},
   "outputs": [],
   "source": [
    "from IPython.core.display import HTML\n",
    "import pandas as pd\n",
    "from data_sources import DataSource\n",
    "from data_validator import DataColumnValidator\n",
    "from site_content import Formulas, Definitions, Syllabus\n",
    "from site_hierarchies import SiteHierarchies\n",
    "from file_management import (IndexFile,  FormulaFile, \n",
    "                              TopicFile)\n",
    "from formula_tables import (FormulaTable, FormulaTableType,\n",
    "                            FormulaTableTypeSimple, FormulaTableTypeCalculus,\n",
    "                            FormulaTableTypeFinancial)\n",
    "# from content import Definitions, Syllabus\n",
    "\n",
    "data_source = DataSource()\n",
    "formulas_by_year = Formulas(data_source.formulas_by_year)\n",
    "formulas_cumulative = Formulas(data_source.formulas_by_year_cumulative)\n",
    "formulas_cumulative.is_cumulative = True\n",
    "\n",
    "definitions_by_year = Definitions(data_source.definitions_by_year)\n",
    "\n",
    "\n",
    "syllabus_by_year = Syllabus(data_source.syllabus_by_year)\n",
    "syllabus_cumulative = Syllabus(data_source.syllabus_by_year_cumulative)\n",
    "syllabus_cumulative.is_cumulative = True\n",
    "\n",
    "site_hierarchy = SiteHierarchies(data_source.site_hierarchies)\n",
    "# syllabus_by_year = Syllabus(data_source.syllabus_by_year)\n",
    "# syllabus_cumulative = Syllabus(data_source.syllabus_by_year_cumulative)\n",
    "\n",
    "index_formulas = formulas_by_year.filter_by_function(lambda x:x['Category']=='Indices')\n"
   ]
  },
  {
   "cell_type": "code",
   "execution_count": 10,
   "metadata": {},
   "outputs": [
    {
     "data": {
      "text/html": [
       "<div>\n",
       "<style scoped>\n",
       "    .dataframe tbody tr th:only-of-type {\n",
       "        vertical-align: middle;\n",
       "    }\n",
       "\n",
       "    .dataframe tbody tr th {\n",
       "        vertical-align: top;\n",
       "    }\n",
       "\n",
       "    .dataframe thead th {\n",
       "        text-align: right;\n",
       "    }\n",
       "</style>\n",
       "<table border=\"1\" class=\"dataframe\">\n",
       "  <thead>\n",
       "    <tr style=\"text-align: right;\">\n",
       "      <th></th>\n",
       "      <th>State</th>\n",
       "      <th>Subject</th>\n",
       "      <th>Syllabus_topic</th>\n",
       "      <th>Syllabus_subtopic_code</th>\n",
       "      <th>Syllabus_subtopic</th>\n",
       "    </tr>\n",
       "  </thead>\n",
       "  <tbody>\n",
       "    <tr>\n",
       "      <th>6</th>\n",
       "      <td>NSW</td>\n",
       "      <td>Year 11 Ext 1</td>\n",
       "      <td>Functions</td>\n",
       "      <td>ME-F1</td>\n",
       "      <td>Further Work with Functions</td>\n",
       "    </tr>\n",
       "    <tr>\n",
       "      <th>7</th>\n",
       "      <td>NSW</td>\n",
       "      <td>Year 11 Ext 1</td>\n",
       "      <td>Functions</td>\n",
       "      <td>ME-F2</td>\n",
       "      <td>Polynomials</td>\n",
       "    </tr>\n",
       "  </tbody>\n",
       "</table>\n",
       "</div>"
      ],
      "text/plain": [
       "  State        Subject Syllabus_topic Syllabus_subtopic_code  \\\n",
       "6   NSW  Year 11 Ext 1      Functions                  ME-F1   \n",
       "7   NSW  Year 11 Ext 1      Functions                  ME-F2   \n",
       "\n",
       "             Syllabus_subtopic  \n",
       "6  Further Work with Functions  \n",
       "7                  Polynomials  "
      ]
     },
     "execution_count": 10,
     "metadata": {},
     "output_type": "execute_result"
    }
   ],
   "source": [
    "syllabus_by_year.filter_by_dict({'Syllabus_topic':'Functions',\n",
    "                                 'Subject':'Year 11 Ext 1'}).data"
   ]
  }
 ],
 "metadata": {
  "kernelspec": {
   "display_name": "Python 3",
   "language": "python",
   "name": "python3"
  },
  "language_info": {
   "codemirror_mode": {
    "name": "ipython",
    "version": 3
   },
   "file_extension": ".py",
   "mimetype": "text/x-python",
   "name": "python",
   "nbconvert_exporter": "python",
   "pygments_lexer": "ipython3",
   "version": "3.11.3"
  },
  "orig_nbformat": 4
 },
 "nbformat": 4,
 "nbformat_minor": 2
}
