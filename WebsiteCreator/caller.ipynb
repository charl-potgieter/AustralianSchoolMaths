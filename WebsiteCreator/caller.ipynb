{
 "cells": [
  {
   "cell_type": "code",
   "execution_count": 2,
   "metadata": {},
   "outputs": [],
   "source": [
    "## TEMP for development only before moving into .py files\n",
    "\n",
    "import os\n",
    "import pandas as pd\n",
    "import formulas\n",
    "import utilities\n",
    "import topics\n",
    "\n",
    "\n",
    "website_creator_dir = os.getcwd()\n",
    "docs_dir = utilities.get_docs_path(website_creator_dir)\n",
    "formula_file_path = website_creator_dir + os.path.sep + 'formulas.csv'\n",
    "order_file_path = website_creator_dir + os.path.sep + 'sort_orders.csv'\n",
    "syllabus_file_path = (website_creator_dir + os.path.sep +\n",
    "                        'syllabus_topics.csv')\n",
    "sort_orders_df = pd.read_csv(order_file_path)\n",
    "syllabus_df = pd.read_csv(syllabus_file_path)\n",
    "formulas_input_df = pd.read_csv(formula_file_path)\n",
    "formula_sheet_items = (\n",
    "    formulas.get_formulas_on_formula_sheet(formulas_input_df))\n",
    "formula_proof_required_items = (\n",
    "    formulas.get_formulas_where_proofs_required(formulas_input_df))\n",
    "\n",
    "utilities.delete_directory_if_it_exists(docs_dir)\n",
    "\n",
    "# Create formula-related markdown documents\n",
    "formulas_df = formulas.get_formulas_df(formulas_input_df, syllabus_df,\n",
    "                                        sort_orders_df)\n",
    "formulas.create_formulas_content(\n",
    "    formulas_df, formula_sheet_items, formula_proof_required_items,\n",
    "    sort_orders_df, docs_dir)\n",
    "formulas.create_calculus_summary_files(\n",
    "    formulas_df, formula_sheet_items, formula_proof_required_items,\n",
    "    sort_orders_df, docs_dir)\n",
    "formulas.create_financial_summary(\n",
    "    formulas_df, formula_sheet_items, formula_proof_required_items,\n",
    "    sort_orders_df, docs_dir)\n",
    "\n",
    "# Generate topic pages\n",
    "formulas_by_topic_df = formulas.get_formulas_by_topic_df(\n",
    "    formulas_input_df, syllabus_df)\n",
    "\n",
    "topics.create_topic_content(formulas_by_topic_df, formula_sheet_items,\n",
    "                            formula_proof_required_items, sort_orders_df,\n",
    "                            docs_dir)\n"
   ]
  },
  {
   "cell_type": "code",
   "execution_count": 8,
   "metadata": {},
   "outputs": [
    {
     "data": {
      "text/html": [
       "<div>\n",
       "<style scoped>\n",
       "    .dataframe tbody tr th:only-of-type {\n",
       "        vertical-align: middle;\n",
       "    }\n",
       "\n",
       "    .dataframe tbody tr th {\n",
       "        vertical-align: top;\n",
       "    }\n",
       "\n",
       "    .dataframe thead th {\n",
       "        text-align: right;\n",
       "    }\n",
       "</style>\n",
       "<table border=\"1\" class=\"dataframe\">\n",
       "  <thead>\n",
       "    <tr style=\"text-align: right;\">\n",
       "      <th></th>\n",
       "      <th>Arithmetic sequence</th>\n",
       "      <th>Geometric sequence</th>\n",
       "    </tr>\n",
       "  </thead>\n",
       "  <tbody>\n",
       "    <tr>\n",
       "      <th>Recursive definition</th>\n",
       "      <td>$ T_n = T_{n-1} + d $</td>\n",
       "      <td>$T_n = rT_{n-1}$</td>\n",
       "    </tr>\n",
       "    <tr>\n",
       "      <th>n-th term</th>\n",
       "      <td>$T_n = a + (n-1)d$</td>\n",
       "      <td>$T_n = ar^{n-1}$</td>\n",
       "    </tr>\n",
       "    <tr>\n",
       "      <th>Sum of first n terms</th>\n",
       "      <td>$S_n = \\dfrac{n}{2}[2a + (n-1)d] = \\dfrac{n}{2...</td>\n",
       "      <td>$S_n = \\dfrac{a(1-r^n)}{1-r} = \\dfrac{a(r^n-1)...</td>\n",
       "    </tr>\n",
       "    <tr>\n",
       "      <th>Limiting sum</th>\n",
       "      <td>NaN</td>\n",
       "      <td>$S=\\dfrac{a}{1-r},\\ \\ |r|&lt;1$</td>\n",
       "    </tr>\n",
       "  </tbody>\n",
       "</table>\n",
       "</div>"
      ],
      "text/plain": [
       "                                                    Arithmetic sequence  \\\n",
       "Recursive definition                              $ T_n = T_{n-1} + d $   \n",
       "n-th term                                            $T_n = a + (n-1)d$   \n",
       "Sum of first n terms  $S_n = \\dfrac{n}{2}[2a + (n-1)d] = \\dfrac{n}{2...   \n",
       "Limiting sum                                                        NaN   \n",
       "\n",
       "                                                     Geometric sequence  \n",
       "Recursive definition                                   $T_n = rT_{n-1}$  \n",
       "n-th term                                              $T_n = ar^{n-1}$  \n",
       "Sum of first n terms  $S_n = \\dfrac{a(1-r^n)}{1-r} = \\dfrac{a(r^n-1)...  \n",
       "Limiting sum                               $S=\\dfrac{a}{1-r},\\ \\ |r|<1$  "
      ]
     },
     "metadata": {},
     "output_type": "display_data"
    }
   ],
   "source": [
    "temp_df = formulas_input_df.copy()\n",
    "\n",
    "# temp_df = temp_df[temp_df['Category'] == 'Indices']\n",
    "display(formulas.get_financial_summary_df(temp_df))"
   ]
  }
 ],
 "metadata": {
  "kernelspec": {
   "display_name": "Python 3",
   "language": "python",
   "name": "python3"
  },
  "language_info": {
   "codemirror_mode": {
    "name": "ipython",
    "version": 3
   },
   "file_extension": ".py",
   "mimetype": "text/x-python",
   "name": "python",
   "nbconvert_exporter": "python",
   "pygments_lexer": "ipython3",
   "version": "3.11.3"
  },
  "orig_nbformat": 4
 },
 "nbformat": 4,
 "nbformat_minor": 2
}
