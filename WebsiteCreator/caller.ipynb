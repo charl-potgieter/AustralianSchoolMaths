{
 "cells": [
  {
   "cell_type": "code",
   "execution_count": 1,
   "metadata": {},
   "outputs": [],
   "source": [
    "from IPython.core.display import HTML\n",
    "import pandas as pd\n",
    "from data_sources import DataSource\n",
    "from data_validator import DataColumnValidator\n",
    "from site_content import Formulas, Definitions, Syllabus\n",
    "from site_hierarchies import SiteHierarchies\n",
    "from file_management import (IndexFile,  FormulaFile, \n",
    "                              TopicFile)\n",
    "from formula_tables import (FormulaTable, FormulaTableType,\n",
    "                            FormulaTableTypeSimple, FormulaTableTypeCalculus,\n",
    "                            FormulaTableTypeFinancial)\n",
    "# from content import Definitions, Syllabus\n",
    "\n",
    "data_source = DataSource()\n",
    "formulas_by_year = Formulas(data_source.formulas_by_year)\n",
    "formulas_cumulative = Formulas(data_source.formulas_by_year_cumulative)\n",
    "formulas_cumulative.is_cumulative = True\n",
    "\n",
    "definitions_by_year = Definitions(data_source.definitions_by_year)\n",
    "\n",
    "\n",
    "syllabus_by_year = Syllabus(data_source.syllabus_by_year)\n",
    "syllabus_cumulative = Syllabus(data_source.syllabus_by_year_cumulative)\n",
    "syllabus_cumulative.is_cumulative = True\n",
    "\n",
    "site_hierarchy = SiteHierarchies(data_source.site_hierarchies)\n",
    "# syllabus_by_year = Syllabus(data_source.syllabus_by_year)\n",
    "# syllabus_cumulative = Syllabus(data_source.syllabus_by_year_cumulative)\n",
    "\n",
    "index_formulas = formulas_by_year.filter_by_function(lambda x:x['Category']=='Indices')\n"
   ]
  },
  {
   "cell_type": "code",
   "execution_count": 3,
   "metadata": {},
   "outputs": [
    {
     "data": {
      "text/plain": [
       "50"
      ]
     },
     "execution_count": 3,
     "metadata": {},
     "output_type": "execute_result"
    }
   ],
   "source": [
    "\n",
    "b = site_hierarchy.filter_by_function(lambda x:x['Category']=='Surds')\n",
    "\n",
    "# site_hierarchy.data\n",
    "# site_hierarchy.get_sort_index('NSW/Year 12 Ext 2/Formula summaries/By year cumulative/Calculus')\n",
    "\n",
    "len(site_hierarchy.all_path_levels)"
   ]
  },
  {
   "cell_type": "code",
   "execution_count": null,
   "metadata": {},
   "outputs": [],
   "source": []
  },
  {
   "cell_type": "code",
   "execution_count": 2,
   "metadata": {},
   "outputs": [
    {
     "ename": "ValueError",
     "evalue": "The following unexpected columns appear in the data: ['d']",
     "output_type": "error",
     "traceback": [
      "\u001b[0;31m---------------------------------------------------------------------------\u001b[0m",
      "\u001b[0;31mValueError\u001b[0m                                Traceback (most recent call last)",
      "Cell \u001b[0;32mIn[2], line 8\u001b[0m\n\u001b[1;32m      4\u001b[0m actual \u001b[39m=\u001b[39m [\u001b[39m'\u001b[39m\u001b[39ma\u001b[39m\u001b[39m'\u001b[39m, \u001b[39m'\u001b[39m\u001b[39mb\u001b[39m\u001b[39m'\u001b[39m, \u001b[39m'\u001b[39m\u001b[39mc\u001b[39m\u001b[39m'\u001b[39m, \u001b[39m'\u001b[39m\u001b[39md\u001b[39m\u001b[39m'\u001b[39m]\n\u001b[1;32m      6\u001b[0m column_validator \u001b[39m=\u001b[39m DataColumnValidator(actual, expected)\n\u001b[0;32m----> 8\u001b[0m column_validator\u001b[39m.\u001b[39;49mvalidate_column_names()\n",
      "File \u001b[0;32m~/Onedrive/Documents_Charl/Computer_Technical/Programming_GitHub/AustralianSchoolMaths/WebsiteCreator/data_validator.py:15\u001b[0m, in \u001b[0;36mDataColumnValidator.validate_column_names\u001b[0;34m(self)\u001b[0m\n\u001b[1;32m     13\u001b[0m \u001b[39mdef\u001b[39;00m \u001b[39mvalidate_column_names\u001b[39m(\u001b[39mself\u001b[39m) \u001b[39m-\u001b[39m\u001b[39m>\u001b[39m \u001b[39mNone\u001b[39;00m:\n\u001b[1;32m     14\u001b[0m     \u001b[39mif\u001b[39;00m \u001b[39mnot\u001b[39;00m \u001b[39mself\u001b[39m\u001b[39m.\u001b[39mcolumn_names_are_correct:\n\u001b[0;32m---> 15\u001b[0m         \u001b[39mraise\u001b[39;00m \u001b[39mValueError\u001b[39;00m(\n\u001b[1;32m     16\u001b[0m             \u001b[39mself\u001b[39m\u001b[39m.\u001b[39m_column_mismatch_message())\n",
      "\u001b[0;31mValueError\u001b[0m: The following unexpected columns appear in the data: ['d']"
     ]
    }
   ],
   "source": [
    "from data_validator import DataColumnValidator\n",
    "\n",
    "expected = ['a', 'b', 'c']\n",
    "actual = ['a', 'b', 'c', 'd']\n",
    "\n",
    "column_validator = DataColumnValidator(actual, expected)\n",
    "\n",
    "column_validator.validate_column_names()"
   ]
  },
  {
   "cell_type": "code",
   "execution_count": 10,
   "metadata": {},
   "outputs": [],
   "source": [
    "list_type = list[float]\n",
    "\n",
    "a = list_type([])\n",
    "\n",
    "a.append(1\n",
    "         )\n"
   ]
  }
 ],
 "metadata": {
  "kernelspec": {
   "display_name": "Python 3",
   "language": "python",
   "name": "python3"
  },
  "language_info": {
   "codemirror_mode": {
    "name": "ipython",
    "version": 3
   },
   "file_extension": ".py",
   "mimetype": "text/x-python",
   "name": "python",
   "nbconvert_exporter": "python",
   "pygments_lexer": "ipython3",
   "version": "3.11.3"
  },
  "orig_nbformat": 4
 },
 "nbformat": 4,
 "nbformat_minor": 2
}
