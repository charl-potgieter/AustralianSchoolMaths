{
 "cells": [
  {
   "cell_type": "code",
   "execution_count": 6,
   "metadata": {},
   "outputs": [],
   "source": [
    "import os\n",
    "import pandas as pd\n",
    "import formulas\n",
    "import utilities\n",
    "import topics\n",
    "\n",
    "\n",
    "website_creator_dir = os.getcwd()\n",
    "docs_dir = utilities.get_docs_path(website_creator_dir)\n",
    "formula_file_path = website_creator_dir + os.path.sep + 'formulas.csv'\n",
    "order_file_path = website_creator_dir + os.path.sep + 'sort_orders.csv'\n",
    "syllabus_file_path = (website_creator_dir + os.path.sep +\n",
    "                        'syllabus_topics.csv')\n",
    "sort_orders_df = pd.read_csv(order_file_path)\n",
    "syllabus_df = pd.read_csv(syllabus_file_path)\n",
    "formulas_input_df = pd.read_csv(formula_file_path)\n",
    "formula_sheet_items = (\n",
    "    formulas.get_formulas_on_formula_sheet(formulas_input_df))\n",
    "formula_proof_required_items = (\n",
    "    formulas.get_formulas_where_proofs_required(formulas_input_df))\n",
    "\n",
    "utilities.delete_directory_if_it_exists(docs_dir)\n",
    "\n",
    "# Create formula-related markdown documents\n",
    "formulas_df = formulas.get_formulas_df(formulas_input_df, syllabus_df,\n",
    "                                        sort_orders_df)\n",
    "formulas.create_formulas_content(\n",
    "    formulas_df, formula_sheet_items, formula_proof_required_items,\n",
    "    sort_orders_df, docs_dir)\n",
    "formulas.create_calculus_summary_files(\n",
    "    formulas_df, formula_sheet_items, formula_proof_required_items,\n",
    "    sort_orders_df, docs_dir)\n",
    "formulas.create_financial_summary(\n",
    "    formulas_df, formula_sheet_items, formula_proof_required_items,\n",
    "    sort_orders_df, docs_dir)\n",
    "\n",
    "# Generate topic pages\n",
    "formulas_by_topic_df = formulas.get_formulas_by_topic_df(\n",
    "    formulas_input_df, syllabus_df)\n",
    "\n",
    "topics.create_topic_content(formulas_by_topic_df, formula_sheet_items,\n",
    "                            formula_proof_required_items, sort_orders_df,\n",
    "                            docs_dir)\n"
   ]
  },
  {
   "cell_type": "code",
   "execution_count": 7,
   "metadata": {},
   "outputs": [
    {
     "data": {
      "text/plain": [
       "'/home/charl/Onedrive/Documents_Charl/Computer_Technical/Programming_GitHub/AustralianSchoolMaths/content/docs'"
      ]
     },
     "execution_count": 7,
     "metadata": {},
     "output_type": "execute_result"
    }
   ],
   "source": [
    "docs_dir"
   ]
  }
 ],
 "metadata": {
  "kernelspec": {
   "display_name": "Python 3",
   "language": "python",
   "name": "python3"
  },
  "language_info": {
   "codemirror_mode": {
    "name": "ipython",
    "version": 3
   },
   "file_extension": ".py",
   "mimetype": "text/x-python",
   "name": "python",
   "nbconvert_exporter": "python",
   "pygments_lexer": "ipython3",
   "version": "3.11.3"
  },
  "orig_nbformat": 4
 },
 "nbformat": 4,
 "nbformat_minor": 2
}
