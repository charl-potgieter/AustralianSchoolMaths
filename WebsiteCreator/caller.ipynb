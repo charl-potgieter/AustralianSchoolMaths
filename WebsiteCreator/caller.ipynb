{
 "cells": [
  {
   "cell_type": "code",
   "execution_count": 3,
   "metadata": {},
   "outputs": [],
   "source": [
    "import os\n",
    "import utilities\n",
    "from maths_objects import (\n",
    "    Formulas, SiteHierarchies, DataSource, FrontMatter, FormulaTable, PageTabs, \n",
    "    FormulaTableTypeSimple, FormulaTableTypeCalculus, FormulaFile)\n",
    "import pandas as pd\n",
    "from collections import namedtuple\n",
    "\n",
    "data_source = DataSource()\n",
    "site_hierarchy = SiteHierarchies(data_source.site_hierarchies)\n",
    "formulas_by_year = Formulas(data_source.formulas_by_year)\n",
    "formulas_cumulative = Formulas(data_source.formulas_by_year_cumulative)"
   ]
  },
  {
   "cell_type": "code",
   "execution_count": 15,
   "metadata": {},
   "outputs": [
    {
     "data": {
      "text/plain": [
       "'NSW/Year 9/Formulas/By year cumulative/Indices'"
      ]
     },
     "execution_count": 15,
     "metadata": {},
     "output_type": "execute_result"
    }
   ],
   "source": [
    "index_formulas = formulas_by_year.filter_by_function(lambda x: x['Category'] == 'Indices')\n",
    "\n",
    "index_table = FormulaTable(index_formulas)\n",
    "index_table.set_type(FormulaTableTypeSimple)\n",
    "\n",
    "index_file = FormulaFile()\n",
    "index_file.is_cumulative_by_year = True\n",
    "index_file.add_formula_table(index_table)\n",
    "\n",
    "index_file.path_in_hierarchy()"
   ]
  }
 ],
 "metadata": {
  "kernelspec": {
   "display_name": "Python 3",
   "language": "python",
   "name": "python3"
  },
  "language_info": {
   "codemirror_mode": {
    "name": "ipython",
    "version": 3
   },
   "file_extension": ".py",
   "mimetype": "text/x-python",
   "name": "python",
   "nbconvert_exporter": "python",
   "pygments_lexer": "ipython3",
   "version": "3.11.3"
  },
  "orig_nbformat": 4
 },
 "nbformat": 4,
 "nbformat_minor": 2
}
