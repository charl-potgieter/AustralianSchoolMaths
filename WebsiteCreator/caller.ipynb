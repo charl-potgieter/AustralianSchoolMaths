{
 "cells": [
  {
   "cell_type": "code",
   "execution_count": 1,
   "metadata": {},
   "outputs": [],
   "source": [
    "import os\n",
    "import utilities\n",
    "from maths_objects import (\n",
    "    Formulas, SiteHierarchies,MarkdownFile, DataSource, FrontMatter, \n",
    "    FormulaGroup, FormulaTable, PageTabs, StyledTable)\n",
    "import pandas as pd\n",
    "from collections import namedtuple\n",
    "\n",
    "data_source = DataSource()\n",
    "site_hierarchy = SiteHierarchies(data_source.site_hierarchies())\n",
    "formulas_by_year = Formulas(data_source.formulas_by_year())"
   ]
  },
  {
   "cell_type": "code",
   "execution_count": 2,
   "metadata": {},
   "outputs": [
    {
     "data": {
      "text/html": [
       "<style type=\"text/css\">\n",
       "#T_aa174 th.col_heading {\n",
       "  text-align: left;\n",
       "  font-size: 1em;\n",
       "}\n",
       "#T_aa174 td {\n",
       "  text-align: left;\n",
       "  font-size: 1em;\n",
       "  padding: 1.5em;\n",
       "}\n",
       "#T_aa174_row0_col0, #T_aa174_row2_col0, #T_aa174_row4_col0 {\n",
       "  background-color: rgba(255,194,10, 0.2);\n",
       "}\n",
       "</style>\n",
       "<table id=\"T_aa174\">\n",
       "  <thead>\n",
       "    <tr>\n",
       "      <th class=\"blank level0\" >&nbsp;</th>\n",
       "      <th id=\"T_aa174_level0_col0\" class=\"col_heading level0 col0\" >Formula</th>\n",
       "    </tr>\n",
       "  </thead>\n",
       "  <tbody>\n",
       "    <tr>\n",
       "      <th id=\"T_aa174_level0_row0\" class=\"row_heading level0 row0\" >42</th>\n",
       "      <td id=\"T_aa174_row0_col0\" class=\"data row0 col0\" >$y=sin^{-1}f(x) \\,\\,\\,\\,\\,\\,\\,\\,\\,\\,\\,\\,\\,\\,\\,\\,\\,\\,\\,\\,\\,\\,\\,\\,\\,\\,\\,\\,\\,\\,\\,\\,\\,\\,\\,\\,\\,   \\dfrac{dy}{dx} = \\dfrac{f'(x)} {\\sqrt {1 - (f(x))^2} }$ <br></td>\n",
       "    </tr>\n",
       "    <tr>\n",
       "      <th id=\"T_aa174_level0_row1\" class=\"row_heading level0 row1\" >44</th>\n",
       "      <td id=\"T_aa174_row1_col0\" class=\"data row1 col0\" >$ y = sin^{-1} \\dfrac{f(x)}{a}  \\,\\,\\,\\,\\,\\,\\,\\,\\,\\,\\,\\,\\,\\,\\,\\,\\,\\,\\,\\,\\,\\,\\,\\,\\,\\,\\,\\,\\,\\,\\,\\,\\,\\,\\,   \\dfrac{dy}{dx} = \\dfrac{f'(x)}{\\sqrt{a^2 - (f(x))^2}} $ <br></td>\n",
       "    </tr>\n",
       "    <tr>\n",
       "      <th id=\"T_aa174_level0_row2\" class=\"row_heading level0 row2\" >46</th>\n",
       "      <td id=\"T_aa174_row2_col0\" class=\"data row2 col0\" >$y=cos^{-1}f(x) \\,\\,\\,\\,\\,\\,\\,\\,\\,\\,\\,\\,\\,\\,\\,\\,\\,\\,\\,\\,\\,\\,\\,\\,\\,\\,\\,\\,\\,\\,\\,\\,\\,\\,\\,\\,\\,   \\dfrac{dy}{dx} = - \\dfrac{f'(x)} {\\sqrt {1 - (f(x))^2} }$ <br></td>\n",
       "    </tr>\n",
       "    <tr>\n",
       "      <th id=\"T_aa174_level0_row3\" class=\"row_heading level0 row3\" >48</th>\n",
       "      <td id=\"T_aa174_row3_col0\" class=\"data row3 col0\" >$y=cos^{-1} \\dfrac{f(x)}{a} \\,\\,\\,\\,\\,\\,\\,\\,\\,\\,\\,\\,\\,\\,\\,\\,\\,\\,\\,\\,\\,\\,\\,\\,\\,\\,\\,\\,\\,\\,\\,\\,\\,\\,\\,   \\dfrac{dy}{dx} = - \\dfrac{f'(x)} {\\sqrt {a^2 - (f(x))^2} }$ <br></td>\n",
       "    </tr>\n",
       "    <tr>\n",
       "      <th id=\"T_aa174_level0_row4\" class=\"row_heading level0 row4\" >50</th>\n",
       "      <td id=\"T_aa174_row4_col0\" class=\"data row4 col0\" >$y=tan^{-1}f(x) \\,\\,\\,\\,\\,\\,\\,\\,\\,\\,\\,\\,\\,\\,\\,\\,\\,\\,\\,\\,\\,\\,\\,\\,\\,\\,\\,\\,\\,\\,\\,\\,\\,\\,\\,\\,\\,   \\dfrac{dy}{dx} = \\dfrac{f'(x)} {1 + (f(x))^2}$ <br></td>\n",
       "    </tr>\n",
       "    <tr>\n",
       "      <th id=\"T_aa174_level0_row5\" class=\"row_heading level0 row5\" >52</th>\n",
       "      <td id=\"T_aa174_row5_col0\" class=\"data row5 col0\" >$y=tan^{-1}\\dfrac{f(x)}{a} \\,\\,\\,\\,\\,\\,\\,\\,\\,\\,\\,\\,\\,\\,\\,\\,\\,\\,\\,\\,\\,\\,\\,\\,\\,\\,\\,\\,\\,\\,\\,\\,\\,\\,\\,   \\dfrac{dy}{dx} =  \\dfrac{1}{a} tan^{-1} \\dfrac{f(x)}{a} $ <br></td>\n",
       "    </tr>\n",
       "    <tr>\n",
       "      <th id=\"T_aa174_level0_row6\" class=\"row_heading level0 row6\" >54</th>\n",
       "      <td id=\"T_aa174_row6_col0\" class=\"data row6 col0\" >$ \\text{Function and its inverse}  \\,\\,\\,\\,\\,\\,\\,\\,\\,\\,\\,\\,\\,   \\dfrac{dy}{dx} \\times \\dfrac{dx}{dy} = 1, \\text{  or  } \\dfrac{dy}{dx} = \\dfrac{1}{\\dfrac{dx}{dy}} $ <br></td>\n",
       "    </tr>\n",
       "  </tbody>\n",
       "</table>\n"
      ],
      "text/plain": [
       "<pandas.io.formats.style.Styler at 0x7f333677b650>"
      ]
     },
     "metadata": {},
     "output_type": "display_data"
    }
   ],
   "source": [
    "from IPython.core.display import HTML\n",
    "from IPython.core.display import Latex\n",
    "\n",
    "index_formulas = formulas_by_year.filter_by_state_subject_category('NSW', 'Year 12 Ext 1', 'Differentiation')\n",
    "\n",
    "\n",
    "\n",
    "df = FormulaTable(index_formulas)._to_dataframe()\n",
    "tbl_style = StyledTable(df)\n",
    "\n",
    "tbl_style.highlight_values_in_list(\n",
    "    index_formulas.formula_sheet_items().values, \n",
    "    columns_to_highlight=['Formula'])\n",
    "\n",
    "display(tbl_style._raw())\n"
   ]
  }
 ],
 "metadata": {
  "kernelspec": {
   "display_name": "Python 3",
   "language": "python",
   "name": "python3"
  },
  "language_info": {
   "codemirror_mode": {
    "name": "ipython",
    "version": 3
   },
   "file_extension": ".py",
   "mimetype": "text/x-python",
   "name": "python",
   "nbconvert_exporter": "python",
   "pygments_lexer": "ipython3",
   "version": "3.11.3"
  },
  "orig_nbformat": 4
 },
 "nbformat": 4,
 "nbformat_minor": 2
}
