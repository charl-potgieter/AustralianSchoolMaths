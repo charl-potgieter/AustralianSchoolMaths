{
 "cells": [
  {
   "cell_type": "code",
   "execution_count": 1,
   "metadata": {},
   "outputs": [],
   "source": [
    "## TEMP for development only before moving into .py files\n",
    "\n",
    "import os\n",
    "import pandas as pd\n",
    "import formula_page_generator\n",
    "import utilities\n",
    "import topics\n",
    "\n",
    "\n",
    "website_creator_dir = os.getcwd()\n",
    "docs_dir = utilities.get_docs_path(website_creator_dir)\n",
    "formula_file_path = website_creator_dir + os.path.sep + 'formulas.csv'\n",
    "order_file_path = website_creator_dir + os.path.sep + 'sort_orders.csv'\n",
    "syllabus_file_path = (website_creator_dir + os.path.sep +\n",
    "                        'syllabus_topics.csv')\n",
    "sort_orders_df = pd.read_csv(order_file_path)\n",
    "syllabus_df = pd.read_csv(syllabus_file_path)\n",
    "formulas_input_df = pd.read_csv(formula_file_path)\n",
    "formula_sheet_items = (\n",
    "    formula_page_generator.get_formulas_on_formula_sheet(formulas_input_df))\n",
    "formula_proof_required_items = (\n",
    "    formula_page_generator.get_formulas_where_proofs_required(formulas_input_df))\n",
    "\n",
    "utilities.delete_directory_if_it_exists(docs_dir)\n",
    "\n",
    "# Create formula-related markdown documents\n",
    "formulas_df = formula_page_generator.get_formulas_df(\n",
    "    formulas_input_df, syllabus_df, sort_orders_df)\n",
    "formula_page_generator.create_formulas_content(\n",
    "    formulas_df, formula_sheet_items, formula_proof_required_items,\n",
    "    sort_orders_df, docs_dir)\n",
    "formula_page_generator.create_calculus_summary_files(\n",
    "    formulas_df, formula_sheet_items, formula_proof_required_items,\n",
    "    sort_orders_df, docs_dir)\n",
    "formula_page_generator.create_financial_summary(\n",
    "    formulas_df, formula_sheet_items, formula_proof_required_items,\n",
    "    sort_orders_df, docs_dir)\n",
    "\n",
    "# Generate topic pages\n",
    "formulas_by_topic_df = formula_page_generator.get_formulas_by_topic_df(\n",
    "    formulas_input_df, syllabus_df)\n",
    "\n",
    "topics.create_topic_content(formulas_by_topic_df, formula_sheet_items,\n",
    "                            formula_proof_required_items, sort_orders_df,\n",
    "                            docs_dir)\n"
   ]
  },
  {
   "cell_type": "code",
   "execution_count": 1,
   "metadata": {},
   "outputs": [],
   "source": [
    "import os\n",
    "import utilities\n",
    "from maths_objects import Formulas, SortOrders\n",
    "\n",
    "website_creator_dir = os.getcwd()\n",
    "docs_dir = utilities.get_docs_path(website_creator_dir)\n",
    "formula_file_path = website_creator_dir + os.path.sep + 'formulas.csv'\n",
    "order_file_path = website_creator_dir + os.path.sep + 'sort_orders.csv'\n",
    "\n",
    "school_formulas = Formulas(formula_file_path)\n",
    "sort_orders = SortOrders(order_file_path)"
   ]
  },
  {
   "cell_type": "code",
   "execution_count": 6,
   "metadata": {},
   "outputs": [
    {
     "data": {
      "text/plain": [
       "0    ACT\n",
       "1    NSW\n",
       "2     NT\n",
       "3    QLD\n",
       "4     SA\n",
       "5    VIC\n",
       "6     WA\n",
       "Name: Level_0, dtype: object"
      ]
     },
     "execution_count": 6,
     "metadata": {},
     "output_type": "execute_result"
    }
   ],
   "source": [
    "sort_orders.states()"
   ]
  }
 ],
 "metadata": {
  "kernelspec": {
   "display_name": "Python 3",
   "language": "python",
   "name": "python3"
  },
  "language_info": {
   "codemirror_mode": {
    "name": "ipython",
    "version": 3
   },
   "file_extension": ".py",
   "mimetype": "text/x-python",
   "name": "python",
   "nbconvert_exporter": "python",
   "pygments_lexer": "ipython3",
   "version": "3.11.3"
  },
  "orig_nbformat": 4
 },
 "nbformat": 4,
 "nbformat_minor": 2
}
